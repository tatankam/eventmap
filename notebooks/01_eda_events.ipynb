{
 "cells": [
  {
   "cell_type": "markdown",
   "id": "f63fb230",
   "metadata": {},
   "source": [
    "##### Event Data Generator 🏟️\n",
    "\n",
    "Generate synthetic event data for the Veneto region.\n",
    "\n",
    "- Random cities, venues, and event types\n",
    "- Realistic dates and descriptions\n",
    "- Output: `veneto_events.json`"
   ]
  },
  {
   "cell_type": "code",
   "execution_count": 3,
   "id": "c2676cad",
   "metadata": {},
   "outputs": [
    {
     "name": "stdout",
     "output_type": "stream",
     "text": [
      "Generated veneto_events.json with 499 events\n"
     ]
    }
   ],
   "source": [
    "import json\n",
    "import random\n",
    "from datetime import datetime, timedelta\n",
    "\n",
    "# Veneto cities and villages with multiple venues each (Veneto region only, expanded)\n",
    "locations = {\n",
    "    \"Venice\": [\n",
    "        \"Teatro La Fenice\", \"Piazza San Marco\", \"Lido di Venezia\", \"Murano Glass Museum\",\n",
    "        \"Palazzo Ducale\", \"Gallerie dell'Accademia\", \"Rialto Bridge\", \"Ca' Rezzonico\",\n",
    "        \"Basilica di San Marco\", \"Peggy Guggenheim Collection\", \"Isola di Burano\",\n",
    "        \"Scuola Grande di San Rocco\", \"San Giorgio Maggiore\", \"Campo Santa Margherita\",\n",
    "        \"Jewish Ghetto\", \"Palazzo Contarini del Bovolo\", \"Fondazione Querini Stampalia\",\n",
    "        \"Ca' d'Oro\", \"Venetian Arsenal\", \"Scala Contarini del Bovolo\", \"Church of San Zaccaria\",\n",
    "        \"Palazzo Mocenigo\", \"Palazzo Grimani\", \"Campo Santa Maria Formosa\", \"Sant’Elena Park\",\n",
    "        \"Palazzo Querini Stampalia\", \"Isola di Torcello\", \"Ghetto Nuovo Synagogue\"\n",
    "    ],\n",
    "    \"Padua\": [\n",
    "        \"Stadio Euganeo\", \"Prato della Valle\", \"Palazzo della Ragione\", \"Orto Botanico\",\n",
    "        \"Cappella degli Scrovegni\", \"Basilica di Sant'Antonio\", \"Scrovegni Chapel\",\n",
    "        \"Museo del Precinema\", \"Palazzo Zabarella\", \"Church of the Eremitani\", \"Palazzo Moroni\",\n",
    "        \"Botanical Garden of Padua (UNESCO site)\", \"Civic Museum\", \"Piazza dei Frutti\",\n",
    "        \"Piazza delle Erbe\", \"Cattedrale di Padova\", \"Museo Diocesano\", \"Museo Antoniano\",\n",
    "        \"Museo Bottacin\", \"Palazzo Liviano\", \"Museo della Padova Ebraica\", \"Abbazia di Santa Giustina\"\n",
    "    ],\n",
    "    \"Verona\": [\n",
    "        \"Arena di Verona\", \"Verona Exhibition Center\", \"Piazza Bra\", \"Juliet's House\",\n",
    "        \"Castelvecchio\", \"Giardino Giusti\", \"Torre dei Lamberti\", \"Basilica of San Zeno\",\n",
    "        \"Ponte Pietra\", \"Palazzo Barbieri\", \"Santa Anastasia Church\", \"Palazzo della Gran Guardia\",\n",
    "        \"Roman Theatre\", \"Museum of Castelvecchio\", \"Ponte Scaligero\", \"Piazza delle Erbe\",\n",
    "        \"Piazza dei Signori\", \"Giardino dell’Arnesa\", \"Arche Scaligere\", \"Chiesa di San Fermo Maggiore\",\n",
    "        \"Chiesa di San Bernardino\", \"Palazzo Maffei\", \"Palazzo Canossa\", \"Museo Lapidario Maffeiano\"\n",
    "    ],\n",
    "    \"Vicenza\": [\n",
    "        \"Piazza dei Signori\", \"Teatro Olimpico\", \"Villa La Rotonda\", \"Basilica Palladiana\",\n",
    "        \"Museo Civico di Palazzo Chiericati\", \"Giardino Salvi\", \"Palazzo Thiene\",\n",
    "        \"Villa Valmarana ai Nani\", \"Porta Castello\", \"Santa Corona Church\", \"Palazzo Chiericati Museum\",\n",
    "        \"Palazzo Barbaran da Porto\", \"Villa Caldogno\", \"Palazzo Porto\", \"San Lorenzo Church\",\n",
    "        \"Villa Trissino\", \"Villa Almerico Capra 'La Rotonda'\", \"Villa Bissari\", \"Rotonda di Vicenza\",\n",
    "        \"Ponte San Michele\", \"Museo Naturalistico Archeologico\", \"Palazzo Bonin Longare\"\n",
    "    ],\n",
    "    \"Treviso\": [\n",
    "        \"Piazza dei Signori\", \"Teatro Mario Del Monaco\", \"Fontane di Treviso\", \"Villa Revedin\",\n",
    "        \"Museo di Santa Caterina\", \"Isola della Pescheria\", \"Duomo di Treviso\",\n",
    "        \"Museo Bailo\", \"Porta San Tommaso\", \"Palazzo dei Trecento\", \"Parco degli Alberi Parlanti\",\n",
    "        \"Villa Pisani\", \"Church of San Francesco\", \"Palazzo Bomben\", \"Villa Giovannelli Colonna\",\n",
    "        \"Fontana delle Tette\", \"Villa Margherita\", \"Museo Luigi Bailo\", \"Chiesa di San Nicolò\",\n",
    "        \"Villa Corner\"\n",
    "    ],\n",
    "    \"Belluno\": [\n",
    "        \"Piazza dei Martiri\", \"Palazzo dei Rettori\", \"Museo Civico\", \"Basilica Cattedrale di San Martino\",\n",
    "        \"Palazzo Fulcis\", \"Porta Dojona\", \"Chiesa di Santo Stefano\", \"Parco Nazionale Dolomiti Bellunesi\",\n",
    "        \"Ponte della Vittoria\", \"Torre Civica\"\n",
    "    ],\n",
    "    \"Rovigo\": [\n",
    "        \"Piazza Vittorio Emanuele II\", \"Palazzo Roverella\", \"Tempio della Beata Vergine del Soccorso\",\n",
    "        \"Accademia dei Concordi\", \"Museo dei Grandi Fiumi\", \"Palazzo Roncale\", \"Torre Donà\",\n",
    "        \"Chiesa della Beata Vergine del Soccorso\", \"Teatro Sociale\", \"Castello di Rovigo\"\n",
    "    ],\n",
    "    \"Chioggia\": [\n",
    "        \"Cattedrale di Santa Maria Assunta\", \"Museo Civico della Laguna Sud\", \"Corso del Popolo\",\n",
    "        \"Torre dell'Orologio\", \"Mercato del Pesce\", \"Isola di Pellestrina\", \"Sottomarina Beach\",\n",
    "        \"Ponte Vigo\", \"Chiesa di San Domenico\", \"Laguna del Lusenzo\"\n",
    "    ],\n",
    "    \"Mestre\": [\n",
    "        \"Parco San Giuliano\", \"Piazza Ferretto\", \"Church of San Lorenzo\", \"Parco Albanese\",\n",
    "        \"Villa Querini\", \"Forte Marghera\", \"Centro Culturale Candiani\", \"Torre dell'Orologio\",\n",
    "        \"Teatro Toniolo\", \"Galleria Matteotti\"\n",
    "    ],\n",
    "    \"Jesolo\": [\n",
    "        \"Jesolo Beach\", \"Sea Life Aquarium\", \"Piazza Mazzini\", \"Pineta Beach\",\n",
    "        \"Aqualandia Waterpark\", \"Parco Zoo Punta Verde\", \"Tropicarium Park\", \"Piazza Brescia\",\n",
    "        \"Laguna del Mort\", \"Museo Civico di Jesolo\"\n",
    "    ],\n",
    "    \"Bassano del Grappa\": [\n",
    "        \"Ponte degli Alpini\", \"Museo Civico\", \"Piazza Garibaldi\", \"Castello degli Ezzelini\",\n",
    "        \"Villa Angarano\", \"Museo della Grappa\", \"Chiesa di San Giovanni Battista\",\n",
    "        \"Palazzo Agostinelli\", \"Villa Recoaro\", \"Teatro Remondini\"\n",
    "    ],\n",
    "    \"Asolo\": [\n",
    "        \"Castello della Regina\", \"Villa Freya\", \"Piazza Garibaldi\", \"Rocca di Asolo\",\n",
    "        \"Museo Civico\", \"Cathedral of Asolo\", \"Villa Barbaro\", \"Church of Santa Caterina\",\n",
    "        \"Palazzo della Ragione\", \"Villa Maser\"\n",
    "    ],\n",
    "    \"Cortina d'Ampezzo\": [\n",
    "        \"Funivia Faloria\", \"Basilica Minore dei Santi Filippo e Giacomo\", \"Museo d'Arte Moderna Mario Rimoldi\",\n",
    "        \"Lago di Pianozes\", \"Tofana di Mezzo\", \"Stadio Olimpico del Ghiaccio\", \"Passo Giau\",\n",
    "        \"Monte Cristallo\", \"Golf Club Cortina\", \"Parco Naturale delle Dolomiti d'Ampezzo\"\n",
    "    ],\n",
    "    \"Caorle\": [\n",
    "        \"Duomo di Santo Stefano\", \"Santuario della Madonna dell'Angelo\", \"Spiaggia di Levante\",\n",
    "        \"Spiaggia di Ponente\", \"Scogliera Viva\", \"Museo Liturgico\", \"Centro Storico\",\n",
    "        \"Luna Park\", \"Parco del Pescatore\", \"Porto Peschereccio\"\n",
    "    ],\n",
    "    \"Conegliano\": [\n",
    "        \"Castello di Conegliano\", \"Duomo di Conegliano\", \"Museo Civico\", \"Piazza Cima\",\n",
    "        \"Teatro Accademia\", \"Via XX Settembre\", \"Chiesa di San Pio X\", \"Parco Mozart\",\n",
    "        \"Villa Gera\", \"Museo degli Alpini\"\n",
    "    ],\n",
    "    \"Adria\": [\n",
    "        \"Museo Archeologico Nazionale\", \"Cattedrale dei Santi Pietro e Paolo\", \"Teatro Comunale\",\n",
    "        \"Piazza Garibaldi\", \"Chiesa di Santa Maria Assunta della Tomba\", \"Museo della Cattedrale\",\n",
    "        \"Villa Mecenati\", \"Ponte Castello\", \"Parco delle Rimembranze\", \"Palazzo Bocchi\"\n",
    "    ],\n",
    "    \"Este\": [\n",
    "        \"Castello di Este\", \"Roman Amphitheatre ruins\", \"Duomo di Santa Tecla\", \"Museo Nazionale Atestino\",\n",
    "        \"Piazza Maggiore\", \"Villa Contarini\", \"Basilica di Sant'Andrea\", \"Giardini del Castello\",\n",
    "        \"Porta Vecchia\", \"Chiesa di San Martino\"\n",
    "    ],\n",
    "    \"Cittadella\": [\n",
    "        \"City Walls of Cittadella\", \"Piazza Pierobon\", \"Torre di Malta\", \"Palazzo Pretorio\",\n",
    "        \"Church of San Donato\", \"Museo della Città\", \"Teatro Sociale\", \"Porta Bassano\",\n",
    "        \"Porta Padova\", \"Palazzo della Loggia\"\n",
    "    ],\n",
    "    \"Arquà Petrarca\": [\n",
    "        \"Casa del Petrarca\", \"Chiesa di Santa Maria Assunta\", \"Piazza Petrarca\",\n",
    "        \"Medieval village center\", \"Villa Pisani\", \"Parco della Rimembranza\", \"Oratorio della Santissima Trinità\",\n",
    "        \"Fontana Petrarca\", \"Museo Petrarchesco\", \"Monte Ventolone\"\n",
    "    ],\n",
    "    \"Borgo Valsugana\": [\n",
    "        \"Castel Telvana\", \"Ponte Vecchio\", \"Chiesa di San Rocco\", \"Museo della Grande Guerra\",\n",
    "        \"Parco della Pace\", \"Palazzo Ceschi\", \"Via Roma\", \"Villa Angeli\", \"Piazza Degasperi\", \"Museo degli Spaventapasseri\"\n",
    "    ],\n",
    "    \"Feltre\": [\n",
    "        \"Castello di Feltre\", \"Piazza Maggiore\", \"Cattedrale di San Pietro Apostolo\",\n",
    "        \"Palazzo della Magnifica Comunità\", \"Museo Civico\", \"Teatro de la Sena\", \"Porta Imperiale\",\n",
    "        \"Chiesa di San Giacomo\", \"Parco della Birreria\", \"Villa Pasole\"\n",
    "    ],\n",
    "    \"San Donà di Piave\": [\n",
    "        \"Cittadella Medicea\", \"Piazza Indipendenza\", \"Church of San Giovanni\",\n",
    "        \"Municipal Library\", \"Villa Ancillotto\", \"Museo della Bonifica\", \"Parco Fluviale\"\n",
    "    ],\n",
    "    \"Dolo\": [\n",
    "        \"Villa Widmann\", \"Canale di Dolo\", \"Ponte di Dolo\", \"Chiesa di San Pio X\",\n",
    "        \"Villa Jacur\", \"Piazza Cantiere\", \"Museo del Naviglio\"\n",
    "    ],\n",
    "    \"Monselice\": [\n",
    "        \"Rocca di Monselice\", \"Villa Duodo\", \"Santuario delle Sette Chiese\", \"Piazza Mazzini\",\n",
    "        \"Museo Rocca\", \"Castello di Monselice\", \"Chiesa di San Paolo\"\n",
    "    ],\n",
    "    \"Portogruaro\": [\n",
    "        \"Duomo di Portogruaro\", \"Palazzo degli Asburgo\", \"Museo Nazionale Concordiese\",\n",
    "        \"Piazza della Repubblica\", \"Chiesa di Sant'Andrea\", \"Mulini di Sant'Andrea\", \"Villa Comunale\"\n",
    "    ],\n",
    "    \"San Vito di Cadore\": [\n",
    "        \"Chiesa di San Vito\", \"Museo Ladino Cadorino\", \"Lago di Antorno\",\n",
    "        \"Piani di Pezzè\", \"Monte Antelao\", \"Parco NeveSole\", \"Piazza Medaglie d'Oro\"\n",
    "    ],\n",
    "    \"Campolongo Maggiore\": [\n",
    "        \"Villa Manin\", \"Chiesa di San Giovanni Battista\", \"Parco delle Risorgive\",\n",
    "        \"Villa Venier Contarini\", \"Piazza Municipio\", \"Museo della Civiltà Contadina\"\n",
    "    ],\n",
    "    \"Pedavena\": [\n",
    "        \"Birrificio Pedavena\", \"Villa Pasolini dall’Onda\", \"Piazza Martiri\",\n",
    "        \"Chiesa di San Antonio\", \"Parco della Birreria\", \"Museo Civico di Pedavena\"\n",
    "    ],\n",
    "    \"Marostica\": [\n",
    "        \"Castello Superiore\", \"Castello Inferiore\", \"Piazza degli Scacchi\", \"Museo dei Costumi\",\n",
    "        \"Chiesa di Sant'Antonio Abate\", \"Parco della Rimembranza\", \"Porta Vicentina\"\n",
    "    ],\n",
    "    \"Valeggio sul Mincio\": [\n",
    "        \"Parco Giardino Sigurtà\", \"Borghetto sul Mincio\", \"Castello Scaligero\",\n",
    "        \"Ponte Visconteo\", \"Chiesa di San Marco Evangelista\", \"Museo della Pesca\"\n",
    "    ],\n",
    "    \"Abano Terme\": [\n",
    "        \"Parco Urbano Termale\", \"Museo Villa Bassi Rathgeb\", \"Duomo di San Lorenzo\",\n",
    "        \"Montirone Park\", \"Piazza del Sole e della Pace\", \"Chiesa del Sacro Cuore\"\n",
    "    ],\n",
    "    \"Lazise\": [\n",
    "        \"Castello Scaligero\", \"Lungolago Marconi\", \"Chiesa di San Nicolò\", \"Piazza Vittorio Emanuele II\",\n",
    "        \"Museo del Castello\", \"Villa Pergolana\"\n",
    "    ],\n",
    "    \"Peschiera del Garda\": [\n",
    "        \"Fortezza di Peschiera\", \"Santuario della Madonna del Frassino\", \"Museo della Pesca\",\n",
    "        \"Porta Verona\", \"Piazza Ferdinando di Savoia\", \"Parco Catullo\"\n",
    "    ],\n",
    "    \"Malcesine\": [\n",
    "        \"Castello Scaligero di Malcesine\", \"Funivia Malcesine-Monte Baldo\", \"Palazzo dei Capitani\",\n",
    "        \"Chiesa di Santo Stefano\", \"Museo del Lago\", \"Piazza Statuto\"\n",
    "    ],\n",
    "    \"Cavarzere\": [\n",
    "        \"Duomo di San Mauro\", \"Museo Civico\", \"Piazza Vittorio Emanuele II\", \"Villa Zennaro\",\n",
    "        \"Chiesa di San Bartolomeo\", \"Parco della Rimembranza\"\n",
    "    ],\n",
    "    \"Noale\": [\n",
    "        \"Rocca dei Tempesta\", \"Duomo di Noale\", \"Piazza Castello\", \"Museo Civico di Noale\",\n",
    "        \"Chiesa di San Giovanni Battista\", \"Parco della Bujega\"\n",
    "    ],\n",
    "    \"Mirano\": [\n",
    "        \"Villa Morosini XXV Aprile\", \"Piazza Martiri della Libertà\", \"Duomo di San Michele Arcangelo\",\n",
    "        \"Parco Belvedere\", \"Museo del Paesaggio\", \"Villa Erizzo\"\n",
    "    ],\n",
    "    \"Spinea\": [\n",
    "        \"Villa Simion\", \"Parco Nuove Gemme\", \"Chiesa di San Vito e Modesto\", \"Piazza Municipio\",\n",
    "        \"Museo della Civiltà Contadina\", \"Villa Loredan\"\n",
    "    ],\n",
    "    \"Mogliano Veneto\": [\n",
    "        \"Villa Condulmer\", \"Piazza Caduti\", \"Chiesa di Santa Maria Assunta\", \"Parco Arcobaleno\",\n",
    "        \"Museo della Bonifica\", \"Villa Stucky\"\n",
    "    ],\n",
    "    \"Castelfranco Veneto\": [\n",
    "        \"Castello di Castelfranco\", \"Duomo di Castelfranco\", \"Teatro Accademico\", \"Piazza Giorgione\",\n",
    "        \"Museo Casa Giorgione\", \"Villa Revedin Bolasco\"\n",
    "    ],\n",
    "    \"San Bonifacio\": [\n",
    "        \"Abbazia di Villanova\", \"Duomo di San Bonifacio\", \"Piazza Costituzione\", \"Museo Civico\",\n",
    "        \"Villa Gritti\", \"Parco della Rimembranza\"\n",
    "    ],\n",
    "    \"Legnago\": [\n",
    "        \"Teatro Salieri\", \"Museo Fioroni\", \"Duomo di San Martino\", \"Piazza Garibaldi\",\n",
    "        \"Castello di Legnago\", \"Parco Comunale\"\n",
    "    ],\n",
    "    \"Schio\": [\n",
    "        \"Duomo di San Pietro\", \"Fabbrica Alta\", \"Parco della Fabbrica Alta\", \"Museo Civico di Schio\",\n",
    "        \"Piazza Alessandro Rossi\", \"Villa Rossi\"\n",
    "    ],\n",
    "    \"Valdagno\": [\n",
    "        \"Villa Valle\", \"Parco delle Traine\", \"Roman Villa of Valdagno\", \"Church of San Clemente\",\n",
    "        \"Villa Cerchiari\", \"Museo Civico di Valdagno\"\n",
    "    ],\n",
    "    \"Vittorio Veneto\": [\n",
    "        \"Piazza del Popolo\", \"Villa Papadopoli\", \"Duomo di San Tiziano\", \"Museo della Battaglia\",\n",
    "        \"Teatro Da Ponte\", \"Parco della Vittoria\"\n",
    "    ],\n",
    "    \"Bardolino\": [\n",
    "        \"Lake Garda promenade\", \"Church of San Zeno\", \"Olive Oil Museum\", \"Piazza Matteotti\",\n",
    "        \"Archaeological Museum\", \"Parco Baia delle Sirene\"\n",
    "    ],\n",
    "}\n",
    "\n",
    "event_types = [\n",
    "    \"Music\", \"Sport\", \"Food & Drink\", \"Arts & Crafts\", \"Theatre\", \"Tour\", \"Workshop\",\n",
    "    \"Festival\", \"Conference\", \"Exhibition\"\n",
    "]\n",
    "\n",
    "base_url = \"https://example.com/veneto-events/\"\n",
    "\n",
    "def random_date():\n",
    "    today = datetime.now()\n",
    "    end_date_limit = datetime(2025, 9, 30)\n",
    "    days_difference = (end_date_limit - today).days\n",
    "    if days_difference < 0:\n",
    "        return None, None\n",
    "    random_days = random.randint(0, days_difference)\n",
    "    start_date = today + timedelta(days=random_days)\n",
    "    random_hours = random.randint(0, 23)\n",
    "    random_minutes = random.randint(0, 59)\n",
    "    start_date = start_date.replace(hour=random_hours, minute=random_minutes, second=0, microsecond=0)\n",
    "    duration_hours = random.randint(1, 10)\n",
    "    end_date = start_date + timedelta(hours=duration_hours)\n",
    "    if end_date > end_date_limit:\n",
    "        end_date = end_date_limit\n",
    "    return start_date.isoformat(timespec='seconds') + 'Z', end_date.isoformat(timespec='seconds') + 'Z'\n",
    "\n",
    "def generate_random_description(event_type, city, venue):\n",
    "    description_templates = [\n",
    "        f\"Prepare for an unforgettable {event_type.lower()} experience in the stunning city of {city}, held at the magnificent {venue}. This event promises to be a highlight of the season!\",\n",
    "        f\"Dive into the world of {event_type.lower()} at this exciting gathering in {city}. Located at the renowned {venue}, it's an event you won't want to miss.\",\n",
    "        f\"Explore the vibrant {event_type.lower()} scene in {city} with this special event at {venue}. Get ready for a day filled with discovery and enjoyment.\",\n",
    "        f\"A unique {event_type.lower()} opportunity awaits you in {city}. Join us at the charming {venue} for an event designed to inspire and entertain.\",\n",
    "        f\"Immerse yourself in the rich culture of {city} with this engaging {event_type.lower()} event at the iconic {venue}. It's the perfect way to spend your time.\",\n",
    "        f\"Seeking adventure in {city}? Look no further than this captivating {event_type.lower()} event at {venue}. Fun and excitement are guaranteed!\",\n",
    "        f\"Connect with fellow enthusiasts at this lively {event_type.lower()} event in {city}, taking place at the welcoming {venue}. Share your passion and make new friends.\",\n",
    "        f\"Unwind and enjoy a delightful {event_type.lower()} experience in {city} at the picturesque {venue}. Relax and take in the atmosphere.\",\n",
    "        f\"Expand your horizons with this insightful {event_type.lower()} event in {city}, hosted at the distinguished {venue}. Learn something new and be inspired.\",\n",
    "        f\"Step into a world of wonder at this extraordinary {event_type.lower()} event in {city}, held at the historic {venue}. Prepare to be amazed!\"\n",
    "    ]\n",
    "    return random.choice(description_templates)\n",
    "\n",
    "events = []\n",
    "\n",
    "for i in range(1, 500):\n",
    "    city = random.choice(list(locations.keys()))\n",
    "    venue = random.choice(locations[city])\n",
    "    event_type = random.choice(event_types)\n",
    "    start, end = random_date()\n",
    "    if start and end:\n",
    "        event = {\n",
    "            \"id\": str(i),\n",
    "            \"title\": f\"{city} {event_type} Event #{i}\",\n",
    "            \"category\": event_type,\n",
    "            \"description\": generate_random_description(event_type, city, venue),\n",
    "            \"city\": city,\n",
    "            \"location\": {\n",
    "                \"venue\": venue,\n",
    "                \"address\": f\"{venue}, {city}, Veneto\"\n",
    "            },\n",
    "            \"start_date\": start,\n",
    "            \"end_date\": end,\n",
    "            \"url\": f\"{base_url}{i}\"\n",
    "        }\n",
    "        events.append(event)\n",
    "\n",
    "output = {\n",
    "    \"events\": events\n",
    "}\n",
    "\n",
    "with open(\"../dataset/veneto_events.json\", \"w\", encoding=\"utf-8\") as f:\n",
    "    json.dump(output, f, indent=2, ensure_ascii=False)\n",
    "\n",
    "print(f\"Generated veneto_events.json with {len(events)} events\")\n"
   ]
  },
  {
   "cell_type": "markdown",
   "id": "657b2c4c",
   "metadata": {},
   "source": [
    "#### Geocoding Veneto Events 🌍\n",
    "\n",
    "Geocode synthetic event data for Veneto using the OpenStreetMap Nominatim API.\n",
    "\n",
    "**Workflow:**\n",
    "- Load events from `veneto_events.json`\n",
    "- Clean addresses (venue, city, region, country)\n",
    "- Geocode each event (with fallback strategies)\n",
    "- Rate limit to respect API usage\n",
    "- Add coordinates to each event\n",
    "- Save results to `veneto_events_geocoded_structured.json`"
   ]
  },
  {
   "cell_type": "code",
   "execution_count": 4,
   "id": "97d8989e",
   "metadata": {},
   "outputs": [
    {
     "name": "stderr",
     "output_type": "stream",
     "text": [
      "  0%|          | 0/499 [00:00<?, ?it/s]"
     ]
    },
    {
     "name": "stderr",
     "output_type": "stream",
     "text": [
      "  0%|          | 1/499 [00:05<49:30,  5.96s/it]"
     ]
    },
    {
     "name": "stdout",
     "output_type": "stream",
     "text": [
      "Geocoding success 1\n"
     ]
    },
    {
     "name": "stderr",
     "output_type": "stream",
     "text": [
      "  0%|          | 2/499 [00:06<25:05,  3.03s/it]"
     ]
    },
    {
     "name": "stdout",
     "output_type": "stream",
     "text": [
      "Geocoding success 2\n"
     ]
    },
    {
     "name": "stderr",
     "output_type": "stream",
     "text": [
      "  1%|          | 3/499 [00:07<17:11,  2.08s/it]"
     ]
    },
    {
     "name": "stdout",
     "output_type": "stream",
     "text": [
      "Geocoding success 3\n",
      "Geocoding success 4\n"
     ]
    },
    {
     "name": "stderr",
     "output_type": "stream",
     "text": [
      "  1%|          | 5/499 [00:10<11:53,  1.45s/it]"
     ]
    },
    {
     "name": "stdout",
     "output_type": "stream",
     "text": [
      "Geocoding success 5\n"
     ]
    },
    {
     "name": "stderr",
     "output_type": "stream",
     "text": [
      "  1%|          | 6/499 [00:12<15:57,  1.94s/it]"
     ]
    },
    {
     "name": "stdout",
     "output_type": "stream",
     "text": [
      "Geocoding success 6\n",
      "Geocoding success 7\n"
     ]
    },
    {
     "name": "stderr",
     "output_type": "stream",
     "text": [
      "  2%|▏         | 8/499 [00:16<15:20,  1.88s/it]"
     ]
    },
    {
     "name": "stdout",
     "output_type": "stream",
     "text": [
      "Geocoding success 8\n"
     ]
    },
    {
     "name": "stderr",
     "output_type": "stream",
     "text": [
      "  2%|▏         | 9/499 [00:18<15:31,  1.90s/it]"
     ]
    },
    {
     "name": "stdout",
     "output_type": "stream",
     "text": [
      "Geocoding success 9\n"
     ]
    },
    {
     "name": "stderr",
     "output_type": "stream",
     "text": [
      "  2%|▏         | 10/499 [00:20<13:25,  1.65s/it]"
     ]
    },
    {
     "name": "stdout",
     "output_type": "stream",
     "text": [
      "Geocoding success 10\n"
     ]
    },
    {
     "name": "stderr",
     "output_type": "stream",
     "text": [
      "  2%|▏         | 11/499 [00:22<16:34,  2.04s/it]"
     ]
    },
    {
     "name": "stdout",
     "output_type": "stream",
     "text": [
      "Geocoding success 11\n"
     ]
    },
    {
     "name": "stderr",
     "output_type": "stream",
     "text": [
      "  2%|▏         | 12/499 [00:25<18:57,  2.34s/it]"
     ]
    },
    {
     "name": "stdout",
     "output_type": "stream",
     "text": [
      "Geocoding success 12\n",
      "Geocoding success 13\n"
     ]
    },
    {
     "name": "stderr",
     "output_type": "stream",
     "text": [
      "  3%|▎         | 14/499 [00:27<13:00,  1.61s/it]"
     ]
    },
    {
     "name": "stdout",
     "output_type": "stream",
     "text": [
      "Geocoding success 14\n"
     ]
    },
    {
     "name": "stderr",
     "output_type": "stream",
     "text": [
      "  3%|▎         | 15/499 [00:28<11:33,  1.43s/it]"
     ]
    },
    {
     "name": "stdout",
     "output_type": "stream",
     "text": [
      "Geocoding success 15\n"
     ]
    },
    {
     "name": "stderr",
     "output_type": "stream",
     "text": [
      "  3%|▎         | 16/499 [00:29<10:22,  1.29s/it]"
     ]
    },
    {
     "name": "stdout",
     "output_type": "stream",
     "text": [
      "Geocoding success 16\n",
      "Geocoding success 17\n"
     ]
    },
    {
     "name": "stderr",
     "output_type": "stream",
     "text": [
      "  4%|▎         | 18/499 [00:34<15:23,  1.92s/it]"
     ]
    },
    {
     "name": "stdout",
     "output_type": "stream",
     "text": [
      "Geocoding success 18\n",
      "Geocoding success 19\n"
     ]
    },
    {
     "name": "stderr",
     "output_type": "stream",
     "text": [
      "  4%|▍         | 20/499 [00:37<12:50,  1.61s/it]"
     ]
    },
    {
     "name": "stdout",
     "output_type": "stream",
     "text": [
      "Geocoding success 20\n"
     ]
    },
    {
     "name": "stderr",
     "output_type": "stream",
     "text": [
      "  4%|▍         | 21/499 [00:38<11:29,  1.44s/it]"
     ]
    },
    {
     "name": "stdout",
     "output_type": "stream",
     "text": [
      "Geocoding success 21\n"
     ]
    },
    {
     "name": "stderr",
     "output_type": "stream",
     "text": [
      "  4%|▍         | 22/499 [00:44<22:14,  2.80s/it]"
     ]
    },
    {
     "name": "stdout",
     "output_type": "stream",
     "text": [
      "Geocoding success 22\n"
     ]
    },
    {
     "name": "stderr",
     "output_type": "stream",
     "text": [
      "  5%|▍         | 23/499 [00:46<20:35,  2.60s/it]"
     ]
    },
    {
     "name": "stdout",
     "output_type": "stream",
     "text": [
      "Geocoding success 23\n"
     ]
    },
    {
     "name": "stderr",
     "output_type": "stream",
     "text": [
      "  5%|▌         | 25/499 [00:48<12:56,  1.64s/it]"
     ]
    },
    {
     "name": "stdout",
     "output_type": "stream",
     "text": [
      "Geocoding success 24\n"
     ]
    },
    {
     "name": "stderr",
     "output_type": "stream",
     "text": [
      "  5%|▌         | 26/499 [00:48<11:34,  1.47s/it]"
     ]
    },
    {
     "name": "stdout",
     "output_type": "stream",
     "text": [
      "Geocoding success 25\n"
     ]
    },
    {
     "name": "stderr",
     "output_type": "stream",
     "text": [
      "  5%|▌         | 27/499 [00:52<16:35,  2.11s/it]"
     ]
    },
    {
     "name": "stdout",
     "output_type": "stream",
     "text": [
      "Geocoding success 26\n"
     ]
    },
    {
     "name": "stderr",
     "output_type": "stream",
     "text": [
      "  6%|▌         | 28/499 [00:54<16:33,  2.11s/it]"
     ]
    },
    {
     "name": "stdout",
     "output_type": "stream",
     "text": [
      "Geocoding success 27\n"
     ]
    },
    {
     "name": "stderr",
     "output_type": "stream",
     "text": [
      "  6%|▌         | 29/499 [00:55<13:51,  1.77s/it]"
     ]
    },
    {
     "name": "stdout",
     "output_type": "stream",
     "text": [
      "Geocoding success 28\n"
     ]
    },
    {
     "name": "stderr",
     "output_type": "stream",
     "text": [
      "  6%|▌         | 30/499 [00:57<12:51,  1.64s/it]"
     ]
    },
    {
     "name": "stdout",
     "output_type": "stream",
     "text": [
      "Geocoding success 29\n",
      "Geocoding success 30\n"
     ]
    },
    {
     "name": "stderr",
     "output_type": "stream",
     "text": [
      "  6%|▋         | 32/499 [01:02<18:15,  2.35s/it]"
     ]
    },
    {
     "name": "stdout",
     "output_type": "stream",
     "text": [
      "Geocoding success 31\n",
      "Geocoding success 32\n"
     ]
    },
    {
     "name": "stderr",
     "output_type": "stream",
     "text": [
      "  7%|▋         | 34/499 [01:06<15:09,  1.96s/it]"
     ]
    },
    {
     "name": "stdout",
     "output_type": "stream",
     "text": [
      "Geocoding success 33\n"
     ]
    },
    {
     "name": "stderr",
     "output_type": "stream",
     "text": [
      "  7%|▋         | 35/499 [01:06<12:11,  1.58s/it]"
     ]
    },
    {
     "name": "stdout",
     "output_type": "stream",
     "text": [
      "Geocoding success 34\n"
     ]
    },
    {
     "name": "stderr",
     "output_type": "stream",
     "text": [
      "  7%|▋         | 36/499 [01:08<13:12,  1.71s/it]"
     ]
    },
    {
     "name": "stdout",
     "output_type": "stream",
     "text": [
      "Geocoding success 35\n"
     ]
    },
    {
     "name": "stderr",
     "output_type": "stream",
     "text": [
      "  7%|▋         | 37/499 [01:12<18:29,  2.40s/it]"
     ]
    },
    {
     "name": "stdout",
     "output_type": "stream",
     "text": [
      "Geocoding success 36\n"
     ]
    },
    {
     "name": "stderr",
     "output_type": "stream",
     "text": [
      "  8%|▊         | 38/499 [01:14<17:22,  2.26s/it]"
     ]
    },
    {
     "name": "stdout",
     "output_type": "stream",
     "text": [
      "Geocoding success 37\n"
     ]
    },
    {
     "name": "stderr",
     "output_type": "stream",
     "text": [
      "  8%|▊         | 39/499 [01:15<14:21,  1.87s/it]"
     ]
    },
    {
     "name": "stdout",
     "output_type": "stream",
     "text": [
      "Geocoding success 38\n"
     ]
    },
    {
     "name": "stderr",
     "output_type": "stream",
     "text": [
      "  8%|▊         | 40/499 [01:17<12:49,  1.68s/it]"
     ]
    },
    {
     "name": "stdout",
     "output_type": "stream",
     "text": [
      "Geocoding success 39\n",
      "Geocoding success 40\n"
     ]
    },
    {
     "name": "stderr",
     "output_type": "stream",
     "text": [
      "  8%|▊         | 42/499 [01:23<18:25,  2.42s/it]"
     ]
    },
    {
     "name": "stdout",
     "output_type": "stream",
     "text": [
      "Geocoding success 41\n"
     ]
    },
    {
     "name": "stderr",
     "output_type": "stream",
     "text": [
      "  9%|▊         | 43/499 [01:24<17:14,  2.27s/it]"
     ]
    },
    {
     "name": "stdout",
     "output_type": "stream",
     "text": [
      "Geocoding success 42\n"
     ]
    },
    {
     "name": "stderr",
     "output_type": "stream",
     "text": [
      "  9%|▉         | 44/499 [01:25<14:11,  1.87s/it]"
     ]
    },
    {
     "name": "stdout",
     "output_type": "stream",
     "text": [
      "Geocoding success 43\n"
     ]
    },
    {
     "name": "stderr",
     "output_type": "stream",
     "text": [
      "  9%|▉         | 45/499 [01:26<12:22,  1.63s/it]"
     ]
    },
    {
     "name": "stdout",
     "output_type": "stream",
     "text": [
      "Geocoding success 44\n"
     ]
    },
    {
     "name": "stderr",
     "output_type": "stream",
     "text": [
      "  9%|▉         | 46/499 [01:28<13:04,  1.73s/it]"
     ]
    },
    {
     "name": "stdout",
     "output_type": "stream",
     "text": [
      "Geocoding success 45\n"
     ]
    },
    {
     "name": "stderr",
     "output_type": "stream",
     "text": [
      "  9%|▉         | 47/499 [01:33<20:14,  2.69s/it]"
     ]
    },
    {
     "name": "stdout",
     "output_type": "stream",
     "text": [
      "Geocoding success 46\n"
     ]
    },
    {
     "name": "stderr",
     "output_type": "stream",
     "text": [
      " 10%|▉         | 48/499 [01:34<16:42,  2.22s/it]"
     ]
    },
    {
     "name": "stdout",
     "output_type": "stream",
     "text": [
      "Geocoding success 47\n",
      "Geocoding success 48\n"
     ]
    },
    {
     "name": "stderr",
     "output_type": "stream",
     "text": [
      " 10%|█         | 50/499 [01:37<12:13,  1.63s/it]"
     ]
    },
    {
     "name": "stdout",
     "output_type": "stream",
     "text": [
      "Geocoding success 49\n"
     ]
    },
    {
     "name": "stderr",
     "output_type": "stream",
     "text": [
      " 10%|█         | 51/499 [01:38<12:39,  1.69s/it]"
     ]
    },
    {
     "name": "stdout",
     "output_type": "stream",
     "text": [
      "Geocoding success 50\n",
      "Geocoding success 51\n"
     ]
    },
    {
     "name": "stderr",
     "output_type": "stream",
     "text": [
      " 11%|█         | 53/499 [01:43<16:27,  2.21s/it]"
     ]
    },
    {
     "name": "stdout",
     "output_type": "stream",
     "text": [
      "Geocoding success 52\n"
     ]
    },
    {
     "name": "stderr",
     "output_type": "stream",
     "text": [
      " 11%|█         | 54/499 [01:45<16:04,  2.17s/it]"
     ]
    },
    {
     "name": "stdout",
     "output_type": "stream",
     "text": [
      "Geocoding success 53\n"
     ]
    },
    {
     "name": "stderr",
     "output_type": "stream",
     "text": [
      " 11%|█         | 55/499 [01:46<13:13,  1.79s/it]"
     ]
    },
    {
     "name": "stdout",
     "output_type": "stream",
     "text": [
      "Geocoding success 54\n",
      "Geocoding success 55\n"
     ]
    },
    {
     "name": "stderr",
     "output_type": "stream",
     "text": [
      " 11%|█▏        | 57/499 [01:50<12:27,  1.69s/it]"
     ]
    },
    {
     "name": "stdout",
     "output_type": "stream",
     "text": [
      "Geocoding success 56\n"
     ]
    },
    {
     "name": "stderr",
     "output_type": "stream",
     "text": [
      " 12%|█▏        | 58/499 [01:50<10:33,  1.44s/it]"
     ]
    },
    {
     "name": "stdout",
     "output_type": "stream",
     "text": [
      "Geocoding success 57\n"
     ]
    },
    {
     "name": "stderr",
     "output_type": "stream",
     "text": [
      " 12%|█▏        | 59/499 [01:51<09:43,  1.33s/it]"
     ]
    },
    {
     "name": "stdout",
     "output_type": "stream",
     "text": [
      "Geocoding success 58\n"
     ]
    },
    {
     "name": "stderr",
     "output_type": "stream",
     "text": [
      " 12%|█▏        | 60/499 [01:53<11:09,  1.52s/it]"
     ]
    },
    {
     "name": "stdout",
     "output_type": "stream",
     "text": [
      "Geocoding success 59\n"
     ]
    },
    {
     "name": "stderr",
     "output_type": "stream",
     "text": [
      " 12%|█▏        | 61/499 [01:57<16:39,  2.28s/it]"
     ]
    },
    {
     "name": "stdout",
     "output_type": "stream",
     "text": [
      "Geocoding success 60\n"
     ]
    },
    {
     "name": "stderr",
     "output_type": "stream",
     "text": [
      " 12%|█▏        | 62/499 [01:59<15:42,  2.16s/it]"
     ]
    },
    {
     "name": "stdout",
     "output_type": "stream",
     "text": [
      "Geocoding success 61\n"
     ]
    },
    {
     "name": "stderr",
     "output_type": "stream",
     "text": [
      " 13%|█▎        | 63/499 [02:01<13:33,  1.87s/it]"
     ]
    },
    {
     "name": "stdout",
     "output_type": "stream",
     "text": [
      "Geocoding success 62\n"
     ]
    },
    {
     "name": "stderr",
     "output_type": "stream",
     "text": [
      " 13%|█▎        | 64/499 [02:02<11:49,  1.63s/it]"
     ]
    },
    {
     "name": "stdout",
     "output_type": "stream",
     "text": [
      "Geocoding success 63\n"
     ]
    },
    {
     "name": "stderr",
     "output_type": "stream",
     "text": [
      " 13%|█▎        | 65/499 [02:03<12:18,  1.70s/it]"
     ]
    },
    {
     "name": "stdout",
     "output_type": "stream",
     "text": [
      "Geocoding success 64\n"
     ]
    },
    {
     "name": "stderr",
     "output_type": "stream",
     "text": [
      " 13%|█▎        | 66/499 [02:04<10:36,  1.47s/it]"
     ]
    },
    {
     "name": "stdout",
     "output_type": "stream",
     "text": [
      "Geocoding success 65\n"
     ]
    },
    {
     "name": "stderr",
     "output_type": "stream",
     "text": [
      " 13%|█▎        | 67/499 [02:07<14:01,  1.95s/it]"
     ]
    },
    {
     "name": "stdout",
     "output_type": "stream",
     "text": [
      "Geocoding success 66\n"
     ]
    },
    {
     "name": "stderr",
     "output_type": "stream",
     "text": [
      " 14%|█▎        | 68/499 [02:10<16:03,  2.24s/it]"
     ]
    },
    {
     "name": "stdout",
     "output_type": "stream",
     "text": [
      "Geocoding success 67\n",
      "Geocoding success 68\n"
     ]
    },
    {
     "name": "stderr",
     "output_type": "stream",
     "text": [
      " 14%|█▍        | 70/499 [02:12<10:30,  1.47s/it]"
     ]
    },
    {
     "name": "stdout",
     "output_type": "stream",
     "text": [
      "Geocoding success 69\n"
     ]
    },
    {
     "name": "stderr",
     "output_type": "stream",
     "text": [
      " 14%|█▍        | 71/499 [02:13<10:22,  1.45s/it]"
     ]
    },
    {
     "name": "stdout",
     "output_type": "stream",
     "text": [
      "Geocoding success 70\n",
      "Geocoding success 71\n"
     ]
    },
    {
     "name": "stderr",
     "output_type": "stream",
     "text": [
      " 14%|█▍        | 72/499 [02:14<07:29,  1.05s/it]"
     ]
    },
    {
     "name": "stdout",
     "output_type": "stream",
     "text": [
      "Geocoding success 72\n"
     ]
    },
    {
     "name": "stderr",
     "output_type": "stream",
     "text": [
      " 15%|█▍        | 73/499 [02:14<07:03,  1.01it/s]"
     ]
    },
    {
     "name": "stdout",
     "output_type": "stream",
     "text": [
      "Geocoding success 73\n"
     ]
    },
    {
     "name": "stderr",
     "output_type": "stream",
     "text": [
      " 15%|█▌        | 75/499 [02:15<04:52,  1.45it/s]"
     ]
    },
    {
     "name": "stdout",
     "output_type": "stream",
     "text": [
      "Geocoding success 74\n"
     ]
    },
    {
     "name": "stderr",
     "output_type": "stream",
     "text": [
      " 15%|█▌        | 76/499 [02:16<04:59,  1.41it/s]"
     ]
    },
    {
     "name": "stdout",
     "output_type": "stream",
     "text": [
      "Geocoding success 75\n"
     ]
    },
    {
     "name": "stderr",
     "output_type": "stream",
     "text": [
      " 15%|█▌        | 77/499 [02:18<07:49,  1.11s/it]"
     ]
    },
    {
     "name": "stdout",
     "output_type": "stream",
     "text": [
      "Geocoding success 76\n",
      "Geocoding success 77\n"
     ]
    },
    {
     "name": "stderr",
     "output_type": "stream",
     "text": [
      " 16%|█▌        | 78/499 [02:21<11:50,  1.69s/it]"
     ]
    },
    {
     "name": "stdout",
     "output_type": "stream",
     "text": [
      "Geocoding success 78\n"
     ]
    },
    {
     "name": "stderr",
     "output_type": "stream",
     "text": [
      " 16%|█▌        | 79/499 [02:22<10:36,  1.51s/it]"
     ]
    },
    {
     "name": "stdout",
     "output_type": "stream",
     "text": [
      "Geocoding success 79\n"
     ]
    },
    {
     "name": "stderr",
     "output_type": "stream",
     "text": [
      " 16%|█▌        | 81/499 [02:24<08:15,  1.19s/it]"
     ]
    },
    {
     "name": "stdout",
     "output_type": "stream",
     "text": [
      "Geocoding success 80\n"
     ]
    },
    {
     "name": "stderr",
     "output_type": "stream",
     "text": [
      " 16%|█▋        | 82/499 [02:25<07:42,  1.11s/it]"
     ]
    },
    {
     "name": "stdout",
     "output_type": "stream",
     "text": [
      "Geocoding success 81\n"
     ]
    },
    {
     "name": "stderr",
     "output_type": "stream",
     "text": [
      " 17%|█▋        | 83/499 [02:31<18:07,  2.62s/it]"
     ]
    },
    {
     "name": "stdout",
     "output_type": "stream",
     "text": [
      "Geocoding success 82\n"
     ]
    },
    {
     "name": "stderr",
     "output_type": "stream",
     "text": [
      " 17%|█▋        | 84/499 [02:32<14:40,  2.12s/it]"
     ]
    },
    {
     "name": "stdout",
     "output_type": "stream",
     "text": [
      "Geocoding success 83\n"
     ]
    },
    {
     "name": "stderr",
     "output_type": "stream",
     "text": [
      " 17%|█▋        | 85/499 [02:33<12:07,  1.76s/it]"
     ]
    },
    {
     "name": "stdout",
     "output_type": "stream",
     "text": [
      "Geocoding success 84\n"
     ]
    },
    {
     "name": "stderr",
     "output_type": "stream",
     "text": [
      " 17%|█▋        | 86/499 [02:34<11:02,  1.61s/it]"
     ]
    },
    {
     "name": "stdout",
     "output_type": "stream",
     "text": [
      "Geocoding success 85\n"
     ]
    },
    {
     "name": "stderr",
     "output_type": "stream",
     "text": [
      " 17%|█▋        | 87/499 [02:35<09:49,  1.43s/it]"
     ]
    },
    {
     "name": "stdout",
     "output_type": "stream",
     "text": [
      "Geocoding success 86\n",
      "Geocoding success 87\n"
     ]
    },
    {
     "name": "stderr",
     "output_type": "stream",
     "text": [
      " 18%|█▊        | 89/499 [02:42<15:15,  2.23s/it]"
     ]
    },
    {
     "name": "stdout",
     "output_type": "stream",
     "text": [
      "Geocoding success 88\n"
     ]
    },
    {
     "name": "stderr",
     "output_type": "stream",
     "text": [
      " 18%|█▊        | 90/499 [02:43<12:59,  1.90s/it]"
     ]
    },
    {
     "name": "stdout",
     "output_type": "stream",
     "text": [
      "Geocoding success 89\n"
     ]
    },
    {
     "name": "stderr",
     "output_type": "stream",
     "text": [
      " 18%|█▊        | 91/499 [02:44<10:54,  1.60s/it]"
     ]
    },
    {
     "name": "stdout",
     "output_type": "stream",
     "text": [
      "Geocoding success 90\n"
     ]
    },
    {
     "name": "stderr",
     "output_type": "stream",
     "text": [
      " 18%|█▊        | 92/499 [02:51<21:40,  3.19s/it]"
     ]
    },
    {
     "name": "stdout",
     "output_type": "stream",
     "text": [
      "Geocoding success 91\n"
     ]
    },
    {
     "name": "stderr",
     "output_type": "stream",
     "text": [
      " 19%|█▊        | 93/499 [02:52<17:08,  2.53s/it]"
     ]
    },
    {
     "name": "stdout",
     "output_type": "stream",
     "text": [
      "Geocoding success 92\n"
     ]
    },
    {
     "name": "stderr",
     "output_type": "stream",
     "text": [
      " 19%|█▉        | 94/499 [02:53<14:36,  2.16s/it]"
     ]
    },
    {
     "name": "stdout",
     "output_type": "stream",
     "text": [
      "Geocoding success 93\n"
     ]
    },
    {
     "name": "stderr",
     "output_type": "stream",
     "text": [
      " 19%|█▉        | 95/499 [02:54<11:42,  1.74s/it]"
     ]
    },
    {
     "name": "stdout",
     "output_type": "stream",
     "text": [
      "Geocoding success 94\n"
     ]
    },
    {
     "name": "stderr",
     "output_type": "stream",
     "text": [
      " 19%|█▉        | 97/499 [03:01<18:27,  2.75s/it]"
     ]
    },
    {
     "name": "stdout",
     "output_type": "stream",
     "text": [
      "Geocoding success 95\n"
     ]
    },
    {
     "name": "stderr",
     "output_type": "stream",
     "text": [
      " 20%|█▉        | 98/499 [03:02<14:50,  2.22s/it]"
     ]
    },
    {
     "name": "stdout",
     "output_type": "stream",
     "text": [
      "Geocoding success 96\n"
     ]
    },
    {
     "name": "stderr",
     "output_type": "stream",
     "text": [
      " 20%|█▉        | 99/499 [03:03<12:34,  1.89s/it]"
     ]
    },
    {
     "name": "stdout",
     "output_type": "stream",
     "text": [
      "Geocoding success 97\n"
     ]
    },
    {
     "name": "stderr",
     "output_type": "stream",
     "text": [
      " 20%|██        | 100/499 [03:05<12:51,  1.93s/it]"
     ]
    },
    {
     "name": "stdout",
     "output_type": "stream",
     "text": [
      "Geocoding success 98\n",
      "Geocoding success 99\n"
     ]
    },
    {
     "name": "stderr",
     "output_type": "stream",
     "text": [
      " 20%|██        | 102/499 [03:10<14:02,  2.12s/it]"
     ]
    },
    {
     "name": "stdout",
     "output_type": "stream",
     "text": [
      "Geocoding success 100\n"
     ]
    },
    {
     "name": "stderr",
     "output_type": "stream",
     "text": [
      " 21%|██        | 103/499 [03:11<12:26,  1.88s/it]"
     ]
    },
    {
     "name": "stdout",
     "output_type": "stream",
     "text": [
      "Geocoding success 101\n"
     ]
    },
    {
     "name": "stderr",
     "output_type": "stream",
     "text": [
      " 21%|██        | 104/499 [03:12<10:28,  1.59s/it]"
     ]
    },
    {
     "name": "stdout",
     "output_type": "stream",
     "text": [
      "Geocoding success 102\n"
     ]
    },
    {
     "name": "stderr",
     "output_type": "stream",
     "text": [
      " 21%|██        | 105/499 [03:15<13:02,  1.99s/it]"
     ]
    },
    {
     "name": "stdout",
     "output_type": "stream",
     "text": [
      "Geocoding success 103\n"
     ]
    },
    {
     "name": "stderr",
     "output_type": "stream",
     "text": [
      " 21%|██        | 106/499 [03:18<14:51,  2.27s/it]"
     ]
    },
    {
     "name": "stdout",
     "output_type": "stream",
     "text": [
      "Geocoding success 104\n"
     ]
    },
    {
     "name": "stderr",
     "output_type": "stream",
     "text": [
      " 21%|██▏       | 107/499 [03:19<12:22,  1.89s/it]"
     ]
    },
    {
     "name": "stdout",
     "output_type": "stream",
     "text": [
      "Geocoding success 105\n",
      "Geocoding success 106\n"
     ]
    },
    {
     "name": "stderr",
     "output_type": "stream",
     "text": [
      " 22%|██▏       | 108/499 [03:21<12:40,  1.94s/it]"
     ]
    },
    {
     "name": "stdout",
     "output_type": "stream",
     "text": [
      "Geocoding success 107\n"
     ]
    },
    {
     "name": "stderr",
     "output_type": "stream",
     "text": [
      " 22%|██▏       | 110/499 [03:24<11:40,  1.80s/it]"
     ]
    },
    {
     "name": "stdout",
     "output_type": "stream",
     "text": [
      "Geocoding success 108\n"
     ]
    },
    {
     "name": "stderr",
     "output_type": "stream",
     "text": [
      " 22%|██▏       | 111/499 [03:25<10:02,  1.55s/it]"
     ]
    },
    {
     "name": "stdout",
     "output_type": "stream",
     "text": [
      "Geocoding success 109\n"
     ]
    },
    {
     "name": "stderr",
     "output_type": "stream",
     "text": [
      " 22%|██▏       | 112/499 [03:28<12:31,  1.94s/it]"
     ]
    },
    {
     "name": "stdout",
     "output_type": "stream",
     "text": [
      "Geocoding success 110\n"
     ]
    },
    {
     "name": "stderr",
     "output_type": "stream",
     "text": [
      " 23%|██▎       | 113/499 [03:31<14:24,  2.24s/it]"
     ]
    },
    {
     "name": "stdout",
     "output_type": "stream",
     "text": [
      "Geocoding success 111\n"
     ]
    },
    {
     "name": "stderr",
     "output_type": "stream",
     "text": [
      " 23%|██▎       | 114/499 [03:32<12:00,  1.87s/it]"
     ]
    },
    {
     "name": "stdout",
     "output_type": "stream",
     "text": [
      "Geocoding success 112\n"
     ]
    },
    {
     "name": "stderr",
     "output_type": "stream",
     "text": [
      " 23%|██▎       | 115/499 [03:34<12:16,  1.92s/it]"
     ]
    },
    {
     "name": "stdout",
     "output_type": "stream",
     "text": [
      "Geocoding success 113\n"
     ]
    },
    {
     "name": "stderr",
     "output_type": "stream",
     "text": [
      " 23%|██▎       | 116/499 [03:35<10:48,  1.69s/it]"
     ]
    },
    {
     "name": "stdout",
     "output_type": "stream",
     "text": [
      "Geocoding success 114\n",
      "Geocoding success 115\n"
     ]
    },
    {
     "name": "stderr",
     "output_type": "stream",
     "text": [
      " 24%|██▎       | 118/499 [03:43<15:36,  2.46s/it]"
     ]
    },
    {
     "name": "stdout",
     "output_type": "stream",
     "text": [
      "Geocoding success 116\n"
     ]
    },
    {
     "name": "stderr",
     "output_type": "stream",
     "text": [
      " 24%|██▍       | 119/499 [03:44<13:54,  2.20s/it]"
     ]
    },
    {
     "name": "stdout",
     "output_type": "stream",
     "text": [
      "Geocoding success 117\n"
     ]
    },
    {
     "name": "stderr",
     "output_type": "stream",
     "text": [
      " 24%|██▍       | 120/499 [03:45<12:11,  1.93s/it]"
     ]
    },
    {
     "name": "stdout",
     "output_type": "stream",
     "text": [
      "Geocoding success 118\n",
      "Geocoding success 119\n"
     ]
    },
    {
     "name": "stderr",
     "output_type": "stream",
     "text": [
      " 24%|██▍       | 122/499 [03:48<10:21,  1.65s/it]"
     ]
    },
    {
     "name": "stdout",
     "output_type": "stream",
     "text": [
      "Geocoding success 120\n"
     ]
    },
    {
     "name": "stderr",
     "output_type": "stream",
     "text": [
      " 25%|██▍       | 123/499 [03:51<12:37,  2.01s/it]"
     ]
    },
    {
     "name": "stdout",
     "output_type": "stream",
     "text": [
      "Geocoding success 121\n"
     ]
    },
    {
     "name": "stderr",
     "output_type": "stream",
     "text": [
      " 25%|██▍       | 124/499 [03:55<16:02,  2.57s/it]"
     ]
    },
    {
     "name": "stdout",
     "output_type": "stream",
     "text": [
      "Geocoding success 122\n",
      "Geocoding success 123\n"
     ]
    },
    {
     "name": "stderr",
     "output_type": "stream",
     "text": [
      " 25%|██▌       | 126/499 [03:57<11:42,  1.88s/it]"
     ]
    },
    {
     "name": "stdout",
     "output_type": "stream",
     "text": [
      "Geocoding success 124\n"
     ]
    },
    {
     "name": "stderr",
     "output_type": "stream",
     "text": [
      " 25%|██▌       | 127/499 [03:58<10:13,  1.65s/it]"
     ]
    },
    {
     "name": "stdout",
     "output_type": "stream",
     "text": [
      "Geocoding success 125\n",
      "Geocoding success 126\n"
     ]
    },
    {
     "name": "stderr",
     "output_type": "stream",
     "text": [
      " 26%|██▌       | 129/499 [04:05<15:42,  2.55s/it]"
     ]
    },
    {
     "name": "stdout",
     "output_type": "stream",
     "text": [
      "Geocoding success 127\n"
     ]
    },
    {
     "name": "stderr",
     "output_type": "stream",
     "text": [
      " 26%|██▌       | 130/499 [04:07<14:39,  2.38s/it]"
     ]
    },
    {
     "name": "stdout",
     "output_type": "stream",
     "text": [
      "Geocoding success 128\n"
     ]
    },
    {
     "name": "stderr",
     "output_type": "stream",
     "text": [
      " 26%|██▋       | 131/499 [04:08<12:37,  2.06s/it]"
     ]
    },
    {
     "name": "stdout",
     "output_type": "stream",
     "text": [
      "Geocoding success 129\n"
     ]
    },
    {
     "name": "stderr",
     "output_type": "stream",
     "text": [
      " 26%|██▋       | 132/499 [04:09<10:18,  1.68s/it]"
     ]
    },
    {
     "name": "stdout",
     "output_type": "stream",
     "text": [
      "Geocoding success 130\n"
     ]
    },
    {
     "name": "stderr",
     "output_type": "stream",
     "text": [
      " 27%|██▋       | 133/499 [04:11<10:45,  1.76s/it]"
     ]
    },
    {
     "name": "stdout",
     "output_type": "stream",
     "text": [
      "Geocoding success 131\n"
     ]
    },
    {
     "name": "stderr",
     "output_type": "stream",
     "text": [
      " 27%|██▋       | 134/499 [04:15<14:46,  2.43s/it]"
     ]
    },
    {
     "name": "stdout",
     "output_type": "stream",
     "text": [
      "Geocoding success 132\n"
     ]
    },
    {
     "name": "stderr",
     "output_type": "stream",
     "text": [
      " 27%|██▋       | 135/499 [04:17<14:04,  2.32s/it]"
     ]
    },
    {
     "name": "stdout",
     "output_type": "stream",
     "text": [
      "Geocoding success 133\n"
     ]
    },
    {
     "name": "stderr",
     "output_type": "stream",
     "text": [
      " 27%|██▋       | 136/499 [04:18<11:45,  1.94s/it]"
     ]
    },
    {
     "name": "stdout",
     "output_type": "stream",
     "text": [
      "Geocoding success 134\n"
     ]
    },
    {
     "name": "stderr",
     "output_type": "stream",
     "text": [
      " 27%|██▋       | 137/499 [04:19<09:57,  1.65s/it]"
     ]
    },
    {
     "name": "stdout",
     "output_type": "stream",
     "text": [
      "Geocoding success 135\n"
     ]
    },
    {
     "name": "stderr",
     "output_type": "stream",
     "text": [
      " 28%|██▊       | 138/499 [04:21<10:32,  1.75s/it]"
     ]
    },
    {
     "name": "stdout",
     "output_type": "stream",
     "text": [
      "Geocoding success 136\n"
     ]
    },
    {
     "name": "stderr",
     "output_type": "stream",
     "text": [
      " 28%|██▊       | 139/499 [04:25<14:34,  2.43s/it]"
     ]
    },
    {
     "name": "stdout",
     "output_type": "stream",
     "text": [
      "Geocoding success 137\n"
     ]
    },
    {
     "name": "stderr",
     "output_type": "stream",
     "text": [
      " 28%|██▊       | 140/499 [04:26<12:21,  2.07s/it]"
     ]
    },
    {
     "name": "stdout",
     "output_type": "stream",
     "text": [
      "Geocoding success 138\n"
     ]
    },
    {
     "name": "stderr",
     "output_type": "stream",
     "text": [
      " 28%|██▊       | 141/499 [04:27<10:24,  1.74s/it]"
     ]
    },
    {
     "name": "stdout",
     "output_type": "stream",
     "text": [
      "Geocoding success 139\n",
      "Geocoding success 140\n"
     ]
    },
    {
     "name": "stderr",
     "output_type": "stream",
     "text": [
      " 29%|██▊       | 143/499 [04:29<07:44,  1.31s/it]"
     ]
    },
    {
     "name": "stdout",
     "output_type": "stream",
     "text": [
      "Geocoding success 141\n"
     ]
    },
    {
     "name": "stderr",
     "output_type": "stream",
     "text": [
      " 29%|██▉       | 144/499 [04:32<10:38,  1.80s/it]"
     ]
    },
    {
     "name": "stdout",
     "output_type": "stream",
     "text": [
      "Geocoding success 142\n",
      "Geocoding success 143\n"
     ]
    },
    {
     "name": "stderr",
     "output_type": "stream",
     "text": [
      " 29%|██▉       | 146/499 [04:34<08:11,  1.39s/it]"
     ]
    },
    {
     "name": "stdout",
     "output_type": "stream",
     "text": [
      "Geocoding success 144\n"
     ]
    },
    {
     "name": "stderr",
     "output_type": "stream",
     "text": [
      " 29%|██▉       | 147/499 [04:35<07:24,  1.26s/it]"
     ]
    },
    {
     "name": "stdout",
     "output_type": "stream",
     "text": [
      "Geocoding success 145\n"
     ]
    },
    {
     "name": "stderr",
     "output_type": "stream",
     "text": [
      " 30%|██▉       | 148/499 [04:36<06:51,  1.17s/it]"
     ]
    },
    {
     "name": "stdout",
     "output_type": "stream",
     "text": [
      "Geocoding success 146\n",
      "Geocoding success 147\n"
     ]
    },
    {
     "name": "stderr",
     "output_type": "stream",
     "text": [
      " 30%|██▉       | 149/499 [04:37<06:52,  1.18s/it]"
     ]
    },
    {
     "name": "stdout",
     "output_type": "stream",
     "text": [
      "Geocoding success 148\n"
     ]
    },
    {
     "name": "stderr",
     "output_type": "stream",
     "text": [
      " 30%|███       | 151/499 [04:43<11:21,  1.96s/it]"
     ]
    },
    {
     "name": "stdout",
     "output_type": "stream",
     "text": [
      "Geocoding success 149\n"
     ]
    },
    {
     "name": "stderr",
     "output_type": "stream",
     "text": [
      " 30%|███       | 152/499 [04:44<09:41,  1.68s/it]"
     ]
    },
    {
     "name": "stdout",
     "output_type": "stream",
     "text": [
      "Geocoding success 150\n"
     ]
    },
    {
     "name": "stderr",
     "output_type": "stream",
     "text": [
      " 31%|███       | 153/499 [04:45<07:58,  1.38s/it]"
     ]
    },
    {
     "name": "stdout",
     "output_type": "stream",
     "text": [
      "Geocoding success 151\n",
      "Geocoding success 152\n"
     ]
    },
    {
     "name": "stderr",
     "output_type": "stream",
     "text": [
      " 31%|███       | 155/499 [04:52<15:11,  2.65s/it]"
     ]
    },
    {
     "name": "stdout",
     "output_type": "stream",
     "text": [
      "Geocoding success 153\n",
      "Geocoding success 154\n"
     ]
    },
    {
     "name": "stderr",
     "output_type": "stream",
     "text": [
      " 31%|███▏      | 157/499 [04:54<10:15,  1.80s/it]"
     ]
    },
    {
     "name": "stdout",
     "output_type": "stream",
     "text": [
      "Geocoding success 155\n"
     ]
    },
    {
     "name": "stderr",
     "output_type": "stream",
     "text": [
      " 32%|███▏      | 158/499 [04:55<08:52,  1.56s/it]"
     ]
    },
    {
     "name": "stdout",
     "output_type": "stream",
     "text": [
      "Geocoding success 156\n",
      "Geocoding success 157\n"
     ]
    },
    {
     "name": "stderr",
     "output_type": "stream",
     "text": [
      " 32%|███▏      | 159/499 [04:56<08:11,  1.45s/it]"
     ]
    },
    {
     "name": "stdout",
     "output_type": "stream",
     "text": [
      "Geocoding success 158\n"
     ]
    },
    {
     "name": "stderr",
     "output_type": "stream",
     "text": [
      " 32%|███▏      | 161/499 [04:59<08:08,  1.45s/it]"
     ]
    },
    {
     "name": "stdout",
     "output_type": "stream",
     "text": [
      "Geocoding success 159\n",
      "Geocoding success 160\n"
     ]
    },
    {
     "name": "stderr",
     "output_type": "stream",
     "text": [
      " 33%|███▎      | 163/499 [05:05<11:52,  2.12s/it]"
     ]
    },
    {
     "name": "stdout",
     "output_type": "stream",
     "text": [
      "Geocoding success 161\n"
     ]
    },
    {
     "name": "stderr",
     "output_type": "stream",
     "text": [
      " 33%|███▎      | 164/499 [05:06<09:55,  1.78s/it]"
     ]
    },
    {
     "name": "stdout",
     "output_type": "stream",
     "text": [
      "Geocoding success 162\n"
     ]
    },
    {
     "name": "stderr",
     "output_type": "stream",
     "text": [
      " 33%|███▎      | 165/499 [05:09<12:00,  2.16s/it]"
     ]
    },
    {
     "name": "stdout",
     "output_type": "stream",
     "text": [
      "Geocoding success 163\n"
     ]
    },
    {
     "name": "stderr",
     "output_type": "stream",
     "text": [
      " 33%|███▎      | 166/499 [05:13<14:52,  2.68s/it]"
     ]
    },
    {
     "name": "stdout",
     "output_type": "stream",
     "text": [
      "Geocoding success 164\n"
     ]
    },
    {
     "name": "stderr",
     "output_type": "stream",
     "text": [
      " 33%|███▎      | 167/499 [05:15<13:57,  2.52s/it]"
     ]
    },
    {
     "name": "stdout",
     "output_type": "stream",
     "text": [
      "Geocoding success 165\n"
     ]
    },
    {
     "name": "stderr",
     "output_type": "stream",
     "text": [
      " 34%|███▎      | 168/499 [05:16<11:16,  2.04s/it]"
     ]
    },
    {
     "name": "stdout",
     "output_type": "stream",
     "text": [
      "Geocoding success 166\n"
     ]
    },
    {
     "name": "stderr",
     "output_type": "stream",
     "text": [
      " 34%|███▍      | 169/499 [05:17<09:44,  1.77s/it]"
     ]
    },
    {
     "name": "stdout",
     "output_type": "stream",
     "text": [
      "Geocoding success 167\n"
     ]
    },
    {
     "name": "stderr",
     "output_type": "stream",
     "text": [
      " 34%|███▍      | 170/499 [05:19<09:47,  1.79s/it]"
     ]
    },
    {
     "name": "stdout",
     "output_type": "stream",
     "text": [
      "Geocoding success 168\n"
     ]
    },
    {
     "name": "stderr",
     "output_type": "stream",
     "text": [
      " 34%|███▍      | 171/499 [05:20<08:41,  1.59s/it]"
     ]
    },
    {
     "name": "stdout",
     "output_type": "stream",
     "text": [
      "Geocoding success 169\n"
     ]
    },
    {
     "name": "stderr",
     "output_type": "stream",
     "text": [
      " 34%|███▍      | 172/499 [05:22<09:14,  1.70s/it]"
     ]
    },
    {
     "name": "stdout",
     "output_type": "stream",
     "text": [
      "Geocoding success 170\n"
     ]
    },
    {
     "name": "stderr",
     "output_type": "stream",
     "text": [
      " 35%|███▍      | 173/499 [05:23<07:54,  1.46s/it]"
     ]
    },
    {
     "name": "stdout",
     "output_type": "stream",
     "text": [
      "Geocoding success 171\n",
      "Geocoding success 172\n"
     ]
    },
    {
     "name": "stderr",
     "output_type": "stream",
     "text": [
      " 35%|███▌      | 175/499 [05:26<08:11,  1.52s/it]"
     ]
    },
    {
     "name": "stdout",
     "output_type": "stream",
     "text": [
      "Geocoding success 173\n"
     ]
    },
    {
     "name": "stderr",
     "output_type": "stream",
     "text": [
      " 35%|███▌      | 176/499 [05:31<13:42,  2.55s/it]"
     ]
    },
    {
     "name": "stdout",
     "output_type": "stream",
     "text": [
      "Geocoding success 174\n"
     ]
    },
    {
     "name": "stderr",
     "output_type": "stream",
     "text": [
      " 35%|███▌      | 177/499 [05:32<11:08,  2.08s/it]"
     ]
    },
    {
     "name": "stdout",
     "output_type": "stream",
     "text": [
      "Geocoding success 175\n"
     ]
    },
    {
     "name": "stderr",
     "output_type": "stream",
     "text": [
      " 36%|███▌      | 178/499 [05:33<09:29,  1.77s/it]"
     ]
    },
    {
     "name": "stdout",
     "output_type": "stream",
     "text": [
      "Geocoding success 176\n"
     ]
    },
    {
     "name": "stderr",
     "output_type": "stream",
     "text": [
      " 36%|███▌      | 179/499 [05:34<08:39,  1.62s/it]"
     ]
    },
    {
     "name": "stdout",
     "output_type": "stream",
     "text": [
      "Geocoding success 177\n"
     ]
    },
    {
     "name": "stderr",
     "output_type": "stream",
     "text": [
      " 36%|███▌      | 180/499 [05:35<07:13,  1.36s/it]"
     ]
    },
    {
     "name": "stdout",
     "output_type": "stream",
     "text": [
      "Geocoding success 178\n"
     ]
    },
    {
     "name": "stderr",
     "output_type": "stream",
     "text": [
      " 36%|███▋      | 181/499 [05:41<14:34,  2.75s/it]"
     ]
    },
    {
     "name": "stdout",
     "output_type": "stream",
     "text": [
      "Geocoding success 179\n"
     ]
    },
    {
     "name": "stderr",
     "output_type": "stream",
     "text": [
      " 36%|███▋      | 182/499 [05:42<11:36,  2.20s/it]"
     ]
    },
    {
     "name": "stdout",
     "output_type": "stream",
     "text": [
      "Geocoding success 180\n"
     ]
    },
    {
     "name": "stderr",
     "output_type": "stream",
     "text": [
      " 37%|███▋      | 183/499 [05:43<10:08,  1.93s/it]"
     ]
    },
    {
     "name": "stdout",
     "output_type": "stream",
     "text": [
      "Geocoding success 181\n"
     ]
    },
    {
     "name": "stderr",
     "output_type": "stream",
     "text": [
      " 37%|███▋      | 184/499 [05:45<09:52,  1.88s/it]"
     ]
    },
    {
     "name": "stdout",
     "output_type": "stream",
     "text": [
      "Geocoding success 182\n"
     ]
    },
    {
     "name": "stderr",
     "output_type": "stream",
     "text": [
      " 37%|███▋      | 185/499 [05:49<13:08,  2.51s/it]"
     ]
    },
    {
     "name": "stdout",
     "output_type": "stream",
     "text": [
      "Geocoding success 183\n"
     ]
    },
    {
     "name": "stderr",
     "output_type": "stream",
     "text": [
      " 37%|███▋      | 186/499 [05:51<12:27,  2.39s/it]"
     ]
    },
    {
     "name": "stdout",
     "output_type": "stream",
     "text": [
      "Geocoding success 184\n"
     ]
    },
    {
     "name": "stderr",
     "output_type": "stream",
     "text": [
      " 37%|███▋      | 187/499 [05:52<10:11,  1.96s/it]"
     ]
    },
    {
     "name": "stdout",
     "output_type": "stream",
     "text": [
      "Geocoding success 185\n"
     ]
    },
    {
     "name": "stderr",
     "output_type": "stream",
     "text": [
      " 38%|███▊      | 188/499 [05:53<08:32,  1.65s/it]"
     ]
    },
    {
     "name": "stdout",
     "output_type": "stream",
     "text": [
      "Geocoding success 186\n"
     ]
    },
    {
     "name": "stderr",
     "output_type": "stream",
     "text": [
      " 38%|███▊      | 189/499 [05:54<07:42,  1.49s/it]"
     ]
    },
    {
     "name": "stdout",
     "output_type": "stream",
     "text": [
      "Geocoding success 187\n"
     ]
    },
    {
     "name": "stderr",
     "output_type": "stream",
     "text": [
      " 38%|███▊      | 190/499 [05:55<06:50,  1.33s/it]"
     ]
    },
    {
     "name": "stdout",
     "output_type": "stream",
     "text": [
      "Geocoding success 188\n"
     ]
    },
    {
     "name": "stderr",
     "output_type": "stream",
     "text": [
      " 38%|███▊      | 191/499 [06:01<13:53,  2.71s/it]"
     ]
    },
    {
     "name": "stdout",
     "output_type": "stream",
     "text": [
      "Geocoding success 189\n"
     ]
    },
    {
     "name": "stderr",
     "output_type": "stream",
     "text": [
      " 38%|███▊      | 192/499 [06:02<11:25,  2.23s/it]"
     ]
    },
    {
     "name": "stdout",
     "output_type": "stream",
     "text": [
      "Geocoding success 190\n"
     ]
    },
    {
     "name": "stderr",
     "output_type": "stream",
     "text": [
      " 39%|███▊      | 193/499 [06:03<09:33,  1.88s/it]"
     ]
    },
    {
     "name": "stdout",
     "output_type": "stream",
     "text": [
      "Geocoding success 191\n"
     ]
    },
    {
     "name": "stderr",
     "output_type": "stream",
     "text": [
      " 39%|███▉      | 194/499 [06:04<07:53,  1.55s/it]"
     ]
    },
    {
     "name": "stdout",
     "output_type": "stream",
     "text": [
      "Geocoding success 192\n"
     ]
    },
    {
     "name": "stderr",
     "output_type": "stream",
     "text": [
      " 39%|███▉      | 195/499 [06:05<07:01,  1.39s/it]"
     ]
    },
    {
     "name": "stdout",
     "output_type": "stream",
     "text": [
      "Geocoding success 193\n"
     ]
    },
    {
     "name": "stderr",
     "output_type": "stream",
     "text": [
      " 39%|███▉      | 196/499 [06:11<14:04,  2.79s/it]"
     ]
    },
    {
     "name": "stdout",
     "output_type": "stream",
     "text": [
      "Geocoding success 194\n"
     ]
    },
    {
     "name": "stderr",
     "output_type": "stream",
     "text": [
      " 39%|███▉      | 197/499 [06:12<11:17,  2.24s/it]"
     ]
    },
    {
     "name": "stdout",
     "output_type": "stream",
     "text": [
      "Geocoding success 195\n"
     ]
    },
    {
     "name": "stderr",
     "output_type": "stream",
     "text": [
      " 40%|███▉      | 198/499 [06:13<09:50,  1.96s/it]"
     ]
    },
    {
     "name": "stdout",
     "output_type": "stream",
     "text": [
      "Geocoding success 196\n"
     ]
    },
    {
     "name": "stderr",
     "output_type": "stream",
     "text": [
      " 40%|███▉      | 199/499 [06:15<09:27,  1.89s/it]"
     ]
    },
    {
     "name": "stdout",
     "output_type": "stream",
     "text": [
      "Geocoding success 197\n",
      "Geocoding success 198\n"
     ]
    },
    {
     "name": "stderr",
     "output_type": "stream",
     "text": [
      " 40%|████      | 201/499 [06:22<12:16,  2.47s/it]"
     ]
    },
    {
     "name": "stdout",
     "output_type": "stream",
     "text": [
      "Geocoding success 199\n"
     ]
    },
    {
     "name": "stderr",
     "output_type": "stream",
     "text": [
      " 40%|████      | 202/499 [06:23<10:03,  2.03s/it]"
     ]
    },
    {
     "name": "stdout",
     "output_type": "stream",
     "text": [
      "Geocoding success 200\n"
     ]
    },
    {
     "name": "stderr",
     "output_type": "stream",
     "text": [
      " 41%|████      | 204/499 [06:25<07:14,  1.47s/it]"
     ]
    },
    {
     "name": "stdout",
     "output_type": "stream",
     "text": [
      "Geocoding success 201\n"
     ]
    },
    {
     "name": "stderr",
     "output_type": "stream",
     "text": [
      " 41%|████      | 205/499 [06:27<08:05,  1.65s/it]"
     ]
    },
    {
     "name": "stdout",
     "output_type": "stream",
     "text": [
      "Geocoding success 202\n"
     ]
    },
    {
     "name": "stderr",
     "output_type": "stream",
     "text": [
      " 41%|████▏     | 206/499 [06:31<11:05,  2.27s/it]"
     ]
    },
    {
     "name": "stdout",
     "output_type": "stream",
     "text": [
      "Geocoding success 203\n"
     ]
    },
    {
     "name": "stderr",
     "output_type": "stream",
     "text": [
      " 41%|████▏     | 207/499 [06:33<11:03,  2.27s/it]"
     ]
    },
    {
     "name": "stdout",
     "output_type": "stream",
     "text": [
      "Geocoding success 204\n"
     ]
    },
    {
     "name": "stderr",
     "output_type": "stream",
     "text": [
      " 42%|████▏     | 208/499 [06:34<08:43,  1.80s/it]"
     ]
    },
    {
     "name": "stdout",
     "output_type": "stream",
     "text": [
      "Geocoding success 205\n",
      "Geocoding success 206\n"
     ]
    },
    {
     "name": "stderr",
     "output_type": "stream",
     "text": [
      " 42%|████▏     | 210/499 [06:37<07:53,  1.64s/it]"
     ]
    },
    {
     "name": "stdout",
     "output_type": "stream",
     "text": [
      "Geocoding success 207\n"
     ]
    },
    {
     "name": "stderr",
     "output_type": "stream",
     "text": [
      " 42%|████▏     | 211/499 [06:38<06:59,  1.46s/it]"
     ]
    },
    {
     "name": "stdout",
     "output_type": "stream",
     "text": [
      "Geocoding success 208\n"
     ]
    },
    {
     "name": "stderr",
     "output_type": "stream",
     "text": [
      " 42%|████▏     | 212/499 [06:41<09:23,  1.96s/it]"
     ]
    },
    {
     "name": "stdout",
     "output_type": "stream",
     "text": [
      "Geocoding success 209\n"
     ]
    },
    {
     "name": "stderr",
     "output_type": "stream",
     "text": [
      " 43%|████▎     | 213/499 [06:43<09:10,  1.93s/it]"
     ]
    },
    {
     "name": "stdout",
     "output_type": "stream",
     "text": [
      "Geocoding success 210\n"
     ]
    },
    {
     "name": "stderr",
     "output_type": "stream",
     "text": [
      " 43%|████▎     | 214/499 [06:44<07:55,  1.67s/it]"
     ]
    },
    {
     "name": "stdout",
     "output_type": "stream",
     "text": [
      "Geocoding success 211\n"
     ]
    },
    {
     "name": "stderr",
     "output_type": "stream",
     "text": [
      " 43%|████▎     | 215/499 [06:46<07:33,  1.60s/it]"
     ]
    },
    {
     "name": "stdout",
     "output_type": "stream",
     "text": [
      "Geocoding success 212\n"
     ]
    },
    {
     "name": "stderr",
     "output_type": "stream",
     "text": [
      " 43%|████▎     | 216/499 [06:47<07:25,  1.57s/it]"
     ]
    },
    {
     "name": "stdout",
     "output_type": "stream",
     "text": [
      "Geocoding success 213\n"
     ]
    },
    {
     "name": "stderr",
     "output_type": "stream",
     "text": [
      " 43%|████▎     | 217/499 [06:51<10:43,  2.28s/it]"
     ]
    },
    {
     "name": "stdout",
     "output_type": "stream",
     "text": [
      "Geocoding success 214\n"
     ]
    },
    {
     "name": "stderr",
     "output_type": "stream",
     "text": [
      " 44%|████▎     | 218/499 [06:53<10:32,  2.25s/it]"
     ]
    },
    {
     "name": "stdout",
     "output_type": "stream",
     "text": [
      "Geocoding success 215\n"
     ]
    },
    {
     "name": "stderr",
     "output_type": "stream",
     "text": [
      " 44%|████▍     | 219/499 [06:55<09:53,  2.12s/it]"
     ]
    },
    {
     "name": "stdout",
     "output_type": "stream",
     "text": [
      "Geocoding success 216\n",
      "Geocoding success 217\n"
     ]
    },
    {
     "name": "stderr",
     "output_type": "stream",
     "text": [
      " 44%|████▍     | 221/499 [07:03<13:24,  2.89s/it]"
     ]
    },
    {
     "name": "stdout",
     "output_type": "stream",
     "text": [
      "Geocoding success 218\n"
     ]
    },
    {
     "name": "stderr",
     "output_type": "stream",
     "text": [
      " 44%|████▍     | 222/499 [07:05<12:18,  2.67s/it]"
     ]
    },
    {
     "name": "stdout",
     "output_type": "stream",
     "text": [
      "Geocoding success 219\n"
     ]
    },
    {
     "name": "stderr",
     "output_type": "stream",
     "text": [
      " 45%|████▌     | 225/499 [07:11<10:44,  2.35s/it]"
     ]
    },
    {
     "name": "stdout",
     "output_type": "stream",
     "text": [
      "Geocoding success 220\n"
     ]
    },
    {
     "name": "stderr",
     "output_type": "stream",
     "text": [
      " 45%|████▌     | 226/499 [07:13<10:08,  2.23s/it]"
     ]
    },
    {
     "name": "stdout",
     "output_type": "stream",
     "text": [
      "Geocoding success 221\n"
     ]
    },
    {
     "name": "stderr",
     "output_type": "stream",
     "text": [
      " 45%|████▌     | 227/499 [07:15<09:01,  1.99s/it]"
     ]
    },
    {
     "name": "stdout",
     "output_type": "stream",
     "text": [
      "Geocoding success 222\n"
     ]
    },
    {
     "name": "stderr",
     "output_type": "stream",
     "text": [
      " 46%|████▌     | 228/499 [07:15<07:20,  1.62s/it]"
     ]
    },
    {
     "name": "stdout",
     "output_type": "stream",
     "text": [
      "Geocoding success 223\n"
     ]
    },
    {
     "name": "stderr",
     "output_type": "stream",
     "text": [
      " 46%|████▌     | 229/499 [07:17<07:47,  1.73s/it]"
     ]
    },
    {
     "name": "stdout",
     "output_type": "stream",
     "text": [
      "Geocoding success 224\n",
      "Geocoding success 225\n"
     ]
    },
    {
     "name": "stderr",
     "output_type": "stream",
     "text": [
      " 46%|████▋     | 231/499 [07:23<10:20,  2.32s/it]"
     ]
    },
    {
     "name": "stdout",
     "output_type": "stream",
     "text": [
      "Geocoding success 226\n",
      "Geocoding success 227\n"
     ]
    },
    {
     "name": "stderr",
     "output_type": "stream",
     "text": [
      " 46%|████▋     | 232/499 [07:24<08:38,  1.94s/it]"
     ]
    },
    {
     "name": "stdout",
     "output_type": "stream",
     "text": [
      "Geocoding success 228\n"
     ]
    },
    {
     "name": "stderr",
     "output_type": "stream",
     "text": [
      " 47%|████▋     | 234/499 [07:27<07:26,  1.69s/it]"
     ]
    },
    {
     "name": "stdout",
     "output_type": "stream",
     "text": [
      "Geocoding success 229\n"
     ]
    },
    {
     "name": "stderr",
     "output_type": "stream",
     "text": [
      " 47%|████▋     | 235/499 [07:31<10:28,  2.38s/it]"
     ]
    },
    {
     "name": "stdout",
     "output_type": "stream",
     "text": [
      "Geocoding success 230\n"
     ]
    },
    {
     "name": "stderr",
     "output_type": "stream",
     "text": [
      " 47%|████▋     | 236/499 [07:32<08:34,  1.96s/it]"
     ]
    },
    {
     "name": "stdout",
     "output_type": "stream",
     "text": [
      "Geocoding success 231\n",
      "Geocoding success 232\n"
     ]
    },
    {
     "name": "stderr",
     "output_type": "stream",
     "text": [
      " 48%|████▊     | 238/499 [07:34<06:12,  1.43s/it]"
     ]
    },
    {
     "name": "stdout",
     "output_type": "stream",
     "text": [
      "Geocoding success 233\n"
     ]
    },
    {
     "name": "stderr",
     "output_type": "stream",
     "text": [
      " 48%|████▊     | 239/499 [07:36<06:58,  1.61s/it]"
     ]
    },
    {
     "name": "stdout",
     "output_type": "stream",
     "text": [
      "Geocoding success 234\n"
     ]
    },
    {
     "name": "stderr",
     "output_type": "stream",
     "text": [
      " 48%|████▊     | 240/499 [07:38<07:19,  1.70s/it]"
     ]
    },
    {
     "name": "stdout",
     "output_type": "stream",
     "text": [
      "Geocoding success 235\n"
     ]
    },
    {
     "name": "stderr",
     "output_type": "stream",
     "text": [
      " 48%|████▊     | 241/499 [07:39<06:32,  1.52s/it]"
     ]
    },
    {
     "name": "stdout",
     "output_type": "stream",
     "text": [
      "Geocoding success 236\n",
      "Geocoding success 237\n"
     ]
    },
    {
     "name": "stderr",
     "output_type": "stream",
     "text": [
      " 48%|████▊     | 242/499 [07:41<07:09,  1.67s/it]"
     ]
    },
    {
     "name": "stdout",
     "output_type": "stream",
     "text": [
      "Geocoding success 238\n"
     ]
    },
    {
     "name": "stderr",
     "output_type": "stream",
     "text": [
      " 49%|████▉     | 244/499 [07:43<05:31,  1.30s/it]"
     ]
    },
    {
     "name": "stdout",
     "output_type": "stream",
     "text": [
      "Geocoding success 239\n"
     ]
    },
    {
     "name": "stderr",
     "output_type": "stream",
     "text": [
      " 49%|████▉     | 245/499 [07:44<05:13,  1.24s/it]"
     ]
    },
    {
     "name": "stdout",
     "output_type": "stream",
     "text": [
      "Geocoding success 240\n"
     ]
    },
    {
     "name": "stderr",
     "output_type": "stream",
     "text": [
      " 49%|████▉     | 247/499 [07:51<10:37,  2.53s/it]"
     ]
    },
    {
     "name": "stdout",
     "output_type": "stream",
     "text": [
      "Geocoding success 241\n"
     ]
    },
    {
     "name": "stderr",
     "output_type": "stream",
     "text": [
      " 50%|████▉     | 248/499 [07:52<08:34,  2.05s/it]"
     ]
    },
    {
     "name": "stdout",
     "output_type": "stream",
     "text": [
      "Geocoding success 242\n"
     ]
    },
    {
     "name": "stderr",
     "output_type": "stream",
     "text": [
      " 50%|████▉     | 249/499 [07:53<07:19,  1.76s/it]"
     ]
    },
    {
     "name": "stdout",
     "output_type": "stream",
     "text": [
      "Geocoding success 243\n"
     ]
    },
    {
     "name": "stderr",
     "output_type": "stream",
     "text": [
      " 50%|█████     | 250/499 [07:54<06:15,  1.51s/it]"
     ]
    },
    {
     "name": "stdout",
     "output_type": "stream",
     "text": [
      "Geocoding success 244\n"
     ]
    },
    {
     "name": "stderr",
     "output_type": "stream",
     "text": [
      " 50%|█████     | 251/499 [07:56<06:02,  1.46s/it]"
     ]
    },
    {
     "name": "stdout",
     "output_type": "stream",
     "text": [
      "Geocoding success 245\n"
     ]
    },
    {
     "name": "stderr",
     "output_type": "stream",
     "text": [
      " 51%|█████     | 252/499 [07:56<04:57,  1.20s/it]"
     ]
    },
    {
     "name": "stdout",
     "output_type": "stream",
     "text": [
      "Geocoding success 246\n"
     ]
    },
    {
     "name": "stderr",
     "output_type": "stream",
     "text": [
      " 51%|█████     | 253/499 [08:02<10:50,  2.65s/it]"
     ]
    },
    {
     "name": "stdout",
     "output_type": "stream",
     "text": [
      "Geocoding success 247\n"
     ]
    },
    {
     "name": "stderr",
     "output_type": "stream",
     "text": [
      " 51%|█████     | 254/499 [08:03<08:51,  2.17s/it]"
     ]
    },
    {
     "name": "stdout",
     "output_type": "stream",
     "text": [
      "Geocoding success 248\n"
     ]
    },
    {
     "name": "stderr",
     "output_type": "stream",
     "text": [
      " 51%|█████     | 255/499 [08:04<07:19,  1.80s/it]"
     ]
    },
    {
     "name": "stdout",
     "output_type": "stream",
     "text": [
      "Geocoding success 249\n"
     ]
    },
    {
     "name": "stderr",
     "output_type": "stream",
     "text": [
      " 51%|█████▏    | 256/499 [08:05<06:41,  1.65s/it]"
     ]
    },
    {
     "name": "stdout",
     "output_type": "stream",
     "text": [
      "Geocoding success 250\n"
     ]
    },
    {
     "name": "stderr",
     "output_type": "stream",
     "text": [
      " 52%|█████▏    | 257/499 [08:06<05:47,  1.44s/it]"
     ]
    },
    {
     "name": "stdout",
     "output_type": "stream",
     "text": [
      "Geocoding success 251\n"
     ]
    },
    {
     "name": "stderr",
     "output_type": "stream",
     "text": [
      " 52%|█████▏    | 258/499 [08:07<05:16,  1.31s/it]"
     ]
    },
    {
     "name": "stdout",
     "output_type": "stream",
     "text": [
      "Geocoding success 252\n"
     ]
    },
    {
     "name": "stderr",
     "output_type": "stream",
     "text": [
      " 52%|█████▏    | 259/499 [08:09<05:47,  1.45s/it]"
     ]
    },
    {
     "name": "stdout",
     "output_type": "stream",
     "text": [
      "Geocoding success 253\n"
     ]
    },
    {
     "name": "stderr",
     "output_type": "stream",
     "text": [
      " 52%|█████▏    | 260/499 [08:13<08:48,  2.21s/it]"
     ]
    },
    {
     "name": "stdout",
     "output_type": "stream",
     "text": [
      "Geocoding success 254\n"
     ]
    },
    {
     "name": "stderr",
     "output_type": "stream",
     "text": [
      " 52%|█████▏    | 261/499 [08:15<08:34,  2.16s/it]"
     ]
    },
    {
     "name": "stdout",
     "output_type": "stream",
     "text": [
      "Geocoding success 255\n",
      "Geocoding success 256\n"
     ]
    },
    {
     "name": "stderr",
     "output_type": "stream",
     "text": [
      " 53%|█████▎    | 263/499 [08:18<06:47,  1.73s/it]"
     ]
    },
    {
     "name": "stdout",
     "output_type": "stream",
     "text": [
      "Geocoding success 257\n"
     ]
    },
    {
     "name": "stderr",
     "output_type": "stream",
     "text": [
      " 53%|█████▎    | 264/499 [08:19<06:25,  1.64s/it]"
     ]
    },
    {
     "name": "stdout",
     "output_type": "stream",
     "text": [
      "Geocoding success 258\n"
     ]
    },
    {
     "name": "stderr",
     "output_type": "stream",
     "text": [
      " 53%|█████▎    | 265/499 [08:21<06:54,  1.77s/it]"
     ]
    },
    {
     "name": "stdout",
     "output_type": "stream",
     "text": [
      "Geocoding success 259\n"
     ]
    },
    {
     "name": "stderr",
     "output_type": "stream",
     "text": [
      " 53%|█████▎    | 266/499 [08:23<07:03,  1.82s/it]"
     ]
    },
    {
     "name": "stdout",
     "output_type": "stream",
     "text": [
      "Geocoding success 260\n"
     ]
    },
    {
     "name": "stderr",
     "output_type": "stream",
     "text": [
      " 54%|█████▎    | 267/499 [08:25<07:14,  1.87s/it]"
     ]
    },
    {
     "name": "stdout",
     "output_type": "stream",
     "text": [
      "Geocoding success 261\n"
     ]
    },
    {
     "name": "stderr",
     "output_type": "stream",
     "text": [
      " 54%|█████▎    | 268/499 [08:27<07:20,  1.91s/it]"
     ]
    },
    {
     "name": "stdout",
     "output_type": "stream",
     "text": [
      "Geocoding success 262\n"
     ]
    },
    {
     "name": "stderr",
     "output_type": "stream",
     "text": [
      " 54%|█████▍    | 269/499 [08:31<09:42,  2.53s/it]"
     ]
    },
    {
     "name": "stdout",
     "output_type": "stream",
     "text": [
      "Geocoding success 263\n"
     ]
    },
    {
     "name": "stderr",
     "output_type": "stream",
     "text": [
      " 54%|█████▍    | 270/499 [08:33<09:12,  2.41s/it]"
     ]
    },
    {
     "name": "stdout",
     "output_type": "stream",
     "text": [
      "Geocoding success 264\n"
     ]
    },
    {
     "name": "stderr",
     "output_type": "stream",
     "text": [
      " 54%|█████▍    | 271/499 [08:35<08:45,  2.31s/it]"
     ]
    },
    {
     "name": "stdout",
     "output_type": "stream",
     "text": [
      "Geocoding success 265\n"
     ]
    },
    {
     "name": "stderr",
     "output_type": "stream",
     "text": [
      " 55%|█████▍    | 272/499 [08:37<08:27,  2.24s/it]"
     ]
    },
    {
     "name": "stdout",
     "output_type": "stream",
     "text": [
      "Geocoding success 266\n"
     ]
    },
    {
     "name": "stderr",
     "output_type": "stream",
     "text": [
      " 55%|█████▍    | 273/499 [08:40<09:22,  2.49s/it]"
     ]
    },
    {
     "name": "stdout",
     "output_type": "stream",
     "text": [
      "Geocoding success 267\n"
     ]
    },
    {
     "name": "stderr",
     "output_type": "stream",
     "text": [
      " 55%|█████▍    | 274/499 [08:41<07:26,  1.98s/it]"
     ]
    },
    {
     "name": "stdout",
     "output_type": "stream",
     "text": [
      "Geocoding success 268\n"
     ]
    },
    {
     "name": "stderr",
     "output_type": "stream",
     "text": [
      " 55%|█████▌    | 275/499 [08:43<07:24,  1.99s/it]"
     ]
    },
    {
     "name": "stdout",
     "output_type": "stream",
     "text": [
      "Geocoding success 269\n"
     ]
    },
    {
     "name": "stderr",
     "output_type": "stream",
     "text": [
      " 55%|█████▌    | 276/499 [08:45<07:24,  1.99s/it]"
     ]
    },
    {
     "name": "stdout",
     "output_type": "stream",
     "text": [
      "Geocoding success 270\n"
     ]
    },
    {
     "name": "stderr",
     "output_type": "stream",
     "text": [
      " 56%|█████▌    | 278/499 [08:48<06:02,  1.64s/it]"
     ]
    },
    {
     "name": "stdout",
     "output_type": "stream",
     "text": [
      "Geocoding success 271\n",
      "Geocoding success 272\n"
     ]
    },
    {
     "name": "stderr",
     "output_type": "stream",
     "text": [
      " 56%|█████▌    | 280/499 [08:50<05:00,  1.37s/it]"
     ]
    },
    {
     "name": "stdout",
     "output_type": "stream",
     "text": [
      "Geocoding success 273\n"
     ]
    },
    {
     "name": "stderr",
     "output_type": "stream",
     "text": [
      " 56%|█████▋    | 281/499 [08:51<04:33,  1.25s/it]"
     ]
    },
    {
     "name": "stdout",
     "output_type": "stream",
     "text": [
      "Geocoding success 274\n"
     ]
    },
    {
     "name": "stderr",
     "output_type": "stream",
     "text": [
      " 57%|█████▋    | 282/499 [08:54<06:10,  1.71s/it]"
     ]
    },
    {
     "name": "stdout",
     "output_type": "stream",
     "text": [
      "Geocoding success 275\n"
     ]
    },
    {
     "name": "stderr",
     "output_type": "stream",
     "text": [
      " 57%|█████▋    | 283/499 [08:55<05:23,  1.50s/it]"
     ]
    },
    {
     "name": "stdout",
     "output_type": "stream",
     "text": [
      "Geocoding success 276\n",
      "Geocoding success 277\n"
     ]
    },
    {
     "name": "stderr",
     "output_type": "stream",
     "text": [
      " 57%|█████▋    | 285/499 [08:57<04:23,  1.23s/it]"
     ]
    },
    {
     "name": "stdout",
     "output_type": "stream",
     "text": [
      "Geocoding success 278\n"
     ]
    },
    {
     "name": "stderr",
     "output_type": "stream",
     "text": [
      " 57%|█████▋    | 286/499 [08:58<04:05,  1.15s/it]"
     ]
    },
    {
     "name": "stdout",
     "output_type": "stream",
     "text": [
      "Geocoding success 279\n",
      "Geocoding success 280\n"
     ]
    },
    {
     "name": "stderr",
     "output_type": "stream",
     "text": [
      " 58%|█████▊    | 288/499 [09:04<07:51,  2.24s/it]"
     ]
    },
    {
     "name": "stdout",
     "output_type": "stream",
     "text": [
      "Geocoding success 281\n"
     ]
    },
    {
     "name": "stderr",
     "output_type": "stream",
     "text": [
      " 58%|█████▊    | 289/499 [09:05<06:30,  1.86s/it]"
     ]
    },
    {
     "name": "stdout",
     "output_type": "stream",
     "text": [
      "Geocoding success 282\n"
     ]
    },
    {
     "name": "stderr",
     "output_type": "stream",
     "text": [
      " 58%|█████▊    | 290/499 [09:06<05:34,  1.60s/it]"
     ]
    },
    {
     "name": "stdout",
     "output_type": "stream",
     "text": [
      "Geocoding success 283\n"
     ]
    },
    {
     "name": "stderr",
     "output_type": "stream",
     "text": [
      " 58%|█████▊    | 291/499 [09:07<05:05,  1.47s/it]"
     ]
    },
    {
     "name": "stdout",
     "output_type": "stream",
     "text": [
      "Geocoding success 284\n"
     ]
    },
    {
     "name": "stderr",
     "output_type": "stream",
     "text": [
      " 59%|█████▊    | 292/499 [09:08<04:36,  1.33s/it]"
     ]
    },
    {
     "name": "stdout",
     "output_type": "stream",
     "text": [
      "Geocoding success 285\n"
     ]
    },
    {
     "name": "stderr",
     "output_type": "stream",
     "text": [
      " 59%|█████▊    | 293/499 [09:12<07:09,  2.09s/it]"
     ]
    },
    {
     "name": "stdout",
     "output_type": "stream",
     "text": [
      "Geocoding success 286\n"
     ]
    },
    {
     "name": "stderr",
     "output_type": "stream",
     "text": [
      " 59%|█████▉    | 294/499 [09:14<07:00,  2.05s/it]"
     ]
    },
    {
     "name": "stdout",
     "output_type": "stream",
     "text": [
      "Geocoding success 287\n"
     ]
    },
    {
     "name": "stderr",
     "output_type": "stream",
     "text": [
      " 59%|█████▉    | 295/499 [09:15<05:54,  1.74s/it]"
     ]
    },
    {
     "name": "stdout",
     "output_type": "stream",
     "text": [
      "Geocoding success 288\n"
     ]
    },
    {
     "name": "stderr",
     "output_type": "stream",
     "text": [
      " 59%|█████▉    | 296/499 [09:16<05:18,  1.57s/it]"
     ]
    },
    {
     "name": "stdout",
     "output_type": "stream",
     "text": [
      "Geocoding success 289\n"
     ]
    },
    {
     "name": "stderr",
     "output_type": "stream",
     "text": [
      " 60%|█████▉    | 297/499 [09:18<05:32,  1.65s/it]"
     ]
    },
    {
     "name": "stdout",
     "output_type": "stream",
     "text": [
      "Geocoding success 290\n"
     ]
    },
    {
     "name": "stderr",
     "output_type": "stream",
     "text": [
      " 60%|█████▉    | 298/499 [09:22<07:57,  2.38s/it]"
     ]
    },
    {
     "name": "stdout",
     "output_type": "stream",
     "text": [
      "Geocoding success 291\n"
     ]
    },
    {
     "name": "stderr",
     "output_type": "stream",
     "text": [
      " 60%|█████▉    | 299/499 [09:23<06:29,  1.95s/it]"
     ]
    },
    {
     "name": "stdout",
     "output_type": "stream",
     "text": [
      "Geocoding success 292\n"
     ]
    },
    {
     "name": "stderr",
     "output_type": "stream",
     "text": [
      " 60%|██████    | 300/499 [09:24<05:37,  1.70s/it]"
     ]
    },
    {
     "name": "stdout",
     "output_type": "stream",
     "text": [
      "Geocoding success 293\n"
     ]
    },
    {
     "name": "stderr",
     "output_type": "stream",
     "text": [
      " 60%|██████    | 301/499 [09:25<04:46,  1.45s/it]"
     ]
    },
    {
     "name": "stdout",
     "output_type": "stream",
     "text": [
      "Geocoding success 294\n"
     ]
    },
    {
     "name": "stderr",
     "output_type": "stream",
     "text": [
      " 61%|██████    | 302/499 [09:26<04:18,  1.31s/it]"
     ]
    },
    {
     "name": "stdout",
     "output_type": "stream",
     "text": [
      "Geocoding success 295\n"
     ]
    },
    {
     "name": "stderr",
     "output_type": "stream",
     "text": [
      " 61%|██████    | 303/499 [09:32<08:58,  2.75s/it]"
     ]
    },
    {
     "name": "stdout",
     "output_type": "stream",
     "text": [
      "Geocoding success 296\n"
     ]
    },
    {
     "name": "stderr",
     "output_type": "stream",
     "text": [
      " 61%|██████    | 304/499 [09:33<07:29,  2.30s/it]"
     ]
    },
    {
     "name": "stdout",
     "output_type": "stream",
     "text": [
      "Geocoding success 297\n"
     ]
    },
    {
     "name": "stderr",
     "output_type": "stream",
     "text": [
      " 61%|██████    | 305/499 [09:34<06:05,  1.89s/it]"
     ]
    },
    {
     "name": "stdout",
     "output_type": "stream",
     "text": [
      "Geocoding success 298\n"
     ]
    },
    {
     "name": "stderr",
     "output_type": "stream",
     "text": [
      " 61%|██████▏   | 306/499 [09:35<05:09,  1.60s/it]"
     ]
    },
    {
     "name": "stdout",
     "output_type": "stream",
     "text": [
      "Geocoding success 299\n"
     ]
    },
    {
     "name": "stderr",
     "output_type": "stream",
     "text": [
      " 62%|██████▏   | 307/499 [09:36<04:20,  1.36s/it]"
     ]
    },
    {
     "name": "stdout",
     "output_type": "stream",
     "text": [
      "Geocoding success 300\n"
     ]
    },
    {
     "name": "stderr",
     "output_type": "stream",
     "text": [
      " 62%|██████▏   | 308/499 [09:38<04:56,  1.55s/it]"
     ]
    },
    {
     "name": "stdout",
     "output_type": "stream",
     "text": [
      "Geocoding success 301\n"
     ]
    },
    {
     "name": "stderr",
     "output_type": "stream",
     "text": [
      " 62%|██████▏   | 309/499 [09:42<07:13,  2.28s/it]"
     ]
    },
    {
     "name": "stdout",
     "output_type": "stream",
     "text": [
      "Geocoding success 302\n"
     ]
    },
    {
     "name": "stderr",
     "output_type": "stream",
     "text": [
      " 62%|██████▏   | 310/499 [09:43<06:00,  1.91s/it]"
     ]
    },
    {
     "name": "stdout",
     "output_type": "stream",
     "text": [
      "Geocoding success 303\n"
     ]
    },
    {
     "name": "stderr",
     "output_type": "stream",
     "text": [
      " 62%|██████▏   | 311/499 [09:44<05:24,  1.72s/it]"
     ]
    },
    {
     "name": "stdout",
     "output_type": "stream",
     "text": [
      "Geocoding success 304\n"
     ]
    },
    {
     "name": "stderr",
     "output_type": "stream",
     "text": [
      " 63%|██████▎   | 312/499 [09:45<04:25,  1.42s/it]"
     ]
    },
    {
     "name": "stdout",
     "output_type": "stream",
     "text": [
      "Geocoding success 305\n"
     ]
    },
    {
     "name": "stderr",
     "output_type": "stream",
     "text": [
      " 63%|██████▎   | 313/499 [09:46<03:59,  1.29s/it]"
     ]
    },
    {
     "name": "stdout",
     "output_type": "stream",
     "text": [
      "Geocoding success 306\n"
     ]
    },
    {
     "name": "stderr",
     "output_type": "stream",
     "text": [
      " 63%|██████▎   | 314/499 [09:48<04:40,  1.52s/it]"
     ]
    },
    {
     "name": "stdout",
     "output_type": "stream",
     "text": [
      "Geocoding success 307\n"
     ]
    },
    {
     "name": "stderr",
     "output_type": "stream",
     "text": [
      " 63%|██████▎   | 315/499 [09:52<06:52,  2.24s/it]"
     ]
    },
    {
     "name": "stdout",
     "output_type": "stream",
     "text": [
      "Geocoding success 308\n"
     ]
    },
    {
     "name": "stderr",
     "output_type": "stream",
     "text": [
      " 63%|██████▎   | 316/499 [09:54<06:36,  2.17s/it]"
     ]
    },
    {
     "name": "stdout",
     "output_type": "stream",
     "text": [
      "Geocoding success 309\n"
     ]
    },
    {
     "name": "stderr",
     "output_type": "stream",
     "text": [
      " 64%|██████▎   | 317/499 [09:55<05:30,  1.82s/it]"
     ]
    },
    {
     "name": "stdout",
     "output_type": "stream",
     "text": [
      "Geocoding success 310\n"
     ]
    },
    {
     "name": "stderr",
     "output_type": "stream",
     "text": [
      " 64%|██████▎   | 318/499 [09:56<04:46,  1.58s/it]"
     ]
    },
    {
     "name": "stdout",
     "output_type": "stream",
     "text": [
      "Geocoding success 311\n"
     ]
    },
    {
     "name": "stderr",
     "output_type": "stream",
     "text": [
      " 64%|██████▍   | 319/499 [09:58<05:06,  1.70s/it]"
     ]
    },
    {
     "name": "stdout",
     "output_type": "stream",
     "text": [
      "Geocoding success 312\n"
     ]
    },
    {
     "name": "stderr",
     "output_type": "stream",
     "text": [
      " 64%|██████▍   | 320/499 [10:01<06:14,  2.09s/it]"
     ]
    },
    {
     "name": "stdout",
     "output_type": "stream",
     "text": [
      "Geocoding success 313\n"
     ]
    },
    {
     "name": "stderr",
     "output_type": "stream",
     "text": [
      " 64%|██████▍   | 321/499 [10:03<06:09,  2.08s/it]"
     ]
    },
    {
     "name": "stdout",
     "output_type": "stream",
     "text": [
      "Geocoding success 314\n"
     ]
    },
    {
     "name": "stderr",
     "output_type": "stream",
     "text": [
      " 65%|██████▍   | 322/499 [10:04<05:10,  1.76s/it]"
     ]
    },
    {
     "name": "stdout",
     "output_type": "stream",
     "text": [
      "Geocoding success 315\n"
     ]
    },
    {
     "name": "stderr",
     "output_type": "stream",
     "text": [
      " 65%|██████▍   | 323/499 [10:05<04:26,  1.52s/it]"
     ]
    },
    {
     "name": "stdout",
     "output_type": "stream",
     "text": [
      "Geocoding success 316\n"
     ]
    },
    {
     "name": "stderr",
     "output_type": "stream",
     "text": [
      " 65%|██████▍   | 324/499 [10:06<04:00,  1.37s/it]"
     ]
    },
    {
     "name": "stdout",
     "output_type": "stream",
     "text": [
      "Geocoding success 317\n"
     ]
    },
    {
     "name": "stderr",
     "output_type": "stream",
     "text": [
      " 65%|██████▌   | 325/499 [10:07<03:38,  1.26s/it]"
     ]
    },
    {
     "name": "stdout",
     "output_type": "stream",
     "text": [
      "Geocoding success 318\n",
      "Geocoding success 319\n"
     ]
    },
    {
     "name": "stderr",
     "output_type": "stream",
     "text": [
      " 65%|██████▌   | 326/499 [10:08<03:29,  1.21s/it]"
     ]
    },
    {
     "name": "stdout",
     "output_type": "stream",
     "text": [
      "Geocoding success 320\n"
     ]
    },
    {
     "name": "stderr",
     "output_type": "stream",
     "text": [
      " 66%|██████▌   | 328/499 [10:14<06:28,  2.27s/it]"
     ]
    },
    {
     "name": "stdout",
     "output_type": "stream",
     "text": [
      "Geocoding success 321\n"
     ]
    },
    {
     "name": "stderr",
     "output_type": "stream",
     "text": [
      " 66%|██████▌   | 329/499 [10:16<06:26,  2.28s/it]"
     ]
    },
    {
     "name": "stdout",
     "output_type": "stream",
     "text": [
      "Geocoding success 322\n",
      "Geocoding success 323\n"
     ]
    },
    {
     "name": "stderr",
     "output_type": "stream",
     "text": [
      " 66%|██████▋   | 331/499 [10:18<04:28,  1.60s/it]"
     ]
    },
    {
     "name": "stdout",
     "output_type": "stream",
     "text": [
      "Geocoding success 324\n"
     ]
    },
    {
     "name": "stderr",
     "output_type": "stream",
     "text": [
      " 67%|██████▋   | 332/499 [10:24<07:59,  2.87s/it]"
     ]
    },
    {
     "name": "stdout",
     "output_type": "stream",
     "text": [
      "Geocoding success 325\n"
     ]
    },
    {
     "name": "stderr",
     "output_type": "stream",
     "text": [
      " 67%|██████▋   | 333/499 [10:25<06:27,  2.33s/it]"
     ]
    },
    {
     "name": "stdout",
     "output_type": "stream",
     "text": [
      "Geocoding success 326\n"
     ]
    },
    {
     "name": "stderr",
     "output_type": "stream",
     "text": [
      " 67%|██████▋   | 334/499 [10:26<05:11,  1.89s/it]"
     ]
    },
    {
     "name": "stdout",
     "output_type": "stream",
     "text": [
      "Geocoding success 327\n"
     ]
    },
    {
     "name": "stderr",
     "output_type": "stream",
     "text": [
      " 67%|██████▋   | 335/499 [10:27<04:30,  1.65s/it]"
     ]
    },
    {
     "name": "stdout",
     "output_type": "stream",
     "text": [
      "Geocoding success 328\n"
     ]
    },
    {
     "name": "stderr",
     "output_type": "stream",
     "text": [
      " 67%|██████▋   | 336/499 [10:28<03:53,  1.44s/it]"
     ]
    },
    {
     "name": "stdout",
     "output_type": "stream",
     "text": [
      "Geocoding success 329\n"
     ]
    },
    {
     "name": "stderr",
     "output_type": "stream",
     "text": [
      " 68%|██████▊   | 337/499 [10:30<04:19,  1.60s/it]"
     ]
    },
    {
     "name": "stdout",
     "output_type": "stream",
     "text": [
      "Geocoding success 330\n",
      "Geocoding success 331\n"
     ]
    },
    {
     "name": "stderr",
     "output_type": "stream",
     "text": [
      " 68%|██████▊   | 339/499 [10:36<06:01,  2.26s/it]"
     ]
    },
    {
     "name": "stdout",
     "output_type": "stream",
     "text": [
      "Geocoding success 332\n"
     ]
    },
    {
     "name": "stderr",
     "output_type": "stream",
     "text": [
      " 68%|██████▊   | 340/499 [10:37<04:57,  1.87s/it]"
     ]
    },
    {
     "name": "stdout",
     "output_type": "stream",
     "text": [
      "Geocoding success 333\n"
     ]
    },
    {
     "name": "stderr",
     "output_type": "stream",
     "text": [
      " 68%|██████▊   | 341/499 [10:38<04:20,  1.65s/it]"
     ]
    },
    {
     "name": "stdout",
     "output_type": "stream",
     "text": [
      "Geocoding success 334\n",
      "Geocoding success 335\n"
     ]
    },
    {
     "name": "stderr",
     "output_type": "stream",
     "text": [
      " 69%|██████▊   | 343/499 [10:42<04:43,  1.82s/it]"
     ]
    },
    {
     "name": "stdout",
     "output_type": "stream",
     "text": [
      "Geocoding success 336\n"
     ]
    },
    {
     "name": "stderr",
     "output_type": "stream",
     "text": [
      " 69%|██████▉   | 344/499 [10:44<04:38,  1.80s/it]"
     ]
    },
    {
     "name": "stdout",
     "output_type": "stream",
     "text": [
      "Geocoding success 337\n",
      "Geocoding success 338\n"
     ]
    },
    {
     "name": "stderr",
     "output_type": "stream",
     "text": [
      " 69%|██████▉   | 346/499 [10:47<04:13,  1.66s/it]"
     ]
    },
    {
     "name": "stdout",
     "output_type": "stream",
     "text": [
      "Geocoding success 339\n"
     ]
    },
    {
     "name": "stderr",
     "output_type": "stream",
     "text": [
      " 70%|██████▉   | 347/499 [10:48<03:48,  1.50s/it]"
     ]
    },
    {
     "name": "stdout",
     "output_type": "stream",
     "text": [
      "Geocoding success 340\n"
     ]
    },
    {
     "name": "stderr",
     "output_type": "stream",
     "text": [
      " 70%|██████▉   | 348/499 [10:50<03:56,  1.57s/it]"
     ]
    },
    {
     "name": "stdout",
     "output_type": "stream",
     "text": [
      "Geocoding success 341\n"
     ]
    },
    {
     "name": "stderr",
     "output_type": "stream",
     "text": [
      " 70%|██████▉   | 349/499 [10:52<04:12,  1.69s/it]"
     ]
    },
    {
     "name": "stdout",
     "output_type": "stream",
     "text": [
      "Geocoding success 342\n"
     ]
    },
    {
     "name": "stderr",
     "output_type": "stream",
     "text": [
      " 70%|███████   | 350/499 [10:56<05:54,  2.38s/it]"
     ]
    },
    {
     "name": "stdout",
     "output_type": "stream",
     "text": [
      "Geocoding success 343\n"
     ]
    },
    {
     "name": "stderr",
     "output_type": "stream",
     "text": [
      " 70%|███████   | 351/499 [10:58<05:45,  2.34s/it]"
     ]
    },
    {
     "name": "stdout",
     "output_type": "stream",
     "text": [
      "Geocoding success 344\n"
     ]
    },
    {
     "name": "stderr",
     "output_type": "stream",
     "text": [
      " 71%|███████   | 352/499 [10:59<04:34,  1.87s/it]"
     ]
    },
    {
     "name": "stdout",
     "output_type": "stream",
     "text": [
      "Geocoding success 345\n"
     ]
    },
    {
     "name": "stderr",
     "output_type": "stream",
     "text": [
      " 71%|███████   | 353/499 [11:00<03:54,  1.61s/it]"
     ]
    },
    {
     "name": "stdout",
     "output_type": "stream",
     "text": [
      "Geocoding success 346\n"
     ]
    },
    {
     "name": "stderr",
     "output_type": "stream",
     "text": [
      " 71%|███████   | 354/499 [11:05<06:22,  2.64s/it]"
     ]
    },
    {
     "name": "stdout",
     "output_type": "stream",
     "text": [
      "Geocoding success 347\n"
     ]
    },
    {
     "name": "stderr",
     "output_type": "stream",
     "text": [
      " 71%|███████   | 355/499 [11:06<05:04,  2.11s/it]"
     ]
    },
    {
     "name": "stdout",
     "output_type": "stream",
     "text": [
      "Geocoding success 348\n"
     ]
    },
    {
     "name": "stderr",
     "output_type": "stream",
     "text": [
      " 71%|███████▏  | 356/499 [11:07<04:15,  1.78s/it]"
     ]
    },
    {
     "name": "stdout",
     "output_type": "stream",
     "text": [
      "Geocoding success 349\n",
      "Geocoding success 350\n"
     ]
    },
    {
     "name": "stderr",
     "output_type": "stream",
     "text": [
      " 72%|███████▏  | 357/499 [11:09<04:32,  1.92s/it]"
     ]
    },
    {
     "name": "stdout",
     "output_type": "stream",
     "text": [
      "Geocoding success 351\n"
     ]
    },
    {
     "name": "stderr",
     "output_type": "stream",
     "text": [
      " 72%|███████▏  | 359/499 [11:15<05:26,  2.33s/it]"
     ]
    },
    {
     "name": "stdout",
     "output_type": "stream",
     "text": [
      "Geocoding success 352\n"
     ]
    },
    {
     "name": "stderr",
     "output_type": "stream",
     "text": [
      " 72%|███████▏  | 360/499 [11:16<04:28,  1.93s/it]"
     ]
    },
    {
     "name": "stdout",
     "output_type": "stream",
     "text": [
      "Geocoding success 353\n"
     ]
    },
    {
     "name": "stderr",
     "output_type": "stream",
     "text": [
      " 72%|███████▏  | 361/499 [11:17<03:47,  1.65s/it]"
     ]
    },
    {
     "name": "stdout",
     "output_type": "stream",
     "text": [
      "Geocoding success 354\n"
     ]
    },
    {
     "name": "stderr",
     "output_type": "stream",
     "text": [
      " 73%|███████▎  | 362/499 [11:20<04:41,  2.05s/it]"
     ]
    },
    {
     "name": "stdout",
     "output_type": "stream",
     "text": [
      "Geocoding success 355\n"
     ]
    },
    {
     "name": "stderr",
     "output_type": "stream",
     "text": [
      " 73%|███████▎  | 363/499 [11:23<05:15,  2.32s/it]"
     ]
    },
    {
     "name": "stdout",
     "output_type": "stream",
     "text": [
      "Geocoding success 356\n"
     ]
    },
    {
     "name": "stderr",
     "output_type": "stream",
     "text": [
      " 73%|███████▎  | 364/499 [11:24<04:22,  1.95s/it]"
     ]
    },
    {
     "name": "stdout",
     "output_type": "stream",
     "text": [
      "Geocoding success 357\n"
     ]
    },
    {
     "name": "stderr",
     "output_type": "stream",
     "text": [
      " 73%|███████▎  | 365/499 [11:26<04:18,  1.93s/it]"
     ]
    },
    {
     "name": "stdout",
     "output_type": "stream",
     "text": [
      "Geocoding success 358\n"
     ]
    },
    {
     "name": "stderr",
     "output_type": "stream",
     "text": [
      " 73%|███████▎  | 366/499 [11:27<03:40,  1.66s/it]"
     ]
    },
    {
     "name": "stdout",
     "output_type": "stream",
     "text": [
      "Geocoding success 359\n"
     ]
    },
    {
     "name": "stderr",
     "output_type": "stream",
     "text": [
      " 74%|███████▎  | 367/499 [11:30<04:30,  2.05s/it]"
     ]
    },
    {
     "name": "stdout",
     "output_type": "stream",
     "text": [
      "Geocoding success 360\n"
     ]
    },
    {
     "name": "stderr",
     "output_type": "stream",
     "text": [
      " 74%|███████▎  | 368/499 [11:32<04:28,  2.05s/it]"
     ]
    },
    {
     "name": "stdout",
     "output_type": "stream",
     "text": [
      "Geocoding success 361\n"
     ]
    },
    {
     "name": "stderr",
     "output_type": "stream",
     "text": [
      " 74%|███████▍  | 369/499 [11:33<03:45,  1.74s/it]"
     ]
    },
    {
     "name": "stdout",
     "output_type": "stream",
     "text": [
      "Geocoding success 362\n"
     ]
    },
    {
     "name": "stderr",
     "output_type": "stream",
     "text": [
      " 74%|███████▍  | 370/499 [11:34<03:23,  1.58s/it]"
     ]
    },
    {
     "name": "stdout",
     "output_type": "stream",
     "text": [
      "Geocoding success 363\n"
     ]
    },
    {
     "name": "stderr",
     "output_type": "stream",
     "text": [
      " 74%|███████▍  | 371/499 [11:36<03:29,  1.64s/it]"
     ]
    },
    {
     "name": "stdout",
     "output_type": "stream",
     "text": [
      "Geocoding success 364\n"
     ]
    },
    {
     "name": "stderr",
     "output_type": "stream",
     "text": [
      " 75%|███████▍  | 372/499 [11:39<04:20,  2.05s/it]"
     ]
    },
    {
     "name": "stdout",
     "output_type": "stream",
     "text": [
      "Geocoding success 365\n"
     ]
    },
    {
     "name": "stderr",
     "output_type": "stream",
     "text": [
      " 75%|███████▍  | 373/499 [11:40<03:38,  1.73s/it]"
     ]
    },
    {
     "name": "stdout",
     "output_type": "stream",
     "text": [
      "Geocoding success 366\n"
     ]
    },
    {
     "name": "stderr",
     "output_type": "stream",
     "text": [
      " 75%|███████▍  | 374/499 [11:42<03:48,  1.83s/it]"
     ]
    },
    {
     "name": "stdout",
     "output_type": "stream",
     "text": [
      "Geocoding success 367\n"
     ]
    },
    {
     "name": "stderr",
     "output_type": "stream",
     "text": [
      " 75%|███████▌  | 375/499 [11:43<03:14,  1.57s/it]"
     ]
    },
    {
     "name": "stdout",
     "output_type": "stream",
     "text": [
      "Geocoding success 368\n"
     ]
    },
    {
     "name": "stderr",
     "output_type": "stream",
     "text": [
      " 75%|███████▌  | 376/499 [11:46<04:07,  2.01s/it]"
     ]
    },
    {
     "name": "stdout",
     "output_type": "stream",
     "text": [
      "Geocoding success 369\n"
     ]
    },
    {
     "name": "stderr",
     "output_type": "stream",
     "text": [
      " 76%|███████▌  | 377/499 [11:49<04:43,  2.32s/it]"
     ]
    },
    {
     "name": "stdout",
     "output_type": "stream",
     "text": [
      "Geocoding success 370\n"
     ]
    },
    {
     "name": "stderr",
     "output_type": "stream",
     "text": [
      " 76%|███████▌  | 378/499 [11:50<04:01,  1.99s/it]"
     ]
    },
    {
     "name": "stdout",
     "output_type": "stream",
     "text": [
      "Geocoding success 371\n"
     ]
    },
    {
     "name": "stderr",
     "output_type": "stream",
     "text": [
      " 76%|███████▌  | 379/499 [11:52<03:52,  1.94s/it]"
     ]
    },
    {
     "name": "stdout",
     "output_type": "stream",
     "text": [
      "Geocoding success 372\n"
     ]
    },
    {
     "name": "stderr",
     "output_type": "stream",
     "text": [
      " 76%|███████▌  | 380/499 [11:53<03:13,  1.62s/it]"
     ]
    },
    {
     "name": "stdout",
     "output_type": "stream",
     "text": [
      "Geocoding success 373\n"
     ]
    },
    {
     "name": "stderr",
     "output_type": "stream",
     "text": [
      " 76%|███████▋  | 381/499 [11:56<04:01,  2.04s/it]"
     ]
    },
    {
     "name": "stdout",
     "output_type": "stream",
     "text": [
      "Geocoding success 374\n"
     ]
    },
    {
     "name": "stderr",
     "output_type": "stream",
     "text": [
      " 77%|███████▋  | 382/499 [11:59<04:34,  2.35s/it]"
     ]
    },
    {
     "name": "stdout",
     "output_type": "stream",
     "text": [
      "Geocoding success 375\n",
      "Geocoding success 376\n"
     ]
    },
    {
     "name": "stderr",
     "output_type": "stream",
     "text": [
      " 77%|███████▋  | 384/499 [12:02<03:44,  1.95s/it]"
     ]
    },
    {
     "name": "stdout",
     "output_type": "stream",
     "text": [
      "Geocoding success 377\n",
      "Geocoding success 378\n"
     ]
    },
    {
     "name": "stderr",
     "output_type": "stream",
     "text": [
      " 77%|███████▋  | 385/499 [12:03<03:09,  1.66s/it]"
     ]
    },
    {
     "name": "stdout",
     "output_type": "stream",
     "text": [
      "Geocoding success 379\n"
     ]
    },
    {
     "name": "stderr",
     "output_type": "stream",
     "text": [
      " 78%|███████▊  | 387/499 [12:09<04:23,  2.36s/it]"
     ]
    },
    {
     "name": "stdout",
     "output_type": "stream",
     "text": [
      "Geocoding success 380\n"
     ]
    },
    {
     "name": "stderr",
     "output_type": "stream",
     "text": [
      " 78%|███████▊  | 388/499 [12:10<03:34,  1.93s/it]"
     ]
    },
    {
     "name": "stdout",
     "output_type": "stream",
     "text": [
      "Geocoding success 381\n"
     ]
    },
    {
     "name": "stderr",
     "output_type": "stream",
     "text": [
      " 78%|███████▊  | 389/499 [12:12<03:40,  2.00s/it]"
     ]
    },
    {
     "name": "stdout",
     "output_type": "stream",
     "text": [
      "Geocoding success 382\n"
     ]
    },
    {
     "name": "stderr",
     "output_type": "stream",
     "text": [
      " 78%|███████▊  | 390/499 [12:13<02:56,  1.62s/it]"
     ]
    },
    {
     "name": "stdout",
     "output_type": "stream",
     "text": [
      "Geocoding success 383\n"
     ]
    },
    {
     "name": "stderr",
     "output_type": "stream",
     "text": [
      " 78%|███████▊  | 391/499 [12:16<03:38,  2.02s/it]"
     ]
    },
    {
     "name": "stdout",
     "output_type": "stream",
     "text": [
      "Geocoding success 384\n"
     ]
    },
    {
     "name": "stderr",
     "output_type": "stream",
     "text": [
      " 79%|███████▊  | 392/499 [12:19<04:10,  2.34s/it]"
     ]
    },
    {
     "name": "stdout",
     "output_type": "stream",
     "text": [
      "Geocoding success 385\n"
     ]
    },
    {
     "name": "stderr",
     "output_type": "stream",
     "text": [
      " 79%|███████▉  | 393/499 [12:20<03:24,  1.92s/it]"
     ]
    },
    {
     "name": "stdout",
     "output_type": "stream",
     "text": [
      "Geocoding success 386\n"
     ]
    },
    {
     "name": "stderr",
     "output_type": "stream",
     "text": [
      " 79%|███████▉  | 394/499 [12:23<03:38,  2.08s/it]"
     ]
    },
    {
     "name": "stdout",
     "output_type": "stream",
     "text": [
      "Geocoding success 387\n"
     ]
    },
    {
     "name": "stderr",
     "output_type": "stream",
     "text": [
      " 79%|███████▉  | 395/499 [12:23<03:01,  1.75s/it]"
     ]
    },
    {
     "name": "stdout",
     "output_type": "stream",
     "text": [
      "Geocoding success 388\n"
     ]
    },
    {
     "name": "stderr",
     "output_type": "stream",
     "text": [
      " 79%|███████▉  | 396/499 [12:26<03:26,  2.00s/it]"
     ]
    },
    {
     "name": "stdout",
     "output_type": "stream",
     "text": [
      "Geocoding success 389\n"
     ]
    },
    {
     "name": "stderr",
     "output_type": "stream",
     "text": [
      " 80%|███████▉  | 397/499 [12:29<04:00,  2.36s/it]"
     ]
    },
    {
     "name": "stdout",
     "output_type": "stream",
     "text": [
      "Geocoding success 390\n"
     ]
    },
    {
     "name": "stderr",
     "output_type": "stream",
     "text": [
      " 80%|███████▉  | 398/499 [12:30<03:12,  1.91s/it]"
     ]
    },
    {
     "name": "stdout",
     "output_type": "stream",
     "text": [
      "Geocoding success 391\n",
      "Geocoding success 392\n"
     ]
    },
    {
     "name": "stderr",
     "output_type": "stream",
     "text": [
      " 80%|████████  | 400/499 [12:33<02:52,  1.74s/it]"
     ]
    },
    {
     "name": "stdout",
     "output_type": "stream",
     "text": [
      "Geocoding success 393\n",
      "Geocoding success 394\n"
     ]
    },
    {
     "name": "stderr",
     "output_type": "stream",
     "text": [
      " 81%|████████  | 402/499 [12:36<02:31,  1.56s/it]"
     ]
    },
    {
     "name": "stdout",
     "output_type": "stream",
     "text": [
      "Geocoding success 395\n"
     ]
    },
    {
     "name": "stderr",
     "output_type": "stream",
     "text": [
      " 81%|████████  | 403/499 [12:38<02:35,  1.62s/it]"
     ]
    },
    {
     "name": "stdout",
     "output_type": "stream",
     "text": [
      "Geocoding success 396\n"
     ]
    },
    {
     "name": "stderr",
     "output_type": "stream",
     "text": [
      " 81%|████████  | 404/499 [12:40<02:52,  1.82s/it]"
     ]
    },
    {
     "name": "stdout",
     "output_type": "stream",
     "text": [
      "Geocoding success 397\n",
      "Geocoding success 398\n"
     ]
    },
    {
     "name": "stderr",
     "output_type": "stream",
     "text": [
      " 81%|████████▏ | 406/499 [12:42<02:10,  1.40s/it]"
     ]
    },
    {
     "name": "stdout",
     "output_type": "stream",
     "text": [
      "Geocoding success 399\n"
     ]
    },
    {
     "name": "stderr",
     "output_type": "stream",
     "text": [
      " 82%|████████▏ | 407/499 [12:45<02:43,  1.77s/it]"
     ]
    },
    {
     "name": "stdout",
     "output_type": "stream",
     "text": [
      "Geocoding success 400\n"
     ]
    },
    {
     "name": "stderr",
     "output_type": "stream",
     "text": [
      " 82%|████████▏ | 408/499 [12:46<02:23,  1.58s/it]"
     ]
    },
    {
     "name": "stdout",
     "output_type": "stream",
     "text": [
      "Geocoding success 401\n"
     ]
    },
    {
     "name": "stderr",
     "output_type": "stream",
     "text": [
      " 82%|████████▏ | 409/499 [12:48<02:31,  1.68s/it]"
     ]
    },
    {
     "name": "stdout",
     "output_type": "stream",
     "text": [
      "Geocoding success 402\n"
     ]
    },
    {
     "name": "stderr",
     "output_type": "stream",
     "text": [
      " 82%|████████▏ | 410/499 [12:49<02:13,  1.50s/it]"
     ]
    },
    {
     "name": "stdout",
     "output_type": "stream",
     "text": [
      "Geocoding success 403\n"
     ]
    },
    {
     "name": "stderr",
     "output_type": "stream",
     "text": [
      " 82%|████████▏ | 411/499 [12:52<02:47,  1.90s/it]"
     ]
    },
    {
     "name": "stdout",
     "output_type": "stream",
     "text": [
      "Geocoding success 404\n"
     ]
    },
    {
     "name": "stderr",
     "output_type": "stream",
     "text": [
      " 83%|████████▎ | 412/499 [12:53<02:22,  1.64s/it]"
     ]
    },
    {
     "name": "stdout",
     "output_type": "stream",
     "text": [
      "Geocoding success 405\n"
     ]
    },
    {
     "name": "stderr",
     "output_type": "stream",
     "text": [
      " 83%|████████▎ | 413/499 [12:55<02:32,  1.77s/it]"
     ]
    },
    {
     "name": "stdout",
     "output_type": "stream",
     "text": [
      "Geocoding success 406\n"
     ]
    },
    {
     "name": "stderr",
     "output_type": "stream",
     "text": [
      " 83%|████████▎ | 414/499 [12:56<02:10,  1.54s/it]"
     ]
    },
    {
     "name": "stdout",
     "output_type": "stream",
     "text": [
      "Geocoding success 407\n",
      "Geocoding success 408\n"
     ]
    },
    {
     "name": "stderr",
     "output_type": "stream",
     "text": [
      " 83%|████████▎ | 416/499 [13:00<02:18,  1.67s/it]"
     ]
    },
    {
     "name": "stdout",
     "output_type": "stream",
     "text": [
      "Geocoding success 409\n"
     ]
    },
    {
     "name": "stderr",
     "output_type": "stream",
     "text": [
      " 84%|████████▎ | 417/499 [13:02<02:31,  1.85s/it]"
     ]
    },
    {
     "name": "stdout",
     "output_type": "stream",
     "text": [
      "Geocoding success 410\n",
      "Geocoding success 411\n"
     ]
    },
    {
     "name": "stderr",
     "output_type": "stream",
     "text": [
      " 84%|████████▍ | 419/499 [13:06<02:31,  1.90s/it]"
     ]
    },
    {
     "name": "stdout",
     "output_type": "stream",
     "text": [
      "Geocoding success 412\n"
     ]
    },
    {
     "name": "stderr",
     "output_type": "stream",
     "text": [
      " 84%|████████▍ | 420/499 [13:08<02:32,  1.94s/it]"
     ]
    },
    {
     "name": "stdout",
     "output_type": "stream",
     "text": [
      "Geocoding success 413\n",
      "Geocoding success 414\n"
     ]
    },
    {
     "name": "stderr",
     "output_type": "stream",
     "text": [
      " 84%|████████▍ | 421/499 [13:09<02:12,  1.70s/it]"
     ]
    },
    {
     "name": "stdout",
     "output_type": "stream",
     "text": [
      "Geocoding success 415\n"
     ]
    },
    {
     "name": "stderr",
     "output_type": "stream",
     "text": [
      " 85%|████████▍ | 423/499 [13:12<02:01,  1.60s/it]"
     ]
    },
    {
     "name": "stdout",
     "output_type": "stream",
     "text": [
      "Geocoding success 416\n"
     ]
    },
    {
     "name": "stderr",
     "output_type": "stream",
     "text": [
      " 85%|████████▍ | 424/499 [13:13<01:45,  1.41s/it]"
     ]
    },
    {
     "name": "stdout",
     "output_type": "stream",
     "text": [
      "Geocoding success 417\n"
     ]
    },
    {
     "name": "stderr",
     "output_type": "stream",
     "text": [
      " 85%|████████▌ | 425/499 [13:15<01:58,  1.60s/it]"
     ]
    },
    {
     "name": "stdout",
     "output_type": "stream",
     "text": [
      "Geocoding success 418\n"
     ]
    },
    {
     "name": "stderr",
     "output_type": "stream",
     "text": [
      " 85%|████████▌ | 426/499 [13:16<01:43,  1.42s/it]"
     ]
    },
    {
     "name": "stdout",
     "output_type": "stream",
     "text": [
      "Geocoding success 419\n",
      "Geocoding success 420\n"
     ]
    },
    {
     "name": "stderr",
     "output_type": "stream",
     "text": [
      " 86%|████████▌ | 428/499 [13:22<02:37,  2.21s/it]"
     ]
    },
    {
     "name": "stdout",
     "output_type": "stream",
     "text": [
      "Geocoding success 421\n"
     ]
    },
    {
     "name": "stderr",
     "output_type": "stream",
     "text": [
      " 86%|████████▌ | 429/499 [13:23<02:07,  1.83s/it]"
     ]
    },
    {
     "name": "stdout",
     "output_type": "stream",
     "text": [
      "Geocoding success 422\n"
     ]
    },
    {
     "name": "stderr",
     "output_type": "stream",
     "text": [
      " 86%|████████▌ | 430/499 [13:24<01:57,  1.70s/it]"
     ]
    },
    {
     "name": "stdout",
     "output_type": "stream",
     "text": [
      "Geocoding success 423\n"
     ]
    },
    {
     "name": "stderr",
     "output_type": "stream",
     "text": [
      " 86%|████████▋ | 431/499 [13:25<01:38,  1.45s/it]"
     ]
    },
    {
     "name": "stdout",
     "output_type": "stream",
     "text": [
      "Geocoding success 424\n"
     ]
    },
    {
     "name": "stderr",
     "output_type": "stream",
     "text": [
      " 87%|████████▋ | 432/499 [13:26<01:25,  1.28s/it]"
     ]
    },
    {
     "name": "stdout",
     "output_type": "stream",
     "text": [
      "Geocoding success 425\n",
      "Geocoding success 426\n"
     ]
    },
    {
     "name": "stderr",
     "output_type": "stream",
     "text": [
      " 87%|████████▋ | 434/499 [13:33<02:49,  2.62s/it]"
     ]
    },
    {
     "name": "stdout",
     "output_type": "stream",
     "text": [
      "Geocoding success 427\n",
      "Geocoding success 428\n"
     ]
    },
    {
     "name": "stderr",
     "output_type": "stream",
     "text": [
      " 87%|████████▋ | 436/499 [13:35<01:55,  1.84s/it]"
     ]
    },
    {
     "name": "stdout",
     "output_type": "stream",
     "text": [
      "Geocoding success 429\n"
     ]
    },
    {
     "name": "stderr",
     "output_type": "stream",
     "text": [
      " 88%|████████▊ | 437/499 [13:36<01:38,  1.60s/it]"
     ]
    },
    {
     "name": "stdout",
     "output_type": "stream",
     "text": [
      "Geocoding success 430\n"
     ]
    },
    {
     "name": "stderr",
     "output_type": "stream",
     "text": [
      " 88%|████████▊ | 438/499 [13:37<01:19,  1.31s/it]"
     ]
    },
    {
     "name": "stdout",
     "output_type": "stream",
     "text": [
      "Geocoding success 431\n"
     ]
    },
    {
     "name": "stderr",
     "output_type": "stream",
     "text": [
      " 88%|████████▊ | 439/499 [13:41<02:09,  2.15s/it]"
     ]
    },
    {
     "name": "stdout",
     "output_type": "stream",
     "text": [
      "Geocoding success 432\n"
     ]
    },
    {
     "name": "stderr",
     "output_type": "stream",
     "text": [
      " 88%|████████▊ | 440/499 [13:43<02:02,  2.08s/it]"
     ]
    },
    {
     "name": "stdout",
     "output_type": "stream",
     "text": [
      "Geocoding success 433\n"
     ]
    },
    {
     "name": "stderr",
     "output_type": "stream",
     "text": [
      " 88%|████████▊ | 441/499 [13:44<01:43,  1.78s/it]"
     ]
    },
    {
     "name": "stdout",
     "output_type": "stream",
     "text": [
      "Geocoding success 434\n",
      "Geocoding success 435\n"
     ]
    },
    {
     "name": "stderr",
     "output_type": "stream",
     "text": [
      " 89%|████████▉ | 443/499 [13:46<01:15,  1.35s/it]"
     ]
    },
    {
     "name": "stdout",
     "output_type": "stream",
     "text": [
      "Geocoding success 436\n"
     ]
    },
    {
     "name": "stderr",
     "output_type": "stream",
     "text": [
      " 89%|████████▉ | 444/499 [13:47<01:09,  1.27s/it]"
     ]
    },
    {
     "name": "stdout",
     "output_type": "stream",
     "text": [
      "Geocoding success 437\n"
     ]
    },
    {
     "name": "stderr",
     "output_type": "stream",
     "text": [
      " 89%|████████▉ | 445/499 [13:49<01:19,  1.47s/it]"
     ]
    },
    {
     "name": "stdout",
     "output_type": "stream",
     "text": [
      "Geocoding success 438\n"
     ]
    },
    {
     "name": "stderr",
     "output_type": "stream",
     "text": [
      " 89%|████████▉ | 446/499 [13:53<01:58,  2.23s/it]"
     ]
    },
    {
     "name": "stdout",
     "output_type": "stream",
     "text": [
      "Geocoding success 439\n",
      "Geocoding success 440\n"
     ]
    },
    {
     "name": "stderr",
     "output_type": "stream",
     "text": [
      " 90%|████████▉ | 448/499 [13:56<01:30,  1.78s/it]"
     ]
    },
    {
     "name": "stdout",
     "output_type": "stream",
     "text": [
      "Geocoding success 441\n"
     ]
    },
    {
     "name": "stderr",
     "output_type": "stream",
     "text": [
      " 90%|████████▉ | 449/499 [13:57<01:19,  1.58s/it]"
     ]
    },
    {
     "name": "stdout",
     "output_type": "stream",
     "text": [
      "Geocoding success 442\n",
      "Geocoding success 443\n"
     ]
    },
    {
     "name": "stderr",
     "output_type": "stream",
     "text": [
      " 90%|█████████ | 451/499 [14:02<01:39,  2.07s/it]"
     ]
    },
    {
     "name": "stdout",
     "output_type": "stream",
     "text": [
      "Geocoding success 444\n"
     ]
    },
    {
     "name": "stderr",
     "output_type": "stream",
     "text": [
      " 91%|█████████ | 452/499 [14:03<01:25,  1.81s/it]"
     ]
    },
    {
     "name": "stdout",
     "output_type": "stream",
     "text": [
      "Geocoding success 445\n"
     ]
    },
    {
     "name": "stderr",
     "output_type": "stream",
     "text": [
      " 91%|█████████ | 453/499 [14:05<01:23,  1.81s/it]"
     ]
    },
    {
     "name": "stdout",
     "output_type": "stream",
     "text": [
      "Geocoding success 446\n"
     ]
    },
    {
     "name": "stderr",
     "output_type": "stream",
     "text": [
      " 91%|█████████ | 454/499 [14:06<01:09,  1.55s/it]"
     ]
    },
    {
     "name": "stdout",
     "output_type": "stream",
     "text": [
      "Geocoding success 447\n"
     ]
    },
    {
     "name": "stderr",
     "output_type": "stream",
     "text": [
      " 91%|█████████ | 455/499 [14:07<01:00,  1.38s/it]"
     ]
    },
    {
     "name": "stdout",
     "output_type": "stream",
     "text": [
      "Geocoding success 448\n"
     ]
    },
    {
     "name": "stderr",
     "output_type": "stream",
     "text": [
      " 91%|█████████▏| 456/499 [14:09<01:08,  1.58s/it]"
     ]
    },
    {
     "name": "stdout",
     "output_type": "stream",
     "text": [
      "Geocoding success 449\n",
      "Geocoding success 450\n"
     ]
    },
    {
     "name": "stderr",
     "output_type": "stream",
     "text": [
      " 92%|█████████▏| 458/499 [14:13<01:09,  1.69s/it]"
     ]
    },
    {
     "name": "stdout",
     "output_type": "stream",
     "text": [
      "Geocoding success 451\n",
      "Geocoding success 452\n"
     ]
    },
    {
     "name": "stderr",
     "output_type": "stream",
     "text": [
      " 92%|█████████▏| 460/499 [14:16<00:59,  1.54s/it]"
     ]
    },
    {
     "name": "stdout",
     "output_type": "stream",
     "text": [
      "Geocoding success 453\n"
     ]
    },
    {
     "name": "stderr",
     "output_type": "stream",
     "text": [
      " 92%|█████████▏| 461/499 [14:18<01:06,  1.74s/it]"
     ]
    },
    {
     "name": "stdout",
     "output_type": "stream",
     "text": [
      "Geocoding success 454\n"
     ]
    },
    {
     "name": "stderr",
     "output_type": "stream",
     "text": [
      " 93%|█████████▎| 462/499 [14:19<00:52,  1.43s/it]"
     ]
    },
    {
     "name": "stdout",
     "output_type": "stream",
     "text": [
      "Geocoding success 455\n",
      "Geocoding success 456\n"
     ]
    },
    {
     "name": "stderr",
     "output_type": "stream",
     "text": [
      " 93%|█████████▎| 464/499 [14:25<01:19,  2.26s/it]"
     ]
    },
    {
     "name": "stdout",
     "output_type": "stream",
     "text": [
      "Geocoding success 457\n"
     ]
    },
    {
     "name": "stderr",
     "output_type": "stream",
     "text": [
      " 93%|█████████▎| 465/499 [14:26<01:04,  1.89s/it]"
     ]
    },
    {
     "name": "stdout",
     "output_type": "stream",
     "text": [
      "Geocoding success 458\n"
     ]
    },
    {
     "name": "stderr",
     "output_type": "stream",
     "text": [
      " 93%|█████████▎| 466/499 [14:28<01:03,  1.94s/it]"
     ]
    },
    {
     "name": "stdout",
     "output_type": "stream",
     "text": [
      "Geocoding success 459\n",
      "Geocoding success 460\n"
     ]
    },
    {
     "name": "stderr",
     "output_type": "stream",
     "text": [
      " 94%|█████████▎| 467/499 [14:30<00:56,  1.76s/it]"
     ]
    },
    {
     "name": "stdout",
     "output_type": "stream",
     "text": [
      "Geocoding success 461\n"
     ]
    },
    {
     "name": "stderr",
     "output_type": "stream",
     "text": [
      " 94%|█████████▍| 469/499 [14:35<01:11,  2.37s/it]"
     ]
    },
    {
     "name": "stdout",
     "output_type": "stream",
     "text": [
      "Geocoding success 462\n",
      "Geocoding success 463\n"
     ]
    },
    {
     "name": "stderr",
     "output_type": "stream",
     "text": [
      " 94%|█████████▍| 470/499 [14:36<00:59,  2.05s/it]"
     ]
    },
    {
     "name": "stdout",
     "output_type": "stream",
     "text": [
      "Geocoding success 464\n"
     ]
    },
    {
     "name": "stderr",
     "output_type": "stream",
     "text": [
      " 95%|█████████▍| 472/499 [14:38<00:39,  1.46s/it]"
     ]
    },
    {
     "name": "stdout",
     "output_type": "stream",
     "text": [
      "Geocoding success 465\n"
     ]
    },
    {
     "name": "stderr",
     "output_type": "stream",
     "text": [
      " 95%|█████████▍| 473/499 [14:39<00:33,  1.29s/it]"
     ]
    },
    {
     "name": "stdout",
     "output_type": "stream",
     "text": [
      "Geocoding success 466\n"
     ]
    },
    {
     "name": "stderr",
     "output_type": "stream",
     "text": [
      " 95%|█████████▍| 474/499 [14:40<00:30,  1.23s/it]"
     ]
    },
    {
     "name": "stdout",
     "output_type": "stream",
     "text": [
      "Geocoding success 467\n",
      "Geocoding success 468\n"
     ]
    },
    {
     "name": "stderr",
     "output_type": "stream",
     "text": [
      " 95%|█████████▌| 476/499 [14:47<00:49,  2.13s/it]"
     ]
    },
    {
     "name": "stdout",
     "output_type": "stream",
     "text": [
      "Geocoding success 469\n"
     ]
    },
    {
     "name": "stderr",
     "output_type": "stream",
     "text": [
      " 96%|█████████▌| 477/499 [14:48<00:39,  1.81s/it]"
     ]
    },
    {
     "name": "stdout",
     "output_type": "stream",
     "text": [
      "Geocoding success 470\n"
     ]
    },
    {
     "name": "stderr",
     "output_type": "stream",
     "text": [
      " 96%|█████████▌| 478/499 [14:49<00:33,  1.60s/it]"
     ]
    },
    {
     "name": "stdout",
     "output_type": "stream",
     "text": [
      "Geocoding success 471\n"
     ]
    },
    {
     "name": "stderr",
     "output_type": "stream",
     "text": [
      " 96%|█████████▌| 479/499 [14:50<00:26,  1.34s/it]"
     ]
    },
    {
     "name": "stdout",
     "output_type": "stream",
     "text": [
      "Geocoding success 472\n",
      "Geocoding success 473\n"
     ]
    },
    {
     "name": "stderr",
     "output_type": "stream",
     "text": [
      " 96%|█████████▋| 481/499 [14:54<00:31,  1.74s/it]"
     ]
    },
    {
     "name": "stdout",
     "output_type": "stream",
     "text": [
      "Geocoding success 474\n"
     ]
    },
    {
     "name": "stderr",
     "output_type": "stream",
     "text": [
      " 97%|█████████▋| 482/499 [14:57<00:35,  2.07s/it]"
     ]
    },
    {
     "name": "stdout",
     "output_type": "stream",
     "text": [
      "Geocoding success 475\n"
     ]
    },
    {
     "name": "stderr",
     "output_type": "stream",
     "text": [
      " 97%|█████████▋| 483/499 [14:58<00:27,  1.74s/it]"
     ]
    },
    {
     "name": "stdout",
     "output_type": "stream",
     "text": [
      "Geocoding success 476\n",
      "Geocoding success 477\n"
     ]
    },
    {
     "name": "stderr",
     "output_type": "stream",
     "text": [
      " 97%|█████████▋| 484/499 [15:00<00:28,  1.88s/it]"
     ]
    },
    {
     "name": "stdout",
     "output_type": "stream",
     "text": [
      "Geocoding success 478\n"
     ]
    },
    {
     "name": "stderr",
     "output_type": "stream",
     "text": [
      " 98%|█████████▊| 487/499 [15:08<00:25,  2.11s/it]"
     ]
    },
    {
     "name": "stdout",
     "output_type": "stream",
     "text": [
      "Geocoding success 479\n"
     ]
    },
    {
     "name": "stderr",
     "output_type": "stream",
     "text": [
      " 98%|█████████▊| 488/499 [15:10<00:22,  2.05s/it]"
     ]
    },
    {
     "name": "stdout",
     "output_type": "stream",
     "text": [
      "Geocoding success 480\n"
     ]
    },
    {
     "name": "stderr",
     "output_type": "stream",
     "text": [
      " 98%|█████████▊| 489/499 [15:14<00:26,  2.64s/it]"
     ]
    },
    {
     "name": "stdout",
     "output_type": "stream",
     "text": [
      "Geocoding success 481\n"
     ]
    },
    {
     "name": "stderr",
     "output_type": "stream",
     "text": [
      " 98%|█████████▊| 490/499 [15:15<00:19,  2.20s/it]"
     ]
    },
    {
     "name": "stdout",
     "output_type": "stream",
     "text": [
      "Geocoding success 482\n",
      "Geocoding success 483\n"
     ]
    },
    {
     "name": "stderr",
     "output_type": "stream",
     "text": [
      " 99%|█████████▊| 492/499 [15:17<00:11,  1.60s/it]"
     ]
    },
    {
     "name": "stdout",
     "output_type": "stream",
     "text": [
      "Geocoding success 484\n"
     ]
    },
    {
     "name": "stderr",
     "output_type": "stream",
     "text": [
      " 99%|█████████▉| 493/499 [15:18<00:08,  1.37s/it]"
     ]
    },
    {
     "name": "stdout",
     "output_type": "stream",
     "text": [
      "Geocoding success 485\n"
     ]
    },
    {
     "name": "stderr",
     "output_type": "stream",
     "text": [
      " 99%|█████████▉| 494/499 [15:20<00:07,  1.58s/it]"
     ]
    },
    {
     "name": "stdout",
     "output_type": "stream",
     "text": [
      "Geocoding success 486\n"
     ]
    },
    {
     "name": "stderr",
     "output_type": "stream",
     "text": [
      " 99%|█████████▉| 495/499 [15:24<00:09,  2.29s/it]"
     ]
    },
    {
     "name": "stdout",
     "output_type": "stream",
     "text": [
      "Geocoding success 487\n"
     ]
    },
    {
     "name": "stderr",
     "output_type": "stream",
     "text": [
      " 99%|█████████▉| 496/499 [15:25<00:05,  1.95s/it]"
     ]
    },
    {
     "name": "stdout",
     "output_type": "stream",
     "text": [
      "Geocoding success 488\n"
     ]
    },
    {
     "name": "stderr",
     "output_type": "stream",
     "text": [
      "100%|█████████▉| 497/499 [15:26<00:03,  1.58s/it]"
     ]
    },
    {
     "name": "stdout",
     "output_type": "stream",
     "text": [
      "Geocoding success 489\n"
     ]
    },
    {
     "name": "stderr",
     "output_type": "stream",
     "text": [
      "100%|█████████▉| 498/499 [15:27<00:01,  1.38s/it]"
     ]
    },
    {
     "name": "stdout",
     "output_type": "stream",
     "text": [
      "Geocoding success 490\n"
     ]
    },
    {
     "name": "stderr",
     "output_type": "stream",
     "text": [
      "100%|██████████| 499/499 [15:28<00:00,  1.86s/it]"
     ]
    },
    {
     "name": "stdout",
     "output_type": "stream",
     "text": [
      "Geocoding success 491\n",
      "Geocoding complete and saved to veneto_events_geocoded_structured.json\n"
     ]
    },
    {
     "name": "stderr",
     "output_type": "stream",
     "text": [
      "\n"
     ]
    }
   ],
   "source": [
    "import json\n",
    "import asyncio\n",
    "import httpx\n",
    "from tqdm.asyncio import tqdm_asyncio\n",
    "import threading\n",
    "\n",
    "counter_lock = threading.Lock()\n",
    "success_counter = 0  # Global counter variable\n",
    "\n",
    "async def async_geocode_structured(venue, city, region=\"Veneto\", country=\"Italy\"):\n",
    "    base_url = \"https://nominatim.openstreetmap.org/search\"\n",
    "    headers = {'User-Agent': 'convert_to_geo/1.0'}\n",
    "\n",
    "    params_list = [\n",
    "        {'street': venue, 'city': city, 'state': region, 'country': country, 'format': 'json', 'limit': 1},\n",
    "        {'city': city, 'state': region, 'country': country, 'format': 'json', 'limit': 1},\n",
    "        {'street': venue, 'city': city, 'country': country, 'format': 'json', 'limit': 1},\n",
    "        {'street': venue, 'state': region, 'country': country, 'format': 'json', 'limit': 1}\n",
    "    ]\n",
    "\n",
    "    async with httpx.AsyncClient() as client_http:\n",
    "        for params in params_list:\n",
    "            try:\n",
    "                response = await client_http.get(base_url, params=params, headers=headers, timeout=10)\n",
    "                response.raise_for_status()\n",
    "                data = response.json()\n",
    "                if data:\n",
    "                    return float(data[0]['lat']), float(data[0]['lon'])\n",
    "            except (httpx.HTTPError, ValueError):\n",
    "                pass\n",
    "            await asyncio.sleep(1)\n",
    "\n",
    "    return None, None\n",
    "\n",
    "\n",
    "async def process_events_geocoding(events):\n",
    "    semaphore = asyncio.Semaphore(5)\n",
    "\n",
    "    global success_counter  # use global here for global variable\n",
    "\n",
    "    async def geocode_event(event):\n",
    "        global success_counter\n",
    "        venue = event.get('location', {}).get('venue', '').strip()\n",
    "        city = event.get('city', '').strip()\n",
    "        if venue and city:\n",
    "            async with semaphore:\n",
    "                lat, lon = await async_geocode_structured(venue, city)\n",
    "                if lat is not None and lon is not None:\n",
    "                    with counter_lock:\n",
    "                        success_counter += 1\n",
    "                        print(f\"Geocoding success {success_counter}\")\n",
    "                event['location']['latitude'] = lat\n",
    "                event['location']['longitude'] = lon\n",
    "        else:\n",
    "            event['location']['latitude'] = None\n",
    "            event['location']['longitude'] = None\n",
    "\n",
    "    await tqdm_asyncio.gather(*(geocode_event(event) for event in events))\n",
    "\n",
    "\n",
    "async def main():\n",
    "    input_path = '../dataset/veneto_events.json'\n",
    "    output_path = '../dataset/veneto_events_geocoded_structured.json'\n",
    "\n",
    "    with open(input_path, 'r', encoding='utf-8') as f:\n",
    "        events_data = json.load(f)\n",
    "\n",
    "    await process_events_geocoding(events_data['events'])\n",
    "\n",
    "    with open(output_path, 'w', encoding='utf-8') as f:\n",
    "        json.dump(events_data, f, ensure_ascii=False, indent=2)\n",
    "\n",
    "    print(\"Geocoding complete and saved to veneto_events_geocoded_structured.json\")\n",
    "\n",
    "# Run in notebook cell with:\n",
    "# await main()\n",
    "\n",
    "\n",
    "# Run in your Jupyter notebook cell with:\n",
    "await main()\n",
    "\n",
    "# Or if top-level await not supported:\n",
    "# import asyncio\n",
    "# asyncio.run(main())\n"
   ]
  },
  {
   "cell_type": "markdown",
   "id": "081d6a0b",
   "metadata": {},
   "source": [
    "### To check the fastembed models"
   ]
  },
  {
   "cell_type": "code",
   "execution_count": null,
   "id": "c9c550f7",
   "metadata": {},
   "outputs": [],
   "source": [
    "from fastembed import TextEmbedding\n",
    "\n",
    "# Get the list of supported models (each is a dict)\n",
    "models_info = TextEmbedding.list_supported_models()\n",
    "\n",
    "# Extract only the model names into a list\n",
    "model_names = [model['model'] for model in models_info]\n",
    "\n",
    "model_names\n"
   ]
  },
  {
   "cell_type": "code",
   "execution_count": null,
   "id": "69211579",
   "metadata": {},
   "outputs": [],
   "source": [
    "%pip install qdrant_client --upgrade\n",
    "%pip install qdrant-client[fastembed] --upgrade\n",
    "%pip install ipywidgets --upgrade\n",
    "%pip install fastembed huggingface_hub --upgrade\n",
    "\n"
   ]
  },
  {
   "cell_type": "markdown",
   "id": "b6d8fdd3",
   "metadata": {},
   "source": [
    "### Qdrant Vector ingestion\n",
    "\n",
    "This section uploads events into a Qdrant vector database.\n",
    "\n",
    "Steps:\n",
    "- Load environment variables from `.env`\n",
    "- Load geocoded events from `veneto_events_geocoded_structured.json`\n",
    "- Check or create the `veneto_events` collection in Qdrant \n",
    "- Upsert all event points to the Qdrant collection\n",
    "\n",
    "#### Embedding on description"
   ]
  },
  {
   "cell_type": "code",
   "execution_count": 5,
   "id": "f45d29e9",
   "metadata": {},
   "outputs": [
    {
     "name": "stderr",
     "output_type": "stream",
     "text": [
      "/tmp/ipykernel_12317/3322828159.py:26: UserWarning: The model sentence-transformers/paraphrase-multilingual-mpnet-base-v2 now uses mean pooling instead of CLS embedding. In order to preserve the previous behaviour, consider either pinning fastembed version to 0.5.1 or using `add_custom_model` functionality.\n",
      "  dense_embedding_model = TextEmbedding(DENSE_MODEL_NAME)\n",
      "100%|██████████| 16/16 [02:22<00:00,  8.93s/it]"
     ]
    },
    {
     "name": "stdout",
     "output_type": "stream",
     "text": [
      "\n",
      "✅ Operation completed:\n",
      "- Inserted: 499\n",
      "- Updated: 0\n",
      "- Skipped (unchanged): 0\n",
      "Collection info: status=<CollectionStatus.GREEN: 'green'> optimizer_status=<OptimizersStatusOneOf.OK: 'ok'> vectors_count=None indexed_vectors_count=499 points_count=499 segments_count=2 config=CollectionConfig(params=CollectionParams(vectors={'dense_vector': VectorParams(size=768, distance=<Distance.COSINE: 'Cosine'>, hnsw_config=None, quantization_config=None, on_disk=None, datatype=None, multivector_config=None)}, shard_number=1, sharding_method=None, replication_factor=1, write_consistency_factor=1, read_fan_out_factor=None, on_disk_payload=True, sparse_vectors={'sparse_vector': SparseVectorParams(index=None, modifier=None)}), hnsw_config=HnswConfig(m=16, ef_construct=100, full_scan_threshold=10000, max_indexing_threads=0, on_disk=False, payload_m=None), optimizer_config=OptimizersConfig(deleted_threshold=0.2, vacuum_min_vector_number=1000, default_segment_number=0, max_segment_size=None, memmap_threshold=None, indexing_threshold=10000, flush_interval_sec=5, max_optimization_threads=None), wal_config=WalConfig(wal_capacity_mb=32, wal_segments_ahead=0), quantization_config=None, strict_mode_config=StrictModeConfigOutput(enabled=True, max_query_limit=None, max_timeout=None, unindexed_filtering_retrieve=False, unindexed_filtering_update=False, search_max_hnsw_ef=None, search_allow_exact=None, search_max_oversampling=None, upsert_max_batchsize=None, max_collection_vector_size_bytes=None, read_rate_limit=None, write_rate_limit=None, max_collection_payload_size_bytes=None, max_points_count=None, filter_max_conditions=None, condition_max_size=None, multivector_config=None, sparse_config=None)) payload_schema={'location': PayloadIndexInfo(data_type=<PayloadSchemaType.GEO: 'geo'>, params=None, points=491), 'end_date': PayloadIndexInfo(data_type=<PayloadSchemaType.DATETIME: 'datetime'>, params=None, points=499), 'id': PayloadIndexInfo(data_type=<PayloadSchemaType.KEYWORD: 'keyword'>, params=None, points=499), 'start_date': PayloadIndexInfo(data_type=<PayloadSchemaType.DATETIME: 'datetime'>, params=None, points=499)}\n"
     ]
    },
    {
     "name": "stderr",
     "output_type": "stream",
     "text": [
      "\n"
     ]
    }
   ],
   "source": [
    "from qdrant_client import QdrantClient, models\n",
    "import os\n",
    "from dotenv import load_dotenv\n",
    "import json\n",
    "from tqdm import tqdm\n",
    "from uuid import uuid4\n",
    "import hashlib\n",
    "from fastembed import TextEmbedding, SparseTextEmbedding\n",
    "\n",
    "# -------------------------\n",
    "# Load environment variables\n",
    "# -------------------------\n",
    "load_dotenv(dotenv_path=\"../.env\")\n",
    "QDRANT_SERVER = os.getenv(\"QDRANT_SERVER\")\n",
    "QDRANT_API_KEY = os.getenv(\"QDRANT_API_KEY\")\n",
    "\n",
    "DENSE_MODEL_NAME = os.getenv(\"DENSE_MODEL_NAME\")\n",
    "SPARSE_MODEL_NAME = os.getenv(\"SPARSE_MODEL_NAME\")\n",
    "\n",
    "if not QDRANT_SERVER or not QDRANT_API_KEY:\n",
    "    raise ValueError(\"QDRANT_SERVER or QDRANT_API_KEY not defined in .env file\")\n",
    "\n",
    "# -------------------------\n",
    "# Initialize clients\n",
    "# -------------------------\n",
    "dense_embedding_model = TextEmbedding(DENSE_MODEL_NAME)\n",
    "sparse_embedding_model = SparseTextEmbedding(SPARSE_MODEL_NAME)\n",
    "\n",
    "dense_vector_name = \"dense_vector\"\n",
    "sparse_vector_name = \"sparse_vector\"\n",
    "COLLECTION_NAME = \"veneto_events\"\n",
    "\n",
    "client = QdrantClient(url=QDRANT_SERVER, api_key=QDRANT_API_KEY, timeout=200000)\n",
    "\n",
    "def verify_qdrant_connection(client):\n",
    "    try:\n",
    "        client.get_collections()\n",
    "        return True\n",
    "    except Exception as e:\n",
    "        print(f\"Qdrant connection error: {e}\")\n",
    "        return False\n",
    "\n",
    "if not verify_qdrant_connection(client):\n",
    "    raise ConnectionError(\"Failed to connect to Qdrant server\")\n",
    "\n",
    "# -------------------------\n",
    "# Utility Functions\n",
    "# -------------------------\n",
    "def calculate_hash(text: str) -> str:\n",
    "    \"\"\"Calculate SHA256 hash of text.\"\"\"\n",
    "    return hashlib.sha256(text.encode(\"utf-8\")).hexdigest()\n",
    "\n",
    "# -------------------------\n",
    "# Load dataset\n",
    "# -------------------------\n",
    "with open(\"../dataset/veneto_events_geocoded_structured.json\", \"r\", encoding=\"utf-8\") as file:\n",
    "    events_data = json.load(file)\n",
    "events = events_data.get(\"events\", [])\n",
    "\n",
    "# -------------------------\n",
    "# Create collection if not exists\n",
    "# -------------------------\n",
    "example_text = \"Test for embedding dimension calculation.\"\n",
    "example_emb = list(dense_embedding_model.passage_embed([example_text]))[0]\n",
    "dense_dim = len(example_emb)\n",
    "\n",
    "if not client.collection_exists(COLLECTION_NAME):\n",
    "    client.create_collection(\n",
    "        collection_name=COLLECTION_NAME,\n",
    "        vectors_config={\n",
    "            dense_vector_name: models.VectorParams(size=dense_dim, distance=models.Distance.COSINE)\n",
    "        },\n",
    "        sparse_vectors_config={\n",
    "            sparse_vector_name: models.SparseVectorParams()\n",
    "        }\n",
    "    )\n",
    "\n",
    "# Create payload indexes (safe if repeats)\n",
    "client.create_payload_index(COLLECTION_NAME, \"id\", \"keyword\")\n",
    "client.create_payload_index(COLLECTION_NAME, \"location\", \"geo\")\n",
    "client.create_payload_index(COLLECTION_NAME, \"start_date\", \"datetime\")\n",
    "client.create_payload_index(COLLECTION_NAME, \"end_date\", \"datetime\")\n",
    "\n",
    "# -------------------------\n",
    "# Insert / Update events in batches\n",
    "# -------------------------\n",
    "BATCH_SIZE = 32\n",
    "inserted, updated, skipped_unchanged = 0, 0, 0\n",
    "\n",
    "for start in tqdm(range(0, len(events), BATCH_SIZE)):\n",
    "    batch = events[start : start + BATCH_SIZE]\n",
    "    texts = [event.get(\"description\", \"\") for event in batch]\n",
    "\n",
    "    dense_embeddings = list(dense_embedding_model.passage_embed(texts))\n",
    "    sparse_embeddings = list(sparse_embedding_model.passage_embed(texts))\n",
    "\n",
    "    points = []\n",
    "    for i, event in enumerate(batch):\n",
    "        event_id = event.get(\"id\")\n",
    "        if not event_id:\n",
    "            continue\n",
    "        text = texts[i]\n",
    "        chunk_hash = calculate_hash(text)\n",
    "\n",
    "        existing_points, _ = client.scroll(\n",
    "            collection_name=COLLECTION_NAME,\n",
    "            scroll_filter=models.Filter(\n",
    "                must=[models.FieldCondition(key=\"id\", match=models.MatchValue(value=event_id))]\n",
    "            ),\n",
    "            limit=1,\n",
    "        )\n",
    "\n",
    "        if existing_points:\n",
    "            existing_point = existing_points[0]\n",
    "            existing_hash = existing_point.payload.get(\"hash\", \"\")\n",
    "            if existing_hash == chunk_hash:\n",
    "                skipped_unchanged += 1\n",
    "                continue\n",
    "            else:\n",
    "                client.delete(collection_name=COLLECTION_NAME, points_selector=models.PointIdsList(points=[existing_point.id]))\n",
    "                updated += 1\n",
    "        else:\n",
    "            inserted += 1\n",
    "\n",
    "        loc = event.get(\"location\", {})\n",
    "        loc_geo = {}\n",
    "        if \"latitude\" in loc and \"longitude\" in loc:\n",
    "            loc_geo = {\"lat\": loc[\"latitude\"], \"lon\": loc[\"longitude\"]}\n",
    "\n",
    "        location_payload = {**loc, **loc_geo}  # Merges original location dict with lat/lon keys\n",
    "\n",
    "        payload = {**event, \"location\": location_payload, \"hash\": chunk_hash}\n",
    "\n",
    "\n",
    "        points.append(\n",
    "            models.PointStruct(\n",
    "                id=str(uuid4()),\n",
    "                vector={\n",
    "                    dense_vector_name: dense_embeddings[i].tolist(),\n",
    "                    sparse_vector_name: models.SparseVector(\n",
    "                        indices=list(sparse_embeddings[i].indices),\n",
    "                        values=list(sparse_embeddings[i].values),\n",
    "                    ),\n",
    "                },\n",
    "                payload=payload,\n",
    "            )\n",
    "        )\n",
    "\n",
    "    if points:\n",
    "        client.upsert(collection_name=COLLECTION_NAME, points=points, wait=True)\n",
    "\n",
    "# -------------------------\n",
    "# Final report\n",
    "# -------------------------\n",
    "print(\"\\n✅ Operation completed:\")\n",
    "print(f\"- Inserted: {inserted}\")\n",
    "print(f\"- Updated: {updated}\")\n",
    "print(f\"- Skipped (unchanged): {skipped_unchanged}\")\n",
    "print(f\"Collection info: {client.get_collection(COLLECTION_NAME)}\")\n"
   ]
  },
  {
   "cell_type": "markdown",
   "id": "618b70ce",
   "metadata": {},
   "source": [
    "### Code to add a month from august to september"
   ]
  },
  {
   "cell_type": "code",
   "execution_count": 1,
   "id": "a8b84e5d",
   "metadata": {},
   "outputs": [
    {
     "name": "stdout",
     "output_type": "stream",
     "text": [
      "{\n",
      "  \"events\": [\n",
      "    {\n",
      "      \"id\": \"201\",\n",
      "      \"title\": \"Cavarzere Conference Event #1\",\n",
      "      \"category\": \"Conference\",\n",
      "      \"description\": \"Unwind and enjoy a delightful conference experience in Cavarzere at the picturesque Museo Civico. Relax and take in the atmosphere.\",\n",
      "      \"city\": \"Cavarzere\",\n",
      "      \"location\": {\n",
      "        \"venue\": \"Museo Civico\",\n",
      "        \"address\": \"Museo Civico, Cavarzere, Veneto\",\n",
      "        \"latitude\": 45.1360987,\n",
      "        \"longitude\": 12.0812854\n",
      "      },\n",
      "      \"start_date\": \"2025-09-28T13:47:00Z\",\n",
      "      \"end_date\": \"2025-09-28T19:47:00Z\",\n",
      "      \"url\": \"https://example.com/veneto-events/1\"\n",
      "    },\n",
      "    {\n",
      "      \"id\": \"202\",\n",
      "      \"title\": \"Mestre Tour Event #2\",\n",
      "      \"category\": \"Tour\",\n",
      "      \"description\": \"Unwind and enjoy a delightful tour experience in Mestre at the picturesque Centro Culturale Candiani. Relax and take in the atmosphere.\",\n",
      "      \"city\": \"Mestre\",\n",
      "      \"location\": {\n",
      "        \"venue\": \"Centro Culturale Candiani\",\n",
      "        \"address\": \"Centro Culturale Candiani, Mestre, Veneto\",\n",
      "        \"latitude\": 45.4943063,\n",
      "        \"longitude\": 12.2418053\n",
      "      },\n",
      "      \"start_date\": \"2025-09-26T23:13:00Z\",\n",
      "      \"end_date\": \"2025-09-27T00:13:00Z\",\n",
      "      \"url\": \"https://example.com/veneto-events/2\"\n",
      "    },\n",
      "    {\n",
      "      \"id\": \"203\",\n",
      "      \"title\": \"Verona Theatre Event #3\",\n",
      "      \"category\": \"Theatre\",\n",
      "      \"description\": \"Unwind and enjoy a delightful theatre experience in Verona at the picturesque Palazzo Barbieri. Relax and take in the atmosphere.\",\n",
      "      \"city\": \"Verona\",\n",
      "      \"location\": {\n",
      "        \"venue\": \"Palazzo Barbieri\",\n",
      "        \"address\": \"Palazzo Barbieri, Verona, Veneto\",\n",
      "        \"latitude\": 45.4384958,\n",
      "        \"longitude\": 10.9924122\n",
      "      },\n",
      "      \"start_date\": \"2025-09-28T10:03:00Z\",\n",
      "      \"end_date\": \"2025-09-28T16:03:00Z\",\n",
      "      \"url\": \"https://example.com/veneto-events/3\"\n",
      "    },\n",
      "    {\n",
      "      \"id\": \"204\",\n",
      "      \"title\": \"Treviso Festival Event #4\",\n",
      "      \"category\": \"Festival\",\n",
      "      \"description\": \"Prepare for an unforgettable festival experience in the stunning city of Treviso, held at the magnificent Villa Margherita. This event promises to be a highlight of the season!\",\n",
      "      \"city\": \"Treviso\",\n",
      "      \"location\": {\n",
      "        \"venue\": \"Villa Margherita\",\n",
      "        \"address\": \"Villa Margherita, Treviso, Veneto\",\n",
      "        \"latitude\": 45.6658505,\n",
      "        \"longitude\": 12.2455414\n",
      "      },\n",
      "      \"start_date\": \"2025-09-27T05:13:00Z\",\n",
      "      \"end_date\": \"2025-09-27T15:13:00Z\",\n",
      "      \"url\": \"https://example.com/veneto-events/4\"\n",
      "    },\n",
      "    {\n",
      "      \"id\": \"205\",\n",
      "      \"title\": \"Bardolino Music Event #5\",\n",
      "      \"category\": \"Music\",\n",
      "      \"description\": \"Expand your horizons with this insightful music event in Bardolino, hosted at the distinguished Church of San Zeno. Learn something new and be inspired.\",\n",
      "      \"city\": \"Bardolino\",\n",
      "      \"location\": {\n",
      "        \"venue\": \"Church of San Zeno\",\n",
      "        \"address\": \"Church of San Zeno, Bardolino, Veneto\",\n",
      "        \"latitude\": 45.5475595,\n",
      "        \"longitude\": 10.7242145\n",
      "      },\n",
      "      \"start_date\": \"2025-09-29T11:50:00Z\",\n",
      "      \"end_date\": \"2025-09-29T15:50:00Z\",\n",
      "      \"url\": \"https://example.com/veneto-events/5\"\n",
      "    },\n",
      "    {\n",
      "      \"id\": \"206\",\n",
      "      \"title\": \"Bardolino Music Event #6\",\n",
      "      \"category\": \"Music\",\n",
      "      \"description\": \"Dive into the world of music at this exciting gathering in Bardolino. Located at the renowned Parco Baia delle Sirene, it's an event you won't want to miss.\",\n",
      "      \"city\": \"Bardolino\",\n",
      "      \"location\": {\n",
      "        \"venue\": \"Parco Baia delle Sirene\",\n",
      "        \"address\": \"Parco Baia delle Sirene, Bardolino, Veneto\",\n",
      "        \"latitude\": 45.5475595,\n",
      "        \"longitude\": 10.7242145\n",
      "      },\n",
      "      \"start_date\": \"2025-09-28T15:51:00Z\",\n",
      "      \"end_date\": \"2025-09-28T21:51:00Z\",\n",
      "      \"url\": \"https://example.com/veneto-events/6\"\n",
      "    },\n",
      "    {\n",
      "      \"id\": \"207\",\n",
      "      \"title\": \"Adria Exhibition Event #7\",\n",
      "      \"category\": \"Exhibition\",\n",
      "      \"description\": \"A unique exhibition opportunity awaits you in Adria. Join us at the charming Parco delle Rimembranze for an event designed to inspire and entertain.\",\n",
      "      \"city\": \"Adria\",\n",
      "      \"location\": {\n",
      "        \"venue\": \"Parco delle Rimembranze\",\n",
      "        \"address\": \"Parco delle Rimembranze, Adria, Veneto\",\n",
      "        \"latitude\": 45.0531228,\n",
      "        \"longitude\": 12.0572\n",
      "      },\n",
      "      \"start_date\": \"2025-09-26T21:57:00Z\",\n",
      "      \"end_date\": \"2025-09-27T04:57:00Z\",\n",
      "      \"url\": \"https://example.com/veneto-events/7\"\n",
      "    },\n",
      "    {\n",
      "      \"id\": \"208\",\n",
      "      \"title\": \"Spinea Festival Event #8\",\n",
      "      \"category\": \"Festival\",\n",
      "      \"description\": \"Explore the vibrant festival scene in Spinea with this special event at Piazza Municipio. Get ready for a day filled with discovery and enjoyment.\",\n",
      "      \"city\": \"Spinea\",\n",
      "      \"location\": {\n",
      "        \"venue\": \"Piazza Municipio\",\n",
      "        \"address\": \"Piazza Municipio, Spinea, Veneto\",\n",
      "        \"latitude\": 45.4915047,\n",
      "        \"longitude\": 12.1647504\n",
      "      },\n",
      "      \"start_date\": \"2025-09-29T13:42:00Z\",\n",
      "      \"end_date\": \"2025-09-29T15:42:00Z\",\n",
      "      \"url\": \"https://example.com/veneto-events/8\"\n",
      "    },\n",
      "    {\n",
      "      \"id\": \"209\",\n",
      "      \"title\": \"Feltre Theatre Event #9\",\n",
      "      \"category\": \"Theatre\",\n",
      "      \"description\": \"A unique theatre opportunity awaits you in Feltre. Join us at the charming Cattedrale di San Pietro Apostolo for an event designed to inspire and entertain.\",\n",
      "      \"city\": \"Feltre\",\n",
      "      \"location\": {\n",
      "        \"venue\": \"Cattedrale di San Pietro Apostolo\",\n",
      "        \"address\": \"Cattedrale di San Pietro Apostolo, Feltre, Veneto\",\n",
      "        \"latitude\": 46.0163755,\n",
      "        \"longitude\": 11.9062541\n",
      "      },\n",
      "      \"start_date\": \"2025-09-28T11:40:00Z\",\n",
      "      \"end_date\": \"2025-09-28T16:40:00Z\",\n",
      "      \"url\": \"https://example.com/veneto-events/9\"\n",
      "    },\n",
      "    {\n",
      "      \"id\": \"210\",\n",
      "      \"title\": \"Abano Terme Tour Event #10\",\n",
      "      \"category\": \"Tour\",\n",
      "      \"description\": \"Expand your horizons with this insightful tour event in Abano Terme, hosted at the distinguished Chiesa del Sacro Cuore. Learn something new and be inspired.\",\n",
      "      \"city\": \"Abano Terme\",\n",
      "      \"location\": {\n",
      "        \"venue\": \"Chiesa del Sacro Cuore\",\n",
      "        \"address\": \"Chiesa del Sacro Cuore, Abano Terme, Veneto\",\n",
      "        \"latitude\": 45.3603142,\n",
      "        \"longitude\": 11.7897833\n",
      "      },\n",
      "      \"start_date\": \"2025-09-28T13:31:00Z\",\n",
      "      \"end_date\": \"2025-09-28T23:31:00Z\",\n",
      "      \"url\": \"https://example.com/veneto-events/10\"\n",
      "    },\n",
      "    {\n",
      "      \"id\": \"211\",\n",
      "      \"title\": \"Padua Workshop Event #11\",\n",
      "      \"category\": \"Workshop\",\n",
      "      \"description\": \"Connect with fellow enthusiasts at this lively workshop event in Padua, taking place at the welcoming Palazzo Moroni. Share your passion and make new friends.\",\n",
      "      \"city\": \"Padua\",\n",
      "      \"location\": {\n",
      "        \"venue\": \"Palazzo Moroni\",\n",
      "        \"address\": \"Palazzo Moroni, Padua, Veneto\",\n",
      "        \"latitude\": 45.4077172,\n",
      "        \"longitude\": 11.8734455\n",
      "      },\n",
      "      \"start_date\": \"2025-09-27T19:28:00Z\",\n",
      "      \"end_date\": \"2025-09-27T21:28:00Z\",\n",
      "      \"url\": \"https://example.com/veneto-events/11\"\n",
      "    },\n",
      "    {\n",
      "      \"id\": \"212\",\n",
      "      \"title\": \"Venice Tour Event #12\",\n",
      "      \"category\": \"Tour\",\n",
      "      \"description\": \"Immerse yourself in the rich culture of Venice with this engaging tour event at the iconic Fondazione Querini Stampalia. It's the perfect way to spend your time.\",\n",
      "      \"city\": \"Venice\",\n",
      "      \"location\": {\n",
      "        \"venue\": \"Fondazione Querini Stampalia\",\n",
      "        \"address\": \"Fondazione Querini Stampalia, Venice, Veneto\",\n",
      "        \"latitude\": 45.4364575,\n",
      "        \"longitude\": 12.3410349\n",
      "      },\n",
      "      \"start_date\": \"2025-09-28T10:18:00Z\",\n",
      "      \"end_date\": \"2025-09-28T14:18:00Z\",\n",
      "      \"url\": \"https://example.com/veneto-events/12\"\n",
      "    },\n",
      "    {\n",
      "      \"id\": \"213\",\n",
      "      \"title\": \"Caorle Music Event #13\",\n",
      "      \"category\": \"Music\",\n",
      "      \"description\": \"Connect with fellow enthusiasts at this lively music event in Caorle, taking place at the welcoming Porto Peschereccio. Share your passion and make new friends.\",\n",
      "      \"city\": \"Caorle\",\n",
      "      \"location\": {\n",
      "        \"venue\": \"Porto Peschereccio\",\n",
      "        \"address\": \"Porto Peschereccio, Caorle, Veneto\",\n",
      "        \"latitude\": 45.5979147,\n",
      "        \"longitude\": 12.8876282\n",
      "      },\n",
      "      \"start_date\": \"2025-09-26T01:25:00Z\",\n",
      "      \"end_date\": \"2025-09-26T10:25:00Z\",\n",
      "      \"url\": \"https://example.com/veneto-events/13\"\n",
      "    },\n",
      "    {\n",
      "      \"id\": \"214\",\n",
      "      \"title\": \"Este Music Event #14\",\n",
      "      \"category\": \"Music\",\n",
      "      \"description\": \"Immerse yourself in the rich culture of Este with this engaging music event at the iconic Villa Contarini. It's the perfect way to spend your time.\",\n",
      "      \"city\": \"Este\",\n",
      "      \"location\": {\n",
      "        \"venue\": \"Villa Contarini\",\n",
      "        \"address\": \"Villa Contarini, Este, Veneto\",\n",
      "        \"latitude\": 45.2240069,\n",
      "        \"longitude\": 11.659796\n",
      "      },\n",
      "      \"start_date\": \"2025-09-26T08:28:00Z\",\n",
      "      \"end_date\": \"2025-09-26T16:28:00Z\",\n",
      "      \"url\": \"https://example.com/veneto-events/14\"\n",
      "    },\n",
      "    {\n",
      "      \"id\": \"215\",\n",
      "      \"title\": \"Bardolino Festival Event #15\",\n",
      "      \"category\": \"Festival\",\n",
      "      \"description\": \"Immerse yourself in the rich culture of Bardolino with this engaging festival event at the iconic Lake Garda promenade. It's the perfect way to spend your time.\",\n",
      "      \"city\": \"Bardolino\",\n",
      "      \"location\": {\n",
      "        \"venue\": \"Lake Garda promenade\",\n",
      "        \"address\": \"Lake Garda promenade, Bardolino, Veneto\",\n",
      "        \"latitude\": 45.5475595,\n",
      "        \"longitude\": 10.7242145\n",
      "      },\n",
      "      \"start_date\": \"2025-09-27T23:03:00Z\",\n",
      "      \"end_date\": \"2025-09-28T07:03:00Z\",\n",
      "      \"url\": \"https://example.com/veneto-events/15\"\n",
      "    },\n",
      "    {\n",
      "      \"id\": \"216\",\n",
      "      \"title\": \"Dolo Theatre Event #16\",\n",
      "      \"category\": \"Theatre\",\n",
      "      \"description\": \"Immerse yourself in the rich culture of Dolo with this engaging theatre event at the iconic Villa Jacur. It's the perfect way to spend your time.\",\n",
      "      \"city\": \"Dolo\",\n",
      "      \"location\": {\n",
      "        \"venue\": \"Villa Jacur\",\n",
      "        \"address\": \"Villa Jacur, Dolo, Veneto\",\n",
      "        \"latitude\": 45.4234356,\n",
      "        \"longitude\": 12.0743252\n",
      "      },\n",
      "      \"start_date\": \"2025-09-26T18:36:00Z\",\n",
      "      \"end_date\": \"2025-09-27T00:36:00Z\",\n",
      "      \"url\": \"https://example.com/veneto-events/16\"\n",
      "    },\n",
      "    {\n",
      "      \"id\": \"217\",\n",
      "      \"title\": \"Este Festival Event #17\",\n",
      "      \"category\": \"Festival\",\n",
      "      \"description\": \"Expand your horizons with this insightful festival event in Este, hosted at the distinguished Duomo di Santa Tecla. Learn something new and be inspired.\",\n",
      "      \"city\": \"Este\",\n",
      "      \"location\": {\n",
      "        \"venue\": \"Duomo di Santa Tecla\",\n",
      "        \"address\": \"Duomo di Santa Tecla, Este, Veneto\",\n",
      "        \"latitude\": 45.2299866,\n",
      "        \"longitude\": 11.6536381\n",
      "      },\n",
      "      \"start_date\": \"2025-09-29T11:56:00Z\",\n",
      "      \"end_date\": \"2025-09-29T19:56:00Z\",\n",
      "      \"url\": \"https://example.com/veneto-events/17\"\n",
      "    },\n",
      "    {\n",
      "      \"id\": \"218\",\n",
      "      \"title\": \"Malcesine Sport Event #18\",\n",
      "      \"category\": \"Sport\",\n",
      "      \"description\": \"Dive into the world of sport at this exciting gathering in Malcesine. Located at the renowned Museo del Lago, it's an event you won't want to miss.\",\n",
      "      \"city\": \"Malcesine\",\n",
      "      \"location\": {\n",
      "        \"venue\": \"Museo del Lago\",\n",
      "        \"address\": \"Museo del Lago, Malcesine, Veneto\",\n",
      "        \"latitude\": 45.7643442,\n",
      "        \"longitude\": 10.8100598\n",
      "      },\n",
      "      \"start_date\": \"2025-09-26T05:47:00Z\",\n",
      "      \"end_date\": \"2025-09-26T10:47:00Z\",\n",
      "      \"url\": \"https://example.com/veneto-events/18\"\n",
      "    },\n",
      "    {\n",
      "      \"id\": \"219\",\n",
      "      \"title\": \"San Bonifacio Sport Event #19\",\n",
      "      \"category\": \"Sport\",\n",
      "      \"description\": \"Explore the vibrant sport scene in San Bonifacio with this special event at Piazza Costituzione. Get ready for a day filled with discovery and enjoyment.\",\n",
      "      \"city\": \"San Bonifacio\",\n",
      "      \"location\": {\n",
      "        \"venue\": \"Piazza Costituzione\",\n",
      "        \"address\": \"Piazza Costituzione, San Bonifacio, Veneto\",\n",
      "        \"latitude\": 45.3953901,\n",
      "        \"longitude\": 11.2693904\n",
      "      },\n",
      "      \"start_date\": \"2025-09-26T20:38:00Z\",\n",
      "      \"end_date\": \"2025-09-27T06:38:00Z\",\n",
      "      \"url\": \"https://example.com/veneto-events/19\"\n",
      "    },\n",
      "    {\n",
      "      \"id\": \"220\",\n",
      "      \"title\": \"Pedavena Tour Event #20\",\n",
      "      \"category\": \"Tour\",\n",
      "      \"description\": \"Immerse yourself in the rich culture of Pedavena with this engaging tour event at the iconic Chiesa di San Antonio. It's the perfect way to spend your time.\",\n",
      "      \"city\": \"Pedavena\",\n",
      "      \"location\": {\n",
      "        \"venue\": \"Chiesa di San Antonio\",\n",
      "        \"address\": \"Chiesa di San Antonio, Pedavena, Veneto\",\n",
      "        \"latitude\": 46.0396242,\n",
      "        \"longitude\": 11.8804327\n",
      "      },\n",
      "      \"start_date\": \"2025-09-27T10:51:00Z\",\n",
      "      \"end_date\": \"2025-09-27T18:51:00Z\",\n",
      "      \"url\": \"https://example.com/veneto-events/20\"\n",
      "    },\n",
      "    {\n",
      "      \"id\": \"221\",\n",
      "      \"title\": \"Venice Workshop Event #21\",\n",
      "      \"category\": \"Workshop\",\n",
      "      \"description\": \"Expand your horizons with this insightful workshop event in Venice, hosted at the distinguished Ca' Rezzonico. Learn something new and be inspired.\",\n",
      "      \"city\": \"Venice\",\n",
      "      \"location\": {\n",
      "        \"venue\": \"Ca' Rezzonico\",\n",
      "        \"address\": \"Ca' Rezzonico, Venice, Veneto\",\n",
      "        \"latitude\": 45.4335413,\n",
      "        \"longitude\": 12.3268051\n",
      "      },\n",
      "      \"start_date\": \"2025-09-28T04:00:00Z\",\n",
      "      \"end_date\": \"2025-09-28T07:00:00Z\",\n",
      "      \"url\": \"https://example.com/veneto-events/21\"\n",
      "    },\n",
      "    {\n",
      "      \"id\": \"222\",\n",
      "      \"title\": \"Campolongo Maggiore Theatre Event #22\",\n",
      "      \"category\": \"Theatre\",\n",
      "      \"description\": \"Step into a world of wonder at this extraordinary theatre event in Campolongo Maggiore, held at the historic Chiesa di San Giovanni Battista. Prepare to be amazed!\",\n",
      "      \"city\": \"Campolongo Maggiore\",\n",
      "      \"location\": {\n",
      "        \"venue\": \"Chiesa di San Giovanni Battista\",\n",
      "        \"address\": \"Chiesa di San Giovanni Battista, Campolongo Maggiore, Veneto\",\n",
      "        \"latitude\": 45.3305355,\n",
      "        \"longitude\": 12.0483135\n",
      "      },\n",
      "      \"start_date\": \"2025-09-27T20:20:00Z\",\n",
      "      \"end_date\": \"2025-09-28T00:20:00Z\",\n",
      "      \"url\": \"https://example.com/veneto-events/22\"\n",
      "    },\n",
      "    {\n",
      "      \"id\": \"223\",\n",
      "      \"title\": \"Legnago Sport Event #23\",\n",
      "      \"category\": \"Sport\",\n",
      "      \"description\": \"Immerse yourself in the rich culture of Legnago with this engaging sport event at the iconic Duomo di San Martino. It's the perfect way to spend your time.\",\n",
      "      \"city\": \"Legnago\",\n",
      "      \"location\": {\n",
      "        \"venue\": \"Duomo di San Martino\",\n",
      "        \"address\": \"Duomo di San Martino, Legnago, Veneto\",\n",
      "        \"latitude\": 45.192498,\n",
      "        \"longitude\": 11.3111274\n",
      "      },\n",
      "      \"start_date\": \"2025-09-29T06:19:00Z\",\n",
      "      \"end_date\": \"2025-09-29T13:19:00Z\",\n",
      "      \"url\": \"https://example.com/veneto-events/23\"\n",
      "    },\n",
      "    {\n",
      "      \"id\": \"224\",\n",
      "      \"title\": \"Cavarzere Music Event #24\",\n",
      "      \"category\": \"Music\",\n",
      "      \"description\": \"Explore the vibrant music scene in Cavarzere with this special event at Villa Zennaro. Get ready for a day filled with discovery and enjoyment.\",\n",
      "      \"city\": \"Cavarzere\",\n",
      "      \"location\": {\n",
      "        \"venue\": \"Villa Zennaro\",\n",
      "        \"address\": \"Villa Zennaro, Cavarzere, Veneto\",\n",
      "        \"latitude\": 45.1360987,\n",
      "        \"longitude\": 12.0812854\n",
      "      },\n",
      "      \"start_date\": \"2025-09-28T05:32:00Z\",\n",
      "      \"end_date\": \"2025-09-28T12:32:00Z\",\n",
      "      \"url\": \"https://example.com/veneto-events/24\"\n",
      "    },\n",
      "    {\n",
      "      \"id\": \"225\",\n",
      "      \"title\": \"Adria Sport Event #25\",\n",
      "      \"category\": \"Sport\",\n",
      "      \"description\": \"Prepare for an unforgettable sport experience in the stunning city of Adria, held at the magnificent Chiesa di Santa Maria Assunta della Tomba. This event promises to be a highlight of the season!\",\n",
      "      \"city\": \"Adria\",\n",
      "      \"location\": {\n",
      "        \"venue\": \"Chiesa di Santa Maria Assunta della Tomba\",\n",
      "        \"address\": \"Chiesa di Santa Maria Assunta della Tomba, Adria, Veneto\",\n",
      "        \"latitude\": 45.051095,\n",
      "        \"longitude\": 12.0594617\n",
      "      },\n",
      "      \"start_date\": \"2025-09-27T19:09:00Z\",\n",
      "      \"end_date\": \"2025-09-28T00:09:00Z\",\n",
      "      \"url\": \"https://example.com/veneto-events/25\"\n",
      "    },\n",
      "    {\n",
      "      \"id\": \"226\",\n",
      "      \"title\": \"Treviso Workshop Event #26\",\n",
      "      \"category\": \"Workshop\",\n",
      "      \"description\": \"Expand your horizons with this insightful workshop event in Treviso, hosted at the distinguished Museo Luigi Bailo. Learn something new and be inspired.\",\n",
      "      \"city\": \"Treviso\",\n",
      "      \"location\": {\n",
      "        \"venue\": \"Museo Luigi Bailo\",\n",
      "        \"address\": \"Museo Luigi Bailo, Treviso, Veneto\",\n",
      "        \"latitude\": 45.667703,\n",
      "        \"longitude\": 12.2380677\n",
      "      },\n",
      "      \"start_date\": \"2025-09-28T18:55:00Z\",\n",
      "      \"end_date\": \"2025-09-28T22:55:00Z\",\n",
      "      \"url\": \"https://example.com/veneto-events/26\"\n",
      "    },\n",
      "    {\n",
      "      \"id\": \"227\",\n",
      "      \"title\": \"Mirano Theatre Event #27\",\n",
      "      \"category\": \"Theatre\",\n",
      "      \"description\": \"Expand your horizons with this insightful theatre event in Mirano, hosted at the distinguished Duomo di San Michele Arcangelo. Learn something new and be inspired.\",\n",
      "      \"city\": \"Mirano\",\n",
      "      \"location\": {\n",
      "        \"venue\": \"Duomo di San Michele Arcangelo\",\n",
      "        \"address\": \"Duomo di San Michele Arcangelo, Mirano, Veneto\",\n",
      "        \"latitude\": 45.4927695,\n",
      "        \"longitude\": 12.1098768\n",
      "      },\n",
      "      \"start_date\": \"2025-09-26T07:37:00Z\",\n",
      "      \"end_date\": \"2025-09-26T16:37:00Z\",\n",
      "      \"url\": \"https://example.com/veneto-events/27\"\n",
      "    },\n",
      "    {\n",
      "      \"id\": \"228\",\n",
      "      \"title\": \"Arqu\\u00e0 Petrarca Workshop Event #28\",\n",
      "      \"category\": \"Workshop\",\n",
      "      \"description\": \"Expand your horizons with this insightful workshop event in Arqu\\u00e0 Petrarca, hosted at the distinguished Oratorio della Santissima Trinit\\u00e0. Learn something new and be inspired.\",\n",
      "      \"city\": \"Arqu\\u00e0 Petrarca\",\n",
      "      \"location\": {\n",
      "        \"venue\": \"Oratorio della Santissima Trinit\\u00e0\",\n",
      "        \"address\": \"Oratorio della Santissima Trinit\\u00e0, Arqu\\u00e0 Petrarca, Veneto\",\n",
      "        \"latitude\": 45.2700441,\n",
      "        \"longitude\": 11.7165149\n",
      "      },\n",
      "      \"start_date\": \"2025-09-26T20:09:00Z\",\n",
      "      \"end_date\": \"2025-09-27T02:09:00Z\",\n",
      "      \"url\": \"https://example.com/veneto-events/28\"\n",
      "    },\n",
      "    {\n",
      "      \"id\": \"229\",\n",
      "      \"title\": \"Mogliano Veneto Sport Event #29\",\n",
      "      \"category\": \"Sport\",\n",
      "      \"description\": \"Prepare for an unforgettable sport experience in the stunning city of Mogliano Veneto, held at the magnificent Piazza Caduti. This event promises to be a highlight of the season!\",\n",
      "      \"city\": \"Mogliano Veneto\",\n",
      "      \"location\": {\n",
      "        \"venue\": \"Piazza Caduti\",\n",
      "        \"address\": \"Piazza Caduti, Mogliano Veneto, Veneto\",\n",
      "        \"latitude\": 45.5611317,\n",
      "        \"longitude\": 12.2363049\n",
      "      },\n",
      "      \"start_date\": \"2025-09-29T09:07:00Z\",\n",
      "      \"end_date\": \"2025-09-29T18:07:00Z\",\n",
      "      \"url\": \"https://example.com/veneto-events/29\"\n",
      "    },\n",
      "    {\n",
      "      \"id\": \"230\",\n",
      "      \"title\": \"Verona Tour Event #30\",\n",
      "      \"category\": \"Tour\",\n",
      "      \"description\": \"Step into a world of wonder at this extraordinary tour event in Verona, held at the historic Chiesa di San Fermo Maggiore. Prepare to be amazed!\",\n",
      "      \"city\": \"Verona\",\n",
      "      \"location\": {\n",
      "        \"venue\": \"Chiesa di San Fermo Maggiore\",\n",
      "        \"address\": \"Chiesa di San Fermo Maggiore, Verona, Veneto\",\n",
      "        \"latitude\": 45.4384958,\n",
      "        \"longitude\": 10.9924122\n",
      "      },\n",
      "      \"start_date\": \"2025-09-27T16:10:00Z\",\n",
      "      \"end_date\": \"2025-09-27T17:10:00Z\",\n",
      "      \"url\": \"https://example.com/veneto-events/30\"\n",
      "    },\n",
      "    {\n",
      "      \"id\": \"231\",\n",
      "      \"title\": \"Portogruaro Workshop Event #31\",\n",
      "      \"category\": \"Workshop\",\n",
      "      \"description\": \"Step into a world of wonder at this extraordinary workshop event in Portogruaro, held at the historic Chiesa di Sant'Andrea. Prepare to be amazed!\",\n",
      "      \"city\": \"Portogruaro\",\n",
      "      \"location\": {\n",
      "        \"venue\": \"Chiesa di Sant'Andrea\",\n",
      "        \"address\": \"Chiesa di Sant'Andrea, Portogruaro, Veneto\",\n",
      "        \"latitude\": 45.775598,\n",
      "        \"longitude\": 12.8374571\n",
      "      },\n",
      "      \"start_date\": \"2025-09-28T07:21:00Z\",\n",
      "      \"end_date\": \"2025-09-28T17:21:00Z\",\n",
      "      \"url\": \"https://example.com/veneto-events/31\"\n",
      "    },\n",
      "    {\n",
      "      \"id\": \"232\",\n",
      "      \"title\": \"San Don\\u00e0 di Piave Workshop Event #32\",\n",
      "      \"category\": \"Workshop\",\n",
      "      \"description\": \"Seeking adventure in San Don\\u00e0 di Piave? Look no further than this captivating workshop event at Cittadella Medicea. Fun and excitement are guaranteed!\",\n",
      "      \"city\": \"San Don\\u00e0 di Piave\",\n",
      "      \"location\": {\n",
      "        \"venue\": \"Cittadella Medicea\",\n",
      "        \"address\": \"Cittadella Medicea, San Don\\u00e0 di Piave, Veneto\",\n",
      "        \"latitude\": 45.6294811,\n",
      "        \"longitude\": 12.5641057\n",
      "      },\n",
      "      \"start_date\": \"2025-09-28T08:36:00Z\",\n",
      "      \"end_date\": \"2025-09-28T09:36:00Z\",\n",
      "      \"url\": \"https://example.com/veneto-events/32\"\n",
      "    },\n",
      "    {\n",
      "      \"id\": \"233\",\n",
      "      \"title\": \"Mestre Sport Event #33\",\n",
      "      \"category\": \"Sport\",\n",
      "      \"description\": \"Connect with fellow enthusiasts at this lively sport event in Mestre, taking place at the welcoming Teatro Toniolo. Share your passion and make new friends.\",\n",
      "      \"city\": \"Mestre\",\n",
      "      \"location\": {\n",
      "        \"venue\": \"Teatro Toniolo\",\n",
      "        \"address\": \"Teatro Toniolo, Mestre, Veneto\",\n",
      "        \"latitude\": 45.4943063,\n",
      "        \"longitude\": 12.2418053\n",
      "      },\n",
      "      \"start_date\": \"2025-09-27T03:06:00Z\",\n",
      "      \"end_date\": \"2025-09-27T08:06:00Z\",\n",
      "      \"url\": \"https://example.com/veneto-events/33\"\n",
      "    },\n",
      "    {\n",
      "      \"id\": \"234\",\n",
      "      \"title\": \"Jesolo Tour Event #34\",\n",
      "      \"category\": \"Tour\",\n",
      "      \"description\": \"Prepare for an unforgettable tour experience in the stunning city of Jesolo, held at the magnificent Jesolo Beach. This event promises to be a highlight of the season!\",\n",
      "      \"city\": \"Jesolo\",\n",
      "      \"location\": {\n",
      "        \"venue\": \"Jesolo Beach\",\n",
      "        \"address\": \"Jesolo Beach, Jesolo, Veneto\",\n",
      "        \"latitude\": 45.5367094,\n",
      "        \"longitude\": 12.6383337\n",
      "      },\n",
      "      \"start_date\": \"2025-09-27T08:01:00Z\",\n",
      "      \"end_date\": \"2025-09-27T12:01:00Z\",\n",
      "      \"url\": \"https://example.com/veneto-events/34\"\n",
      "    },\n",
      "    {\n",
      "      \"id\": \"235\",\n",
      "      \"title\": \"Adria Food & Drink Event #35\",\n",
      "      \"category\": \"Food & Drink\",\n",
      "      \"description\": \"A unique food & drink opportunity awaits you in Adria. Join us at the charming Piazza Garibaldi for an event designed to inspire and entertain.\",\n",
      "      \"city\": \"Adria\",\n",
      "      \"location\": {\n",
      "        \"venue\": \"Piazza Garibaldi\",\n",
      "        \"address\": \"Piazza Garibaldi, Adria, Veneto\",\n",
      "        \"latitude\": 45.0563605,\n",
      "        \"longitude\": 12.056166\n",
      "      },\n",
      "      \"start_date\": \"2025-09-26T00:21:00Z\",\n",
      "      \"end_date\": \"2025-09-26T03:21:00Z\",\n",
      "      \"url\": \"https://example.com/veneto-events/35\"\n",
      "    },\n",
      "    {\n",
      "      \"id\": \"236\",\n",
      "      \"title\": \"Este Music Event #36\",\n",
      "      \"category\": \"Music\",\n",
      "      \"description\": \"Explore the vibrant music scene in Este with this special event at Roman Amphitheatre ruins. Get ready for a day filled with discovery and enjoyment.\",\n",
      "      \"city\": \"Este\",\n",
      "      \"location\": {\n",
      "        \"venue\": \"Roman Amphitheatre ruins\",\n",
      "        \"address\": \"Roman Amphitheatre ruins, Este, Veneto\",\n",
      "        \"latitude\": 45.2240069,\n",
      "        \"longitude\": 11.659796\n",
      "      },\n",
      "      \"start_date\": \"2025-09-27T12:17:00Z\",\n",
      "      \"end_date\": \"2025-09-27T14:17:00Z\",\n",
      "      \"url\": \"https://example.com/veneto-events/36\"\n",
      "    },\n",
      "    {\n",
      "      \"id\": \"237\",\n",
      "      \"title\": \"Este Festival Event #37\",\n",
      "      \"category\": \"Festival\",\n",
      "      \"description\": \"Explore the vibrant festival scene in Este with this special event at Piazza Maggiore. Get ready for a day filled with discovery and enjoyment.\",\n",
      "      \"city\": \"Este\",\n",
      "      \"location\": {\n",
      "        \"venue\": \"Piazza Maggiore\",\n",
      "        \"address\": \"Piazza Maggiore, Este, Veneto\",\n",
      "        \"latitude\": 45.2280575,\n",
      "        \"longitude\": 11.6560993\n",
      "      },\n",
      "      \"start_date\": \"2025-09-27T23:17:00Z\",\n",
      "      \"end_date\": \"2025-09-28T07:17:00Z\",\n",
      "      \"url\": \"https://example.com/veneto-events/37\"\n",
      "    },\n",
      "    {\n",
      "      \"id\": \"238\",\n",
      "      \"title\": \"Spinea Workshop Event #38\",\n",
      "      \"category\": \"Workshop\",\n",
      "      \"description\": \"Step into a world of wonder at this extraordinary workshop event in Spinea, held at the historic Parco Nuove Gemme. Prepare to be amazed!\",\n",
      "      \"city\": \"Spinea\",\n",
      "      \"location\": {\n",
      "        \"venue\": \"Parco Nuove Gemme\",\n",
      "        \"address\": \"Parco Nuove Gemme, Spinea, Veneto\",\n",
      "        \"latitude\": 45.4911604,\n",
      "        \"longitude\": 12.165018\n",
      "      },\n",
      "      \"start_date\": \"2025-09-27T07:01:00Z\",\n",
      "      \"end_date\": \"2025-09-27T17:01:00Z\",\n",
      "      \"url\": \"https://example.com/veneto-events/38\"\n",
      "    },\n",
      "    {\n",
      "      \"id\": \"239\",\n",
      "      \"title\": \"Padua Workshop Event #39\",\n",
      "      \"category\": \"Workshop\",\n",
      "      \"description\": \"Step into a world of wonder at this extraordinary workshop event in Padua, held at the historic Church of the Eremitani. Prepare to be amazed!\",\n",
      "      \"city\": \"Padua\",\n",
      "      \"location\": {\n",
      "        \"venue\": \"Church of the Eremitani\",\n",
      "        \"address\": \"Church of the Eremitani, Padua, Veneto\",\n",
      "        \"latitude\": 45.4077172,\n",
      "        \"longitude\": 11.8734455\n",
      "      },\n",
      "      \"start_date\": \"2025-09-29T05:50:00Z\",\n",
      "      \"end_date\": \"2025-09-29T15:50:00Z\",\n",
      "      \"url\": \"https://example.com/veneto-events/39\"\n",
      "    },\n",
      "    {\n",
      "      \"id\": \"240\",\n",
      "      \"title\": \"Monselice Festival Event #40\",\n",
      "      \"category\": \"Festival\",\n",
      "      \"description\": \"Seeking adventure in Monselice? Look no further than this captivating festival event at Museo Rocca. Fun and excitement are guaranteed!\",\n",
      "      \"city\": \"Monselice\",\n",
      "      \"location\": {\n",
      "        \"venue\": \"Museo Rocca\",\n",
      "        \"address\": \"Museo Rocca, Monselice, Veneto\",\n",
      "        \"latitude\": 45.2417684,\n",
      "        \"longitude\": 11.7508534\n",
      "      },\n",
      "      \"start_date\": \"2025-09-27T13:54:00Z\",\n",
      "      \"end_date\": \"2025-09-27T14:54:00Z\",\n",
      "      \"url\": \"https://example.com/veneto-events/40\"\n",
      "    },\n",
      "    {\n",
      "      \"id\": \"241\",\n",
      "      \"title\": \"Bardolino Tour Event #41\",\n",
      "      \"category\": \"Tour\",\n",
      "      \"description\": \"Prepare for an unforgettable tour experience in the stunning city of Bardolino, held at the magnificent Parco Baia delle Sirene. This event promises to be a highlight of the season!\",\n",
      "      \"city\": \"Bardolino\",\n",
      "      \"location\": {\n",
      "        \"venue\": \"Parco Baia delle Sirene\",\n",
      "        \"address\": \"Parco Baia delle Sirene, Bardolino, Veneto\",\n",
      "        \"latitude\": 45.5475595,\n",
      "        \"longitude\": 10.7242145\n",
      "      },\n",
      "      \"start_date\": \"2025-09-28T09:32:00Z\",\n",
      "      \"end_date\": \"2025-09-28T10:32:00Z\",\n",
      "      \"url\": \"https://example.com/veneto-events/41\"\n",
      "    },\n",
      "    {\n",
      "      \"id\": \"242\",\n",
      "      \"title\": \"Portogruaro Arts & Crafts Event #42\",\n",
      "      \"category\": \"Arts & Crafts\",\n",
      "      \"description\": \"Unwind and enjoy a delightful arts & crafts experience in Portogruaro at the picturesque Piazza della Repubblica. Relax and take in the atmosphere.\",\n",
      "      \"city\": \"Portogruaro\",\n",
      "      \"location\": {\n",
      "        \"venue\": \"Piazza della Repubblica\",\n",
      "        \"address\": \"Piazza della Repubblica, Portogruaro, Veneto\",\n",
      "        \"latitude\": 45.7755764,\n",
      "        \"longitude\": 12.8376743\n",
      "      },\n",
      "      \"start_date\": \"2025-09-27T01:28:00Z\",\n",
      "      \"end_date\": \"2025-09-27T09:28:00Z\",\n",
      "      \"url\": \"https://example.com/veneto-events/42\"\n",
      "    },\n",
      "    {\n",
      "      \"id\": \"243\",\n",
      "      \"title\": \"Belluno Food & Drink Event #43\",\n",
      "      \"category\": \"Food & Drink\",\n",
      "      \"description\": \"Step into a world of wonder at this extraordinary food & drink event in Belluno, held at the historic Porta Dojona. Prepare to be amazed!\",\n",
      "      \"city\": \"Belluno\",\n",
      "      \"location\": {\n",
      "        \"venue\": \"Porta Dojona\",\n",
      "        \"address\": \"Porta Dojona, Belluno, Veneto\",\n",
      "        \"latitude\": 46.1375185,\n",
      "        \"longitude\": 12.2181711\n",
      "      },\n",
      "      \"start_date\": \"2025-09-26T12:37:00Z\",\n",
      "      \"end_date\": \"2025-09-26T14:37:00Z\",\n",
      "      \"url\": \"https://example.com/veneto-events/43\"\n",
      "    },\n",
      "    {\n",
      "      \"id\": \"244\",\n",
      "      \"title\": \"Portogruaro Food & Drink Event #44\",\n",
      "      \"category\": \"Food & Drink\",\n",
      "      \"description\": \"A unique food & drink opportunity awaits you in Portogruaro. Join us at the charming Mulini di Sant'Andrea for an event designed to inspire and entertain.\",\n",
      "      \"city\": \"Portogruaro\",\n",
      "      \"location\": {\n",
      "        \"venue\": \"Mulini di Sant'Andrea\",\n",
      "        \"address\": \"Mulini di Sant'Andrea, Portogruaro, Veneto\",\n",
      "        \"latitude\": 45.775598,\n",
      "        \"longitude\": 12.8374571\n",
      "      },\n",
      "      \"start_date\": \"2025-09-26T23:28:00Z\",\n",
      "      \"end_date\": \"2025-09-27T09:28:00Z\",\n",
      "      \"url\": \"https://example.com/veneto-events/44\"\n",
      "    },\n",
      "    {\n",
      "      \"id\": \"245\",\n",
      "      \"title\": \"Mirano Arts & Crafts Event #45\",\n",
      "      \"category\": \"Arts & Crafts\",\n",
      "      \"description\": \"Dive into the world of arts & crafts at this exciting gathering in Mirano. Located at the renowned Duomo di San Michele Arcangelo, it's an event you won't want to miss.\",\n",
      "      \"city\": \"Mirano\",\n",
      "      \"location\": {\n",
      "        \"venue\": \"Duomo di San Michele Arcangelo\",\n",
      "        \"address\": \"Duomo di San Michele Arcangelo, Mirano, Veneto\",\n",
      "        \"latitude\": 45.4927695,\n",
      "        \"longitude\": 12.1098768\n",
      "      },\n",
      "      \"start_date\": \"2025-09-29T18:12:00Z\",\n",
      "      \"end_date\": \"2025-09-30T00:00:00Z\",\n",
      "      \"url\": \"https://example.com/veneto-events/45\"\n",
      "    },\n",
      "    {\n",
      "      \"id\": \"246\",\n",
      "      \"title\": \"Feltre Sport Event #46\",\n",
      "      \"category\": \"Sport\",\n",
      "      \"description\": \"Explore the vibrant sport scene in Feltre with this special event at Cattedrale di San Pietro Apostolo. Get ready for a day filled with discovery and enjoyment.\",\n",
      "      \"city\": \"Feltre\",\n",
      "      \"location\": {\n",
      "        \"venue\": \"Cattedrale di San Pietro Apostolo\",\n",
      "        \"address\": \"Cattedrale di San Pietro Apostolo, Feltre, Veneto\",\n",
      "        \"latitude\": 46.0163755,\n",
      "        \"longitude\": 11.9062541\n",
      "      },\n",
      "      \"start_date\": \"2025-09-26T18:07:00Z\",\n",
      "      \"end_date\": \"2025-09-27T03:07:00Z\",\n",
      "      \"url\": \"https://example.com/veneto-events/46\"\n",
      "    },\n",
      "    {\n",
      "      \"id\": \"247\",\n",
      "      \"title\": \"Schio Festival Event #47\",\n",
      "      \"category\": \"Festival\",\n",
      "      \"description\": \"Dive into the world of festival at this exciting gathering in Schio. Located at the renowned Museo Civico di Schio, it's an event you won't want to miss.\",\n",
      "      \"city\": \"Schio\",\n",
      "      \"location\": {\n",
      "        \"venue\": \"Museo Civico di Schio\",\n",
      "        \"address\": \"Museo Civico di Schio, Schio, Veneto\",\n",
      "        \"latitude\": 45.7113511,\n",
      "        \"longitude\": 11.3553593\n",
      "      },\n",
      "      \"start_date\": \"2025-09-26T09:49:00Z\",\n",
      "      \"end_date\": \"2025-09-26T19:49:00Z\",\n",
      "      \"url\": \"https://example.com/veneto-events/47\"\n",
      "    },\n",
      "    {\n",
      "      \"id\": \"248\",\n",
      "      \"title\": \"Treviso Theatre Event #48\",\n",
      "      \"category\": \"Theatre\",\n",
      "      \"description\": \"Expand your horizons with this insightful theatre event in Treviso, hosted at the distinguished Chiesa di San Nicol\\u00f2. Learn something new and be inspired.\",\n",
      "      \"city\": \"Treviso\",\n",
      "      \"location\": {\n",
      "        \"venue\": \"Chiesa di San Nicol\\u00f2\",\n",
      "        \"address\": \"Chiesa di San Nicol\\u00f2, Treviso, Veneto\",\n",
      "        \"latitude\": 45.6658505,\n",
      "        \"longitude\": 12.2455414\n",
      "      },\n",
      "      \"start_date\": \"2025-09-29T17:53:00Z\",\n",
      "      \"end_date\": \"2025-09-30T00:00:00Z\",\n",
      "      \"url\": \"https://example.com/veneto-events/48\"\n",
      "    },\n",
      "    {\n",
      "      \"id\": \"249\",\n",
      "      \"title\": \"Adria Food & Drink Event #49\",\n",
      "      \"category\": \"Food & Drink\",\n",
      "      \"description\": \"Connect with fellow enthusiasts at this lively food & drink event in Adria, taking place at the welcoming Palazzo Bocchi. Share your passion and make new friends.\",\n",
      "      \"city\": \"Adria\",\n",
      "      \"location\": {\n",
      "        \"venue\": \"Palazzo Bocchi\",\n",
      "        \"address\": \"Palazzo Bocchi, Adria, Veneto\",\n",
      "        \"latitude\": 45.0531228,\n",
      "        \"longitude\": 12.0572\n",
      "      },\n",
      "      \"start_date\": \"2025-09-28T20:55:00Z\",\n",
      "      \"end_date\": \"2025-09-29T05:55:00Z\",\n",
      "      \"url\": \"https://example.com/veneto-events/49\"\n",
      "    },\n",
      "    {\n",
      "      \"id\": \"250\",\n",
      "      \"title\": \"Feltre Festival Event #50\",\n",
      "      \"category\": \"Festival\",\n",
      "      \"description\": \"A unique festival opportunity awaits you in Feltre. Join us at the charming Villa Pasole for an event designed to inspire and entertain.\",\n",
      "      \"city\": \"Feltre\",\n",
      "      \"location\": {\n",
      "        \"venue\": \"Villa Pasole\",\n",
      "        \"address\": \"Villa Pasole, Feltre, Veneto\",\n",
      "        \"latitude\": 46.0412156,\n",
      "        \"longitude\": 11.9350544\n",
      "      },\n",
      "      \"start_date\": \"2025-09-26T14:01:00Z\",\n",
      "      \"end_date\": \"2025-09-27T00:01:00Z\",\n",
      "      \"url\": \"https://example.com/veneto-events/50\"\n",
      "    },\n",
      "    {\n",
      "      \"id\": \"251\",\n",
      "      \"title\": \"Jesolo Music Event #51\",\n",
      "      \"category\": \"Music\",\n",
      "      \"description\": \"Connect with fellow enthusiasts at this lively music event in Jesolo, taking place at the welcoming Piazza Mazzini. Share your passion and make new friends.\",\n",
      "      \"city\": \"Jesolo\",\n",
      "      \"location\": {\n",
      "        \"venue\": \"Piazza Mazzini\",\n",
      "        \"address\": \"Piazza Mazzini, Jesolo, Veneto\",\n",
      "        \"latitude\": 45.497133,\n",
      "        \"longitude\": 12.618843\n",
      "      },\n",
      "      \"start_date\": \"2025-09-26T07:30:00Z\",\n",
      "      \"end_date\": \"2025-09-26T12:30:00Z\",\n",
      "      \"url\": \"https://example.com/veneto-events/51\"\n",
      "    },\n",
      "    {\n",
      "      \"id\": \"252\",\n",
      "      \"title\": \"Cavarzere Arts & Crafts Event #52\",\n",
      "      \"category\": \"Arts & Crafts\",\n",
      "      \"description\": \"Expand your horizons with this insightful arts & crafts event in Cavarzere, hosted at the distinguished Villa Zennaro. Learn something new and be inspired.\",\n",
      "      \"city\": \"Cavarzere\",\n",
      "      \"location\": {\n",
      "        \"venue\": \"Villa Zennaro\",\n",
      "        \"address\": \"Villa Zennaro, Cavarzere, Veneto\",\n",
      "        \"latitude\": 45.1360987,\n",
      "        \"longitude\": 12.0812854\n",
      "      },\n",
      "      \"start_date\": \"2025-09-27T06:10:00Z\",\n",
      "      \"end_date\": \"2025-09-27T12:10:00Z\",\n",
      "      \"url\": \"https://example.com/veneto-events/52\"\n",
      "    },\n",
      "    {\n",
      "      \"id\": \"253\",\n",
      "      \"title\": \"Valdagno Music Event #53\",\n",
      "      \"category\": \"Music\",\n",
      "      \"description\": \"Unwind and enjoy a delightful music experience in Valdagno at the picturesque Church of San Clemente. Relax and take in the atmosphere.\",\n",
      "      \"city\": \"Valdagno\",\n",
      "      \"location\": {\n",
      "        \"venue\": \"Church of San Clemente\",\n",
      "        \"address\": \"Church of San Clemente, Valdagno, Veneto\",\n",
      "        \"latitude\": 45.6413213,\n",
      "        \"longitude\": 11.3040596\n",
      "      },\n",
      "      \"start_date\": \"2025-09-27T06:41:00Z\",\n",
      "      \"end_date\": \"2025-09-27T16:41:00Z\",\n",
      "      \"url\": \"https://example.com/veneto-events/53\"\n",
      "    },\n",
      "    {\n",
      "      \"id\": \"254\",\n",
      "      \"title\": \"Portogruaro Tour Event #54\",\n",
      "      \"category\": \"Tour\",\n",
      "      \"description\": \"A unique tour opportunity awaits you in Portogruaro. Join us at the charming Villa Comunale for an event designed to inspire and entertain.\",\n",
      "      \"city\": \"Portogruaro\",\n",
      "      \"location\": {\n",
      "        \"venue\": \"Villa Comunale\",\n",
      "        \"address\": \"Villa Comunale, Portogruaro, Veneto\",\n",
      "        \"latitude\": 45.775598,\n",
      "        \"longitude\": 12.8374571\n",
      "      },\n",
      "      \"start_date\": \"2025-09-28T20:08:00Z\",\n",
      "      \"end_date\": \"2025-09-29T03:08:00Z\",\n",
      "      \"url\": \"https://example.com/veneto-events/54\"\n",
      "    },\n",
      "    {\n",
      "      \"id\": \"255\",\n",
      "      \"title\": \"Noale Arts & Crafts Event #55\",\n",
      "      \"category\": \"Arts & Crafts\",\n",
      "      \"description\": \"A unique arts & crafts opportunity awaits you in Noale. Join us at the charming Parco della Bujega for an event designed to inspire and entertain.\",\n",
      "      \"city\": \"Noale\",\n",
      "      \"location\": {\n",
      "        \"venue\": \"Parco della Bujega\",\n",
      "        \"address\": \"Parco della Bujega, Noale, Veneto\",\n",
      "        \"latitude\": 45.550156,\n",
      "        \"longitude\": 12.0720437\n",
      "      },\n",
      "      \"start_date\": \"2025-09-27T14:49:00Z\",\n",
      "      \"end_date\": \"2025-09-27T18:49:00Z\",\n",
      "      \"url\": \"https://example.com/veneto-events/55\"\n",
      "    },\n",
      "    {\n",
      "      \"id\": \"256\",\n",
      "      \"title\": \"Malcesine Exhibition Event #56\",\n",
      "      \"category\": \"Exhibition\",\n",
      "      \"description\": \"Immerse yourself in the rich culture of Malcesine with this engaging exhibition event at the iconic Museo del Lago. It's the perfect way to spend your time.\",\n",
      "      \"city\": \"Malcesine\",\n",
      "      \"location\": {\n",
      "        \"venue\": \"Museo del Lago\",\n",
      "        \"address\": \"Museo del Lago, Malcesine, Veneto\",\n",
      "        \"latitude\": 45.7643442,\n",
      "        \"longitude\": 10.8100598\n",
      "      },\n",
      "      \"start_date\": \"2025-09-26T04:18:00Z\",\n",
      "      \"end_date\": \"2025-09-26T10:18:00Z\",\n",
      "      \"url\": \"https://example.com/veneto-events/56\"\n",
      "    },\n",
      "    {\n",
      "      \"id\": \"257\",\n",
      "      \"title\": \"Bassano del Grappa Food & Drink Event #57\",\n",
      "      \"category\": \"Food & Drink\",\n",
      "      \"description\": \"Connect with fellow enthusiasts at this lively food & drink event in Bassano del Grappa, taking place at the welcoming Ponte degli Alpini. Share your passion and make new friends.\",\n",
      "      \"city\": \"Bassano del Grappa\",\n",
      "      \"location\": {\n",
      "        \"venue\": \"Ponte degli Alpini\",\n",
      "        \"address\": \"Ponte degli Alpini, Bassano del Grappa, Veneto\",\n",
      "        \"latitude\": 45.7674953,\n",
      "        \"longitude\": 11.7311664\n",
      "      },\n",
      "      \"start_date\": \"2025-09-29T07:48:00Z\",\n",
      "      \"end_date\": \"2025-09-29T13:48:00Z\",\n",
      "      \"url\": \"https://example.com/veneto-events/57\"\n",
      "    },\n",
      "    {\n",
      "      \"id\": \"258\",\n",
      "      \"title\": \"Monselice Exhibition Event #58\",\n",
      "      \"category\": \"Exhibition\",\n",
      "      \"description\": \"Connect with fellow enthusiasts at this lively exhibition event in Monselice, taking place at the welcoming Chiesa di San Paolo. Share your passion and make new friends.\",\n",
      "      \"city\": \"Monselice\",\n",
      "      \"location\": {\n",
      "        \"venue\": \"Chiesa di San Paolo\",\n",
      "        \"address\": \"Chiesa di San Paolo, Monselice, Veneto\",\n",
      "        \"latitude\": 45.2417684,\n",
      "        \"longitude\": 11.7508534\n",
      "      },\n",
      "      \"start_date\": \"2025-09-28T02:11:00Z\",\n",
      "      \"end_date\": \"2025-09-28T07:11:00Z\",\n",
      "      \"url\": \"https://example.com/veneto-events/58\"\n",
      "    },\n",
      "    {\n",
      "      \"id\": \"259\",\n",
      "      \"title\": \"Campolongo Maggiore Conference Event #59\",\n",
      "      \"category\": \"Conference\",\n",
      "      \"description\": \"Connect with fellow enthusiasts at this lively conference event in Campolongo Maggiore, taking place at the welcoming Villa Manin. Share your passion and make new friends.\",\n",
      "      \"city\": \"Campolongo Maggiore\",\n",
      "      \"location\": {\n",
      "        \"venue\": \"Villa Manin\",\n",
      "        \"address\": \"Villa Manin, Campolongo Maggiore, Veneto\",\n",
      "        \"latitude\": 45.3305355,\n",
      "        \"longitude\": 12.0483135\n",
      "      },\n",
      "      \"start_date\": \"2025-09-27T07:13:00Z\",\n",
      "      \"end_date\": \"2025-09-27T09:13:00Z\",\n",
      "      \"url\": \"https://example.com/veneto-events/59\"\n",
      "    },\n",
      "    {\n",
      "      \"id\": \"260\",\n",
      "      \"title\": \"Cortina d'Ampezzo Workshop Event #60\",\n",
      "      \"category\": \"Workshop\",\n",
      "      \"description\": \"Unwind and enjoy a delightful workshop experience in Cortina d'Ampezzo at the picturesque Passo Giau. Relax and take in the atmosphere.\",\n",
      "      \"city\": \"Cortina d'Ampezzo\",\n",
      "      \"location\": {\n",
      "        \"venue\": \"Passo Giau\",\n",
      "        \"address\": \"Passo Giau, Cortina d'Ampezzo, Veneto\",\n",
      "        \"latitude\": 46.5383332,\n",
      "        \"longitude\": 12.1373506\n",
      "      },\n",
      "      \"start_date\": \"2025-09-28T07:57:00Z\",\n",
      "      \"end_date\": \"2025-09-28T08:57:00Z\",\n",
      "      \"url\": \"https://example.com/veneto-events/60\"\n",
      "    },\n",
      "    {\n",
      "      \"id\": \"261\",\n",
      "      \"title\": \"San Vito di Cadore Arts & Crafts Event #61\",\n",
      "      \"category\": \"Arts & Crafts\",\n",
      "      \"description\": \"Unwind and enjoy a delightful arts & crafts experience in San Vito di Cadore at the picturesque Chiesa di San Vito. Relax and take in the atmosphere.\",\n",
      "      \"city\": \"San Vito di Cadore\",\n",
      "      \"location\": {\n",
      "        \"venue\": \"Chiesa di San Vito\",\n",
      "        \"address\": \"Chiesa di San Vito, San Vito di Cadore, Veneto\",\n",
      "        \"latitude\": 46.458966,\n",
      "        \"longitude\": 12.2057415\n",
      "      },\n",
      "      \"start_date\": \"2025-09-28T13:06:00Z\",\n",
      "      \"end_date\": \"2025-09-28T18:06:00Z\",\n",
      "      \"url\": \"https://example.com/veneto-events/61\"\n",
      "    },\n",
      "    {\n",
      "      \"id\": \"262\",\n",
      "      \"title\": \"Legnago Theatre Event #62\",\n",
      "      \"category\": \"Theatre\",\n",
      "      \"description\": \"Unwind and enjoy a delightful theatre experience in Legnago at the picturesque Castello di Legnago. Relax and take in the atmosphere.\",\n",
      "      \"city\": \"Legnago\",\n",
      "      \"location\": {\n",
      "        \"venue\": \"Castello di Legnago\",\n",
      "        \"address\": \"Castello di Legnago, Legnago, Veneto\",\n",
      "        \"latitude\": 45.192498,\n",
      "        \"longitude\": 11.3111274\n",
      "      },\n",
      "      \"start_date\": \"2025-09-28T20:10:00Z\",\n",
      "      \"end_date\": \"2025-09-29T06:10:00Z\",\n",
      "      \"url\": \"https://example.com/veneto-events/62\"\n",
      "    },\n",
      "    {\n",
      "      \"id\": \"263\",\n",
      "      \"title\": \"Noale Conference Event #63\",\n",
      "      \"category\": \"Conference\",\n",
      "      \"description\": \"Immerse yourself in the rich culture of Noale with this engaging conference event at the iconic Chiesa di San Giovanni Battista. It's the perfect way to spend your time.\",\n",
      "      \"city\": \"Noale\",\n",
      "      \"location\": {\n",
      "        \"venue\": \"Chiesa di San Giovanni Battista\",\n",
      "        \"address\": \"Chiesa di San Giovanni Battista, Noale, Veneto\",\n",
      "        \"latitude\": 45.550156,\n",
      "        \"longitude\": 12.0720437\n",
      "      },\n",
      "      \"start_date\": \"2025-09-26T14:40:00Z\",\n",
      "      \"end_date\": \"2025-09-26T22:40:00Z\",\n",
      "      \"url\": \"https://example.com/veneto-events/63\"\n",
      "    },\n",
      "    {\n",
      "      \"id\": \"264\",\n",
      "      \"title\": \"Conegliano Sport Event #64\",\n",
      "      \"category\": \"Sport\",\n",
      "      \"description\": \"Expand your horizons with this insightful sport event in Conegliano, hosted at the distinguished Parco Mozart. Learn something new and be inspired.\",\n",
      "      \"city\": \"Conegliano\",\n",
      "      \"location\": {\n",
      "        \"venue\": \"Parco Mozart\",\n",
      "        \"address\": \"Parco Mozart, Conegliano, Veneto\",\n",
      "        \"latitude\": 45.8862172,\n",
      "        \"longitude\": 12.2977566\n",
      "      },\n",
      "      \"start_date\": \"2025-09-29T09:33:00Z\",\n",
      "      \"end_date\": \"2025-09-29T13:33:00Z\",\n",
      "      \"url\": \"https://example.com/veneto-events/64\"\n",
      "    },\n",
      "    {\n",
      "      \"id\": \"265\",\n",
      "      \"title\": \"Belluno Food & Drink Event #65\",\n",
      "      \"category\": \"Food & Drink\",\n",
      "      \"description\": \"Unwind and enjoy a delightful food & drink experience in Belluno at the picturesque Chiesa di Santo Stefano. Relax and take in the atmosphere.\",\n",
      "      \"city\": \"Belluno\",\n",
      "      \"location\": {\n",
      "        \"venue\": \"Chiesa di Santo Stefano\",\n",
      "        \"address\": \"Chiesa di Santo Stefano, Belluno, Veneto\",\n",
      "        \"latitude\": 46.1375185,\n",
      "        \"longitude\": 12.2181711\n",
      "      },\n",
      "      \"start_date\": \"2025-09-26T02:17:00Z\",\n",
      "      \"end_date\": \"2025-09-26T04:17:00Z\",\n",
      "      \"url\": \"https://example.com/veneto-events/65\"\n",
      "    },\n",
      "    {\n",
      "      \"id\": \"266\",\n",
      "      \"title\": \"Borgo Valsugana Food & Drink Event #66\",\n",
      "      \"category\": \"Food & Drink\",\n",
      "      \"description\": \"Immerse yourself in the rich culture of Borgo Valsugana with this engaging food & drink event at the iconic Ponte Vecchio. It's the perfect way to spend your time.\",\n",
      "      \"city\": \"Borgo Valsugana\",\n",
      "      \"location\": {\n",
      "        \"venue\": \"Ponte Vecchio\",\n",
      "        \"address\": \"Ponte Vecchio, Borgo Valsugana, Veneto\",\n",
      "        \"latitude\": 45.7674809,\n",
      "        \"longitude\": 11.7317415\n",
      "      },\n",
      "      \"start_date\": \"2025-09-27T05:02:00Z\",\n",
      "      \"end_date\": \"2025-09-27T09:02:00Z\",\n",
      "      \"url\": \"https://example.com/veneto-events/66\"\n",
      "    },\n",
      "    {\n",
      "      \"id\": \"267\",\n",
      "      \"title\": \"Vittorio Veneto Theatre Event #67\",\n",
      "      \"category\": \"Theatre\",\n",
      "      \"description\": \"Expand your horizons with this insightful theatre event in Vittorio Veneto, hosted at the distinguished Museo della Battaglia. Learn something new and be inspired.\",\n",
      "      \"city\": \"Vittorio Veneto\",\n",
      "      \"location\": {\n",
      "        \"venue\": \"Museo della Battaglia\",\n",
      "        \"address\": \"Museo della Battaglia, Vittorio Veneto, Veneto\",\n",
      "        \"latitude\": 45.9897826,\n",
      "        \"longitude\": 12.2957596\n",
      "      },\n",
      "      \"start_date\": \"2025-09-28T23:53:00Z\",\n",
      "      \"end_date\": \"2025-09-29T02:53:00Z\",\n",
      "      \"url\": \"https://example.com/veneto-events/67\"\n",
      "    },\n",
      "    {\n",
      "      \"id\": \"268\",\n",
      "      \"title\": \"Jesolo Exhibition Event #68\",\n",
      "      \"category\": \"Exhibition\",\n",
      "      \"description\": \"Step into a world of wonder at this extraordinary exhibition event in Jesolo, held at the historic Jesolo Beach. Prepare to be amazed!\",\n",
      "      \"city\": \"Jesolo\",\n",
      "      \"location\": {\n",
      "        \"venue\": \"Jesolo Beach\",\n",
      "        \"address\": \"Jesolo Beach, Jesolo, Veneto\",\n",
      "        \"latitude\": 45.5367094,\n",
      "        \"longitude\": 12.6383337\n",
      "      },\n",
      "      \"start_date\": \"2025-09-26T16:14:00Z\",\n",
      "      \"end_date\": \"2025-09-26T21:14:00Z\",\n",
      "      \"url\": \"https://example.com/veneto-events/68\"\n",
      "    },\n",
      "    {\n",
      "      \"id\": \"269\",\n",
      "      \"title\": \"Schio Festival Event #69\",\n",
      "      \"category\": \"Festival\",\n",
      "      \"description\": \"Explore the vibrant festival scene in Schio with this special event at Parco della Fabbrica Alta. Get ready for a day filled with discovery and enjoyment.\",\n",
      "      \"city\": \"Schio\",\n",
      "      \"location\": {\n",
      "        \"venue\": \"Parco della Fabbrica Alta\",\n",
      "        \"address\": \"Parco della Fabbrica Alta, Schio, Veneto\",\n",
      "        \"latitude\": 45.7113511,\n",
      "        \"longitude\": 11.3553593\n",
      "      },\n",
      "      \"start_date\": \"2025-09-27T18:49:00Z\",\n",
      "      \"end_date\": \"2025-09-27T19:49:00Z\",\n",
      "      \"url\": \"https://example.com/veneto-events/69\"\n",
      "    },\n",
      "    {\n",
      "      \"id\": \"270\",\n",
      "      \"title\": \"Abano Terme Festival Event #70\",\n",
      "      \"category\": \"Festival\",\n",
      "      \"description\": \"Dive into the world of festival at this exciting gathering in Abano Terme. Located at the renowned Piazza del Sole e della Pace, it's an event you won't want to miss.\",\n",
      "      \"city\": \"Abano Terme\",\n",
      "      \"location\": {\n",
      "        \"venue\": \"Piazza del Sole e della Pace\",\n",
      "        \"address\": \"Piazza del Sole e della Pace, Abano Terme, Veneto\",\n",
      "        \"latitude\": 45.3603142,\n",
      "        \"longitude\": 11.7897833\n",
      "      },\n",
      "      \"start_date\": \"2025-09-26T10:57:00Z\",\n",
      "      \"end_date\": \"2025-09-26T13:57:00Z\",\n",
      "      \"url\": \"https://example.com/veneto-events/70\"\n",
      "    },\n",
      "    {\n",
      "      \"id\": \"271\",\n",
      "      \"title\": \"Este Sport Event #71\",\n",
      "      \"category\": \"Sport\",\n",
      "      \"description\": \"Connect with fellow enthusiasts at this lively sport event in Este, taking place at the welcoming Duomo di Santa Tecla. Share your passion and make new friends.\",\n",
      "      \"city\": \"Este\",\n",
      "      \"location\": {\n",
      "        \"venue\": \"Duomo di Santa Tecla\",\n",
      "        \"address\": \"Duomo di Santa Tecla, Este, Veneto\",\n",
      "        \"latitude\": 45.2299866,\n",
      "        \"longitude\": 11.6536381\n",
      "      },\n",
      "      \"start_date\": \"2025-09-28T19:46:00Z\",\n",
      "      \"end_date\": \"2025-09-28T22:46:00Z\",\n",
      "      \"url\": \"https://example.com/veneto-events/71\"\n",
      "    },\n",
      "    {\n",
      "      \"id\": \"272\",\n",
      "      \"title\": \"Abano Terme Festival Event #72\",\n",
      "      \"category\": \"Festival\",\n",
      "      \"description\": \"Dive into the world of festival at this exciting gathering in Abano Terme. Located at the renowned Museo Villa Bassi Rathgeb, it's an event you won't want to miss.\",\n",
      "      \"city\": \"Abano Terme\",\n",
      "      \"location\": {\n",
      "        \"venue\": \"Museo Villa Bassi Rathgeb\",\n",
      "        \"address\": \"Museo Villa Bassi Rathgeb, Abano Terme, Veneto\",\n",
      "        \"latitude\": 45.3603142,\n",
      "        \"longitude\": 11.7897833\n",
      "      },\n",
      "      \"start_date\": \"2025-09-28T09:12:00Z\",\n",
      "      \"end_date\": \"2025-09-28T18:12:00Z\",\n",
      "      \"url\": \"https://example.com/veneto-events/72\"\n",
      "    },\n",
      "    {\n",
      "      \"id\": \"273\",\n",
      "      \"title\": \"Portogruaro Festival Event #73\",\n",
      "      \"category\": \"Festival\",\n",
      "      \"description\": \"Dive into the world of festival at this exciting gathering in Portogruaro. Located at the renowned Palazzo degli Asburgo, it's an event you won't want to miss.\",\n",
      "      \"city\": \"Portogruaro\",\n",
      "      \"location\": {\n",
      "        \"venue\": \"Palazzo degli Asburgo\",\n",
      "        \"address\": \"Palazzo degli Asburgo, Portogruaro, Veneto\",\n",
      "        \"latitude\": 45.775598,\n",
      "        \"longitude\": 12.8374571\n",
      "      },\n",
      "      \"start_date\": \"2025-09-28T23:58:00Z\",\n",
      "      \"end_date\": \"2025-09-29T02:58:00Z\",\n",
      "      \"url\": \"https://example.com/veneto-events/73\"\n",
      "    },\n",
      "    {\n",
      "      \"id\": \"274\",\n",
      "      \"title\": \"Castelfranco Veneto Theatre Event #74\",\n",
      "      \"category\": \"Theatre\",\n",
      "      \"description\": \"Expand your horizons with this insightful theatre event in Castelfranco Veneto, hosted at the distinguished Villa Revedin Bolasco. Learn something new and be inspired.\",\n",
      "      \"city\": \"Castelfranco Veneto\",\n",
      "      \"location\": {\n",
      "        \"venue\": \"Villa Revedin Bolasco\",\n",
      "        \"address\": \"Villa Revedin Bolasco, Castelfranco Veneto, Veneto\",\n",
      "        \"latitude\": 45.671139,\n",
      "        \"longitude\": 11.9265624\n",
      "      },\n",
      "      \"start_date\": \"2025-09-28T20:20:00Z\",\n",
      "      \"end_date\": \"2025-09-29T01:20:00Z\",\n",
      "      \"url\": \"https://example.com/veneto-events/74\"\n",
      "    },\n",
      "    {\n",
      "      \"id\": \"275\",\n",
      "      \"title\": \"Treviso Sport Event #75\",\n",
      "      \"category\": \"Sport\",\n",
      "      \"description\": \"Connect with fellow enthusiasts at this lively sport event in Treviso, taking place at the welcoming Fontana delle Tette. Share your passion and make new friends.\",\n",
      "      \"city\": \"Treviso\",\n",
      "      \"location\": {\n",
      "        \"venue\": \"Fontana delle Tette\",\n",
      "        \"address\": \"Fontana delle Tette, Treviso, Veneto\",\n",
      "        \"latitude\": 45.6658505,\n",
      "        \"longitude\": 12.2455414\n",
      "      },\n",
      "      \"start_date\": \"2025-09-29T14:35:00Z\",\n",
      "      \"end_date\": \"2025-09-29T18:35:00Z\",\n",
      "      \"url\": \"https://example.com/veneto-events/75\"\n",
      "    },\n",
      "    {\n",
      "      \"id\": \"276\",\n",
      "      \"title\": \"Vicenza Exhibition Event #76\",\n",
      "      \"category\": \"Exhibition\",\n",
      "      \"description\": \"Explore the vibrant exhibition scene in Vicenza with this special event at Giardino Salvi. Get ready for a day filled with discovery and enjoyment.\",\n",
      "      \"city\": \"Vicenza\",\n",
      "      \"location\": {\n",
      "        \"venue\": \"Giardino Salvi\",\n",
      "        \"address\": \"Giardino Salvi, Vicenza, Veneto\",\n",
      "        \"latitude\": 45.5488306,\n",
      "        \"longitude\": 11.5478825\n",
      "      },\n",
      "      \"start_date\": \"2025-09-26T15:32:00Z\",\n",
      "      \"end_date\": \"2025-09-26T18:32:00Z\",\n",
      "      \"url\": \"https://example.com/veneto-events/76\"\n",
      "    },\n",
      "    {\n",
      "      \"id\": \"277\",\n",
      "      \"title\": \"Bassano del Grappa Festival Event #77\",\n",
      "      \"category\": \"Festival\",\n",
      "      \"description\": \"Unwind and enjoy a delightful festival experience in Bassano del Grappa at the picturesque Palazzo Agostinelli. Relax and take in the atmosphere.\",\n",
      "      \"city\": \"Bassano del Grappa\",\n",
      "      \"location\": {\n",
      "        \"venue\": \"Palazzo Agostinelli\",\n",
      "        \"address\": \"Palazzo Agostinelli, Bassano del Grappa, Veneto\",\n",
      "        \"latitude\": 45.7669109,\n",
      "        \"longitude\": 11.7343469\n",
      "      },\n",
      "      \"start_date\": \"2025-09-27T01:50:00Z\",\n",
      "      \"end_date\": \"2025-09-27T04:50:00Z\",\n",
      "      \"url\": \"https://example.com/veneto-events/77\"\n",
      "    },\n",
      "    {\n",
      "      \"id\": \"278\",\n",
      "      \"title\": \"Este Music Event #78\",\n",
      "      \"category\": \"Music\",\n",
      "      \"description\": \"A unique music opportunity awaits you in Este. Join us at the charming Villa Contarini for an event designed to inspire and entertain.\",\n",
      "      \"city\": \"Este\",\n",
      "      \"location\": {\n",
      "        \"venue\": \"Villa Contarini\",\n",
      "        \"address\": \"Villa Contarini, Este, Veneto\",\n",
      "        \"latitude\": 45.2240069,\n",
      "        \"longitude\": 11.659796\n",
      "      },\n",
      "      \"start_date\": \"2025-09-27T11:49:00Z\",\n",
      "      \"end_date\": \"2025-09-27T19:49:00Z\",\n",
      "      \"url\": \"https://example.com/veneto-events/78\"\n",
      "    },\n",
      "    {\n",
      "      \"id\": \"279\",\n",
      "      \"title\": \"Adria Music Event #79\",\n",
      "      \"category\": \"Music\",\n",
      "      \"description\": \"Dive into the world of music at this exciting gathering in Adria. Located at the renowned Villa Mecenati, it's an event you won't want to miss.\",\n",
      "      \"city\": \"Adria\",\n",
      "      \"location\": {\n",
      "        \"venue\": \"Villa Mecenati\",\n",
      "        \"address\": \"Villa Mecenati, Adria, Veneto\",\n",
      "        \"latitude\": 45.0531228,\n",
      "        \"longitude\": 12.0572\n",
      "      },\n",
      "      \"start_date\": \"2025-09-28T05:24:00Z\",\n",
      "      \"end_date\": \"2025-09-28T12:24:00Z\",\n",
      "      \"url\": \"https://example.com/veneto-events/79\"\n",
      "    },\n",
      "    {\n",
      "      \"id\": \"280\",\n",
      "      \"title\": \"Castelfranco Veneto Workshop Event #80\",\n",
      "      \"category\": \"Workshop\",\n",
      "      \"description\": \"Expand your horizons with this insightful workshop event in Castelfranco Veneto, hosted at the distinguished Duomo di Castelfranco. Learn something new and be inspired.\",\n",
      "      \"city\": \"Castelfranco Veneto\",\n",
      "      \"location\": {\n",
      "        \"venue\": \"Duomo di Castelfranco\",\n",
      "        \"address\": \"Duomo di Castelfranco, Castelfranco Veneto, Veneto\",\n",
      "        \"latitude\": 45.671139,\n",
      "        \"longitude\": 11.9265624\n",
      "      },\n",
      "      \"start_date\": \"2025-09-26T15:35:00Z\",\n",
      "      \"end_date\": \"2025-09-26T23:35:00Z\",\n",
      "      \"url\": \"https://example.com/veneto-events/80\"\n",
      "    },\n",
      "    {\n",
      "      \"id\": \"281\",\n",
      "      \"title\": \"Vicenza Arts & Crafts Event #81\",\n",
      "      \"category\": \"Arts & Crafts\",\n",
      "      \"description\": \"A unique arts & crafts opportunity awaits you in Vicenza. Join us at the charming Villa La Rotonda for an event designed to inspire and entertain.\",\n",
      "      \"city\": \"Vicenza\",\n",
      "      \"location\": {\n",
      "        \"venue\": \"Villa La Rotonda\",\n",
      "        \"address\": \"Villa La Rotonda, Vicenza, Veneto\",\n",
      "        \"latitude\": 45.5488306,\n",
      "        \"longitude\": 11.5478825\n",
      "      },\n",
      "      \"start_date\": \"2025-09-28T17:45:00Z\",\n",
      "      \"end_date\": \"2025-09-28T21:45:00Z\",\n",
      "      \"url\": \"https://example.com/veneto-events/81\"\n",
      "    },\n",
      "    {\n",
      "      \"id\": \"282\",\n",
      "      \"title\": \"Pedavena Theatre Event #82\",\n",
      "      \"category\": \"Theatre\",\n",
      "      \"description\": \"Connect with fellow enthusiasts at this lively theatre event in Pedavena, taking place at the welcoming Piazza Martiri. Share your passion and make new friends.\",\n",
      "      \"city\": \"Pedavena\",\n",
      "      \"location\": {\n",
      "        \"venue\": \"Piazza Martiri\",\n",
      "        \"address\": \"Piazza Martiri, Pedavena, Veneto\",\n",
      "        \"latitude\": 46.0396242,\n",
      "        \"longitude\": 11.8804327\n",
      "      },\n",
      "      \"start_date\": \"2025-09-26T16:29:00Z\",\n",
      "      \"end_date\": \"2025-09-26T18:29:00Z\",\n",
      "      \"url\": \"https://example.com/veneto-events/82\"\n",
      "    },\n",
      "    {\n",
      "      \"id\": \"283\",\n",
      "      \"title\": \"Asolo Workshop Event #83\",\n",
      "      \"category\": \"Workshop\",\n",
      "      \"description\": \"Connect with fellow enthusiasts at this lively workshop event in Asolo, taking place at the welcoming Church of Santa Caterina. Share your passion and make new friends.\",\n",
      "      \"city\": \"Asolo\",\n",
      "      \"location\": {\n",
      "        \"venue\": \"Church of Santa Caterina\",\n",
      "        \"address\": \"Church of Santa Caterina, Asolo, Veneto\",\n",
      "        \"latitude\": 45.8007265,\n",
      "        \"longitude\": 11.9142444\n",
      "      },\n",
      "      \"start_date\": \"2025-09-26T12:52:00Z\",\n",
      "      \"end_date\": \"2025-09-26T14:52:00Z\",\n",
      "      \"url\": \"https://example.com/veneto-events/83\"\n",
      "    },\n",
      "    {\n",
      "      \"id\": \"284\",\n",
      "      \"title\": \"Cavarzere Exhibition Event #84\",\n",
      "      \"category\": \"Exhibition\",\n",
      "      \"description\": \"A unique exhibition opportunity awaits you in Cavarzere. Join us at the charming Parco della Rimembranza for an event designed to inspire and entertain.\",\n",
      "      \"city\": \"Cavarzere\",\n",
      "      \"location\": {\n",
      "        \"venue\": \"Parco della Rimembranza\",\n",
      "        \"address\": \"Parco della Rimembranza, Cavarzere, Veneto\",\n",
      "        \"latitude\": 45.1360987,\n",
      "        \"longitude\": 12.0812854\n",
      "      },\n",
      "      \"start_date\": \"2025-09-27T03:10:00Z\",\n",
      "      \"end_date\": \"2025-09-27T05:10:00Z\",\n",
      "      \"url\": \"https://example.com/veneto-events/84\"\n",
      "    },\n",
      "    {\n",
      "      \"id\": \"285\",\n",
      "      \"title\": \"Jesolo Festival Event #85\",\n",
      "      \"category\": \"Festival\",\n",
      "      \"description\": \"Seeking adventure in Jesolo? Look no further than this captivating festival event at Jesolo Beach. Fun and excitement are guaranteed!\",\n",
      "      \"city\": \"Jesolo\",\n",
      "      \"location\": {\n",
      "        \"venue\": \"Jesolo Beach\",\n",
      "        \"address\": \"Jesolo Beach, Jesolo, Veneto\",\n",
      "        \"latitude\": 45.5367094,\n",
      "        \"longitude\": 12.6383337\n",
      "      },\n",
      "      \"start_date\": \"2025-09-27T22:58:00Z\",\n",
      "      \"end_date\": \"2025-09-28T01:58:00Z\",\n",
      "      \"url\": \"https://example.com/veneto-events/85\"\n",
      "    },\n",
      "    {\n",
      "      \"id\": \"286\",\n",
      "      \"title\": \"Malcesine Food & Drink Event #86\",\n",
      "      \"category\": \"Food & Drink\",\n",
      "      \"description\": \"Expand your horizons with this insightful food & drink event in Malcesine, hosted at the distinguished Castello Scaligero di Malcesine. Learn something new and be inspired.\",\n",
      "      \"city\": \"Malcesine\",\n",
      "      \"location\": {\n",
      "        \"venue\": \"Castello Scaligero di Malcesine\",\n",
      "        \"address\": \"Castello Scaligero di Malcesine, Malcesine, Veneto\",\n",
      "        \"latitude\": 45.7643442,\n",
      "        \"longitude\": 10.8100598\n",
      "      },\n",
      "      \"start_date\": \"2025-09-26T06:48:00Z\",\n",
      "      \"end_date\": \"2025-09-26T12:48:00Z\",\n",
      "      \"url\": \"https://example.com/veneto-events/86\"\n",
      "    },\n",
      "    {\n",
      "      \"id\": \"287\",\n",
      "      \"title\": \"Mirano Theatre Event #87\",\n",
      "      \"category\": \"Theatre\",\n",
      "      \"description\": \"Seeking adventure in Mirano? Look no further than this captivating theatre event at Villa Erizzo. Fun and excitement are guaranteed!\",\n",
      "      \"city\": \"Mirano\",\n",
      "      \"location\": {\n",
      "        \"venue\": \"Villa Erizzo\",\n",
      "        \"address\": \"Villa Erizzo, Mirano, Veneto\",\n",
      "        \"latitude\": 45.4927695,\n",
      "        \"longitude\": 12.1098768\n",
      "      },\n",
      "      \"start_date\": \"2025-09-26T18:41:00Z\",\n",
      "      \"end_date\": \"2025-09-26T19:41:00Z\",\n",
      "      \"url\": \"https://example.com/veneto-events/87\"\n",
      "    },\n",
      "    {\n",
      "      \"id\": \"288\",\n",
      "      \"title\": \"Vicenza Tour Event #88\",\n",
      "      \"category\": \"Tour\",\n",
      "      \"description\": \"Step into a world of wonder at this extraordinary tour event in Vicenza, held at the historic Palazzo Barbaran da Porto. Prepare to be amazed!\",\n",
      "      \"city\": \"Vicenza\",\n",
      "      \"location\": {\n",
      "        \"venue\": \"Palazzo Barbaran da Porto\",\n",
      "        \"address\": \"Palazzo Barbaran da Porto, Vicenza, Veneto\",\n",
      "        \"latitude\": 45.5488306,\n",
      "        \"longitude\": 11.5478825\n",
      "      },\n",
      "      \"start_date\": \"2025-09-29T15:48:00Z\",\n",
      "      \"end_date\": \"2025-09-29T20:48:00Z\",\n",
      "      \"url\": \"https://example.com/veneto-events/88\"\n",
      "    },\n",
      "    {\n",
      "      \"id\": \"289\",\n",
      "      \"title\": \"Mestre Sport Event #89\",\n",
      "      \"category\": \"Sport\",\n",
      "      \"description\": \"Prepare for an unforgettable sport experience in the stunning city of Mestre, held at the magnificent Church of San Lorenzo. This event promises to be a highlight of the season!\",\n",
      "      \"city\": \"Mestre\",\n",
      "      \"location\": {\n",
      "        \"venue\": \"Church of San Lorenzo\",\n",
      "        \"address\": \"Church of San Lorenzo, Mestre, Veneto\",\n",
      "        \"latitude\": 45.4943063,\n",
      "        \"longitude\": 12.2418053\n",
      "      },\n",
      "      \"start_date\": \"2025-09-26T07:39:00Z\",\n",
      "      \"end_date\": \"2025-09-26T12:39:00Z\",\n",
      "      \"url\": \"https://example.com/veneto-events/89\"\n",
      "    },\n",
      "    {\n",
      "      \"id\": \"290\",\n",
      "      \"title\": \"Caorle Theatre Event #90\",\n",
      "      \"category\": \"Theatre\",\n",
      "      \"description\": \"A unique theatre opportunity awaits you in Caorle. Join us at the charming Luna Park for an event designed to inspire and entertain.\",\n",
      "      \"city\": \"Caorle\",\n",
      "      \"location\": {\n",
      "        \"venue\": \"Luna Park\",\n",
      "        \"address\": \"Luna Park, Caorle, Veneto\",\n",
      "        \"latitude\": 45.5979147,\n",
      "        \"longitude\": 12.8876282\n",
      "      },\n",
      "      \"start_date\": \"2025-09-26T03:05:00Z\",\n",
      "      \"end_date\": \"2025-09-26T09:05:00Z\",\n",
      "      \"url\": \"https://example.com/veneto-events/90\"\n",
      "    },\n",
      "    {\n",
      "      \"id\": \"291\",\n",
      "      \"title\": \"Marostica Tour Event #91\",\n",
      "      \"category\": \"Tour\",\n",
      "      \"description\": \"Connect with fellow enthusiasts at this lively tour event in Marostica, taking place at the welcoming Museo dei Costumi. Share your passion and make new friends.\",\n",
      "      \"city\": \"Marostica\",\n",
      "      \"location\": {\n",
      "        \"venue\": \"Museo dei Costumi\",\n",
      "        \"address\": \"Museo dei Costumi, Marostica, Veneto\",\n",
      "        \"latitude\": 45.7453924,\n",
      "        \"longitude\": 11.6568938\n",
      "      },\n",
      "      \"start_date\": \"2025-09-29T02:14:00Z\",\n",
      "      \"end_date\": \"2025-09-29T11:14:00Z\",\n",
      "      \"url\": \"https://example.com/veneto-events/91\"\n",
      "    },\n",
      "    {\n",
      "      \"id\": \"292\",\n",
      "      \"title\": \"Campolongo Maggiore Exhibition Event #92\",\n",
      "      \"category\": \"Exhibition\",\n",
      "      \"description\": \"Immerse yourself in the rich culture of Campolongo Maggiore with this engaging exhibition event at the iconic Museo della Civilt\\u00e0 Contadina. It's the perfect way to spend your time.\",\n",
      "      \"city\": \"Campolongo Maggiore\",\n",
      "      \"location\": {\n",
      "        \"venue\": \"Museo della Civilt\\u00e0 Contadina\",\n",
      "        \"address\": \"Museo della Civilt\\u00e0 Contadina, Campolongo Maggiore, Veneto\",\n",
      "        \"latitude\": 45.3305355,\n",
      "        \"longitude\": 12.0483135\n",
      "      },\n",
      "      \"start_date\": \"2025-09-28T15:52:00Z\",\n",
      "      \"end_date\": \"2025-09-28T23:52:00Z\",\n",
      "      \"url\": \"https://example.com/veneto-events/92\"\n",
      "    },\n",
      "    {\n",
      "      \"id\": \"293\",\n",
      "      \"title\": \"Abano Terme Sport Event #93\",\n",
      "      \"category\": \"Sport\",\n",
      "      \"description\": \"Unwind and enjoy a delightful sport experience in Abano Terme at the picturesque Montirone Park. Relax and take in the atmosphere.\",\n",
      "      \"city\": \"Abano Terme\",\n",
      "      \"location\": {\n",
      "        \"venue\": \"Montirone Park\",\n",
      "        \"address\": \"Montirone Park, Abano Terme, Veneto\",\n",
      "        \"latitude\": 45.3603142,\n",
      "        \"longitude\": 11.7897833\n",
      "      },\n",
      "      \"start_date\": \"2025-09-27T08:18:00Z\",\n",
      "      \"end_date\": \"2025-09-27T16:18:00Z\",\n",
      "      \"url\": \"https://example.com/veneto-events/93\"\n",
      "    },\n",
      "    {\n",
      "      \"id\": \"294\",\n",
      "      \"title\": \"Peschiera del Garda Music Event #94\",\n",
      "      \"category\": \"Music\",\n",
      "      \"description\": \"Prepare for an unforgettable music experience in the stunning city of Peschiera del Garda, held at the magnificent Piazza Ferdinando di Savoia. This event promises to be a highlight of the season!\",\n",
      "      \"city\": \"Peschiera del Garda\",\n",
      "      \"location\": {\n",
      "        \"venue\": \"Piazza Ferdinando di Savoia\",\n",
      "        \"address\": \"Piazza Ferdinando di Savoia, Peschiera del Garda, Veneto\",\n",
      "        \"latitude\": 45.4379905,\n",
      "        \"longitude\": 10.6951136\n",
      "      },\n",
      "      \"start_date\": \"2025-09-27T00:07:00Z\",\n",
      "      \"end_date\": \"2025-09-27T04:07:00Z\",\n",
      "      \"url\": \"https://example.com/veneto-events/94\"\n",
      "    },\n",
      "    {\n",
      "      \"id\": \"295\",\n",
      "      \"title\": \"Padua Workshop Event #95\",\n",
      "      \"category\": \"Workshop\",\n",
      "      \"description\": \"Expand your horizons with this insightful workshop event in Padua, hosted at the distinguished Piazza dei Frutti. Learn something new and be inspired.\",\n",
      "      \"city\": \"Padua\",\n",
      "      \"location\": {\n",
      "        \"venue\": \"Piazza dei Frutti\",\n",
      "        \"address\": \"Piazza dei Frutti, Padua, Veneto\",\n",
      "        \"latitude\": 45.407648,\n",
      "        \"longitude\": 11.8753473\n",
      "      },\n",
      "      \"start_date\": \"2025-09-27T04:03:00Z\",\n",
      "      \"end_date\": \"2025-09-27T11:03:00Z\",\n",
      "      \"url\": \"https://example.com/veneto-events/95\"\n",
      "    },\n",
      "    {\n",
      "      \"id\": \"296\",\n",
      "      \"title\": \"Castelfranco Veneto Workshop Event #96\",\n",
      "      \"category\": \"Workshop\",\n",
      "      \"description\": \"Step into a world of wonder at this extraordinary workshop event in Castelfranco Veneto, held at the historic Castello di Castelfranco. Prepare to be amazed!\",\n",
      "      \"city\": \"Castelfranco Veneto\",\n",
      "      \"location\": {\n",
      "        \"venue\": \"Castello di Castelfranco\",\n",
      "        \"address\": \"Castello di Castelfranco, Castelfranco Veneto, Veneto\",\n",
      "        \"latitude\": 45.671139,\n",
      "        \"longitude\": 11.9265624\n",
      "      },\n",
      "      \"start_date\": \"2025-09-29T17:52:00Z\",\n",
      "      \"end_date\": \"2025-09-29T23:52:00Z\",\n",
      "      \"url\": \"https://example.com/veneto-events/96\"\n",
      "    },\n",
      "    {\n",
      "      \"id\": \"297\",\n",
      "      \"title\": \"Vicenza Conference Event #97\",\n",
      "      \"category\": \"Conference\",\n",
      "      \"description\": \"Immerse yourself in the rich culture of Vicenza with this engaging conference event at the iconic Basilica Palladiana. It's the perfect way to spend your time.\",\n",
      "      \"city\": \"Vicenza\",\n",
      "      \"location\": {\n",
      "        \"venue\": \"Basilica Palladiana\",\n",
      "        \"address\": \"Basilica Palladiana, Vicenza, Veneto\",\n",
      "        \"latitude\": 45.5488306,\n",
      "        \"longitude\": 11.5478825\n",
      "      },\n",
      "      \"start_date\": \"2025-09-29T20:08:00Z\",\n",
      "      \"end_date\": \"2025-09-29T23:08:00Z\",\n",
      "      \"url\": \"https://example.com/veneto-events/97\"\n",
      "    },\n",
      "    {\n",
      "      \"id\": \"298\",\n",
      "      \"title\": \"Adria Music Event #98\",\n",
      "      \"category\": \"Music\",\n",
      "      \"description\": \"Dive into the world of music at this exciting gathering in Adria. Located at the renowned Villa Mecenati, it's an event you won't want to miss.\",\n",
      "      \"city\": \"Adria\",\n",
      "      \"location\": {\n",
      "        \"venue\": \"Villa Mecenati\",\n",
      "        \"address\": \"Villa Mecenati, Adria, Veneto\",\n",
      "        \"latitude\": 45.0531228,\n",
      "        \"longitude\": 12.0572\n",
      "      },\n",
      "      \"start_date\": \"2025-09-26T18:40:00Z\",\n",
      "      \"end_date\": \"2025-09-26T20:40:00Z\",\n",
      "      \"url\": \"https://example.com/veneto-events/98\"\n",
      "    },\n",
      "    {\n",
      "      \"id\": \"299\",\n",
      "      \"title\": \"Arqu\\u00e0 Petrarca Festival Event #99\",\n",
      "      \"category\": \"Festival\",\n",
      "      \"description\": \"Connect with fellow enthusiasts at this lively festival event in Arqu\\u00e0 Petrarca, taking place at the welcoming Museo Petrarchesco. Share your passion and make new friends.\",\n",
      "      \"city\": \"Arqu\\u00e0 Petrarca\",\n",
      "      \"location\": {\n",
      "        \"venue\": \"Museo Petrarchesco\",\n",
      "        \"address\": \"Museo Petrarchesco, Arqu\\u00e0 Petrarca, Veneto\",\n",
      "        \"latitude\": 45.2700441,\n",
      "        \"longitude\": 11.7165149\n",
      "      },\n",
      "      \"start_date\": \"2025-09-26T03:10:00Z\",\n",
      "      \"end_date\": \"2025-09-26T08:10:00Z\",\n",
      "      \"url\": \"https://example.com/veneto-events/99\"\n",
      "    },\n",
      "    {\n",
      "      \"id\": \"300\",\n",
      "      \"title\": \"Rovigo Arts & Crafts Event #100\",\n",
      "      \"category\": \"Arts & Crafts\",\n",
      "      \"description\": \"A unique arts & crafts opportunity awaits you in Rovigo. Join us at the charming Palazzo Roncale for an event designed to inspire and entertain.\",\n",
      "      \"city\": \"Rovigo\",\n",
      "      \"location\": {\n",
      "        \"venue\": \"Palazzo Roncale\",\n",
      "        \"address\": \"Palazzo Roncale, Rovigo, Veneto\",\n",
      "        \"latitude\": 45.0698166,\n",
      "        \"longitude\": 11.78882\n",
      "      },\n",
      "      \"start_date\": \"2025-09-28T01:18:00Z\",\n",
      "      \"end_date\": \"2025-09-28T04:18:00Z\",\n",
      "      \"url\": \"https://example.com/veneto-events/100\"\n",
      "    },\n",
      "    {\n",
      "      \"id\": \"301\",\n",
      "      \"title\": \"Cortina d'Ampezzo Exhibition Event #101\",\n",
      "      \"category\": \"Exhibition\",\n",
      "      \"description\": \"Prepare for an unforgettable exhibition experience in the stunning city of Cortina d'Ampezzo, held at the magnificent Basilica Minore dei Santi Filippo e Giacomo. This event promises to be a highlight of the season!\",\n",
      "      \"city\": \"Cortina d'Ampezzo\",\n",
      "      \"location\": {\n",
      "        \"venue\": \"Basilica Minore dei Santi Filippo e Giacomo\",\n",
      "        \"address\": \"Basilica Minore dei Santi Filippo e Giacomo, Cortina d'Ampezzo, Veneto\",\n",
      "        \"latitude\": 46.5383332,\n",
      "        \"longitude\": 12.1373506\n",
      "      },\n",
      "      \"start_date\": \"2025-09-26T20:19:00Z\",\n",
      "      \"end_date\": \"2025-09-26T23:19:00Z\",\n",
      "      \"url\": \"https://example.com/veneto-events/101\"\n",
      "    },\n",
      "    {\n",
      "      \"id\": \"302\",\n",
      "      \"title\": \"San Bonifacio Workshop Event #102\",\n",
      "      \"category\": \"Workshop\",\n",
      "      \"description\": \"Step into a world of wonder at this extraordinary workshop event in San Bonifacio, held at the historic Villa Gritti. Prepare to be amazed!\",\n",
      "      \"city\": \"San Bonifacio\",\n",
      "      \"location\": {\n",
      "        \"venue\": \"Villa Gritti\",\n",
      "        \"address\": \"Villa Gritti, San Bonifacio, Veneto\",\n",
      "        \"latitude\": 45.3956425,\n",
      "        \"longitude\": 11.2700817\n",
      "      },\n",
      "      \"start_date\": \"2025-09-29T12:52:00Z\",\n",
      "      \"end_date\": \"2025-09-29T15:52:00Z\",\n",
      "      \"url\": \"https://example.com/veneto-events/102\"\n",
      "    },\n",
      "    {\n",
      "      \"id\": \"303\",\n",
      "      \"title\": \"Valdagno Music Event #103\",\n",
      "      \"category\": \"Music\",\n",
      "      \"description\": \"Step into a world of wonder at this extraordinary music event in Valdagno, held at the historic Museo Civico di Valdagno. Prepare to be amazed!\",\n",
      "      \"city\": \"Valdagno\",\n",
      "      \"location\": {\n",
      "        \"venue\": \"Museo Civico di Valdagno\",\n",
      "        \"address\": \"Museo Civico di Valdagno, Valdagno, Veneto\",\n",
      "        \"latitude\": 45.6413213,\n",
      "        \"longitude\": 11.3040596\n",
      "      },\n",
      "      \"start_date\": \"2025-09-28T08:14:00Z\",\n",
      "      \"end_date\": \"2025-09-28T17:14:00Z\",\n",
      "      \"url\": \"https://example.com/veneto-events/103\"\n",
      "    },\n",
      "    {\n",
      "      \"id\": \"304\",\n",
      "      \"title\": \"Chioggia Food & Drink Event #104\",\n",
      "      \"category\": \"Food & Drink\",\n",
      "      \"description\": \"Step into a world of wonder at this extraordinary food & drink event in Chioggia, held at the historic Isola di Pellestrina. Prepare to be amazed!\",\n",
      "      \"city\": \"Chioggia\",\n",
      "      \"location\": {\n",
      "        \"venue\": \"Isola di Pellestrina\",\n",
      "        \"address\": \"Isola di Pellestrina, Chioggia, Veneto\",\n",
      "        \"latitude\": 45.218894,\n",
      "        \"longitude\": 12.2785805\n",
      "      },\n",
      "      \"start_date\": \"2025-09-26T21:02:00Z\",\n",
      "      \"end_date\": \"2025-09-27T06:02:00Z\",\n",
      "      \"url\": \"https://example.com/veneto-events/104\"\n",
      "    },\n",
      "    {\n",
      "      \"id\": \"305\",\n",
      "      \"title\": \"Mirano Music Event #105\",\n",
      "      \"category\": \"Music\",\n",
      "      \"description\": \"Connect with fellow enthusiasts at this lively music event in Mirano, taking place at the welcoming Piazza Martiri della Libert\\u00e0. Share your passion and make new friends.\",\n",
      "      \"city\": \"Mirano\",\n",
      "      \"location\": {\n",
      "        \"venue\": \"Piazza Martiri della Libert\\u00e0\",\n",
      "        \"address\": \"Piazza Martiri della Libert\\u00e0, Mirano, Veneto\",\n",
      "        \"latitude\": 45.4928792,\n",
      "        \"longitude\": 12.1095192\n",
      "      },\n",
      "      \"start_date\": \"2025-09-28T19:36:00Z\",\n",
      "      \"end_date\": \"2025-09-28T22:36:00Z\",\n",
      "      \"url\": \"https://example.com/veneto-events/105\"\n",
      "    },\n",
      "    {\n",
      "      \"id\": \"306\",\n",
      "      \"title\": \"Schio Music Event #106\",\n",
      "      \"category\": \"Music\",\n",
      "      \"description\": \"Prepare for an unforgettable music experience in the stunning city of Schio, held at the magnificent Fabbrica Alta. This event promises to be a highlight of the season!\",\n",
      "      \"city\": \"Schio\",\n",
      "      \"location\": {\n",
      "        \"venue\": \"Fabbrica Alta\",\n",
      "        \"address\": \"Fabbrica Alta, Schio, Veneto\",\n",
      "        \"latitude\": 45.7113511,\n",
      "        \"longitude\": 11.3553593\n",
      "      },\n",
      "      \"start_date\": \"2025-09-26T23:56:00Z\",\n",
      "      \"end_date\": \"2025-09-27T04:56:00Z\",\n",
      "      \"url\": \"https://example.com/veneto-events/106\"\n",
      "    },\n",
      "    {\n",
      "      \"id\": \"307\",\n",
      "      \"title\": \"Malcesine Workshop Event #107\",\n",
      "      \"category\": \"Workshop\",\n",
      "      \"description\": \"Unwind and enjoy a delightful workshop experience in Malcesine at the picturesque Chiesa di Santo Stefano. Relax and take in the atmosphere.\",\n",
      "      \"city\": \"Malcesine\",\n",
      "      \"location\": {\n",
      "        \"venue\": \"Chiesa di Santo Stefano\",\n",
      "        \"address\": \"Chiesa di Santo Stefano, Malcesine, Veneto\",\n",
      "        \"latitude\": 45.7643442,\n",
      "        \"longitude\": 10.8100598\n",
      "      },\n",
      "      \"start_date\": \"2025-09-27T10:44:00Z\",\n",
      "      \"end_date\": \"2025-09-27T16:44:00Z\",\n",
      "      \"url\": \"https://example.com/veneto-events/107\"\n",
      "    },\n",
      "    {\n",
      "      \"id\": \"308\",\n",
      "      \"title\": \"Vittorio Veneto Tour Event #108\",\n",
      "      \"category\": \"Tour\",\n",
      "      \"description\": \"Unwind and enjoy a delightful tour experience in Vittorio Veneto at the picturesque Piazza del Popolo. Relax and take in the atmosphere.\",\n",
      "      \"city\": \"Vittorio Veneto\",\n",
      "      \"location\": {\n",
      "        \"venue\": \"Piazza del Popolo\",\n",
      "        \"address\": \"Piazza del Popolo, Vittorio Veneto, Veneto\",\n",
      "        \"latitude\": 45.9897336,\n",
      "        \"longitude\": 12.295648\n",
      "      },\n",
      "      \"start_date\": \"2025-09-29T05:33:00Z\",\n",
      "      \"end_date\": \"2025-09-29T07:33:00Z\",\n",
      "      \"url\": \"https://example.com/veneto-events/108\"\n",
      "    },\n",
      "    {\n",
      "      \"id\": \"309\",\n",
      "      \"title\": \"Malcesine Food & Drink Event #109\",\n",
      "      \"category\": \"Food & Drink\",\n",
      "      \"description\": \"Seeking adventure in Malcesine? Look no further than this captivating food & drink event at Funivia Malcesine-Monte Baldo. Fun and excitement are guaranteed!\",\n",
      "      \"city\": \"Malcesine\",\n",
      "      \"location\": {\n",
      "        \"venue\": \"Funivia Malcesine-Monte Baldo\",\n",
      "        \"address\": \"Funivia Malcesine-Monte Baldo, Malcesine, Veneto\",\n",
      "        \"latitude\": 45.7661246,\n",
      "        \"longitude\": 10.8132676\n",
      "      },\n",
      "      \"start_date\": \"2025-09-27T15:06:00Z\",\n",
      "      \"end_date\": \"2025-09-27T16:06:00Z\",\n",
      "      \"url\": \"https://example.com/veneto-events/109\"\n",
      "    },\n",
      "    {\n",
      "      \"id\": \"310\",\n",
      "      \"title\": \"Belluno Festival Event #110\",\n",
      "      \"category\": \"Festival\",\n",
      "      \"description\": \"Expand your horizons with this insightful festival event in Belluno, hosted at the distinguished Ponte della Vittoria. Learn something new and be inspired.\",\n",
      "      \"city\": \"Belluno\",\n",
      "      \"location\": {\n",
      "        \"venue\": \"Ponte della Vittoria\",\n",
      "        \"address\": \"Ponte della Vittoria, Belluno, Veneto\",\n",
      "        \"latitude\": 46.1343674,\n",
      "        \"longitude\": 12.2188234\n",
      "      },\n",
      "      \"start_date\": \"2025-09-28T14:09:00Z\",\n",
      "      \"end_date\": \"2025-09-28T23:09:00Z\",\n",
      "      \"url\": \"https://example.com/veneto-events/110\"\n",
      "    },\n",
      "    {\n",
      "      \"id\": \"311\",\n",
      "      \"title\": \"Vicenza Theatre Event #111\",\n",
      "      \"category\": \"Theatre\",\n",
      "      \"description\": \"Prepare for an unforgettable theatre experience in the stunning city of Vicenza, held at the magnificent Giardino Salvi. This event promises to be a highlight of the season!\",\n",
      "      \"city\": \"Vicenza\",\n",
      "      \"location\": {\n",
      "        \"venue\": \"Giardino Salvi\",\n",
      "        \"address\": \"Giardino Salvi, Vicenza, Veneto\",\n",
      "        \"latitude\": 45.5488306,\n",
      "        \"longitude\": 11.5478825\n",
      "      },\n",
      "      \"start_date\": \"2025-09-27T17:55:00Z\",\n",
      "      \"end_date\": \"2025-09-28T00:55:00Z\",\n",
      "      \"url\": \"https://example.com/veneto-events/111\"\n",
      "    },\n",
      "    {\n",
      "      \"id\": \"312\",\n",
      "      \"title\": \"Castelfranco Veneto Sport Event #112\",\n",
      "      \"category\": \"Sport\",\n",
      "      \"description\": \"Immerse yourself in the rich culture of Castelfranco Veneto with this engaging sport event at the iconic Piazza Giorgione. It's the perfect way to spend your time.\",\n",
      "      \"city\": \"Castelfranco Veneto\",\n",
      "      \"location\": {\n",
      "        \"venue\": \"Piazza Giorgione\",\n",
      "        \"address\": \"Piazza Giorgione, Castelfranco Veneto, Veneto\",\n",
      "        \"latitude\": 45.6729185,\n",
      "        \"longitude\": 11.925768\n",
      "      },\n",
      "      \"start_date\": \"2025-09-27T20:09:00Z\",\n",
      "      \"end_date\": \"2025-09-28T02:09:00Z\",\n",
      "      \"url\": \"https://example.com/veneto-events/112\"\n",
      "    },\n",
      "    {\n",
      "      \"id\": \"313\",\n",
      "      \"title\": \"Caorle Festival Event #113\",\n",
      "      \"category\": \"Festival\",\n",
      "      \"description\": \"Seeking adventure in Caorle? Look no further than this captivating festival event at Luna Park. Fun and excitement are guaranteed!\",\n",
      "      \"city\": \"Caorle\",\n",
      "      \"location\": {\n",
      "        \"venue\": \"Luna Park\",\n",
      "        \"address\": \"Luna Park, Caorle, Veneto\",\n",
      "        \"latitude\": 45.5979147,\n",
      "        \"longitude\": 12.8876282\n",
      "      },\n",
      "      \"start_date\": \"2025-09-27T19:04:00Z\",\n",
      "      \"end_date\": \"2025-09-27T23:04:00Z\",\n",
      "      \"url\": \"https://example.com/veneto-events/113\"\n",
      "    },\n",
      "    {\n",
      "      \"id\": \"314\",\n",
      "      \"title\": \"Padua Conference Event #114\",\n",
      "      \"category\": \"Conference\",\n",
      "      \"description\": \"Prepare for an unforgettable conference experience in the stunning city of Padua, held at the magnificent Cattedrale di Padova. This event promises to be a highlight of the season!\",\n",
      "      \"city\": \"Padua\",\n",
      "      \"location\": {\n",
      "        \"venue\": \"Cattedrale di Padova\",\n",
      "        \"address\": \"Cattedrale di Padova, Padua, Veneto\",\n",
      "        \"latitude\": 45.4077172,\n",
      "        \"longitude\": 11.8734455\n",
      "      },\n",
      "      \"start_date\": \"2025-09-28T14:19:00Z\",\n",
      "      \"end_date\": \"2025-09-28T22:19:00Z\",\n",
      "      \"url\": \"https://example.com/veneto-events/114\"\n",
      "    },\n",
      "    {\n",
      "      \"id\": \"315\",\n",
      "      \"title\": \"Chioggia Tour Event #115\",\n",
      "      \"category\": \"Tour\",\n",
      "      \"description\": \"Unwind and enjoy a delightful tour experience in Chioggia at the picturesque Cattedrale di Santa Maria Assunta. Relax and take in the atmosphere.\",\n",
      "      \"city\": \"Chioggia\",\n",
      "      \"location\": {\n",
      "        \"venue\": \"Cattedrale di Santa Maria Assunta\",\n",
      "        \"address\": \"Cattedrale di Santa Maria Assunta, Chioggia, Veneto\",\n",
      "        \"latitude\": 45.218894,\n",
      "        \"longitude\": 12.2785805\n",
      "      },\n",
      "      \"start_date\": \"2025-09-26T21:35:00Z\",\n",
      "      \"end_date\": \"2025-09-27T06:35:00Z\",\n",
      "      \"url\": \"https://example.com/veneto-events/115\"\n",
      "    },\n",
      "    {\n",
      "      \"id\": \"316\",\n",
      "      \"title\": \"Mogliano Veneto Music Event #116\",\n",
      "      \"category\": \"Music\",\n",
      "      \"description\": \"Expand your horizons with this insightful music event in Mogliano Veneto, hosted at the distinguished Villa Stucky. Learn something new and be inspired.\",\n",
      "      \"city\": \"Mogliano Veneto\",\n",
      "      \"location\": {\n",
      "        \"venue\": \"Villa Stucky\",\n",
      "        \"address\": \"Villa Stucky, Mogliano Veneto, Veneto\",\n",
      "        \"latitude\": 45.5612886,\n",
      "        \"longitude\": 12.2376973\n",
      "      },\n",
      "      \"start_date\": \"2025-09-29T12:15:00Z\",\n",
      "      \"end_date\": \"2025-09-29T16:15:00Z\",\n",
      "      \"url\": \"https://example.com/veneto-events/116\"\n",
      "    },\n",
      "    {\n",
      "      \"id\": \"317\",\n",
      "      \"title\": \"Rovigo Festival Event #117\",\n",
      "      \"category\": \"Festival\",\n",
      "      \"description\": \"Explore the vibrant festival scene in Rovigo with this special event at Torre Don\\u00e0. Get ready for a day filled with discovery and enjoyment.\",\n",
      "      \"city\": \"Rovigo\",\n",
      "      \"location\": {\n",
      "        \"venue\": \"Torre Don\\u00e0\",\n",
      "        \"address\": \"Torre Don\\u00e0, Rovigo, Veneto\",\n",
      "        \"latitude\": 45.0698166,\n",
      "        \"longitude\": 11.78882\n",
      "      },\n",
      "      \"start_date\": \"2025-09-28T05:42:00Z\",\n",
      "      \"end_date\": \"2025-09-28T07:42:00Z\",\n",
      "      \"url\": \"https://example.com/veneto-events/117\"\n",
      "    },\n",
      "    {\n",
      "      \"id\": \"318\",\n",
      "      \"title\": \"Treviso Conference Event #118\",\n",
      "      \"category\": \"Conference\",\n",
      "      \"description\": \"Prepare for an unforgettable conference experience in the stunning city of Treviso, held at the magnificent Chiesa di San Nicol\\u00f2. This event promises to be a highlight of the season!\",\n",
      "      \"city\": \"Treviso\",\n",
      "      \"location\": {\n",
      "        \"venue\": \"Chiesa di San Nicol\\u00f2\",\n",
      "        \"address\": \"Chiesa di San Nicol\\u00f2, Treviso, Veneto\",\n",
      "        \"latitude\": 45.6658505,\n",
      "        \"longitude\": 12.2455414\n",
      "      },\n",
      "      \"start_date\": \"2025-09-27T13:07:00Z\",\n",
      "      \"end_date\": \"2025-09-27T18:07:00Z\",\n",
      "      \"url\": \"https://example.com/veneto-events/118\"\n",
      "    },\n",
      "    {\n",
      "      \"id\": \"319\",\n",
      "      \"title\": \"Mogliano Veneto Conference Event #119\",\n",
      "      \"category\": \"Conference\",\n",
      "      \"description\": \"Expand your horizons with this insightful conference event in Mogliano Veneto, hosted at the distinguished Chiesa di Santa Maria Assunta. Learn something new and be inspired.\",\n",
      "      \"city\": \"Mogliano Veneto\",\n",
      "      \"location\": {\n",
      "        \"venue\": \"Chiesa di Santa Maria Assunta\",\n",
      "        \"address\": \"Chiesa di Santa Maria Assunta, Mogliano Veneto, Veneto\",\n",
      "        \"latitude\": 45.5612886,\n",
      "        \"longitude\": 12.2376973\n",
      "      },\n",
      "      \"start_date\": \"2025-09-27T09:08:00Z\",\n",
      "      \"end_date\": \"2025-09-27T18:08:00Z\",\n",
      "      \"url\": \"https://example.com/veneto-events/119\"\n",
      "    },\n",
      "    {\n",
      "      \"id\": \"320\",\n",
      "      \"title\": \"Venice Food & Drink Event #120\",\n",
      "      \"category\": \"Food & Drink\",\n",
      "      \"description\": \"Connect with fellow enthusiasts at this lively food & drink event in Venice, taking place at the welcoming Scala Contarini del Bovolo. Share your passion and make new friends.\",\n",
      "      \"city\": \"Venice\",\n",
      "      \"location\": {\n",
      "        \"venue\": \"Scala Contarini del Bovolo\",\n",
      "        \"address\": \"Scala Contarini del Bovolo, Venice, Veneto\",\n",
      "        \"latitude\": 45.4371908,\n",
      "        \"longitude\": 12.3345898\n",
      "      },\n",
      "      \"start_date\": \"2025-09-27T19:42:00Z\",\n",
      "      \"end_date\": \"2025-09-28T00:42:00Z\",\n",
      "      \"url\": \"https://example.com/veneto-events/120\"\n",
      "    },\n",
      "    {\n",
      "      \"id\": \"321\",\n",
      "      \"title\": \"Feltre Festival Event #121\",\n",
      "      \"category\": \"Festival\",\n",
      "      \"description\": \"Seeking adventure in Feltre? Look no further than this captivating festival event at Piazza Maggiore. Fun and excitement are guaranteed!\",\n",
      "      \"city\": \"Feltre\",\n",
      "      \"location\": {\n",
      "        \"venue\": \"Piazza Maggiore\",\n",
      "        \"address\": \"Piazza Maggiore, Feltre, Veneto\",\n",
      "        \"latitude\": 46.0180937,\n",
      "        \"longitude\": 11.9103196\n",
      "      },\n",
      "      \"start_date\": \"2025-09-29T15:22:00Z\",\n",
      "      \"end_date\": \"2025-09-29T19:22:00Z\",\n",
      "      \"url\": \"https://example.com/veneto-events/121\"\n",
      "    },\n",
      "    {\n",
      "      \"id\": \"322\",\n",
      "      \"title\": \"Valdagno Conference Event #122\",\n",
      "      \"category\": \"Conference\",\n",
      "      \"description\": \"A unique conference opportunity awaits you in Valdagno. Join us at the charming Church of San Clemente for an event designed to inspire and entertain.\",\n",
      "      \"city\": \"Valdagno\",\n",
      "      \"location\": {\n",
      "        \"venue\": \"Church of San Clemente\",\n",
      "        \"address\": \"Church of San Clemente, Valdagno, Veneto\",\n",
      "        \"latitude\": 45.6413213,\n",
      "        \"longitude\": 11.3040596\n",
      "      },\n",
      "      \"start_date\": \"2025-09-29T05:34:00Z\",\n",
      "      \"end_date\": \"2025-09-29T09:34:00Z\",\n",
      "      \"url\": \"https://example.com/veneto-events/122\"\n",
      "    },\n",
      "    {\n",
      "      \"id\": \"323\",\n",
      "      \"title\": \"Conegliano Conference Event #123\",\n",
      "      \"category\": \"Conference\",\n",
      "      \"description\": \"Step into a world of wonder at this extraordinary conference event in Conegliano, held at the historic Duomo di Conegliano. Prepare to be amazed!\",\n",
      "      \"city\": \"Conegliano\",\n",
      "      \"location\": {\n",
      "        \"venue\": \"Duomo di Conegliano\",\n",
      "        \"address\": \"Duomo di Conegliano, Conegliano, Veneto\",\n",
      "        \"latitude\": 45.8862172,\n",
      "        \"longitude\": 12.2977566\n",
      "      },\n",
      "      \"start_date\": \"2025-09-29T18:29:00Z\",\n",
      "      \"end_date\": \"2025-09-30T00:00:00Z\",\n",
      "      \"url\": \"https://example.com/veneto-events/123\"\n",
      "    },\n",
      "    {\n",
      "      \"id\": \"324\",\n",
      "      \"title\": \"Pedavena Arts & Crafts Event #124\",\n",
      "      \"category\": \"Arts & Crafts\",\n",
      "      \"description\": \"Connect with fellow enthusiasts at this lively arts & crafts event in Pedavena, taking place at the welcoming Museo Civico di Pedavena. Share your passion and make new friends.\",\n",
      "      \"city\": \"Pedavena\",\n",
      "      \"location\": {\n",
      "        \"venue\": \"Museo Civico di Pedavena\",\n",
      "        \"address\": \"Museo Civico di Pedavena, Pedavena, Veneto\",\n",
      "        \"latitude\": 46.0396242,\n",
      "        \"longitude\": 11.8804327\n",
      "      },\n",
      "      \"start_date\": \"2025-09-29T00:41:00Z\",\n",
      "      \"end_date\": \"2025-09-29T04:41:00Z\",\n",
      "      \"url\": \"https://example.com/veneto-events/124\"\n",
      "    },\n",
      "    {\n",
      "      \"id\": \"325\",\n",
      "      \"title\": \"Arqu\\u00e0 Petrarca Theatre Event #125\",\n",
      "      \"category\": \"Theatre\",\n",
      "      \"description\": \"Prepare for an unforgettable theatre experience in the stunning city of Arqu\\u00e0 Petrarca, held at the magnificent Medieval village center. This event promises to be a highlight of the season!\",\n",
      "      \"city\": \"Arqu\\u00e0 Petrarca\",\n",
      "      \"location\": {\n",
      "        \"venue\": \"Medieval village center\",\n",
      "        \"address\": \"Medieval village center, Arqu\\u00e0 Petrarca, Veneto\",\n",
      "        \"latitude\": 45.2700441,\n",
      "        \"longitude\": 11.7165149\n",
      "      },\n",
      "      \"start_date\": \"2025-09-27T09:44:00Z\",\n",
      "      \"end_date\": \"2025-09-27T16:44:00Z\",\n",
      "      \"url\": \"https://example.com/veneto-events/125\"\n",
      "    },\n",
      "    {\n",
      "      \"id\": \"326\",\n",
      "      \"title\": \"Rovigo Workshop Event #126\",\n",
      "      \"category\": \"Workshop\",\n",
      "      \"description\": \"Prepare for an unforgettable workshop experience in the stunning city of Rovigo, held at the magnificent Palazzo Roverella. This event promises to be a highlight of the season!\",\n",
      "      \"city\": \"Rovigo\",\n",
      "      \"location\": {\n",
      "        \"venue\": \"Palazzo Roverella\",\n",
      "        \"address\": \"Palazzo Roverella, Rovigo, Veneto\",\n",
      "        \"latitude\": 45.0698166,\n",
      "        \"longitude\": 11.78882\n",
      "      },\n",
      "      \"start_date\": \"2025-09-28T09:00:00Z\",\n",
      "      \"end_date\": \"2025-09-28T18:00:00Z\",\n",
      "      \"url\": \"https://example.com/veneto-events/126\"\n",
      "    },\n",
      "    {\n",
      "      \"id\": \"327\",\n",
      "      \"title\": \"Chioggia Sport Event #127\",\n",
      "      \"category\": \"Sport\",\n",
      "      \"description\": \"Prepare for an unforgettable sport experience in the stunning city of Chioggia, held at the magnificent Corso del Popolo. This event promises to be a highlight of the season!\",\n",
      "      \"city\": \"Chioggia\",\n",
      "      \"location\": {\n",
      "        \"venue\": \"Corso del Popolo\",\n",
      "        \"address\": \"Corso del Popolo, Chioggia, Veneto\",\n",
      "        \"latitude\": 45.2187118,\n",
      "        \"longitude\": 12.278491\n",
      "      },\n",
      "      \"start_date\": \"2025-09-29T16:50:00Z\",\n",
      "      \"end_date\": \"2025-09-29T23:50:00Z\",\n",
      "      \"url\": \"https://example.com/veneto-events/127\"\n",
      "    },\n",
      "    {\n",
      "      \"id\": \"328\",\n",
      "      \"title\": \"Padua Conference Event #128\",\n",
      "      \"category\": \"Conference\",\n",
      "      \"description\": \"Immerse yourself in the rich culture of Padua with this engaging conference event at the iconic Museo Diocesano. It's the perfect way to spend your time.\",\n",
      "      \"city\": \"Padua\",\n",
      "      \"location\": {\n",
      "        \"venue\": \"Museo Diocesano\",\n",
      "        \"address\": \"Museo Diocesano, Padua, Veneto\",\n",
      "        \"latitude\": 45.4077172,\n",
      "        \"longitude\": 11.8734455\n",
      "      },\n",
      "      \"start_date\": \"2025-09-28T17:25:00Z\",\n",
      "      \"end_date\": \"2025-09-28T20:25:00Z\",\n",
      "      \"url\": \"https://example.com/veneto-events/128\"\n",
      "    },\n",
      "    {\n",
      "      \"id\": \"329\",\n",
      "      \"title\": \"Portogruaro Exhibition Event #129\",\n",
      "      \"category\": \"Exhibition\",\n",
      "      \"description\": \"Expand your horizons with this insightful exhibition event in Portogruaro, hosted at the distinguished Piazza della Repubblica. Learn something new and be inspired.\",\n",
      "      \"city\": \"Portogruaro\",\n",
      "      \"location\": {\n",
      "        \"venue\": \"Piazza della Repubblica\",\n",
      "        \"address\": \"Piazza della Repubblica, Portogruaro, Veneto\",\n",
      "        \"latitude\": 45.7755764,\n",
      "        \"longitude\": 12.8376743\n",
      "      },\n",
      "      \"start_date\": \"2025-09-27T04:15:00Z\",\n",
      "      \"end_date\": \"2025-09-27T11:15:00Z\",\n",
      "      \"url\": \"https://example.com/veneto-events/129\"\n",
      "    },\n",
      "    {\n",
      "      \"id\": \"330\",\n",
      "      \"title\": \"Belluno Tour Event #130\",\n",
      "      \"category\": \"Tour\",\n",
      "      \"description\": \"Step into a world of wonder at this extraordinary tour event in Belluno, held at the historic Museo Civico. Prepare to be amazed!\",\n",
      "      \"city\": \"Belluno\",\n",
      "      \"location\": {\n",
      "        \"venue\": \"Museo Civico\",\n",
      "        \"address\": \"Museo Civico, Belluno, Veneto\",\n",
      "        \"latitude\": 46.1375185,\n",
      "        \"longitude\": 12.2181711\n",
      "      },\n",
      "      \"start_date\": \"2025-09-26T15:25:00Z\",\n",
      "      \"end_date\": \"2025-09-26T20:25:00Z\",\n",
      "      \"url\": \"https://example.com/veneto-events/130\"\n",
      "    },\n",
      "    {\n",
      "      \"id\": \"331\",\n",
      "      \"title\": \"Abano Terme Music Event #131\",\n",
      "      \"category\": \"Music\",\n",
      "      \"description\": \"Connect with fellow enthusiasts at this lively music event in Abano Terme, taking place at the welcoming Parco Urbano Termale. Share your passion and make new friends.\",\n",
      "      \"city\": \"Abano Terme\",\n",
      "      \"location\": {\n",
      "        \"venue\": \"Parco Urbano Termale\",\n",
      "        \"address\": \"Parco Urbano Termale, Abano Terme, Veneto\",\n",
      "        \"latitude\": 45.3603142,\n",
      "        \"longitude\": 11.7897833\n",
      "      },\n",
      "      \"start_date\": \"2025-09-26T19:01:00Z\",\n",
      "      \"end_date\": \"2025-09-27T01:01:00Z\",\n",
      "      \"url\": \"https://example.com/veneto-events/131\"\n",
      "    },\n",
      "    {\n",
      "      \"id\": \"332\",\n",
      "      \"title\": \"Castelfranco Veneto Tour Event #132\",\n",
      "      \"category\": \"Tour\",\n",
      "      \"description\": \"Dive into the world of tour at this exciting gathering in Castelfranco Veneto. Located at the renowned Piazza Giorgione, it's an event you won't want to miss.\",\n",
      "      \"city\": \"Castelfranco Veneto\",\n",
      "      \"location\": {\n",
      "        \"venue\": \"Piazza Giorgione\",\n",
      "        \"address\": \"Piazza Giorgione, Castelfranco Veneto, Veneto\",\n",
      "        \"latitude\": 45.6729185,\n",
      "        \"longitude\": 11.925768\n",
      "      },\n",
      "      \"start_date\": \"2025-09-28T05:17:00Z\",\n",
      "      \"end_date\": \"2025-09-28T13:17:00Z\",\n",
      "      \"url\": \"https://example.com/veneto-events/132\"\n",
      "    },\n",
      "    {\n",
      "      \"id\": \"333\",\n",
      "      \"title\": \"Caorle Festival Event #133\",\n",
      "      \"category\": \"Festival\",\n",
      "      \"description\": \"Expand your horizons with this insightful festival event in Caorle, hosted at the distinguished Museo Liturgico. Learn something new and be inspired.\",\n",
      "      \"city\": \"Caorle\",\n",
      "      \"location\": {\n",
      "        \"venue\": \"Museo Liturgico\",\n",
      "        \"address\": \"Museo Liturgico, Caorle, Veneto\",\n",
      "        \"latitude\": 45.5979147,\n",
      "        \"longitude\": 12.8876282\n",
      "      },\n",
      "      \"start_date\": \"2025-09-28T22:24:00Z\",\n",
      "      \"end_date\": \"2025-09-29T07:24:00Z\",\n",
      "      \"url\": \"https://example.com/veneto-events/133\"\n",
      "    },\n",
      "    {\n",
      "      \"id\": \"334\",\n",
      "      \"title\": \"Rovigo Music Event #134\",\n",
      "      \"category\": \"Music\",\n",
      "      \"description\": \"Explore the vibrant music scene in Rovigo with this special event at Piazza Vittorio Emanuele II. Get ready for a day filled with discovery and enjoyment.\",\n",
      "      \"city\": \"Rovigo\",\n",
      "      \"location\": {\n",
      "        \"venue\": \"Piazza Vittorio Emanuele II\",\n",
      "        \"address\": \"Piazza Vittorio Emanuele II, Rovigo, Veneto\",\n",
      "        \"latitude\": 45.0706421,\n",
      "        \"longitude\": 11.7900737\n",
      "      },\n",
      "      \"start_date\": \"2025-09-28T09:31:00Z\",\n",
      "      \"end_date\": \"2025-09-28T15:31:00Z\",\n",
      "      \"url\": \"https://example.com/veneto-events/134\"\n",
      "    },\n",
      "    {\n",
      "      \"id\": \"335\",\n",
      "      \"title\": \"Marostica Conference Event #135\",\n",
      "      \"category\": \"Conference\",\n",
      "      \"description\": \"Immerse yourself in the rich culture of Marostica with this engaging conference event at the iconic Museo dei Costumi. It's the perfect way to spend your time.\",\n",
      "      \"city\": \"Marostica\",\n",
      "      \"location\": {\n",
      "        \"venue\": \"Museo dei Costumi\",\n",
      "        \"address\": \"Museo dei Costumi, Marostica, Veneto\",\n",
      "        \"latitude\": 45.7453924,\n",
      "        \"longitude\": 11.6568938\n",
      "      },\n",
      "      \"start_date\": \"2025-09-27T14:23:00Z\",\n",
      "      \"end_date\": \"2025-09-27T23:23:00Z\",\n",
      "      \"url\": \"https://example.com/veneto-events/135\"\n",
      "    },\n",
      "    {\n",
      "      \"id\": \"336\",\n",
      "      \"title\": \"Asolo Food & Drink Event #136\",\n",
      "      \"category\": \"Food & Drink\",\n",
      "      \"description\": \"Dive into the world of food & drink at this exciting gathering in Asolo. Located at the renowned Church of Santa Caterina, it's an event you won't want to miss.\",\n",
      "      \"city\": \"Asolo\",\n",
      "      \"location\": {\n",
      "        \"venue\": \"Church of Santa Caterina\",\n",
      "        \"address\": \"Church of Santa Caterina, Asolo, Veneto\",\n",
      "        \"latitude\": 45.8007265,\n",
      "        \"longitude\": 11.9142444\n",
      "      },\n",
      "      \"start_date\": \"2025-09-27T15:38:00Z\",\n",
      "      \"end_date\": \"2025-09-28T00:38:00Z\",\n",
      "      \"url\": \"https://example.com/veneto-events/136\"\n",
      "    },\n",
      "    {\n",
      "      \"id\": \"337\",\n",
      "      \"title\": \"Borgo Valsugana Food & Drink Event #137\",\n",
      "      \"category\": \"Food & Drink\",\n",
      "      \"description\": \"Dive into the world of food & drink at this exciting gathering in Borgo Valsugana. Located at the renowned Palazzo Ceschi, it's an event you won't want to miss.\",\n",
      "      \"city\": \"Borgo Valsugana\",\n",
      "      \"location\": {\n",
      "        \"venue\": \"Palazzo Ceschi\",\n",
      "        \"address\": \"Palazzo Ceschi, Borgo Valsugana, Veneto\",\n",
      "        \"latitude\": null,\n",
      "        \"longitude\": null\n",
      "      },\n",
      "      \"start_date\": \"2025-09-29T00:35:00Z\",\n",
      "      \"end_date\": \"2025-09-29T02:35:00Z\",\n",
      "      \"url\": \"https://example.com/veneto-events/137\"\n",
      "    },\n",
      "    {\n",
      "      \"id\": \"338\",\n",
      "      \"title\": \"Noale Food & Drink Event #138\",\n",
      "      \"category\": \"Food & Drink\",\n",
      "      \"description\": \"Step into a world of wonder at this extraordinary food & drink event in Noale, held at the historic Museo Civico di Noale. Prepare to be amazed!\",\n",
      "      \"city\": \"Noale\",\n",
      "      \"location\": {\n",
      "        \"venue\": \"Museo Civico di Noale\",\n",
      "        \"address\": \"Museo Civico di Noale, Noale, Veneto\",\n",
      "        \"latitude\": 45.550156,\n",
      "        \"longitude\": 12.0720437\n",
      "      },\n",
      "      \"start_date\": \"2025-09-26T21:56:00Z\",\n",
      "      \"end_date\": \"2025-09-27T06:56:00Z\",\n",
      "      \"url\": \"https://example.com/veneto-events/138\"\n",
      "    },\n",
      "    {\n",
      "      \"id\": \"339\",\n",
      "      \"title\": \"Feltre Exhibition Event #139\",\n",
      "      \"category\": \"Exhibition\",\n",
      "      \"description\": \"Expand your horizons with this insightful exhibition event in Feltre, hosted at the distinguished Parco della Birreria. Learn something new and be inspired.\",\n",
      "      \"city\": \"Feltre\",\n",
      "      \"location\": {\n",
      "        \"venue\": \"Parco della Birreria\",\n",
      "        \"address\": \"Parco della Birreria, Feltre, Veneto\",\n",
      "        \"latitude\": 46.0163755,\n",
      "        \"longitude\": 11.9062541\n",
      "      },\n",
      "      \"start_date\": \"2025-09-29T12:46:00Z\",\n",
      "      \"end_date\": \"2025-09-29T21:46:00Z\",\n",
      "      \"url\": \"https://example.com/veneto-events/139\"\n",
      "    },\n",
      "    {\n",
      "      \"id\": \"340\",\n",
      "      \"title\": \"Padua Food & Drink Event #140\",\n",
      "      \"category\": \"Food & Drink\",\n",
      "      \"description\": \"Step into a world of wonder at this extraordinary food & drink event in Padua, held at the historic Civic Museum. Prepare to be amazed!\",\n",
      "      \"city\": \"Padua\",\n",
      "      \"location\": {\n",
      "        \"venue\": \"Civic Museum\",\n",
      "        \"address\": \"Civic Museum, Padua, Veneto\",\n",
      "        \"latitude\": 45.4077172,\n",
      "        \"longitude\": 11.8734455\n",
      "      },\n",
      "      \"start_date\": \"2025-09-29T07:40:00Z\",\n",
      "      \"end_date\": \"2025-09-29T11:40:00Z\",\n",
      "      \"url\": \"https://example.com/veneto-events/140\"\n",
      "    },\n",
      "    {\n",
      "      \"id\": \"341\",\n",
      "      \"title\": \"Conegliano Music Event #141\",\n",
      "      \"category\": \"Music\",\n",
      "      \"description\": \"A unique music opportunity awaits you in Conegliano. Join us at the charming Via XX Settembre for an event designed to inspire and entertain.\",\n",
      "      \"city\": \"Conegliano\",\n",
      "      \"location\": {\n",
      "        \"venue\": \"Via XX Settembre\",\n",
      "        \"address\": \"Via XX Settembre, Conegliano, Veneto\",\n",
      "        \"latitude\": 45.8866045,\n",
      "        \"longitude\": 12.2968869\n",
      "      },\n",
      "      \"start_date\": \"2025-09-29T19:35:00Z\",\n",
      "      \"end_date\": \"2025-09-30T00:00:00Z\",\n",
      "      \"url\": \"https://example.com/veneto-events/141\"\n",
      "    },\n",
      "    {\n",
      "      \"id\": \"342\",\n",
      "      \"title\": \"Dolo Sport Event #142\",\n",
      "      \"category\": \"Sport\",\n",
      "      \"description\": \"Expand your horizons with this insightful sport event in Dolo, hosted at the distinguished Chiesa di San Pio X. Learn something new and be inspired.\",\n",
      "      \"city\": \"Dolo\",\n",
      "      \"location\": {\n",
      "        \"venue\": \"Chiesa di San Pio X\",\n",
      "        \"address\": \"Chiesa di San Pio X, Dolo, Veneto\",\n",
      "        \"latitude\": 45.4234356,\n",
      "        \"longitude\": 12.0743252\n",
      "      },\n",
      "      \"start_date\": \"2025-09-28T16:52:00Z\",\n",
      "      \"end_date\": \"2025-09-28T18:52:00Z\",\n",
      "      \"url\": \"https://example.com/veneto-events/142\"\n",
      "    },\n",
      "    {\n",
      "      \"id\": \"343\",\n",
      "      \"title\": \"Noale Conference Event #143\",\n",
      "      \"category\": \"Conference\",\n",
      "      \"description\": \"Expand your horizons with this insightful conference event in Noale, hosted at the distinguished Duomo di Noale. Learn something new and be inspired.\",\n",
      "      \"city\": \"Noale\",\n",
      "      \"location\": {\n",
      "        \"venue\": \"Duomo di Noale\",\n",
      "        \"address\": \"Duomo di Noale, Noale, Veneto\",\n",
      "        \"latitude\": 45.550156,\n",
      "        \"longitude\": 12.0720437\n",
      "      },\n",
      "      \"start_date\": \"2025-09-29T13:11:00Z\",\n",
      "      \"end_date\": \"2025-09-29T15:11:00Z\",\n",
      "      \"url\": \"https://example.com/veneto-events/143\"\n",
      "    },\n",
      "    {\n",
      "      \"id\": \"344\",\n",
      "      \"title\": \"San Vito di Cadore Festival Event #144\",\n",
      "      \"category\": \"Festival\",\n",
      "      \"description\": \"Unwind and enjoy a delightful festival experience in San Vito di Cadore at the picturesque Parco NeveSole. Relax and take in the atmosphere.\",\n",
      "      \"city\": \"San Vito di Cadore\",\n",
      "      \"location\": {\n",
      "        \"venue\": \"Parco NeveSole\",\n",
      "        \"address\": \"Parco NeveSole, San Vito di Cadore, Veneto\",\n",
      "        \"latitude\": 46.458966,\n",
      "        \"longitude\": 12.2057415\n",
      "      },\n",
      "      \"start_date\": \"2025-09-28T16:27:00Z\",\n",
      "      \"end_date\": \"2025-09-28T21:27:00Z\",\n",
      "      \"url\": \"https://example.com/veneto-events/144\"\n",
      "    },\n",
      "    {\n",
      "      \"id\": \"345\",\n",
      "      \"title\": \"Campolongo Maggiore Music Event #145\",\n",
      "      \"category\": \"Music\",\n",
      "      \"description\": \"Prepare for an unforgettable music experience in the stunning city of Campolongo Maggiore, held at the magnificent Villa Manin. This event promises to be a highlight of the season!\",\n",
      "      \"city\": \"Campolongo Maggiore\",\n",
      "      \"location\": {\n",
      "        \"venue\": \"Villa Manin\",\n",
      "        \"address\": \"Villa Manin, Campolongo Maggiore, Veneto\",\n",
      "        \"latitude\": 45.3305355,\n",
      "        \"longitude\": 12.0483135\n",
      "      },\n",
      "      \"start_date\": \"2025-09-28T14:12:00Z\",\n",
      "      \"end_date\": \"2025-09-29T00:12:00Z\",\n",
      "      \"url\": \"https://example.com/veneto-events/145\"\n",
      "    },\n",
      "    {\n",
      "      \"id\": \"346\",\n",
      "      \"title\": \"Cavarzere Exhibition Event #146\",\n",
      "      \"category\": \"Exhibition\",\n",
      "      \"description\": \"Immerse yourself in the rich culture of Cavarzere with this engaging exhibition event at the iconic Parco della Rimembranza. It's the perfect way to spend your time.\",\n",
      "      \"city\": \"Cavarzere\",\n",
      "      \"location\": {\n",
      "        \"venue\": \"Parco della Rimembranza\",\n",
      "        \"address\": \"Parco della Rimembranza, Cavarzere, Veneto\",\n",
      "        \"latitude\": 45.1360987,\n",
      "        \"longitude\": 12.0812854\n",
      "      },\n",
      "      \"start_date\": \"2025-09-29T11:05:00Z\",\n",
      "      \"end_date\": \"2025-09-29T19:05:00Z\",\n",
      "      \"url\": \"https://example.com/veneto-events/146\"\n",
      "    },\n",
      "    {\n",
      "      \"id\": \"347\",\n",
      "      \"title\": \"Caorle Sport Event #147\",\n",
      "      \"category\": \"Sport\",\n",
      "      \"description\": \"Seeking adventure in Caorle? Look no further than this captivating sport event at Scogliera Viva. Fun and excitement are guaranteed!\",\n",
      "      \"city\": \"Caorle\",\n",
      "      \"location\": {\n",
      "        \"venue\": \"Scogliera Viva\",\n",
      "        \"address\": \"Scogliera Viva, Caorle, Veneto\",\n",
      "        \"latitude\": 45.5979147,\n",
      "        \"longitude\": 12.8876282\n",
      "      },\n",
      "      \"start_date\": \"2025-09-26T00:43:00Z\",\n",
      "      \"end_date\": \"2025-09-26T07:43:00Z\",\n",
      "      \"url\": \"https://example.com/veneto-events/147\"\n",
      "    },\n",
      "    {\n",
      "      \"id\": \"348\",\n",
      "      \"title\": \"Abano Terme Festival Event #148\",\n",
      "      \"category\": \"Festival\",\n",
      "      \"description\": \"Connect with fellow enthusiasts at this lively festival event in Abano Terme, taking place at the welcoming Duomo di San Lorenzo. Share your passion and make new friends.\",\n",
      "      \"city\": \"Abano Terme\",\n",
      "      \"location\": {\n",
      "        \"venue\": \"Duomo di San Lorenzo\",\n",
      "        \"address\": \"Duomo di San Lorenzo, Abano Terme, Veneto\",\n",
      "        \"latitude\": 45.3603142,\n",
      "        \"longitude\": 11.7897833\n",
      "      },\n",
      "      \"start_date\": \"2025-09-28T02:59:00Z\",\n",
      "      \"end_date\": \"2025-09-28T07:59:00Z\",\n",
      "      \"url\": \"https://example.com/veneto-events/148\"\n",
      "    },\n",
      "    {\n",
      "      \"id\": \"349\",\n",
      "      \"title\": \"Chioggia Festival Event #149\",\n",
      "      \"category\": \"Festival\",\n",
      "      \"description\": \"Prepare for an unforgettable festival experience in the stunning city of Chioggia, held at the magnificent Ponte Vigo. This event promises to be a highlight of the season!\",\n",
      "      \"city\": \"Chioggia\",\n",
      "      \"location\": {\n",
      "        \"venue\": \"Ponte Vigo\",\n",
      "        \"address\": \"Ponte Vigo, Chioggia, Veneto\",\n",
      "        \"latitude\": 45.2231851,\n",
      "        \"longitude\": 12.2810534\n",
      "      },\n",
      "      \"start_date\": \"2025-09-29T07:34:00Z\",\n",
      "      \"end_date\": \"2025-09-29T15:34:00Z\",\n",
      "      \"url\": \"https://example.com/veneto-events/149\"\n",
      "    },\n",
      "    {\n",
      "      \"id\": \"350\",\n",
      "      \"title\": \"Bassano del Grappa Theatre Event #150\",\n",
      "      \"category\": \"Theatre\",\n",
      "      \"description\": \"Unwind and enjoy a delightful theatre experience in Bassano del Grappa at the picturesque Museo della Grappa. Relax and take in the atmosphere.\",\n",
      "      \"city\": \"Bassano del Grappa\",\n",
      "      \"location\": {\n",
      "        \"venue\": \"Museo della Grappa\",\n",
      "        \"address\": \"Museo della Grappa, Bassano del Grappa, Veneto\",\n",
      "        \"latitude\": 45.7669109,\n",
      "        \"longitude\": 11.7343469\n",
      "      },\n",
      "      \"start_date\": \"2025-09-27T19:37:00Z\",\n",
      "      \"end_date\": \"2025-09-27T20:37:00Z\",\n",
      "      \"url\": \"https://example.com/veneto-events/150\"\n",
      "    },\n",
      "    {\n",
      "      \"id\": \"351\",\n",
      "      \"title\": \"Chioggia Theatre Event #151\",\n",
      "      \"category\": \"Theatre\",\n",
      "      \"description\": \"Immerse yourself in the rich culture of Chioggia with this engaging theatre event at the iconic Laguna del Lusenzo. It's the perfect way to spend your time.\",\n",
      "      \"city\": \"Chioggia\",\n",
      "      \"location\": {\n",
      "        \"venue\": \"Laguna del Lusenzo\",\n",
      "        \"address\": \"Laguna del Lusenzo, Chioggia, Veneto\",\n",
      "        \"latitude\": 45.218894,\n",
      "        \"longitude\": 12.2785805\n",
      "      },\n",
      "      \"start_date\": \"2025-09-28T12:38:00Z\",\n",
      "      \"end_date\": \"2025-09-28T18:38:00Z\",\n",
      "      \"url\": \"https://example.com/veneto-events/151\"\n",
      "    },\n",
      "    {\n",
      "      \"id\": \"352\",\n",
      "      \"title\": \"Conegliano Festival Event #152\",\n",
      "      \"category\": \"Festival\",\n",
      "      \"description\": \"Seeking adventure in Conegliano? Look no further than this captivating festival event at Museo degli Alpini. Fun and excitement are guaranteed!\",\n",
      "      \"city\": \"Conegliano\",\n",
      "      \"location\": {\n",
      "        \"venue\": \"Museo degli Alpini\",\n",
      "        \"address\": \"Museo degli Alpini, Conegliano, Veneto\",\n",
      "        \"latitude\": 45.8862172,\n",
      "        \"longitude\": 12.2977566\n",
      "      },\n",
      "      \"start_date\": \"2025-09-26T06:14:00Z\",\n",
      "      \"end_date\": \"2025-09-26T07:14:00Z\",\n",
      "      \"url\": \"https://example.com/veneto-events/152\"\n",
      "    },\n",
      "    {\n",
      "      \"id\": \"353\",\n",
      "      \"title\": \"Asolo Workshop Event #153\",\n",
      "      \"category\": \"Workshop\",\n",
      "      \"description\": \"Step into a world of wonder at this extraordinary workshop event in Asolo, held at the historic Piazza Garibaldi. Prepare to be amazed!\",\n",
      "      \"city\": \"Asolo\",\n",
      "      \"location\": {\n",
      "        \"venue\": \"Piazza Garibaldi\",\n",
      "        \"address\": \"Piazza Garibaldi, Asolo, Veneto\",\n",
      "        \"latitude\": 45.8022047,\n",
      "        \"longitude\": 11.9134666\n",
      "      },\n",
      "      \"start_date\": \"2025-09-28T23:31:00Z\",\n",
      "      \"end_date\": \"2025-09-29T09:31:00Z\",\n",
      "      \"url\": \"https://example.com/veneto-events/153\"\n",
      "    },\n",
      "    {\n",
      "      \"id\": \"354\",\n",
      "      \"title\": \"Chioggia Workshop Event #154\",\n",
      "      \"category\": \"Workshop\",\n",
      "      \"description\": \"Immerse yourself in the rich culture of Chioggia with this engaging workshop event at the iconic Torre dell'Orologio. It's the perfect way to spend your time.\",\n",
      "      \"city\": \"Chioggia\",\n",
      "      \"location\": {\n",
      "        \"venue\": \"Torre dell'Orologio\",\n",
      "        \"address\": \"Torre dell'Orologio, Chioggia, Veneto\",\n",
      "        \"latitude\": 45.218894,\n",
      "        \"longitude\": 12.2785805\n",
      "      },\n",
      "      \"start_date\": \"2025-09-27T04:45:00Z\",\n",
      "      \"end_date\": \"2025-09-27T08:45:00Z\",\n",
      "      \"url\": \"https://example.com/veneto-events/154\"\n",
      "    },\n",
      "    {\n",
      "      \"id\": \"355\",\n",
      "      \"title\": \"Mogliano Veneto Food & Drink Event #155\",\n",
      "      \"category\": \"Food & Drink\",\n",
      "      \"description\": \"A unique food & drink opportunity awaits you in Mogliano Veneto. Join us at the charming Villa Stucky for an event designed to inspire and entertain.\",\n",
      "      \"city\": \"Mogliano Veneto\",\n",
      "      \"location\": {\n",
      "        \"venue\": \"Villa Stucky\",\n",
      "        \"address\": \"Villa Stucky, Mogliano Veneto, Veneto\",\n",
      "        \"latitude\": 45.5612886,\n",
      "        \"longitude\": 12.2376973\n",
      "      },\n",
      "      \"start_date\": \"2025-09-27T13:19:00Z\",\n",
      "      \"end_date\": \"2025-09-27T20:19:00Z\",\n",
      "      \"url\": \"https://example.com/veneto-events/155\"\n",
      "    },\n",
      "    {\n",
      "      \"id\": \"356\",\n",
      "      \"title\": \"Conegliano Festival Event #156\",\n",
      "      \"category\": \"Festival\",\n",
      "      \"description\": \"Prepare for an unforgettable festival experience in the stunning city of Conegliano, held at the magnificent Teatro Accademia. This event promises to be a highlight of the season!\",\n",
      "      \"city\": \"Conegliano\",\n",
      "      \"location\": {\n",
      "        \"venue\": \"Teatro Accademia\",\n",
      "        \"address\": \"Teatro Accademia, Conegliano, Veneto\",\n",
      "        \"latitude\": 45.8862172,\n",
      "        \"longitude\": 12.2977566\n",
      "      },\n",
      "      \"start_date\": \"2025-09-26T01:03:00Z\",\n",
      "      \"end_date\": \"2025-09-26T11:03:00Z\",\n",
      "      \"url\": \"https://example.com/veneto-events/156\"\n",
      "    },\n",
      "    {\n",
      "      \"id\": \"357\",\n",
      "      \"title\": \"San Vito di Cadore Arts & Crafts Event #157\",\n",
      "      \"category\": \"Arts & Crafts\",\n",
      "      \"description\": \"Explore the vibrant arts & crafts scene in San Vito di Cadore with this special event at Monte Antelao. Get ready for a day filled with discovery and enjoyment.\",\n",
      "      \"city\": \"San Vito di Cadore\",\n",
      "      \"location\": {\n",
      "        \"venue\": \"Monte Antelao\",\n",
      "        \"address\": \"Monte Antelao, San Vito di Cadore, Veneto\",\n",
      "        \"latitude\": 46.458966,\n",
      "        \"longitude\": 12.2057415\n",
      "      },\n",
      "      \"start_date\": \"2025-09-26T01:30:00Z\",\n",
      "      \"end_date\": \"2025-09-26T06:30:00Z\",\n",
      "      \"url\": \"https://example.com/veneto-events/157\"\n",
      "    },\n",
      "    {\n",
      "      \"id\": \"358\",\n",
      "      \"title\": \"Lazise Theatre Event #158\",\n",
      "      \"category\": \"Theatre\",\n",
      "      \"description\": \"Step into a world of wonder at this extraordinary theatre event in Lazise, held at the historic Piazza Vittorio Emanuele II. Prepare to be amazed!\",\n",
      "      \"city\": \"Lazise\",\n",
      "      \"location\": {\n",
      "        \"venue\": \"Piazza Vittorio Emanuele II\",\n",
      "        \"address\": \"Piazza Vittorio Emanuele II, Lazise, Veneto\",\n",
      "        \"latitude\": 45.505229,\n",
      "        \"longitude\": 10.7331108\n",
      "      },\n",
      "      \"start_date\": \"2025-09-28T18:34:00Z\",\n",
      "      \"end_date\": \"2025-09-28T23:34:00Z\",\n",
      "      \"url\": \"https://example.com/veneto-events/158\"\n",
      "    },\n",
      "    {\n",
      "      \"id\": \"359\",\n",
      "      \"title\": \"Bassano del Grappa Festival Event #159\",\n",
      "      \"category\": \"Festival\",\n",
      "      \"description\": \"Seeking adventure in Bassano del Grappa? Look no further than this captivating festival event at Piazza Garibaldi. Fun and excitement are guaranteed!\",\n",
      "      \"city\": \"Bassano del Grappa\",\n",
      "      \"location\": {\n",
      "        \"venue\": \"Piazza Garibaldi\",\n",
      "        \"address\": \"Piazza Garibaldi, Bassano del Grappa, Veneto\",\n",
      "        \"latitude\": 45.7668211,\n",
      "        \"longitude\": 11.7353636\n",
      "      },\n",
      "      \"start_date\": \"2025-09-29T12:10:00Z\",\n",
      "      \"end_date\": \"2025-09-29T21:10:00Z\",\n",
      "      \"url\": \"https://example.com/veneto-events/159\"\n",
      "    },\n",
      "    {\n",
      "      \"id\": \"360\",\n",
      "      \"title\": \"Vicenza Festival Event #160\",\n",
      "      \"category\": \"Festival\",\n",
      "      \"description\": \"Immerse yourself in the rich culture of Vicenza with this engaging festival event at the iconic Piazza dei Signori. It's the perfect way to spend your time.\",\n",
      "      \"city\": \"Vicenza\",\n",
      "      \"location\": {\n",
      "        \"venue\": \"Piazza dei Signori\",\n",
      "        \"address\": \"Piazza dei Signori, Vicenza, Veneto\",\n",
      "        \"latitude\": 45.5473193,\n",
      "        \"longitude\": 11.5465538\n",
      "      },\n",
      "      \"start_date\": \"2025-09-29T02:11:00Z\",\n",
      "      \"end_date\": \"2025-09-29T12:11:00Z\",\n",
      "      \"url\": \"https://example.com/veneto-events/160\"\n",
      "    },\n",
      "    {\n",
      "      \"id\": \"361\",\n",
      "      \"title\": \"Mestre Sport Event #161\",\n",
      "      \"category\": \"Sport\",\n",
      "      \"description\": \"Dive into the world of sport at this exciting gathering in Mestre. Located at the renowned Villa Querini, it's an event you won't want to miss.\",\n",
      "      \"city\": \"Mestre\",\n",
      "      \"location\": {\n",
      "        \"venue\": \"Villa Querini\",\n",
      "        \"address\": \"Villa Querini, Mestre, Veneto\",\n",
      "        \"latitude\": 45.4943063,\n",
      "        \"longitude\": 12.2418053\n",
      "      },\n",
      "      \"start_date\": \"2025-09-27T14:47:00Z\",\n",
      "      \"end_date\": \"2025-09-27T19:47:00Z\",\n",
      "      \"url\": \"https://example.com/veneto-events/161\"\n",
      "    },\n",
      "    {\n",
      "      \"id\": \"362\",\n",
      "      \"title\": \"Cittadella Music Event #162\",\n",
      "      \"category\": \"Music\",\n",
      "      \"description\": \"Step into a world of wonder at this extraordinary music event in Cittadella, held at the historic Torre di Malta. Prepare to be amazed!\",\n",
      "      \"city\": \"Cittadella\",\n",
      "      \"location\": {\n",
      "        \"venue\": \"Torre di Malta\",\n",
      "        \"address\": \"Torre di Malta, Cittadella, Veneto\",\n",
      "        \"latitude\": 45.6487941,\n",
      "        \"longitude\": 11.7835801\n",
      "      },\n",
      "      \"start_date\": \"2025-09-29T05:52:00Z\",\n",
      "      \"end_date\": \"2025-09-29T06:52:00Z\",\n",
      "      \"url\": \"https://example.com/veneto-events/162\"\n",
      "    },\n",
      "    {\n",
      "      \"id\": \"363\",\n",
      "      \"title\": \"Mogliano Veneto Arts & Crafts Event #163\",\n",
      "      \"category\": \"Arts & Crafts\",\n",
      "      \"description\": \"Dive into the world of arts & crafts at this exciting gathering in Mogliano Veneto. Located at the renowned Parco Arcobaleno, it's an event you won't want to miss.\",\n",
      "      \"city\": \"Mogliano Veneto\",\n",
      "      \"location\": {\n",
      "        \"venue\": \"Parco Arcobaleno\",\n",
      "        \"address\": \"Parco Arcobaleno, Mogliano Veneto, Veneto\",\n",
      "        \"latitude\": 45.5612886,\n",
      "        \"longitude\": 12.2376973\n",
      "      },\n",
      "      \"start_date\": \"2025-09-28T12:14:00Z\",\n",
      "      \"end_date\": \"2025-09-28T15:14:00Z\",\n",
      "      \"url\": \"https://example.com/veneto-events/163\"\n",
      "    },\n",
      "    {\n",
      "      \"id\": \"364\",\n",
      "      \"title\": \"Feltre Arts & Crafts Event #164\",\n",
      "      \"category\": \"Arts & Crafts\",\n",
      "      \"description\": \"Connect with fellow enthusiasts at this lively arts & crafts event in Feltre, taking place at the welcoming Piazza Maggiore. Share your passion and make new friends.\",\n",
      "      \"city\": \"Feltre\",\n",
      "      \"location\": {\n",
      "        \"venue\": \"Piazza Maggiore\",\n",
      "        \"address\": \"Piazza Maggiore, Feltre, Veneto\",\n",
      "        \"latitude\": 46.0180937,\n",
      "        \"longitude\": 11.9103196\n",
      "      },\n",
      "      \"start_date\": \"2025-09-28T21:37:00Z\",\n",
      "      \"end_date\": \"2025-09-29T03:37:00Z\",\n",
      "      \"url\": \"https://example.com/veneto-events/164\"\n",
      "    },\n",
      "    {\n",
      "      \"id\": \"365\",\n",
      "      \"title\": \"Malcesine Theatre Event #165\",\n",
      "      \"category\": \"Theatre\",\n",
      "      \"description\": \"Expand your horizons with this insightful theatre event in Malcesine, hosted at the distinguished Museo del Lago. Learn something new and be inspired.\",\n",
      "      \"city\": \"Malcesine\",\n",
      "      \"location\": {\n",
      "        \"venue\": \"Museo del Lago\",\n",
      "        \"address\": \"Museo del Lago, Malcesine, Veneto\",\n",
      "        \"latitude\": 45.7643442,\n",
      "        \"longitude\": 10.8100598\n",
      "      },\n",
      "      \"start_date\": \"2025-09-27T13:35:00Z\",\n",
      "      \"end_date\": \"2025-09-27T17:35:00Z\",\n",
      "      \"url\": \"https://example.com/veneto-events/165\"\n",
      "    },\n",
      "    {\n",
      "      \"id\": \"366\",\n",
      "      \"title\": \"Monselice Arts & Crafts Event #166\",\n",
      "      \"category\": \"Arts & Crafts\",\n",
      "      \"description\": \"Connect with fellow enthusiasts at this lively arts & crafts event in Monselice, taking place at the welcoming Castello di Monselice. Share your passion and make new friends.\",\n",
      "      \"city\": \"Monselice\",\n",
      "      \"location\": {\n",
      "        \"venue\": \"Castello di Monselice\",\n",
      "        \"address\": \"Castello di Monselice, Monselice, Veneto\",\n",
      "        \"latitude\": 45.2447718,\n",
      "        \"longitude\": 11.7532391\n",
      "      },\n",
      "      \"start_date\": \"2025-09-26T12:20:00Z\",\n",
      "      \"end_date\": \"2025-09-26T19:20:00Z\",\n",
      "      \"url\": \"https://example.com/veneto-events/166\"\n",
      "    },\n",
      "    {\n",
      "      \"id\": \"367\",\n",
      "      \"title\": \"Chioggia Conference Event #167\",\n",
      "      \"category\": \"Conference\",\n",
      "      \"description\": \"Dive into the world of conference at this exciting gathering in Chioggia. Located at the renowned Museo Civico della Laguna Sud, it's an event you won't want to miss.\",\n",
      "      \"city\": \"Chioggia\",\n",
      "      \"location\": {\n",
      "        \"venue\": \"Museo Civico della Laguna Sud\",\n",
      "        \"address\": \"Museo Civico della Laguna Sud, Chioggia, Veneto\",\n",
      "        \"latitude\": 45.2152733,\n",
      "        \"longitude\": 12.2776619\n",
      "      },\n",
      "      \"start_date\": \"2025-09-28T18:31:00Z\",\n",
      "      \"end_date\": \"2025-09-29T04:31:00Z\",\n",
      "      \"url\": \"https://example.com/veneto-events/167\"\n",
      "    },\n",
      "    {\n",
      "      \"id\": \"368\",\n",
      "      \"title\": \"Arqu\\u00e0 Petrarca Sport Event #168\",\n",
      "      \"category\": \"Sport\",\n",
      "      \"description\": \"A unique sport opportunity awaits you in Arqu\\u00e0 Petrarca. Join us at the charming Piazza Petrarca for an event designed to inspire and entertain.\",\n",
      "      \"city\": \"Arqu\\u00e0 Petrarca\",\n",
      "      \"location\": {\n",
      "        \"venue\": \"Piazza Petrarca\",\n",
      "        \"address\": \"Piazza Petrarca, Arqu\\u00e0 Petrarca, Veneto\",\n",
      "        \"latitude\": 45.269349,\n",
      "        \"longitude\": 11.7195604\n",
      "      },\n",
      "      \"start_date\": \"2025-09-27T15:07:00Z\",\n",
      "      \"end_date\": \"2025-09-28T01:07:00Z\",\n",
      "      \"url\": \"https://example.com/veneto-events/168\"\n",
      "    },\n",
      "    {\n",
      "      \"id\": \"369\",\n",
      "      \"title\": \"Rovigo Tour Event #169\",\n",
      "      \"category\": \"Tour\",\n",
      "      \"description\": \"Immerse yourself in the rich culture of Rovigo with this engaging tour event at the iconic Tempio della Beata Vergine del Soccorso. It's the perfect way to spend your time.\",\n",
      "      \"city\": \"Rovigo\",\n",
      "      \"location\": {\n",
      "        \"venue\": \"Tempio della Beata Vergine del Soccorso\",\n",
      "        \"address\": \"Tempio della Beata Vergine del Soccorso, Rovigo, Veneto\",\n",
      "        \"latitude\": 45.0698166,\n",
      "        \"longitude\": 11.78882\n",
      "      },\n",
      "      \"start_date\": \"2025-09-26T18:43:00Z\",\n",
      "      \"end_date\": \"2025-09-27T03:43:00Z\",\n",
      "      \"url\": \"https://example.com/veneto-events/169\"\n",
      "    },\n",
      "    {\n",
      "      \"id\": \"370\",\n",
      "      \"title\": \"Spinea Music Event #170\",\n",
      "      \"category\": \"Music\",\n",
      "      \"description\": \"Seeking adventure in Spinea? Look no further than this captivating music event at Parco Nuove Gemme. Fun and excitement are guaranteed!\",\n",
      "      \"city\": \"Spinea\",\n",
      "      \"location\": {\n",
      "        \"venue\": \"Parco Nuove Gemme\",\n",
      "        \"address\": \"Parco Nuove Gemme, Spinea, Veneto\",\n",
      "        \"latitude\": 45.4911604,\n",
      "        \"longitude\": 12.165018\n",
      "      },\n",
      "      \"start_date\": \"2025-09-28T05:39:00Z\",\n",
      "      \"end_date\": \"2025-09-28T06:39:00Z\",\n",
      "      \"url\": \"https://example.com/veneto-events/170\"\n",
      "    },\n",
      "    {\n",
      "      \"id\": \"371\",\n",
      "      \"title\": \"Abano Terme Tour Event #171\",\n",
      "      \"category\": \"Tour\",\n",
      "      \"description\": \"Expand your horizons with this insightful tour event in Abano Terme, hosted at the distinguished Chiesa del Sacro Cuore. Learn something new and be inspired.\",\n",
      "      \"city\": \"Abano Terme\",\n",
      "      \"location\": {\n",
      "        \"venue\": \"Chiesa del Sacro Cuore\",\n",
      "        \"address\": \"Chiesa del Sacro Cuore, Abano Terme, Veneto\",\n",
      "        \"latitude\": 45.3603142,\n",
      "        \"longitude\": 11.7897833\n",
      "      },\n",
      "      \"start_date\": \"2025-09-29T10:10:00Z\",\n",
      "      \"end_date\": \"2025-09-29T14:10:00Z\",\n",
      "      \"url\": \"https://example.com/veneto-events/171\"\n",
      "    },\n",
      "    {\n",
      "      \"id\": \"372\",\n",
      "      \"title\": \"San Vito di Cadore Conference Event #172\",\n",
      "      \"category\": \"Conference\",\n",
      "      \"description\": \"Step into a world of wonder at this extraordinary conference event in San Vito di Cadore, held at the historic Piani di Pezz\\u00e8. Prepare to be amazed!\",\n",
      "      \"city\": \"San Vito di Cadore\",\n",
      "      \"location\": {\n",
      "        \"venue\": \"Piani di Pezz\\u00e8\",\n",
      "        \"address\": \"Piani di Pezz\\u00e8, San Vito di Cadore, Veneto\",\n",
      "        \"latitude\": 46.458966,\n",
      "        \"longitude\": 12.2057415\n",
      "      },\n",
      "      \"start_date\": \"2025-09-27T07:15:00Z\",\n",
      "      \"end_date\": \"2025-09-27T14:15:00Z\",\n",
      "      \"url\": \"https://example.com/veneto-events/172\"\n",
      "    },\n",
      "    {\n",
      "      \"id\": \"373\",\n",
      "      \"title\": \"Vittorio Veneto Conference Event #173\",\n",
      "      \"category\": \"Conference\",\n",
      "      \"description\": \"Expand your horizons with this insightful conference event in Vittorio Veneto, hosted at the distinguished Villa Papadopoli. Learn something new and be inspired.\",\n",
      "      \"city\": \"Vittorio Veneto\",\n",
      "      \"location\": {\n",
      "        \"venue\": \"Villa Papadopoli\",\n",
      "        \"address\": \"Villa Papadopoli, Vittorio Veneto, Veneto\",\n",
      "        \"latitude\": 45.9897826,\n",
      "        \"longitude\": 12.2957596\n",
      "      },\n",
      "      \"start_date\": \"2025-09-27T15:29:00Z\",\n",
      "      \"end_date\": \"2025-09-27T23:29:00Z\",\n",
      "      \"url\": \"https://example.com/veneto-events/173\"\n",
      "    },\n",
      "    {\n",
      "      \"id\": \"374\",\n",
      "      \"title\": \"San Vito di Cadore Exhibition Event #174\",\n",
      "      \"category\": \"Exhibition\",\n",
      "      \"description\": \"Explore the vibrant exhibition scene in San Vito di Cadore with this special event at Chiesa di San Vito. Get ready for a day filled with discovery and enjoyment.\",\n",
      "      \"city\": \"San Vito di Cadore\",\n",
      "      \"location\": {\n",
      "        \"venue\": \"Chiesa di San Vito\",\n",
      "        \"address\": \"Chiesa di San Vito, San Vito di Cadore, Veneto\",\n",
      "        \"latitude\": 46.458966,\n",
      "        \"longitude\": 12.2057415\n",
      "      },\n",
      "      \"start_date\": \"2025-09-27T23:14:00Z\",\n",
      "      \"end_date\": \"2025-09-28T06:14:00Z\",\n",
      "      \"url\": \"https://example.com/veneto-events/174\"\n",
      "    },\n",
      "    {\n",
      "      \"id\": \"375\",\n",
      "      \"title\": \"Schio Theatre Event #175\",\n",
      "      \"category\": \"Theatre\",\n",
      "      \"description\": \"Seeking adventure in Schio? Look no further than this captivating theatre event at Duomo di San Pietro. Fun and excitement are guaranteed!\",\n",
      "      \"city\": \"Schio\",\n",
      "      \"location\": {\n",
      "        \"venue\": \"Duomo di San Pietro\",\n",
      "        \"address\": \"Duomo di San Pietro, Schio, Veneto\",\n",
      "        \"latitude\": 45.7113511,\n",
      "        \"longitude\": 11.3553593\n",
      "      },\n",
      "      \"start_date\": \"2025-09-28T01:49:00Z\",\n",
      "      \"end_date\": \"2025-09-28T06:49:00Z\",\n",
      "      \"url\": \"https://example.com/veneto-events/175\"\n",
      "    },\n",
      "    {\n",
      "      \"id\": \"376\",\n",
      "      \"title\": \"Asolo Theatre Event #176\",\n",
      "      \"category\": \"Theatre\",\n",
      "      \"description\": \"A unique theatre opportunity awaits you in Asolo. Join us at the charming Cathedral of Asolo for an event designed to inspire and entertain.\",\n",
      "      \"city\": \"Asolo\",\n",
      "      \"location\": {\n",
      "        \"venue\": \"Cathedral of Asolo\",\n",
      "        \"address\": \"Cathedral of Asolo, Asolo, Veneto\",\n",
      "        \"latitude\": 45.8007265,\n",
      "        \"longitude\": 11.9142444\n",
      "      },\n",
      "      \"start_date\": \"2025-09-26T13:34:00Z\",\n",
      "      \"end_date\": \"2025-09-26T18:34:00Z\",\n",
      "      \"url\": \"https://example.com/veneto-events/176\"\n",
      "    },\n",
      "    {\n",
      "      \"id\": \"377\",\n",
      "      \"title\": \"Vittorio Veneto Tour Event #177\",\n",
      "      \"category\": \"Tour\",\n",
      "      \"description\": \"Connect with fellow enthusiasts at this lively tour event in Vittorio Veneto, taking place at the welcoming Piazza del Popolo. Share your passion and make new friends.\",\n",
      "      \"city\": \"Vittorio Veneto\",\n",
      "      \"location\": {\n",
      "        \"venue\": \"Piazza del Popolo\",\n",
      "        \"address\": \"Piazza del Popolo, Vittorio Veneto, Veneto\",\n",
      "        \"latitude\": 45.9897336,\n",
      "        \"longitude\": 12.295648\n",
      "      },\n",
      "      \"start_date\": \"2025-09-26T04:11:00Z\",\n",
      "      \"end_date\": \"2025-09-26T10:11:00Z\",\n",
      "      \"url\": \"https://example.com/veneto-events/177\"\n",
      "    },\n",
      "    {\n",
      "      \"id\": \"378\",\n",
      "      \"title\": \"Monselice Arts & Crafts Event #178\",\n",
      "      \"category\": \"Arts & Crafts\",\n",
      "      \"description\": \"Immerse yourself in the rich culture of Monselice with this engaging arts & crafts event at the iconic Santuario delle Sette Chiese. It's the perfect way to spend your time.\",\n",
      "      \"city\": \"Monselice\",\n",
      "      \"location\": {\n",
      "        \"venue\": \"Santuario delle Sette Chiese\",\n",
      "        \"address\": \"Santuario delle Sette Chiese, Monselice, Veneto\",\n",
      "        \"latitude\": 45.2417684,\n",
      "        \"longitude\": 11.7508534\n",
      "      },\n",
      "      \"start_date\": \"2025-09-29T15:57:00Z\",\n",
      "      \"end_date\": \"2025-09-30T00:00:00Z\",\n",
      "      \"url\": \"https://example.com/veneto-events/178\"\n",
      "    },\n",
      "    {\n",
      "      \"id\": \"379\",\n",
      "      \"title\": \"Caorle Sport Event #179\",\n",
      "      \"category\": \"Sport\",\n",
      "      \"description\": \"Connect with fellow enthusiasts at this lively sport event in Caorle, taking place at the welcoming Santuario della Madonna dell'Angelo. Share your passion and make new friends.\",\n",
      "      \"city\": \"Caorle\",\n",
      "      \"location\": {\n",
      "        \"venue\": \"Santuario della Madonna dell'Angelo\",\n",
      "        \"address\": \"Santuario della Madonna dell'Angelo, Caorle, Veneto\",\n",
      "        \"latitude\": 45.5979147,\n",
      "        \"longitude\": 12.8876282\n",
      "      },\n",
      "      \"start_date\": \"2025-09-26T14:13:00Z\",\n",
      "      \"end_date\": \"2025-09-26T17:13:00Z\",\n",
      "      \"url\": \"https://example.com/veneto-events/179\"\n",
      "    },\n",
      "    {\n",
      "      \"id\": \"380\",\n",
      "      \"title\": \"Rovigo Festival Event #180\",\n",
      "      \"category\": \"Festival\",\n",
      "      \"description\": \"Dive into the world of festival at this exciting gathering in Rovigo. Located at the renowned Accademia dei Concordi, it's an event you won't want to miss.\",\n",
      "      \"city\": \"Rovigo\",\n",
      "      \"location\": {\n",
      "        \"venue\": \"Accademia dei Concordi\",\n",
      "        \"address\": \"Accademia dei Concordi, Rovigo, Veneto\",\n",
      "        \"latitude\": 45.0709431,\n",
      "        \"longitude\": 11.7903377\n",
      "      },\n",
      "      \"start_date\": \"2025-09-27T01:00:00Z\",\n",
      "      \"end_date\": \"2025-09-27T06:00:00Z\",\n",
      "      \"url\": \"https://example.com/veneto-events/180\"\n",
      "    },\n",
      "    {\n",
      "      \"id\": \"381\",\n",
      "      \"title\": \"Bardolino Exhibition Event #181\",\n",
      "      \"category\": \"Exhibition\",\n",
      "      \"description\": \"Dive into the world of exhibition at this exciting gathering in Bardolino. Located at the renowned Parco Baia delle Sirene, it's an event you won't want to miss.\",\n",
      "      \"city\": \"Bardolino\",\n",
      "      \"location\": {\n",
      "        \"venue\": \"Parco Baia delle Sirene\",\n",
      "        \"address\": \"Parco Baia delle Sirene, Bardolino, Veneto\",\n",
      "        \"latitude\": 45.5475595,\n",
      "        \"longitude\": 10.7242145\n",
      "      },\n",
      "      \"start_date\": \"2025-09-26T20:23:00Z\",\n",
      "      \"end_date\": \"2025-09-27T05:23:00Z\",\n",
      "      \"url\": \"https://example.com/veneto-events/181\"\n",
      "    },\n",
      "    {\n",
      "      \"id\": \"382\",\n",
      "      \"title\": \"Schio Festival Event #182\",\n",
      "      \"category\": \"Festival\",\n",
      "      \"description\": \"Immerse yourself in the rich culture of Schio with this engaging festival event at the iconic Parco della Fabbrica Alta. It's the perfect way to spend your time.\",\n",
      "      \"city\": \"Schio\",\n",
      "      \"location\": {\n",
      "        \"venue\": \"Parco della Fabbrica Alta\",\n",
      "        \"address\": \"Parco della Fabbrica Alta, Schio, Veneto\",\n",
      "        \"latitude\": 45.7113511,\n",
      "        \"longitude\": 11.3553593\n",
      "      },\n",
      "      \"start_date\": \"2025-09-26T08:33:00Z\",\n",
      "      \"end_date\": \"2025-09-26T16:33:00Z\",\n",
      "      \"url\": \"https://example.com/veneto-events/182\"\n",
      "    },\n",
      "    {\n",
      "      \"id\": \"383\",\n",
      "      \"title\": \"Conegliano Festival Event #183\",\n",
      "      \"category\": \"Festival\",\n",
      "      \"description\": \"Connect with fellow enthusiasts at this lively festival event in Conegliano, taking place at the welcoming Teatro Accademia. Share your passion and make new friends.\",\n",
      "      \"city\": \"Conegliano\",\n",
      "      \"location\": {\n",
      "        \"venue\": \"Teatro Accademia\",\n",
      "        \"address\": \"Teatro Accademia, Conegliano, Veneto\",\n",
      "        \"latitude\": 45.8862172,\n",
      "        \"longitude\": 12.2977566\n",
      "      },\n",
      "      \"start_date\": \"2025-09-26T14:55:00Z\",\n",
      "      \"end_date\": \"2025-09-26T18:55:00Z\",\n",
      "      \"url\": \"https://example.com/veneto-events/183\"\n",
      "    },\n",
      "    {\n",
      "      \"id\": \"384\",\n",
      "      \"title\": \"Cittadella Conference Event #184\",\n",
      "      \"category\": \"Conference\",\n",
      "      \"description\": \"Immerse yourself in the rich culture of Cittadella with this engaging conference event at the iconic Church of San Donato. It's the perfect way to spend your time.\",\n",
      "      \"city\": \"Cittadella\",\n",
      "      \"location\": {\n",
      "        \"venue\": \"Church of San Donato\",\n",
      "        \"address\": \"Church of San Donato, Cittadella, Veneto\",\n",
      "        \"latitude\": 45.6487941,\n",
      "        \"longitude\": 11.7835801\n",
      "      },\n",
      "      \"start_date\": \"2025-09-29T18:04:00Z\",\n",
      "      \"end_date\": \"2025-09-30T00:00:00Z\",\n",
      "      \"url\": \"https://example.com/veneto-events/184\"\n",
      "    },\n",
      "    {\n",
      "      \"id\": \"385\",\n",
      "      \"title\": \"San Vito di Cadore Theatre Event #185\",\n",
      "      \"category\": \"Theatre\",\n",
      "      \"description\": \"Connect with fellow enthusiasts at this lively theatre event in San Vito di Cadore, taking place at the welcoming Lago di Antorno. Share your passion and make new friends.\",\n",
      "      \"city\": \"San Vito di Cadore\",\n",
      "      \"location\": {\n",
      "        \"venue\": \"Lago di Antorno\",\n",
      "        \"address\": \"Lago di Antorno, San Vito di Cadore, Veneto\",\n",
      "        \"latitude\": 46.458966,\n",
      "        \"longitude\": 12.2057415\n",
      "      },\n",
      "      \"start_date\": \"2025-09-26T06:31:00Z\",\n",
      "      \"end_date\": \"2025-09-26T16:31:00Z\",\n",
      "      \"url\": \"https://example.com/veneto-events/185\"\n",
      "    },\n",
      "    {\n",
      "      \"id\": \"386\",\n",
      "      \"title\": \"Cortina d'Ampezzo Exhibition Event #186\",\n",
      "      \"category\": \"Exhibition\",\n",
      "      \"description\": \"A unique exhibition opportunity awaits you in Cortina d'Ampezzo. Join us at the charming Funivia Faloria for an event designed to inspire and entertain.\",\n",
      "      \"city\": \"Cortina d'Ampezzo\",\n",
      "      \"location\": {\n",
      "        \"venue\": \"Funivia Faloria\",\n",
      "        \"address\": \"Funivia Faloria, Cortina d'Ampezzo, Veneto\",\n",
      "        \"latitude\": 46.5383332,\n",
      "        \"longitude\": 12.1373506\n",
      "      },\n",
      "      \"start_date\": \"2025-09-26T15:36:00Z\",\n",
      "      \"end_date\": \"2025-09-26T23:36:00Z\",\n",
      "      \"url\": \"https://example.com/veneto-events/186\"\n",
      "    },\n",
      "    {\n",
      "      \"id\": \"387\",\n",
      "      \"title\": \"Feltre Theatre Event #187\",\n",
      "      \"category\": \"Theatre\",\n",
      "      \"description\": \"Immerse yourself in the rich culture of Feltre with this engaging theatre event at the iconic Villa Pasole. It's the perfect way to spend your time.\",\n",
      "      \"city\": \"Feltre\",\n",
      "      \"location\": {\n",
      "        \"venue\": \"Villa Pasole\",\n",
      "        \"address\": \"Villa Pasole, Feltre, Veneto\",\n",
      "        \"latitude\": 46.0412156,\n",
      "        \"longitude\": 11.9350544\n",
      "      },\n",
      "      \"start_date\": \"2025-09-26T01:10:00Z\",\n",
      "      \"end_date\": \"2025-09-26T07:10:00Z\",\n",
      "      \"url\": \"https://example.com/veneto-events/187\"\n",
      "    },\n",
      "    {\n",
      "      \"id\": \"388\",\n",
      "      \"title\": \"Pedavena Theatre Event #188\",\n",
      "      \"category\": \"Theatre\",\n",
      "      \"description\": \"Seeking adventure in Pedavena? Look no further than this captivating theatre event at Museo Civico di Pedavena. Fun and excitement are guaranteed!\",\n",
      "      \"city\": \"Pedavena\",\n",
      "      \"location\": {\n",
      "        \"venue\": \"Museo Civico di Pedavena\",\n",
      "        \"address\": \"Museo Civico di Pedavena, Pedavena, Veneto\",\n",
      "        \"latitude\": 46.0396242,\n",
      "        \"longitude\": 11.8804327\n",
      "      },\n",
      "      \"start_date\": \"2025-09-29T13:20:00Z\",\n",
      "      \"end_date\": \"2025-09-29T16:20:00Z\",\n",
      "      \"url\": \"https://example.com/veneto-events/188\"\n",
      "    },\n",
      "    {\n",
      "      \"id\": \"389\",\n",
      "      \"title\": \"Cavarzere Theatre Event #189\",\n",
      "      \"category\": \"Theatre\",\n",
      "      \"description\": \"Expand your horizons with this insightful theatre event in Cavarzere, hosted at the distinguished Piazza Vittorio Emanuele II. Learn something new and be inspired.\",\n",
      "      \"city\": \"Cavarzere\",\n",
      "      \"location\": {\n",
      "        \"venue\": \"Piazza Vittorio Emanuele II\",\n",
      "        \"address\": \"Piazza Vittorio Emanuele II, Cavarzere, Veneto\",\n",
      "        \"latitude\": 45.1360987,\n",
      "        \"longitude\": 12.0812854\n",
      "      },\n",
      "      \"start_date\": \"2025-09-28T08:21:00Z\",\n",
      "      \"end_date\": \"2025-09-28T12:21:00Z\",\n",
      "      \"url\": \"https://example.com/veneto-events/189\"\n",
      "    },\n",
      "    {\n",
      "      \"id\": \"390\",\n",
      "      \"title\": \"Belluno Theatre Event #190\",\n",
      "      \"category\": \"Theatre\",\n",
      "      \"description\": \"Connect with fellow enthusiasts at this lively theatre event in Belluno, taking place at the welcoming Torre Civica. Share your passion and make new friends.\",\n",
      "      \"city\": \"Belluno\",\n",
      "      \"location\": {\n",
      "        \"venue\": \"Torre Civica\",\n",
      "        \"address\": \"Torre Civica, Belluno, Veneto\",\n",
      "        \"latitude\": 46.1375185,\n",
      "        \"longitude\": 12.2181711\n",
      "      },\n",
      "      \"start_date\": \"2025-09-27T05:39:00Z\",\n",
      "      \"end_date\": \"2025-09-27T11:39:00Z\",\n",
      "      \"url\": \"https://example.com/veneto-events/190\"\n",
      "    },\n",
      "    {\n",
      "      \"id\": \"391\",\n",
      "      \"title\": \"Mirano Theatre Event #191\",\n",
      "      \"category\": \"Theatre\",\n",
      "      \"description\": \"Explore the vibrant theatre scene in Mirano with this special event at Piazza Martiri della Libert\\u00e0. Get ready for a day filled with discovery and enjoyment.\",\n",
      "      \"city\": \"Mirano\",\n",
      "      \"location\": {\n",
      "        \"venue\": \"Piazza Martiri della Libert\\u00e0\",\n",
      "        \"address\": \"Piazza Martiri della Libert\\u00e0, Mirano, Veneto\",\n",
      "        \"latitude\": 45.4931149,\n",
      "        \"longitude\": 12.1094823\n",
      "      },\n",
      "      \"start_date\": \"2025-09-29T03:16:00Z\",\n",
      "      \"end_date\": \"2025-09-29T11:16:00Z\",\n",
      "      \"url\": \"https://example.com/veneto-events/191\"\n",
      "    },\n",
      "    {\n",
      "      \"id\": \"392\",\n",
      "      \"title\": \"San Bonifacio Festival Event #192\",\n",
      "      \"category\": \"Festival\",\n",
      "      \"description\": \"Explore the vibrant festival scene in San Bonifacio with this special event at Piazza Costituzione. Get ready for a day filled with discovery and enjoyment.\",\n",
      "      \"city\": \"San Bonifacio\",\n",
      "      \"location\": {\n",
      "        \"venue\": \"Piazza Costituzione\",\n",
      "        \"address\": \"Piazza Costituzione, San Bonifacio, Veneto\",\n",
      "        \"latitude\": 45.3955369,\n",
      "        \"longitude\": 11.2695655\n",
      "      },\n",
      "      \"start_date\": \"2025-09-28T09:23:00Z\",\n",
      "      \"end_date\": \"2025-09-28T10:23:00Z\",\n",
      "      \"url\": \"https://example.com/veneto-events/192\"\n",
      "    },\n",
      "    {\n",
      "      \"id\": \"393\",\n",
      "      \"title\": \"Adria Tour Event #193\",\n",
      "      \"category\": \"Tour\",\n",
      "      \"description\": \"Unwind and enjoy a delightful tour experience in Adria at the picturesque Piazza Garibaldi. Relax and take in the atmosphere.\",\n",
      "      \"city\": \"Adria\",\n",
      "      \"location\": {\n",
      "        \"venue\": \"Piazza Garibaldi\",\n",
      "        \"address\": \"Piazza Garibaldi, Adria, Veneto\",\n",
      "        \"latitude\": 45.0563605,\n",
      "        \"longitude\": 12.056166\n",
      "      },\n",
      "      \"start_date\": \"2025-09-29T12:35:00Z\",\n",
      "      \"end_date\": \"2025-09-29T21:35:00Z\",\n",
      "      \"url\": \"https://example.com/veneto-events/193\"\n",
      "    },\n",
      "    {\n",
      "      \"id\": \"394\",\n",
      "      \"title\": \"Chioggia Theatre Event #194\",\n",
      "      \"category\": \"Theatre\",\n",
      "      \"description\": \"Prepare for an unforgettable theatre experience in the stunning city of Chioggia, held at the magnificent Torre dell'Orologio. This event promises to be a highlight of the season!\",\n",
      "      \"city\": \"Chioggia\",\n",
      "      \"location\": {\n",
      "        \"venue\": \"Torre dell'Orologio\",\n",
      "        \"address\": \"Torre dell'Orologio, Chioggia, Veneto\",\n",
      "        \"latitude\": 45.218894,\n",
      "        \"longitude\": 12.2785805\n",
      "      },\n",
      "      \"start_date\": \"2025-09-29T04:49:00Z\",\n",
      "      \"end_date\": \"2025-09-29T06:49:00Z\",\n",
      "      \"url\": \"https://example.com/veneto-events/194\"\n",
      "    },\n",
      "    {\n",
      "      \"id\": \"395\",\n",
      "      \"title\": \"Bardolino Exhibition Event #195\",\n",
      "      \"category\": \"Exhibition\",\n",
      "      \"description\": \"Seeking adventure in Bardolino? Look no further than this captivating exhibition event at Olive Oil Museum. Fun and excitement are guaranteed!\",\n",
      "      \"city\": \"Bardolino\",\n",
      "      \"location\": {\n",
      "        \"venue\": \"Olive Oil Museum\",\n",
      "        \"address\": \"Olive Oil Museum, Bardolino, Veneto\",\n",
      "        \"latitude\": 45.5238629,\n",
      "        \"longitude\": 10.7289606\n",
      "      },\n",
      "      \"start_date\": \"2025-09-29T10:42:00Z\",\n",
      "      \"end_date\": \"2025-09-29T15:42:00Z\",\n",
      "      \"url\": \"https://example.com/veneto-events/195\"\n",
      "    },\n",
      "    {\n",
      "      \"id\": \"396\",\n",
      "      \"title\": \"Borgo Valsugana Theatre Event #196\",\n",
      "      \"category\": \"Theatre\",\n",
      "      \"description\": \"A unique theatre opportunity awaits you in Borgo Valsugana. Join us at the charming Museo della Grande Guerra for an event designed to inspire and entertain.\",\n",
      "      \"city\": \"Borgo Valsugana\",\n",
      "      \"location\": {\n",
      "        \"venue\": \"Museo della Grande Guerra\",\n",
      "        \"address\": \"Museo della Grande Guerra, Borgo Valsugana, Veneto\",\n",
      "        \"latitude\": null,\n",
      "        \"longitude\": null\n",
      "      },\n",
      "      \"start_date\": \"2025-09-27T10:33:00Z\",\n",
      "      \"end_date\": \"2025-09-27T18:33:00Z\",\n",
      "      \"url\": \"https://example.com/veneto-events/196\"\n",
      "    },\n",
      "    {\n",
      "      \"id\": \"397\",\n",
      "      \"title\": \"Rovigo Sport Event #197\",\n",
      "      \"category\": \"Sport\",\n",
      "      \"description\": \"Prepare for an unforgettable sport experience in the stunning city of Rovigo, held at the magnificent Tempio della Beata Vergine del Soccorso. This event promises to be a highlight of the season!\",\n",
      "      \"city\": \"Rovigo\",\n",
      "      \"location\": {\n",
      "        \"venue\": \"Tempio della Beata Vergine del Soccorso\",\n",
      "        \"address\": \"Tempio della Beata Vergine del Soccorso, Rovigo, Veneto\",\n",
      "        \"latitude\": 45.0698166,\n",
      "        \"longitude\": 11.78882\n",
      "      },\n",
      "      \"start_date\": \"2025-09-27T14:26:00Z\",\n",
      "      \"end_date\": \"2025-09-27T17:26:00Z\",\n",
      "      \"url\": \"https://example.com/veneto-events/197\"\n",
      "    },\n",
      "    {\n",
      "      \"id\": \"398\",\n",
      "      \"title\": \"Chioggia Exhibition Event #198\",\n",
      "      \"category\": \"Exhibition\",\n",
      "      \"description\": \"Prepare for an unforgettable exhibition experience in the stunning city of Chioggia, held at the magnificent Torre dell'Orologio. This event promises to be a highlight of the season!\",\n",
      "      \"city\": \"Chioggia\",\n",
      "      \"location\": {\n",
      "        \"venue\": \"Torre dell'Orologio\",\n",
      "        \"address\": \"Torre dell'Orologio, Chioggia, Veneto\",\n",
      "        \"latitude\": 45.218894,\n",
      "        \"longitude\": 12.2785805\n",
      "      },\n",
      "      \"start_date\": \"2025-09-28T00:20:00Z\",\n",
      "      \"end_date\": \"2025-09-28T05:20:00Z\",\n",
      "      \"url\": \"https://example.com/veneto-events/198\"\n",
      "    },\n",
      "    {\n",
      "      \"id\": \"399\",\n",
      "      \"title\": \"San Vito di Cadore Tour Event #199\",\n",
      "      \"category\": \"Tour\",\n",
      "      \"description\": \"Explore the vibrant tour scene in San Vito di Cadore with this special event at Chiesa di San Vito. Get ready for a day filled with discovery and enjoyment.\",\n",
      "      \"city\": \"San Vito di Cadore\",\n",
      "      \"location\": {\n",
      "        \"venue\": \"Chiesa di San Vito\",\n",
      "        \"address\": \"Chiesa di San Vito, San Vito di Cadore, Veneto\",\n",
      "        \"latitude\": 46.458966,\n",
      "        \"longitude\": 12.2057415\n",
      "      },\n",
      "      \"start_date\": \"2025-09-29T11:54:00Z\",\n",
      "      \"end_date\": \"2025-09-29T18:54:00Z\",\n",
      "      \"url\": \"https://example.com/veneto-events/199\"\n",
      "    },\n",
      "    {\n",
      "      \"id\": \"400\",\n",
      "      \"title\": \"Feltre Workshop Event #200\",\n",
      "      \"category\": \"Workshop\",\n",
      "      \"description\": \"Step into a world of wonder at this extraordinary workshop event in Feltre, held at the historic Cattedrale di San Pietro Apostolo. Prepare to be amazed!\",\n",
      "      \"city\": \"Feltre\",\n",
      "      \"location\": {\n",
      "        \"venue\": \"Cattedrale di San Pietro Apostolo\",\n",
      "        \"address\": \"Cattedrale di San Pietro Apostolo, Feltre, Veneto\",\n",
      "        \"latitude\": 46.0163755,\n",
      "        \"longitude\": 11.9062541\n",
      "      },\n",
      "      \"start_date\": \"2025-09-29T16:31:00Z\",\n",
      "      \"end_date\": \"2025-09-29T21:31:00Z\",\n",
      "      \"url\": \"https://example.com/veneto-events/200\"\n",
      "    },\n",
      "    {\n",
      "      \"id\": \"401\",\n",
      "      \"title\": \"Arqu\\u00e0 Petrarca Festival Event #201\",\n",
      "      \"category\": \"Festival\",\n",
      "      \"description\": \"Connect with fellow enthusiasts at this lively festival event in Arqu\\u00e0 Petrarca, taking place at the welcoming Casa del Petrarca. Share your passion and make new friends.\",\n",
      "      \"city\": \"Arqu\\u00e0 Petrarca\",\n",
      "      \"location\": {\n",
      "        \"venue\": \"Casa del Petrarca\",\n",
      "        \"address\": \"Casa del Petrarca, Arqu\\u00e0 Petrarca, Veneto\",\n",
      "        \"latitude\": 45.2700441,\n",
      "        \"longitude\": 11.7165149\n",
      "      },\n",
      "      \"start_date\": \"2025-09-28T12:25:00Z\",\n",
      "      \"end_date\": \"2025-09-28T16:25:00Z\",\n",
      "      \"url\": \"https://example.com/veneto-events/201\"\n",
      "    },\n",
      "    {\n",
      "      \"id\": \"402\",\n",
      "      \"title\": \"Pedavena Tour Event #202\",\n",
      "      \"category\": \"Tour\",\n",
      "      \"description\": \"Immerse yourself in the rich culture of Pedavena with this engaging tour event at the iconic Museo Civico di Pedavena. It's the perfect way to spend your time.\",\n",
      "      \"city\": \"Pedavena\",\n",
      "      \"location\": {\n",
      "        \"venue\": \"Museo Civico di Pedavena\",\n",
      "        \"address\": \"Museo Civico di Pedavena, Pedavena, Veneto\",\n",
      "        \"latitude\": 46.0396242,\n",
      "        \"longitude\": 11.8804327\n",
      "      },\n",
      "      \"start_date\": \"2025-09-28T08:25:00Z\",\n",
      "      \"end_date\": \"2025-09-28T17:25:00Z\",\n",
      "      \"url\": \"https://example.com/veneto-events/202\"\n",
      "    },\n",
      "    {\n",
      "      \"id\": \"403\",\n",
      "      \"title\": \"Peschiera del Garda Festival Event #203\",\n",
      "      \"category\": \"Festival\",\n",
      "      \"description\": \"Connect with fellow enthusiasts at this lively festival event in Peschiera del Garda, taking place at the welcoming Fortezza di Peschiera. Share your passion and make new friends.\",\n",
      "      \"city\": \"Peschiera del Garda\",\n",
      "      \"location\": {\n",
      "        \"venue\": \"Fortezza di Peschiera\",\n",
      "        \"address\": \"Fortezza di Peschiera, Peschiera del Garda, Veneto\",\n",
      "        \"latitude\": 45.4389454,\n",
      "        \"longitude\": 10.6920171\n",
      "      },\n",
      "      \"start_date\": \"2025-09-29T11:43:00Z\",\n",
      "      \"end_date\": \"2025-09-29T21:43:00Z\",\n",
      "      \"url\": \"https://example.com/veneto-events/203\"\n",
      "    },\n",
      "    {\n",
      "      \"id\": \"404\",\n",
      "      \"title\": \"Chioggia Music Event #204\",\n",
      "      \"category\": \"Music\",\n",
      "      \"description\": \"Expand your horizons with this insightful music event in Chioggia, hosted at the distinguished Sottomarina Beach. Learn something new and be inspired.\",\n",
      "      \"city\": \"Chioggia\",\n",
      "      \"location\": {\n",
      "        \"venue\": \"Sottomarina Beach\",\n",
      "        \"address\": \"Sottomarina Beach, Chioggia, Veneto\",\n",
      "        \"latitude\": 45.218894,\n",
      "        \"longitude\": 12.2785805\n",
      "      },\n",
      "      \"start_date\": \"2025-09-27T14:26:00Z\",\n",
      "      \"end_date\": \"2025-09-27T19:26:00Z\",\n",
      "      \"url\": \"https://example.com/veneto-events/204\"\n",
      "    },\n",
      "    {\n",
      "      \"id\": \"405\",\n",
      "      \"title\": \"Belluno Exhibition Event #205\",\n",
      "      \"category\": \"Exhibition\",\n",
      "      \"description\": \"Step into a world of wonder at this extraordinary exhibition event in Belluno, held at the historic Parco Nazionale Dolomiti Bellunesi. Prepare to be amazed!\",\n",
      "      \"city\": \"Belluno\",\n",
      "      \"location\": {\n",
      "        \"venue\": \"Parco Nazionale Dolomiti Bellunesi\",\n",
      "        \"address\": \"Parco Nazionale Dolomiti Bellunesi, Belluno, Veneto\",\n",
      "        \"latitude\": 46.0224949,\n",
      "        \"longitude\": 11.8993517\n",
      "      },\n",
      "      \"start_date\": \"2025-09-28T10:38:00Z\",\n",
      "      \"end_date\": \"2025-09-28T14:38:00Z\",\n",
      "      \"url\": \"https://example.com/veneto-events/205\"\n",
      "    },\n",
      "    {\n",
      "      \"id\": \"406\",\n",
      "      \"title\": \"Padua Food & Drink Event #206\",\n",
      "      \"category\": \"Food & Drink\",\n",
      "      \"description\": \"Connect with fellow enthusiasts at this lively food & drink event in Padua, taking place at the welcoming Cappella degli Scrovegni. Share your passion and make new friends.\",\n",
      "      \"city\": \"Padua\",\n",
      "      \"location\": {\n",
      "        \"venue\": \"Cappella degli Scrovegni\",\n",
      "        \"address\": \"Cappella degli Scrovegni, Padua, Veneto\",\n",
      "        \"latitude\": 45.4077172,\n",
      "        \"longitude\": 11.8734455\n",
      "      },\n",
      "      \"start_date\": \"2025-09-27T09:22:00Z\",\n",
      "      \"end_date\": \"2025-09-27T18:22:00Z\",\n",
      "      \"url\": \"https://example.com/veneto-events/206\"\n",
      "    },\n",
      "    {\n",
      "      \"id\": \"407\",\n",
      "      \"title\": \"Legnago Conference Event #207\",\n",
      "      \"category\": \"Conference\",\n",
      "      \"description\": \"Expand your horizons with this insightful conference event in Legnago, hosted at the distinguished Teatro Salieri. Learn something new and be inspired.\",\n",
      "      \"city\": \"Legnago\",\n",
      "      \"location\": {\n",
      "        \"venue\": \"Teatro Salieri\",\n",
      "        \"address\": \"Teatro Salieri, Legnago, Veneto\",\n",
      "        \"latitude\": 45.1914252,\n",
      "        \"longitude\": 11.3074076\n",
      "      },\n",
      "      \"start_date\": \"2025-09-28T13:06:00Z\",\n",
      "      \"end_date\": \"2025-09-28T19:06:00Z\",\n",
      "      \"url\": \"https://example.com/veneto-events/207\"\n",
      "    },\n",
      "    {\n",
      "      \"id\": \"408\",\n",
      "      \"title\": \"Cavarzere Tour Event #208\",\n",
      "      \"category\": \"Tour\",\n",
      "      \"description\": \"Unwind and enjoy a delightful tour experience in Cavarzere at the picturesque Villa Zennaro. Relax and take in the atmosphere.\",\n",
      "      \"city\": \"Cavarzere\",\n",
      "      \"location\": {\n",
      "        \"venue\": \"Villa Zennaro\",\n",
      "        \"address\": \"Villa Zennaro, Cavarzere, Veneto\",\n",
      "        \"latitude\": 45.1360987,\n",
      "        \"longitude\": 12.0812854\n",
      "      },\n",
      "      \"start_date\": \"2025-09-27T20:52:00Z\",\n",
      "      \"end_date\": \"2025-09-28T06:52:00Z\",\n",
      "      \"url\": \"https://example.com/veneto-events/208\"\n",
      "    },\n",
      "    {\n",
      "      \"id\": \"409\",\n",
      "      \"title\": \"Arqu\\u00e0 Petrarca Festival Event #209\",\n",
      "      \"category\": \"Festival\",\n",
      "      \"description\": \"Dive into the world of festival at this exciting gathering in Arqu\\u00e0 Petrarca. Located at the renowned Piazza Petrarca, it's an event you won't want to miss.\",\n",
      "      \"city\": \"Arqu\\u00e0 Petrarca\",\n",
      "      \"location\": {\n",
      "        \"venue\": \"Piazza Petrarca\",\n",
      "        \"address\": \"Piazza Petrarca, Arqu\\u00e0 Petrarca, Veneto\",\n",
      "        \"latitude\": 45.269349,\n",
      "        \"longitude\": 11.7195604\n",
      "      },\n",
      "      \"start_date\": \"2025-09-27T13:22:00Z\",\n",
      "      \"end_date\": \"2025-09-27T20:22:00Z\",\n",
      "      \"url\": \"https://example.com/veneto-events/209\"\n",
      "    },\n",
      "    {\n",
      "      \"id\": \"410\",\n",
      "      \"title\": \"San Bonifacio Workshop Event #210\",\n",
      "      \"category\": \"Workshop\",\n",
      "      \"description\": \"Explore the vibrant workshop scene in San Bonifacio with this special event at Duomo di San Bonifacio. Get ready for a day filled with discovery and enjoyment.\",\n",
      "      \"city\": \"San Bonifacio\",\n",
      "      \"location\": {\n",
      "        \"venue\": \"Duomo di San Bonifacio\",\n",
      "        \"address\": \"Duomo di San Bonifacio, San Bonifacio, Veneto\",\n",
      "        \"latitude\": 45.3956425,\n",
      "        \"longitude\": 11.2700817\n",
      "      },\n",
      "      \"start_date\": \"2025-09-29T18:07:00Z\",\n",
      "      \"end_date\": \"2025-09-29T19:07:00Z\",\n",
      "      \"url\": \"https://example.com/veneto-events/210\"\n",
      "    },\n",
      "    {\n",
      "      \"id\": \"411\",\n",
      "      \"title\": \"Caorle Festival Event #211\",\n",
      "      \"category\": \"Festival\",\n",
      "      \"description\": \"Step into a world of wonder at this extraordinary festival event in Caorle, held at the historic Scogliera Viva. Prepare to be amazed!\",\n",
      "      \"city\": \"Caorle\",\n",
      "      \"location\": {\n",
      "        \"venue\": \"Scogliera Viva\",\n",
      "        \"address\": \"Scogliera Viva, Caorle, Veneto\",\n",
      "        \"latitude\": 45.5979147,\n",
      "        \"longitude\": 12.8876282\n",
      "      },\n",
      "      \"start_date\": \"2025-09-27T18:45:00Z\",\n",
      "      \"end_date\": \"2025-09-28T01:45:00Z\",\n",
      "      \"url\": \"https://example.com/veneto-events/211\"\n",
      "    },\n",
      "    {\n",
      "      \"id\": \"412\",\n",
      "      \"title\": \"Pedavena Music Event #212\",\n",
      "      \"category\": \"Music\",\n",
      "      \"description\": \"Seeking adventure in Pedavena? Look no further than this captivating music event at Parco della Birreria. Fun and excitement are guaranteed!\",\n",
      "      \"city\": \"Pedavena\",\n",
      "      \"location\": {\n",
      "        \"venue\": \"Parco della Birreria\",\n",
      "        \"address\": \"Parco della Birreria, Pedavena, Veneto\",\n",
      "        \"latitude\": 46.0396242,\n",
      "        \"longitude\": 11.8804327\n",
      "      },\n",
      "      \"start_date\": \"2025-09-27T20:52:00Z\",\n",
      "      \"end_date\": \"2025-09-27T21:52:00Z\",\n",
      "      \"url\": \"https://example.com/veneto-events/212\"\n",
      "    },\n",
      "    {\n",
      "      \"id\": \"413\",\n",
      "      \"title\": \"San Bonifacio Conference Event #213\",\n",
      "      \"category\": \"Conference\",\n",
      "      \"description\": \"Seeking adventure in San Bonifacio? Look no further than this captivating conference event at Parco della Rimembranza. Fun and excitement are guaranteed!\",\n",
      "      \"city\": \"San Bonifacio\",\n",
      "      \"location\": {\n",
      "        \"venue\": \"Parco della Rimembranza\",\n",
      "        \"address\": \"Parco della Rimembranza, San Bonifacio, Veneto\",\n",
      "        \"latitude\": 45.3956425,\n",
      "        \"longitude\": 11.2700817\n",
      "      },\n",
      "      \"start_date\": \"2025-09-27T12:22:00Z\",\n",
      "      \"end_date\": \"2025-09-27T20:22:00Z\",\n",
      "      \"url\": \"https://example.com/veneto-events/213\"\n",
      "    },\n",
      "    {\n",
      "      \"id\": \"414\",\n",
      "      \"title\": \"San Vito di Cadore Music Event #214\",\n",
      "      \"category\": \"Music\",\n",
      "      \"description\": \"Immerse yourself in the rich culture of San Vito di Cadore with this engaging music event at the iconic Parco NeveSole. It's the perfect way to spend your time.\",\n",
      "      \"city\": \"San Vito di Cadore\",\n",
      "      \"location\": {\n",
      "        \"venue\": \"Parco NeveSole\",\n",
      "        \"address\": \"Parco NeveSole, San Vito di Cadore, Veneto\",\n",
      "        \"latitude\": 46.458966,\n",
      "        \"longitude\": 12.2057415\n",
      "      },\n",
      "      \"start_date\": \"2025-09-29T20:57:00Z\",\n",
      "      \"end_date\": \"2025-09-29T21:57:00Z\",\n",
      "      \"url\": \"https://example.com/veneto-events/214\"\n",
      "    },\n",
      "    {\n",
      "      \"id\": \"415\",\n",
      "      \"title\": \"Pedavena Sport Event #215\",\n",
      "      \"category\": \"Sport\",\n",
      "      \"description\": \"Immerse yourself in the rich culture of Pedavena with this engaging sport event at the iconic Piazza Martiri. It's the perfect way to spend your time.\",\n",
      "      \"city\": \"Pedavena\",\n",
      "      \"location\": {\n",
      "        \"venue\": \"Piazza Martiri\",\n",
      "        \"address\": \"Piazza Martiri, Pedavena, Veneto\",\n",
      "        \"latitude\": 46.0396242,\n",
      "        \"longitude\": 11.8804327\n",
      "      },\n",
      "      \"start_date\": \"2025-09-28T05:28:00Z\",\n",
      "      \"end_date\": \"2025-09-28T12:28:00Z\",\n",
      "      \"url\": \"https://example.com/veneto-events/215\"\n",
      "    },\n",
      "    {\n",
      "      \"id\": \"416\",\n",
      "      \"title\": \"Padua Food & Drink Event #216\",\n",
      "      \"category\": \"Food & Drink\",\n",
      "      \"description\": \"Prepare for an unforgettable food & drink experience in the stunning city of Padua, held at the magnificent Prato della Valle. This event promises to be a highlight of the season!\",\n",
      "      \"city\": \"Padua\",\n",
      "      \"location\": {\n",
      "        \"venue\": \"Prato della Valle\",\n",
      "        \"address\": \"Prato della Valle, Padua, Veneto\",\n",
      "        \"latitude\": 45.3984714,\n",
      "        \"longitude\": 11.8751207\n",
      "      },\n",
      "      \"start_date\": \"2025-09-27T18:35:00Z\",\n",
      "      \"end_date\": \"2025-09-28T00:35:00Z\",\n",
      "      \"url\": \"https://example.com/veneto-events/216\"\n",
      "    },\n",
      "    {\n",
      "      \"id\": \"417\",\n",
      "      \"title\": \"Caorle Workshop Event #217\",\n",
      "      \"category\": \"Workshop\",\n",
      "      \"description\": \"Explore the vibrant workshop scene in Caorle with this special event at Duomo di Santo Stefano. Get ready for a day filled with discovery and enjoyment.\",\n",
      "      \"city\": \"Caorle\",\n",
      "      \"location\": {\n",
      "        \"venue\": \"Duomo di Santo Stefano\",\n",
      "        \"address\": \"Duomo di Santo Stefano, Caorle, Veneto\",\n",
      "        \"latitude\": 45.5979147,\n",
      "        \"longitude\": 12.8876282\n",
      "      },\n",
      "      \"start_date\": \"2025-09-29T21:27:00Z\",\n",
      "      \"end_date\": \"2025-09-30T00:00:00Z\",\n",
      "      \"url\": \"https://example.com/veneto-events/217\"\n",
      "    },\n",
      "    {\n",
      "      \"id\": \"418\",\n",
      "      \"title\": \"Bassano del Grappa Music Event #218\",\n",
      "      \"category\": \"Music\",\n",
      "      \"description\": \"Step into a world of wonder at this extraordinary music event in Bassano del Grappa, held at the historic Teatro Remondini. Prepare to be amazed!\",\n",
      "      \"city\": \"Bassano del Grappa\",\n",
      "      \"location\": {\n",
      "        \"venue\": \"Teatro Remondini\",\n",
      "        \"address\": \"Teatro Remondini, Bassano del Grappa, Veneto\",\n",
      "        \"latitude\": 45.7669109,\n",
      "        \"longitude\": 11.7343469\n",
      "      },\n",
      "      \"start_date\": \"2025-09-28T10:35:00Z\",\n",
      "      \"end_date\": \"2025-09-28T12:35:00Z\",\n",
      "      \"url\": \"https://example.com/veneto-events/218\"\n",
      "    },\n",
      "    {\n",
      "      \"id\": \"419\",\n",
      "      \"title\": \"Asolo Exhibition Event #219\",\n",
      "      \"category\": \"Exhibition\",\n",
      "      \"description\": \"Step into a world of wonder at this extraordinary exhibition event in Asolo, held at the historic Villa Maser. Prepare to be amazed!\",\n",
      "      \"city\": \"Asolo\",\n",
      "      \"location\": {\n",
      "        \"venue\": \"Villa Maser\",\n",
      "        \"address\": \"Villa Maser, Asolo, Veneto\",\n",
      "        \"latitude\": 45.8007265,\n",
      "        \"longitude\": 11.9142444\n",
      "      },\n",
      "      \"start_date\": \"2025-09-28T22:11:00Z\",\n",
      "      \"end_date\": \"2025-09-29T00:11:00Z\",\n",
      "      \"url\": \"https://example.com/veneto-events/219\"\n",
      "    },\n",
      "    {\n",
      "      \"id\": \"420\",\n",
      "      \"title\": \"Caorle Exhibition Event #220\",\n",
      "      \"category\": \"Exhibition\",\n",
      "      \"description\": \"Seeking adventure in Caorle? Look no further than this captivating exhibition event at Duomo di Santo Stefano. Fun and excitement are guaranteed!\",\n",
      "      \"city\": \"Caorle\",\n",
      "      \"location\": {\n",
      "        \"venue\": \"Duomo di Santo Stefano\",\n",
      "        \"address\": \"Duomo di Santo Stefano, Caorle, Veneto\",\n",
      "        \"latitude\": 45.5979147,\n",
      "        \"longitude\": 12.8876282\n",
      "      },\n",
      "      \"start_date\": \"2025-09-28T22:09:00Z\",\n",
      "      \"end_date\": \"2025-09-29T00:09:00Z\",\n",
      "      \"url\": \"https://example.com/veneto-events/220\"\n",
      "    },\n",
      "    {\n",
      "      \"id\": \"421\",\n",
      "      \"title\": \"Legnago Workshop Event #221\",\n",
      "      \"category\": \"Workshop\",\n",
      "      \"description\": \"Prepare for an unforgettable workshop experience in the stunning city of Legnago, held at the magnificent Castello di Legnago. This event promises to be a highlight of the season!\",\n",
      "      \"city\": \"Legnago\",\n",
      "      \"location\": {\n",
      "        \"venue\": \"Castello di Legnago\",\n",
      "        \"address\": \"Castello di Legnago, Legnago, Veneto\",\n",
      "        \"latitude\": 45.192498,\n",
      "        \"longitude\": 11.3111274\n",
      "      },\n",
      "      \"start_date\": \"2025-09-26T17:18:00Z\",\n",
      "      \"end_date\": \"2025-09-27T03:18:00Z\",\n",
      "      \"url\": \"https://example.com/veneto-events/221\"\n",
      "    },\n",
      "    {\n",
      "      \"id\": \"422\",\n",
      "      \"title\": \"Schio Conference Event #222\",\n",
      "      \"category\": \"Conference\",\n",
      "      \"description\": \"Prepare for an unforgettable conference experience in the stunning city of Schio, held at the magnificent Duomo di San Pietro. This event promises to be a highlight of the season!\",\n",
      "      \"city\": \"Schio\",\n",
      "      \"location\": {\n",
      "        \"venue\": \"Duomo di San Pietro\",\n",
      "        \"address\": \"Duomo di San Pietro, Schio, Veneto\",\n",
      "        \"latitude\": 45.7113511,\n",
      "        \"longitude\": 11.3553593\n",
      "      },\n",
      "      \"start_date\": \"2025-09-26T11:24:00Z\",\n",
      "      \"end_date\": \"2025-09-26T16:24:00Z\",\n",
      "      \"url\": \"https://example.com/veneto-events/222\"\n",
      "    },\n",
      "    {\n",
      "      \"id\": \"423\",\n",
      "      \"title\": \"Borgo Valsugana Festival Event #223\",\n",
      "      \"category\": \"Festival\",\n",
      "      \"description\": \"Expand your horizons with this insightful festival event in Borgo Valsugana, hosted at the distinguished Palazzo Ceschi. Learn something new and be inspired.\",\n",
      "      \"city\": \"Borgo Valsugana\",\n",
      "      \"location\": {\n",
      "        \"venue\": \"Palazzo Ceschi\",\n",
      "        \"address\": \"Palazzo Ceschi, Borgo Valsugana, Veneto\",\n",
      "        \"latitude\": null,\n",
      "        \"longitude\": null\n",
      "      },\n",
      "      \"start_date\": \"2025-09-27T23:21:00Z\",\n",
      "      \"end_date\": \"2025-09-28T04:21:00Z\",\n",
      "      \"url\": \"https://example.com/veneto-events/223\"\n",
      "    },\n",
      "    {\n",
      "      \"id\": \"424\",\n",
      "      \"title\": \"Spinea Sport Event #224\",\n",
      "      \"category\": \"Sport\",\n",
      "      \"description\": \"Dive into the world of sport at this exciting gathering in Spinea. Located at the renowned Museo della Civilt\\u00e0 Contadina, it's an event you won't want to miss.\",\n",
      "      \"city\": \"Spinea\",\n",
      "      \"location\": {\n",
      "        \"venue\": \"Museo della Civilt\\u00e0 Contadina\",\n",
      "        \"address\": \"Museo della Civilt\\u00e0 Contadina, Spinea, Veneto\",\n",
      "        \"latitude\": 45.4911604,\n",
      "        \"longitude\": 12.165018\n",
      "      },\n",
      "      \"start_date\": \"2025-09-29T23:35:00Z\",\n",
      "      \"end_date\": \"2025-09-30T00:00:00Z\",\n",
      "      \"url\": \"https://example.com/veneto-events/224\"\n",
      "    },\n",
      "    {\n",
      "      \"id\": \"425\",\n",
      "      \"title\": \"Legnago Music Event #225\",\n",
      "      \"category\": \"Music\",\n",
      "      \"description\": \"Dive into the world of music at this exciting gathering in Legnago. Located at the renowned Museo Fioroni, it's an event you won't want to miss.\",\n",
      "      \"city\": \"Legnago\",\n",
      "      \"location\": {\n",
      "        \"venue\": \"Museo Fioroni\",\n",
      "        \"address\": \"Museo Fioroni, Legnago, Veneto\",\n",
      "        \"latitude\": 45.192498,\n",
      "        \"longitude\": 11.3111274\n",
      "      },\n",
      "      \"start_date\": \"2025-09-26T14:45:00Z\",\n",
      "      \"end_date\": \"2025-09-26T20:45:00Z\",\n",
      "      \"url\": \"https://example.com/veneto-events/225\"\n",
      "    },\n",
      "    {\n",
      "      \"id\": \"426\",\n",
      "      \"title\": \"Lazise Food & Drink Event #226\",\n",
      "      \"category\": \"Food & Drink\",\n",
      "      \"description\": \"Connect with fellow enthusiasts at this lively food & drink event in Lazise, taking place at the welcoming Chiesa di San Nicol\\u00f2. Share your passion and make new friends.\",\n",
      "      \"city\": \"Lazise\",\n",
      "      \"location\": {\n",
      "        \"venue\": \"Chiesa di San Nicol\\u00f2\",\n",
      "        \"address\": \"Chiesa di San Nicol\\u00f2, Lazise, Veneto\",\n",
      "        \"latitude\": 45.5052005,\n",
      "        \"longitude\": 10.7330245\n",
      "      },\n",
      "      \"start_date\": \"2025-09-26T14:44:00Z\",\n",
      "      \"end_date\": \"2025-09-26T19:44:00Z\",\n",
      "      \"url\": \"https://example.com/veneto-events/226\"\n",
      "    },\n",
      "    {\n",
      "      \"id\": \"427\",\n",
      "      \"title\": \"Noale Conference Event #227\",\n",
      "      \"category\": \"Conference\",\n",
      "      \"description\": \"Prepare for an unforgettable conference experience in the stunning city of Noale, held at the magnificent Duomo di Noale. This event promises to be a highlight of the season!\",\n",
      "      \"city\": \"Noale\",\n",
      "      \"location\": {\n",
      "        \"venue\": \"Duomo di Noale\",\n",
      "        \"address\": \"Duomo di Noale, Noale, Veneto\",\n",
      "        \"latitude\": 45.550156,\n",
      "        \"longitude\": 12.0720437\n",
      "      },\n",
      "      \"start_date\": \"2025-09-27T19:06:00Z\",\n",
      "      \"end_date\": \"2025-09-28T02:06:00Z\",\n",
      "      \"url\": \"https://example.com/veneto-events/227\"\n",
      "    },\n",
      "    {\n",
      "      \"id\": \"428\",\n",
      "      \"title\": \"Valdagno Conference Event #228\",\n",
      "      \"category\": \"Conference\",\n",
      "      \"description\": \"Immerse yourself in the rich culture of Valdagno with this engaging conference event at the iconic Villa Cerchiari. It's the perfect way to spend your time.\",\n",
      "      \"city\": \"Valdagno\",\n",
      "      \"location\": {\n",
      "        \"venue\": \"Villa Cerchiari\",\n",
      "        \"address\": \"Villa Cerchiari, Valdagno, Veneto\",\n",
      "        \"latitude\": 45.6413213,\n",
      "        \"longitude\": 11.3040596\n",
      "      },\n",
      "      \"start_date\": \"2025-09-28T03:04:00Z\",\n",
      "      \"end_date\": \"2025-09-28T13:04:00Z\",\n",
      "      \"url\": \"https://example.com/veneto-events/228\"\n",
      "    },\n",
      "    {\n",
      "      \"id\": \"429\",\n",
      "      \"title\": \"Abano Terme Theatre Event #229\",\n",
      "      \"category\": \"Theatre\",\n",
      "      \"description\": \"Explore the vibrant theatre scene in Abano Terme with this special event at Chiesa del Sacro Cuore. Get ready for a day filled with discovery and enjoyment.\",\n",
      "      \"city\": \"Abano Terme\",\n",
      "      \"location\": {\n",
      "        \"venue\": \"Chiesa del Sacro Cuore\",\n",
      "        \"address\": \"Chiesa del Sacro Cuore, Abano Terme, Veneto\",\n",
      "        \"latitude\": 45.3603142,\n",
      "        \"longitude\": 11.7897833\n",
      "      },\n",
      "      \"start_date\": \"2025-09-29T20:52:00Z\",\n",
      "      \"end_date\": \"2025-09-30T00:00:00Z\",\n",
      "      \"url\": \"https://example.com/veneto-events/229\"\n",
      "    },\n",
      "    {\n",
      "      \"id\": \"430\",\n",
      "      \"title\": \"Adria Music Event #230\",\n",
      "      \"category\": \"Music\",\n",
      "      \"description\": \"Dive into the world of music at this exciting gathering in Adria. Located at the renowned Chiesa di Santa Maria Assunta della Tomba, it's an event you won't want to miss.\",\n",
      "      \"city\": \"Adria\",\n",
      "      \"location\": {\n",
      "        \"venue\": \"Chiesa di Santa Maria Assunta della Tomba\",\n",
      "        \"address\": \"Chiesa di Santa Maria Assunta della Tomba, Adria, Veneto\",\n",
      "        \"latitude\": 45.051095,\n",
      "        \"longitude\": 12.0594617\n",
      "      },\n",
      "      \"start_date\": \"2025-09-26T12:44:00Z\",\n",
      "      \"end_date\": \"2025-09-26T19:44:00Z\",\n",
      "      \"url\": \"https://example.com/veneto-events/230\"\n",
      "    },\n",
      "    {\n",
      "      \"id\": \"431\",\n",
      "      \"title\": \"Vittorio Veneto Sport Event #231\",\n",
      "      \"category\": \"Sport\",\n",
      "      \"description\": \"Immerse yourself in the rich culture of Vittorio Veneto with this engaging sport event at the iconic Duomo di San Tiziano. It's the perfect way to spend your time.\",\n",
      "      \"city\": \"Vittorio Veneto\",\n",
      "      \"location\": {\n",
      "        \"venue\": \"Duomo di San Tiziano\",\n",
      "        \"address\": \"Duomo di San Tiziano, Vittorio Veneto, Veneto\",\n",
      "        \"latitude\": 45.9897826,\n",
      "        \"longitude\": 12.2957596\n",
      "      },\n",
      "      \"start_date\": \"2025-09-29T13:12:00Z\",\n",
      "      \"end_date\": \"2025-09-29T21:12:00Z\",\n",
      "      \"url\": \"https://example.com/veneto-events/231\"\n",
      "    },\n",
      "    {\n",
      "      \"id\": \"432\",\n",
      "      \"title\": \"Valeggio sul Mincio Theatre Event #232\",\n",
      "      \"category\": \"Theatre\",\n",
      "      \"description\": \"Unwind and enjoy a delightful theatre experience in Valeggio sul Mincio at the picturesque Chiesa di San Marco Evangelista. Relax and take in the atmosphere.\",\n",
      "      \"city\": \"Valeggio sul Mincio\",\n",
      "      \"location\": {\n",
      "        \"venue\": \"Chiesa di San Marco Evangelista\",\n",
      "        \"address\": \"Chiesa di San Marco Evangelista, Valeggio sul Mincio, Veneto\",\n",
      "        \"latitude\": 45.3537509,\n",
      "        \"longitude\": 10.734546\n",
      "      },\n",
      "      \"start_date\": \"2025-09-29T21:15:00Z\",\n",
      "      \"end_date\": \"2025-09-30T00:00:00Z\",\n",
      "      \"url\": \"https://example.com/veneto-events/232\"\n",
      "    },\n",
      "    {\n",
      "      \"id\": \"433\",\n",
      "      \"title\": \"Malcesine Conference Event #233\",\n",
      "      \"category\": \"Conference\",\n",
      "      \"description\": \"Seeking adventure in Malcesine? Look no further than this captivating conference event at Piazza Statuto. Fun and excitement are guaranteed!\",\n",
      "      \"city\": \"Malcesine\",\n",
      "      \"location\": {\n",
      "        \"venue\": \"Piazza Statuto\",\n",
      "        \"address\": \"Piazza Statuto, Malcesine, Veneto\",\n",
      "        \"latitude\": 45.7631123,\n",
      "        \"longitude\": 10.8080612\n",
      "      },\n",
      "      \"start_date\": \"2025-09-26T15:23:00Z\",\n",
      "      \"end_date\": \"2025-09-27T00:23:00Z\",\n",
      "      \"url\": \"https://example.com/veneto-events/233\"\n",
      "    },\n",
      "    {\n",
      "      \"id\": \"434\",\n",
      "      \"title\": \"Caorle Food & Drink Event #234\",\n",
      "      \"category\": \"Food & Drink\",\n",
      "      \"description\": \"Step into a world of wonder at this extraordinary food & drink event in Caorle, held at the historic Museo Liturgico. Prepare to be amazed!\",\n",
      "      \"city\": \"Caorle\",\n",
      "      \"location\": {\n",
      "        \"venue\": \"Museo Liturgico\",\n",
      "        \"address\": \"Museo Liturgico, Caorle, Veneto\",\n",
      "        \"latitude\": 45.5979147,\n",
      "        \"longitude\": 12.8876282\n",
      "      },\n",
      "      \"start_date\": \"2025-09-29T11:06:00Z\",\n",
      "      \"end_date\": \"2025-09-29T21:06:00Z\",\n",
      "      \"url\": \"https://example.com/veneto-events/234\"\n",
      "    },\n",
      "    {\n",
      "      \"id\": \"435\",\n",
      "      \"title\": \"Spinea Conference Event #235\",\n",
      "      \"category\": \"Conference\",\n",
      "      \"description\": \"Step into a world of wonder at this extraordinary conference event in Spinea, held at the historic Museo della Civilt\\u00e0 Contadina. Prepare to be amazed!\",\n",
      "      \"city\": \"Spinea\",\n",
      "      \"location\": {\n",
      "        \"venue\": \"Museo della Civilt\\u00e0 Contadina\",\n",
      "        \"address\": \"Museo della Civilt\\u00e0 Contadina, Spinea, Veneto\",\n",
      "        \"latitude\": 45.4911604,\n",
      "        \"longitude\": 12.165018\n",
      "      },\n",
      "      \"start_date\": \"2025-09-26T15:05:00Z\",\n",
      "      \"end_date\": \"2025-09-26T17:05:00Z\",\n",
      "      \"url\": \"https://example.com/veneto-events/235\"\n",
      "    },\n",
      "    {\n",
      "      \"id\": \"436\",\n",
      "      \"title\": \"Venice Tour Event #236\",\n",
      "      \"category\": \"Tour\",\n",
      "      \"description\": \"A unique tour opportunity awaits you in Venice. Join us at the charming Lido di Venezia for an event designed to inspire and entertain.\",\n",
      "      \"city\": \"Venice\",\n",
      "      \"location\": {\n",
      "        \"venue\": \"Lido di Venezia\",\n",
      "        \"address\": \"Lido di Venezia, Venice, Veneto\",\n",
      "        \"latitude\": 45.4175761,\n",
      "        \"longitude\": 12.3683538\n",
      "      },\n",
      "      \"start_date\": \"2025-09-29T20:24:00Z\",\n",
      "      \"end_date\": \"2025-09-30T00:00:00Z\",\n",
      "      \"url\": \"https://example.com/veneto-events/236\"\n",
      "    },\n",
      "    {\n",
      "      \"id\": \"437\",\n",
      "      \"title\": \"Treviso Festival Event #237\",\n",
      "      \"category\": \"Festival\",\n",
      "      \"description\": \"A unique festival opportunity awaits you in Treviso. Join us at the charming Porta San Tommaso for an event designed to inspire and entertain.\",\n",
      "      \"city\": \"Treviso\",\n",
      "      \"location\": {\n",
      "        \"venue\": \"Porta San Tommaso\",\n",
      "        \"address\": \"Porta San Tommaso, Treviso, Veneto\",\n",
      "        \"latitude\": 45.6658505,\n",
      "        \"longitude\": 12.2455414\n",
      "      },\n",
      "      \"start_date\": \"2025-09-27T07:24:00Z\",\n",
      "      \"end_date\": \"2025-09-27T09:24:00Z\",\n",
      "      \"url\": \"https://example.com/veneto-events/237\"\n",
      "    },\n",
      "    {\n",
      "      \"id\": \"438\",\n",
      "      \"title\": \"Belluno Theatre Event #238\",\n",
      "      \"category\": \"Theatre\",\n",
      "      \"description\": \"Explore the vibrant theatre scene in Belluno with this special event at Piazza dei Martiri. Get ready for a day filled with discovery and enjoyment.\",\n",
      "      \"city\": \"Belluno\",\n",
      "      \"location\": {\n",
      "        \"venue\": \"Piazza dei Martiri\",\n",
      "        \"address\": \"Piazza dei Martiri, Belluno, Veneto\",\n",
      "        \"latitude\": 46.139038,\n",
      "        \"longitude\": 12.2162188\n",
      "      },\n",
      "      \"start_date\": \"2025-09-28T21:26:00Z\",\n",
      "      \"end_date\": \"2025-09-29T02:26:00Z\",\n",
      "      \"url\": \"https://example.com/veneto-events/238\"\n",
      "    },\n",
      "    {\n",
      "      \"id\": \"439\",\n",
      "      \"title\": \"Belluno Workshop Event #239\",\n",
      "      \"category\": \"Workshop\",\n",
      "      \"description\": \"Connect with fellow enthusiasts at this lively workshop event in Belluno, taking place at the welcoming Basilica Cattedrale di San Martino. Share your passion and make new friends.\",\n",
      "      \"city\": \"Belluno\",\n",
      "      \"location\": {\n",
      "        \"venue\": \"Basilica Cattedrale di San Martino\",\n",
      "        \"address\": \"Basilica Cattedrale di San Martino, Belluno, Veneto\",\n",
      "        \"latitude\": 46.1375185,\n",
      "        \"longitude\": 12.2181711\n",
      "      },\n",
      "      \"start_date\": \"2025-09-27T03:11:00Z\",\n",
      "      \"end_date\": \"2025-09-27T05:11:00Z\",\n",
      "      \"url\": \"https://example.com/veneto-events/239\"\n",
      "    },\n",
      "    {\n",
      "      \"id\": \"440\",\n",
      "      \"title\": \"San Don\\u00e0 di Piave Tour Event #240\",\n",
      "      \"category\": \"Tour\",\n",
      "      \"description\": \"Unwind and enjoy a delightful tour experience in San Don\\u00e0 di Piave at the picturesque Museo della Bonifica. Relax and take in the atmosphere.\",\n",
      "      \"city\": \"San Don\\u00e0 di Piave\",\n",
      "      \"location\": {\n",
      "        \"venue\": \"Museo della Bonifica\",\n",
      "        \"address\": \"Museo della Bonifica, San Don\\u00e0 di Piave, Veneto\",\n",
      "        \"latitude\": 45.6294811,\n",
      "        \"longitude\": 12.5641057\n",
      "      },\n",
      "      \"start_date\": \"2025-09-28T19:13:00Z\",\n",
      "      \"end_date\": \"2025-09-29T03:13:00Z\",\n",
      "      \"url\": \"https://example.com/veneto-events/240\"\n",
      "    },\n",
      "    {\n",
      "      \"id\": \"441\",\n",
      "      \"title\": \"Pedavena Food & Drink Event #241\",\n",
      "      \"category\": \"Food & Drink\",\n",
      "      \"description\": \"Seeking adventure in Pedavena? Look no further than this captivating food & drink event at Chiesa di San Antonio. Fun and excitement are guaranteed!\",\n",
      "      \"city\": \"Pedavena\",\n",
      "      \"location\": {\n",
      "        \"venue\": \"Chiesa di San Antonio\",\n",
      "        \"address\": \"Chiesa di San Antonio, Pedavena, Veneto\",\n",
      "        \"latitude\": 46.0396242,\n",
      "        \"longitude\": 11.8804327\n",
      "      },\n",
      "      \"start_date\": \"2025-09-28T15:03:00Z\",\n",
      "      \"end_date\": \"2025-09-28T17:03:00Z\",\n",
      "      \"url\": \"https://example.com/veneto-events/241\"\n",
      "    },\n",
      "    {\n",
      "      \"id\": \"442\",\n",
      "      \"title\": \"Mogliano Veneto Arts & Crafts Event #242\",\n",
      "      \"category\": \"Arts & Crafts\",\n",
      "      \"description\": \"Step into a world of wonder at this extraordinary arts & crafts event in Mogliano Veneto, held at the historic Villa Condulmer. Prepare to be amazed!\",\n",
      "      \"city\": \"Mogliano Veneto\",\n",
      "      \"location\": {\n",
      "        \"venue\": \"Villa Condulmer\",\n",
      "        \"address\": \"Villa Condulmer, Mogliano Veneto, Veneto\",\n",
      "        \"latitude\": 45.5776574,\n",
      "        \"longitude\": 12.2660802\n",
      "      },\n",
      "      \"start_date\": \"2025-09-27T09:21:00Z\",\n",
      "      \"end_date\": \"2025-09-27T10:21:00Z\",\n",
      "      \"url\": \"https://example.com/veneto-events/242\"\n",
      "    },\n",
      "    {\n",
      "      \"id\": \"443\",\n",
      "      \"title\": \"Peschiera del Garda Festival Event #243\",\n",
      "      \"category\": \"Festival\",\n",
      "      \"description\": \"Connect with fellow enthusiasts at this lively festival event in Peschiera del Garda, taking place at the welcoming Parco Catullo. Share your passion and make new friends.\",\n",
      "      \"city\": \"Peschiera del Garda\",\n",
      "      \"location\": {\n",
      "        \"venue\": \"Parco Catullo\",\n",
      "        \"address\": \"Parco Catullo, Peschiera del Garda, Veneto\",\n",
      "        \"latitude\": 45.4396945,\n",
      "        \"longitude\": 10.6941419\n",
      "      },\n",
      "      \"start_date\": \"2025-09-28T01:44:00Z\",\n",
      "      \"end_date\": \"2025-09-28T02:44:00Z\",\n",
      "      \"url\": \"https://example.com/veneto-events/243\"\n",
      "    },\n",
      "    {\n",
      "      \"id\": \"444\",\n",
      "      \"title\": \"Spinea Exhibition Event #244\",\n",
      "      \"category\": \"Exhibition\",\n",
      "      \"description\": \"Explore the vibrant exhibition scene in Spinea with this special event at Chiesa di San Vito e Modesto. Get ready for a day filled with discovery and enjoyment.\",\n",
      "      \"city\": \"Spinea\",\n",
      "      \"location\": {\n",
      "        \"venue\": \"Chiesa di San Vito e Modesto\",\n",
      "        \"address\": \"Chiesa di San Vito e Modesto, Spinea, Veneto\",\n",
      "        \"latitude\": 45.4911604,\n",
      "        \"longitude\": 12.165018\n",
      "      },\n",
      "      \"start_date\": \"2025-09-28T06:37:00Z\",\n",
      "      \"end_date\": \"2025-09-28T07:37:00Z\",\n",
      "      \"url\": \"https://example.com/veneto-events/244\"\n",
      "    },\n",
      "    {\n",
      "      \"id\": \"445\",\n",
      "      \"title\": \"San Don\\u00e0 di Piave Food & Drink Event #245\",\n",
      "      \"category\": \"Food & Drink\",\n",
      "      \"description\": \"Seeking adventure in San Don\\u00e0 di Piave? Look no further than this captivating food & drink event at Parco Fluviale. Fun and excitement are guaranteed!\",\n",
      "      \"city\": \"San Don\\u00e0 di Piave\",\n",
      "      \"location\": {\n",
      "        \"venue\": \"Parco Fluviale\",\n",
      "        \"address\": \"Parco Fluviale, San Don\\u00e0 di Piave, Veneto\",\n",
      "        \"latitude\": 45.6294811,\n",
      "        \"longitude\": 12.5641057\n",
      "      },\n",
      "      \"start_date\": \"2025-09-27T08:52:00Z\",\n",
      "      \"end_date\": \"2025-09-27T17:52:00Z\",\n",
      "      \"url\": \"https://example.com/veneto-events/245\"\n",
      "    },\n",
      "    {\n",
      "      \"id\": \"446\",\n",
      "      \"title\": \"Verona Tour Event #246\",\n",
      "      \"category\": \"Tour\",\n",
      "      \"description\": \"Expand your horizons with this insightful tour event in Verona, hosted at the distinguished Giardino Giusti. Learn something new and be inspired.\",\n",
      "      \"city\": \"Verona\",\n",
      "      \"location\": {\n",
      "        \"venue\": \"Giardino Giusti\",\n",
      "        \"address\": \"Giardino Giusti, Verona, Veneto\",\n",
      "        \"latitude\": 45.4384958,\n",
      "        \"longitude\": 10.9924122\n",
      "      },\n",
      "      \"start_date\": \"2025-09-27T05:12:00Z\",\n",
      "      \"end_date\": \"2025-09-27T11:12:00Z\",\n",
      "      \"url\": \"https://example.com/veneto-events/246\"\n",
      "    },\n",
      "    {\n",
      "      \"id\": \"447\",\n",
      "      \"title\": \"Vittorio Veneto Food & Drink Event #247\",\n",
      "      \"category\": \"Food & Drink\",\n",
      "      \"description\": \"Dive into the world of food & drink at this exciting gathering in Vittorio Veneto. Located at the renowned Villa Papadopoli, it's an event you won't want to miss.\",\n",
      "      \"city\": \"Vittorio Veneto\",\n",
      "      \"location\": {\n",
      "        \"venue\": \"Villa Papadopoli\",\n",
      "        \"address\": \"Villa Papadopoli, Vittorio Veneto, Veneto\",\n",
      "        \"latitude\": 45.9897826,\n",
      "        \"longitude\": 12.2957596\n",
      "      },\n",
      "      \"start_date\": \"2025-09-29T23:35:00Z\",\n",
      "      \"end_date\": \"2025-09-30T00:00:00Z\",\n",
      "      \"url\": \"https://example.com/veneto-events/247\"\n",
      "    },\n",
      "    {\n",
      "      \"id\": \"448\",\n",
      "      \"title\": \"Venice Theatre Event #248\",\n",
      "      \"category\": \"Theatre\",\n",
      "      \"description\": \"A unique theatre opportunity awaits you in Venice. Join us at the charming Palazzo Contarini del Bovolo for an event designed to inspire and entertain.\",\n",
      "      \"city\": \"Venice\",\n",
      "      \"location\": {\n",
      "        \"venue\": \"Palazzo Contarini del Bovolo\",\n",
      "        \"address\": \"Palazzo Contarini del Bovolo, Venice, Veneto\",\n",
      "        \"latitude\": 45.4371908,\n",
      "        \"longitude\": 12.3345898\n",
      "      },\n",
      "      \"start_date\": \"2025-09-27T02:15:00Z\",\n",
      "      \"end_date\": \"2025-09-27T03:15:00Z\",\n",
      "      \"url\": \"https://example.com/veneto-events/248\"\n",
      "    },\n",
      "    {\n",
      "      \"id\": \"449\",\n",
      "      \"title\": \"San Don\\u00e0 di Piave Festival Event #249\",\n",
      "      \"category\": \"Festival\",\n",
      "      \"description\": \"Expand your horizons with this insightful festival event in San Don\\u00e0 di Piave, hosted at the distinguished Villa Ancillotto. Learn something new and be inspired.\",\n",
      "      \"city\": \"San Don\\u00e0 di Piave\",\n",
      "      \"location\": {\n",
      "        \"venue\": \"Villa Ancillotto\",\n",
      "        \"address\": \"Villa Ancillotto, San Don\\u00e0 di Piave, Veneto\",\n",
      "        \"latitude\": 45.6294811,\n",
      "        \"longitude\": 12.5641057\n",
      "      },\n",
      "      \"start_date\": \"2025-09-28T18:57:00Z\",\n",
      "      \"end_date\": \"2025-09-28T21:57:00Z\",\n",
      "      \"url\": \"https://example.com/veneto-events/249\"\n",
      "    },\n",
      "    {\n",
      "      \"id\": \"450\",\n",
      "      \"title\": \"Noale Food & Drink Event #250\",\n",
      "      \"category\": \"Food & Drink\",\n",
      "      \"description\": \"Seeking adventure in Noale? Look no further than this captivating food & drink event at Rocca dei Tempesta. Fun and excitement are guaranteed!\",\n",
      "      \"city\": \"Noale\",\n",
      "      \"location\": {\n",
      "        \"venue\": \"Rocca dei Tempesta\",\n",
      "        \"address\": \"Rocca dei Tempesta, Noale, Veneto\",\n",
      "        \"latitude\": 45.550156,\n",
      "        \"longitude\": 12.0720437\n",
      "      },\n",
      "      \"start_date\": \"2025-09-28T13:26:00Z\",\n",
      "      \"end_date\": \"2025-09-28T18:26:00Z\",\n",
      "      \"url\": \"https://example.com/veneto-events/250\"\n",
      "    },\n",
      "    {\n",
      "      \"id\": \"451\",\n",
      "      \"title\": \"Verona Music Event #251\",\n",
      "      \"category\": \"Music\",\n",
      "      \"description\": \"Prepare for an unforgettable music experience in the stunning city of Verona, held at the magnificent Museum of Castelvecchio. This event promises to be a highlight of the season!\",\n",
      "      \"city\": \"Verona\",\n",
      "      \"location\": {\n",
      "        \"venue\": \"Museum of Castelvecchio\",\n",
      "        \"address\": \"Museum of Castelvecchio, Verona, Veneto\",\n",
      "        \"latitude\": 45.4384958,\n",
      "        \"longitude\": 10.9924122\n",
      "      },\n",
      "      \"start_date\": \"2025-09-26T04:23:00Z\",\n",
      "      \"end_date\": \"2025-09-26T10:23:00Z\",\n",
      "      \"url\": \"https://example.com/veneto-events/251\"\n",
      "    },\n",
      "    {\n",
      "      \"id\": \"452\",\n",
      "      \"title\": \"Campolongo Maggiore Conference Event #252\",\n",
      "      \"category\": \"Conference\",\n",
      "      \"description\": \"Step into a world of wonder at this extraordinary conference event in Campolongo Maggiore, held at the historic Villa Venier Contarini. Prepare to be amazed!\",\n",
      "      \"city\": \"Campolongo Maggiore\",\n",
      "      \"location\": {\n",
      "        \"venue\": \"Villa Venier Contarini\",\n",
      "        \"address\": \"Villa Venier Contarini, Campolongo Maggiore, Veneto\",\n",
      "        \"latitude\": 45.3305355,\n",
      "        \"longitude\": 12.0483135\n",
      "      },\n",
      "      \"start_date\": \"2025-09-27T00:18:00Z\",\n",
      "      \"end_date\": \"2025-09-27T10:18:00Z\",\n",
      "      \"url\": \"https://example.com/veneto-events/252\"\n",
      "    },\n",
      "    {\n",
      "      \"id\": \"453\",\n",
      "      \"title\": \"Campolongo Maggiore Festival Event #253\",\n",
      "      \"category\": \"Festival\",\n",
      "      \"description\": \"A unique festival opportunity awaits you in Campolongo Maggiore. Join us at the charming Piazza Municipio for an event designed to inspire and entertain.\",\n",
      "      \"city\": \"Campolongo Maggiore\",\n",
      "      \"location\": {\n",
      "        \"venue\": \"Piazza Municipio\",\n",
      "        \"address\": \"Piazza Municipio, Campolongo Maggiore, Veneto\",\n",
      "        \"latitude\": 45.3305355,\n",
      "        \"longitude\": 12.0483135\n",
      "      },\n",
      "      \"start_date\": \"2025-09-27T11:07:00Z\",\n",
      "      \"end_date\": \"2025-09-27T20:07:00Z\",\n",
      "      \"url\": \"https://example.com/veneto-events/253\"\n",
      "    },\n",
      "    {\n",
      "      \"id\": \"454\",\n",
      "      \"title\": \"Arqu\\u00e0 Petrarca Exhibition Event #254\",\n",
      "      \"category\": \"Exhibition\",\n",
      "      \"description\": \"Connect with fellow enthusiasts at this lively exhibition event in Arqu\\u00e0 Petrarca, taking place at the welcoming Piazza Petrarca. Share your passion and make new friends.\",\n",
      "      \"city\": \"Arqu\\u00e0 Petrarca\",\n",
      "      \"location\": {\n",
      "        \"venue\": \"Piazza Petrarca\",\n",
      "        \"address\": \"Piazza Petrarca, Arqu\\u00e0 Petrarca, Veneto\",\n",
      "        \"latitude\": 45.269349,\n",
      "        \"longitude\": 11.7195604\n",
      "      },\n",
      "      \"start_date\": \"2025-09-27T15:15:00Z\",\n",
      "      \"end_date\": \"2025-09-28T00:15:00Z\",\n",
      "      \"url\": \"https://example.com/veneto-events/254\"\n",
      "    },\n",
      "    {\n",
      "      \"id\": \"455\",\n",
      "      \"title\": \"Vicenza Sport Event #255\",\n",
      "      \"category\": \"Sport\",\n",
      "      \"description\": \"Unwind and enjoy a delightful sport experience in Vicenza at the picturesque Villa Almerico Capra 'La Rotonda'. Relax and take in the atmosphere.\",\n",
      "      \"city\": \"Vicenza\",\n",
      "      \"location\": {\n",
      "        \"venue\": \"Villa Almerico Capra 'La Rotonda'\",\n",
      "        \"address\": \"Villa Almerico Capra 'La Rotonda', Vicenza, Veneto\",\n",
      "        \"latitude\": 45.5488306,\n",
      "        \"longitude\": 11.5478825\n",
      "      },\n",
      "      \"start_date\": \"2025-09-29T10:00:00Z\",\n",
      "      \"end_date\": \"2025-09-29T14:00:00Z\",\n",
      "      \"url\": \"https://example.com/veneto-events/255\"\n",
      "    },\n",
      "    {\n",
      "      \"id\": \"456\",\n",
      "      \"title\": \"Bassano del Grappa Festival Event #256\",\n",
      "      \"category\": \"Festival\",\n",
      "      \"description\": \"Expand your horizons with this insightful festival event in Bassano del Grappa, hosted at the distinguished Villa Recoaro. Learn something new and be inspired.\",\n",
      "      \"city\": \"Bassano del Grappa\",\n",
      "      \"location\": {\n",
      "        \"venue\": \"Villa Recoaro\",\n",
      "        \"address\": \"Villa Recoaro, Bassano del Grappa, Veneto\",\n",
      "        \"latitude\": 45.7669109,\n",
      "        \"longitude\": 11.7343469\n",
      "      },\n",
      "      \"start_date\": \"2025-09-28T04:14:00Z\",\n",
      "      \"end_date\": \"2025-09-28T06:14:00Z\",\n",
      "      \"url\": \"https://example.com/veneto-events/256\"\n",
      "    },\n",
      "    {\n",
      "      \"id\": \"457\",\n",
      "      \"title\": \"Legnago Tour Event #257\",\n",
      "      \"category\": \"Tour\",\n",
      "      \"description\": \"Seeking adventure in Legnago? Look no further than this captivating tour event at Teatro Salieri. Fun and excitement are guaranteed!\",\n",
      "      \"city\": \"Legnago\",\n",
      "      \"location\": {\n",
      "        \"venue\": \"Teatro Salieri\",\n",
      "        \"address\": \"Teatro Salieri, Legnago, Veneto\",\n",
      "        \"latitude\": 45.1914252,\n",
      "        \"longitude\": 11.3074076\n",
      "      },\n",
      "      \"start_date\": \"2025-09-28T02:52:00Z\",\n",
      "      \"end_date\": \"2025-09-28T10:52:00Z\",\n",
      "      \"url\": \"https://example.com/veneto-events/257\"\n",
      "    },\n",
      "    {\n",
      "      \"id\": \"458\",\n",
      "      \"title\": \"Bassano del Grappa Workshop Event #258\",\n",
      "      \"category\": \"Workshop\",\n",
      "      \"description\": \"Unwind and enjoy a delightful workshop experience in Bassano del Grappa at the picturesque Palazzo Agostinelli. Relax and take in the atmosphere.\",\n",
      "      \"city\": \"Bassano del Grappa\",\n",
      "      \"location\": {\n",
      "        \"venue\": \"Palazzo Agostinelli\",\n",
      "        \"address\": \"Palazzo Agostinelli, Bassano del Grappa, Veneto\",\n",
      "        \"latitude\": 45.7669109,\n",
      "        \"longitude\": 11.7343469\n",
      "      },\n",
      "      \"start_date\": \"2025-09-28T13:16:00Z\",\n",
      "      \"end_date\": \"2025-09-28T23:16:00Z\",\n",
      "      \"url\": \"https://example.com/veneto-events/258\"\n",
      "    },\n",
      "    {\n",
      "      \"id\": \"459\",\n",
      "      \"title\": \"Bardolino Sport Event #259\",\n",
      "      \"category\": \"Sport\",\n",
      "      \"description\": \"Step into a world of wonder at this extraordinary sport event in Bardolino, held at the historic Olive Oil Museum. Prepare to be amazed!\",\n",
      "      \"city\": \"Bardolino\",\n",
      "      \"location\": {\n",
      "        \"venue\": \"Olive Oil Museum\",\n",
      "        \"address\": \"Olive Oil Museum, Bardolino, Veneto\",\n",
      "        \"latitude\": 45.5238629,\n",
      "        \"longitude\": 10.7289606\n",
      "      },\n",
      "      \"start_date\": \"2025-09-27T17:06:00Z\",\n",
      "      \"end_date\": \"2025-09-27T19:06:00Z\",\n",
      "      \"url\": \"https://example.com/veneto-events/259\"\n",
      "    },\n",
      "    {\n",
      "      \"id\": \"460\",\n",
      "      \"title\": \"Mestre Workshop Event #260\",\n",
      "      \"category\": \"Workshop\",\n",
      "      \"description\": \"Connect with fellow enthusiasts at this lively workshop event in Mestre, taking place at the welcoming Galleria Matteotti. Share your passion and make new friends.\",\n",
      "      \"city\": \"Mestre\",\n",
      "      \"location\": {\n",
      "        \"venue\": \"Galleria Matteotti\",\n",
      "        \"address\": \"Galleria Matteotti, Mestre, Veneto\",\n",
      "        \"latitude\": 45.4930827,\n",
      "        \"longitude\": 12.239705\n",
      "      },\n",
      "      \"start_date\": \"2025-09-28T09:02:00Z\",\n",
      "      \"end_date\": \"2025-09-28T13:02:00Z\",\n",
      "      \"url\": \"https://example.com/veneto-events/260\"\n",
      "    },\n",
      "    {\n",
      "      \"id\": \"461\",\n",
      "      \"title\": \"Mirano Arts & Crafts Event #261\",\n",
      "      \"category\": \"Arts & Crafts\",\n",
      "      \"description\": \"Expand your horizons with this insightful arts & crafts event in Mirano, hosted at the distinguished Piazza Martiri della Libert\\u00e0. Learn something new and be inspired.\",\n",
      "      \"city\": \"Mirano\",\n",
      "      \"location\": {\n",
      "        \"venue\": \"Piazza Martiri della Libert\\u00e0\",\n",
      "        \"address\": \"Piazza Martiri della Libert\\u00e0, Mirano, Veneto\",\n",
      "        \"latitude\": 45.4931149,\n",
      "        \"longitude\": 12.1094823\n",
      "      },\n",
      "      \"start_date\": \"2025-09-26T00:44:00Z\",\n",
      "      \"end_date\": \"2025-09-26T08:44:00Z\",\n",
      "      \"url\": \"https://example.com/veneto-events/261\"\n",
      "    },\n",
      "    {\n",
      "      \"id\": \"462\",\n",
      "      \"title\": \"Lazise Theatre Event #262\",\n",
      "      \"category\": \"Theatre\",\n",
      "      \"description\": \"Connect with fellow enthusiasts at this lively theatre event in Lazise, taking place at the welcoming Villa Pergolana. Share your passion and make new friends.\",\n",
      "      \"city\": \"Lazise\",\n",
      "      \"location\": {\n",
      "        \"venue\": \"Villa Pergolana\",\n",
      "        \"address\": \"Villa Pergolana, Lazise, Veneto\",\n",
      "        \"latitude\": 45.5052005,\n",
      "        \"longitude\": 10.7330245\n",
      "      },\n",
      "      \"start_date\": \"2025-09-28T10:42:00Z\",\n",
      "      \"end_date\": \"2025-09-28T14:42:00Z\",\n",
      "      \"url\": \"https://example.com/veneto-events/262\"\n",
      "    },\n",
      "    {\n",
      "      \"id\": \"463\",\n",
      "      \"title\": \"Legnago Tour Event #263\",\n",
      "      \"category\": \"Tour\",\n",
      "      \"description\": \"Step into a world of wonder at this extraordinary tour event in Legnago, held at the historic Museo Fioroni. Prepare to be amazed!\",\n",
      "      \"city\": \"Legnago\",\n",
      "      \"location\": {\n",
      "        \"venue\": \"Museo Fioroni\",\n",
      "        \"address\": \"Museo Fioroni, Legnago, Veneto\",\n",
      "        \"latitude\": 45.192498,\n",
      "        \"longitude\": 11.3111274\n",
      "      },\n",
      "      \"start_date\": \"2025-09-27T03:19:00Z\",\n",
      "      \"end_date\": \"2025-09-27T06:19:00Z\",\n",
      "      \"url\": \"https://example.com/veneto-events/263\"\n",
      "    },\n",
      "    {\n",
      "      \"id\": \"464\",\n",
      "      \"title\": \"Rovigo Festival Event #264\",\n",
      "      \"category\": \"Festival\",\n",
      "      \"description\": \"Explore the vibrant festival scene in Rovigo with this special event at Accademia dei Concordi. Get ready for a day filled with discovery and enjoyment.\",\n",
      "      \"city\": \"Rovigo\",\n",
      "      \"location\": {\n",
      "        \"venue\": \"Accademia dei Concordi\",\n",
      "        \"address\": \"Accademia dei Concordi, Rovigo, Veneto\",\n",
      "        \"latitude\": 45.0709431,\n",
      "        \"longitude\": 11.7903377\n",
      "      },\n",
      "      \"start_date\": \"2025-09-27T17:29:00Z\",\n",
      "      \"end_date\": \"2025-09-28T01:29:00Z\",\n",
      "      \"url\": \"https://example.com/veneto-events/264\"\n",
      "    },\n",
      "    {\n",
      "      \"id\": \"465\",\n",
      "      \"title\": \"Arqu\\u00e0 Petrarca Music Event #265\",\n",
      "      \"category\": \"Music\",\n",
      "      \"description\": \"Expand your horizons with this insightful music event in Arqu\\u00e0 Petrarca, hosted at the distinguished Oratorio della Santissima Trinit\\u00e0. Learn something new and be inspired.\",\n",
      "      \"city\": \"Arqu\\u00e0 Petrarca\",\n",
      "      \"location\": {\n",
      "        \"venue\": \"Oratorio della Santissima Trinit\\u00e0\",\n",
      "        \"address\": \"Oratorio della Santissima Trinit\\u00e0, Arqu\\u00e0 Petrarca, Veneto\",\n",
      "        \"latitude\": 45.2700441,\n",
      "        \"longitude\": 11.7165149\n",
      "      },\n",
      "      \"start_date\": \"2025-09-26T12:02:00Z\",\n",
      "      \"end_date\": \"2025-09-26T14:02:00Z\",\n",
      "      \"url\": \"https://example.com/veneto-events/265\"\n",
      "    },\n",
      "    {\n",
      "      \"id\": \"466\",\n",
      "      \"title\": \"Malcesine Conference Event #266\",\n",
      "      \"category\": \"Conference\",\n",
      "      \"description\": \"Dive into the world of conference at this exciting gathering in Malcesine. Located at the renowned Funivia Malcesine-Monte Baldo, it's an event you won't want to miss.\",\n",
      "      \"city\": \"Malcesine\",\n",
      "      \"location\": {\n",
      "        \"venue\": \"Funivia Malcesine-Monte Baldo\",\n",
      "        \"address\": \"Funivia Malcesine-Monte Baldo, Malcesine, Veneto\",\n",
      "        \"latitude\": 45.7661246,\n",
      "        \"longitude\": 10.8132676\n",
      "      },\n",
      "      \"start_date\": \"2025-09-29T02:59:00Z\",\n",
      "      \"end_date\": \"2025-09-29T03:59:00Z\",\n",
      "      \"url\": \"https://example.com/veneto-events/266\"\n",
      "    },\n",
      "    {\n",
      "      \"id\": \"467\",\n",
      "      \"title\": \"Marostica Workshop Event #267\",\n",
      "      \"category\": \"Workshop\",\n",
      "      \"description\": \"A unique workshop opportunity awaits you in Marostica. Join us at the charming Porta Vicentina for an event designed to inspire and entertain.\",\n",
      "      \"city\": \"Marostica\",\n",
      "      \"location\": {\n",
      "        \"venue\": \"Porta Vicentina\",\n",
      "        \"address\": \"Porta Vicentina, Marostica, Veneto\",\n",
      "        \"latitude\": 45.7453924,\n",
      "        \"longitude\": 11.6568938\n",
      "      },\n",
      "      \"start_date\": \"2025-09-27T22:22:00Z\",\n",
      "      \"end_date\": \"2025-09-28T03:22:00Z\",\n",
      "      \"url\": \"https://example.com/veneto-events/267\"\n",
      "    },\n",
      "    {\n",
      "      \"id\": \"468\",\n",
      "      \"title\": \"Campolongo Maggiore Sport Event #268\",\n",
      "      \"category\": \"Sport\",\n",
      "      \"description\": \"Expand your horizons with this insightful sport event in Campolongo Maggiore, hosted at the distinguished Villa Venier Contarini. Learn something new and be inspired.\",\n",
      "      \"city\": \"Campolongo Maggiore\",\n",
      "      \"location\": {\n",
      "        \"venue\": \"Villa Venier Contarini\",\n",
      "        \"address\": \"Villa Venier Contarini, Campolongo Maggiore, Veneto\",\n",
      "        \"latitude\": 45.3305355,\n",
      "        \"longitude\": 12.0483135\n",
      "      },\n",
      "      \"start_date\": \"2025-09-27T13:14:00Z\",\n",
      "      \"end_date\": \"2025-09-27T17:14:00Z\",\n",
      "      \"url\": \"https://example.com/veneto-events/268\"\n",
      "    },\n",
      "    {\n",
      "      \"id\": \"469\",\n",
      "      \"title\": \"Valeggio sul Mincio Sport Event #269\",\n",
      "      \"category\": \"Sport\",\n",
      "      \"description\": \"Expand your horizons with this insightful sport event in Valeggio sul Mincio, hosted at the distinguished Chiesa di San Marco Evangelista. Learn something new and be inspired.\",\n",
      "      \"city\": \"Valeggio sul Mincio\",\n",
      "      \"location\": {\n",
      "        \"venue\": \"Chiesa di San Marco Evangelista\",\n",
      "        \"address\": \"Chiesa di San Marco Evangelista, Valeggio sul Mincio, Veneto\",\n",
      "        \"latitude\": 45.3537509,\n",
      "        \"longitude\": 10.734546\n",
      "      },\n",
      "      \"start_date\": \"2025-09-27T18:27:00Z\",\n",
      "      \"end_date\": \"2025-09-28T02:27:00Z\",\n",
      "      \"url\": \"https://example.com/veneto-events/269\"\n",
      "    },\n",
      "    {\n",
      "      \"id\": \"470\",\n",
      "      \"title\": \"Pedavena Music Event #270\",\n",
      "      \"category\": \"Music\",\n",
      "      \"description\": \"Seeking adventure in Pedavena? Look no further than this captivating music event at Birrificio Pedavena. Fun and excitement are guaranteed!\",\n",
      "      \"city\": \"Pedavena\",\n",
      "      \"location\": {\n",
      "        \"venue\": \"Birrificio Pedavena\",\n",
      "        \"address\": \"Birrificio Pedavena, Pedavena, Veneto\",\n",
      "        \"latitude\": 46.0396242,\n",
      "        \"longitude\": 11.8804327\n",
      "      },\n",
      "      \"start_date\": \"2025-09-29T11:53:00Z\",\n",
      "      \"end_date\": \"2025-09-29T19:53:00Z\",\n",
      "      \"url\": \"https://example.com/veneto-events/270\"\n",
      "    },\n",
      "    {\n",
      "      \"id\": \"471\",\n",
      "      \"title\": \"Pedavena Theatre Event #271\",\n",
      "      \"category\": \"Theatre\",\n",
      "      \"description\": \"Connect with fellow enthusiasts at this lively theatre event in Pedavena, taking place at the welcoming Piazza Martiri. Share your passion and make new friends.\",\n",
      "      \"city\": \"Pedavena\",\n",
      "      \"location\": {\n",
      "        \"venue\": \"Piazza Martiri\",\n",
      "        \"address\": \"Piazza Martiri, Pedavena, Veneto\",\n",
      "        \"latitude\": 46.0396242,\n",
      "        \"longitude\": 11.8804327\n",
      "      },\n",
      "      \"start_date\": \"2025-09-28T15:11:00Z\",\n",
      "      \"end_date\": \"2025-09-28T17:11:00Z\",\n",
      "      \"url\": \"https://example.com/veneto-events/271\"\n",
      "    },\n",
      "    {\n",
      "      \"id\": \"472\",\n",
      "      \"title\": \"Mirano Workshop Event #272\",\n",
      "      \"category\": \"Workshop\",\n",
      "      \"description\": \"Unwind and enjoy a delightful workshop experience in Mirano at the picturesque Museo del Paesaggio. Relax and take in the atmosphere.\",\n",
      "      \"city\": \"Mirano\",\n",
      "      \"location\": {\n",
      "        \"venue\": \"Museo del Paesaggio\",\n",
      "        \"address\": \"Museo del Paesaggio, Mirano, Veneto\",\n",
      "        \"latitude\": 45.4927695,\n",
      "        \"longitude\": 12.1098768\n",
      "      },\n",
      "      \"start_date\": \"2025-09-27T20:29:00Z\",\n",
      "      \"end_date\": \"2025-09-28T03:29:00Z\",\n",
      "      \"url\": \"https://example.com/veneto-events/272\"\n",
      "    },\n",
      "    {\n",
      "      \"id\": \"473\",\n",
      "      \"title\": \"Jesolo Music Event #273\",\n",
      "      \"category\": \"Music\",\n",
      "      \"description\": \"Immerse yourself in the rich culture of Jesolo with this engaging music event at the iconic Piazza Brescia. It's the perfect way to spend your time.\",\n",
      "      \"city\": \"Jesolo\",\n",
      "      \"location\": {\n",
      "        \"venue\": \"Piazza Brescia\",\n",
      "        \"address\": \"Piazza Brescia, Jesolo, Veneto\",\n",
      "        \"latitude\": 45.5019997,\n",
      "        \"longitude\": 12.6329125\n",
      "      },\n",
      "      \"start_date\": \"2025-09-27T22:49:00Z\",\n",
      "      \"end_date\": \"2025-09-28T05:49:00Z\",\n",
      "      \"url\": \"https://example.com/veneto-events/273\"\n",
      "    },\n",
      "    {\n",
      "      \"id\": \"474\",\n",
      "      \"title\": \"Peschiera del Garda Arts & Crafts Event #274\",\n",
      "      \"category\": \"Arts & Crafts\",\n",
      "      \"description\": \"Prepare for an unforgettable arts & crafts experience in the stunning city of Peschiera del Garda, held at the magnificent Santuario della Madonna del Frassino. This event promises to be a highlight of the season!\",\n",
      "      \"city\": \"Peschiera del Garda\",\n",
      "      \"location\": {\n",
      "        \"venue\": \"Santuario della Madonna del Frassino\",\n",
      "        \"address\": \"Santuario della Madonna del Frassino, Peschiera del Garda, Veneto\",\n",
      "        \"latitude\": 45.4389454,\n",
      "        \"longitude\": 10.6920171\n",
      "      },\n",
      "      \"start_date\": \"2025-09-26T10:57:00Z\",\n",
      "      \"end_date\": \"2025-09-26T18:57:00Z\",\n",
      "      \"url\": \"https://example.com/veneto-events/274\"\n",
      "    },\n",
      "    {\n",
      "      \"id\": \"475\",\n",
      "      \"title\": \"Pedavena Exhibition Event #275\",\n",
      "      \"category\": \"Exhibition\",\n",
      "      \"description\": \"Prepare for an unforgettable exhibition experience in the stunning city of Pedavena, held at the magnificent Piazza Martiri. This event promises to be a highlight of the season!\",\n",
      "      \"city\": \"Pedavena\",\n",
      "      \"location\": {\n",
      "        \"venue\": \"Piazza Martiri\",\n",
      "        \"address\": \"Piazza Martiri, Pedavena, Veneto\",\n",
      "        \"latitude\": 46.0396242,\n",
      "        \"longitude\": 11.8804327\n",
      "      },\n",
      "      \"start_date\": \"2025-09-26T18:24:00Z\",\n",
      "      \"end_date\": \"2025-09-26T20:24:00Z\",\n",
      "      \"url\": \"https://example.com/veneto-events/275\"\n",
      "    },\n",
      "    {\n",
      "      \"id\": \"476\",\n",
      "      \"title\": \"Adria Arts & Crafts Event #276\",\n",
      "      \"category\": \"Arts & Crafts\",\n",
      "      \"description\": \"Unwind and enjoy a delightful arts & crafts experience in Adria at the picturesque Teatro Comunale. Relax and take in the atmosphere.\",\n",
      "      \"city\": \"Adria\",\n",
      "      \"location\": {\n",
      "        \"venue\": \"Teatro Comunale\",\n",
      "        \"address\": \"Teatro Comunale, Adria, Veneto\",\n",
      "        \"latitude\": 45.0531228,\n",
      "        \"longitude\": 12.0572\n",
      "      },\n",
      "      \"start_date\": \"2025-09-26T18:13:00Z\",\n",
      "      \"end_date\": \"2025-09-27T02:13:00Z\",\n",
      "      \"url\": \"https://example.com/veneto-events/276\"\n",
      "    },\n",
      "    {\n",
      "      \"id\": \"477\",\n",
      "      \"title\": \"Vittorio Veneto Theatre Event #277\",\n",
      "      \"category\": \"Theatre\",\n",
      "      \"description\": \"A unique theatre opportunity awaits you in Vittorio Veneto. Join us at the charming Museo della Battaglia for an event designed to inspire and entertain.\",\n",
      "      \"city\": \"Vittorio Veneto\",\n",
      "      \"location\": {\n",
      "        \"venue\": \"Museo della Battaglia\",\n",
      "        \"address\": \"Museo della Battaglia, Vittorio Veneto, Veneto\",\n",
      "        \"latitude\": 45.9897826,\n",
      "        \"longitude\": 12.2957596\n",
      "      },\n",
      "      \"start_date\": \"2025-09-28T20:36:00Z\",\n",
      "      \"end_date\": \"2025-09-28T21:36:00Z\",\n",
      "      \"url\": \"https://example.com/veneto-events/277\"\n",
      "    },\n",
      "    {\n",
      "      \"id\": \"478\",\n",
      "      \"title\": \"Cortina d'Ampezzo Exhibition Event #278\",\n",
      "      \"category\": \"Exhibition\",\n",
      "      \"description\": \"Seeking adventure in Cortina d'Ampezzo? Look no further than this captivating exhibition event at Funivia Faloria. Fun and excitement are guaranteed!\",\n",
      "      \"city\": \"Cortina d'Ampezzo\",\n",
      "      \"location\": {\n",
      "        \"venue\": \"Funivia Faloria\",\n",
      "        \"address\": \"Funivia Faloria, Cortina d'Ampezzo, Veneto\",\n",
      "        \"latitude\": 46.5383332,\n",
      "        \"longitude\": 12.1373506\n",
      "      },\n",
      "      \"start_date\": \"2025-09-27T19:36:00Z\",\n",
      "      \"end_date\": \"2025-09-28T04:36:00Z\",\n",
      "      \"url\": \"https://example.com/veneto-events/278\"\n",
      "    },\n",
      "    {\n",
      "      \"id\": \"479\",\n",
      "      \"title\": \"Mestre Theatre Event #279\",\n",
      "      \"category\": \"Theatre\",\n",
      "      \"description\": \"Immerse yourself in the rich culture of Mestre with this engaging theatre event at the iconic Torre dell'Orologio. It's the perfect way to spend your time.\",\n",
      "      \"city\": \"Mestre\",\n",
      "      \"location\": {\n",
      "        \"venue\": \"Torre dell'Orologio\",\n",
      "        \"address\": \"Torre dell'Orologio, Mestre, Veneto\",\n",
      "        \"latitude\": 45.4943063,\n",
      "        \"longitude\": 12.2418053\n",
      "      },\n",
      "      \"start_date\": \"2025-09-26T17:26:00Z\",\n",
      "      \"end_date\": \"2025-09-27T00:26:00Z\",\n",
      "      \"url\": \"https://example.com/veneto-events/279\"\n",
      "    },\n",
      "    {\n",
      "      \"id\": \"480\",\n",
      "      \"title\": \"Valeggio sul Mincio Food & Drink Event #280\",\n",
      "      \"category\": \"Food & Drink\",\n",
      "      \"description\": \"Prepare for an unforgettable food & drink experience in the stunning city of Valeggio sul Mincio, held at the magnificent Chiesa di San Marco Evangelista. This event promises to be a highlight of the season!\",\n",
      "      \"city\": \"Valeggio sul Mincio\",\n",
      "      \"location\": {\n",
      "        \"venue\": \"Chiesa di San Marco Evangelista\",\n",
      "        \"address\": \"Chiesa di San Marco Evangelista, Valeggio sul Mincio, Veneto\",\n",
      "        \"latitude\": 45.3537509,\n",
      "        \"longitude\": 10.734546\n",
      "      },\n",
      "      \"start_date\": \"2025-09-27T16:43:00Z\",\n",
      "      \"end_date\": \"2025-09-28T00:43:00Z\",\n",
      "      \"url\": \"https://example.com/veneto-events/280\"\n",
      "    },\n",
      "    {\n",
      "      \"id\": \"481\",\n",
      "      \"title\": \"Padua Exhibition Event #281\",\n",
      "      \"category\": \"Exhibition\",\n",
      "      \"description\": \"Step into a world of wonder at this extraordinary exhibition event in Padua, held at the historic Basilica di Sant'Antonio. Prepare to be amazed!\",\n",
      "      \"city\": \"Padua\",\n",
      "      \"location\": {\n",
      "        \"venue\": \"Basilica di Sant'Antonio\",\n",
      "        \"address\": \"Basilica di Sant'Antonio, Padua, Veneto\",\n",
      "        \"latitude\": 45.4014584,\n",
      "        \"longitude\": 11.8808472\n",
      "      },\n",
      "      \"start_date\": \"2025-09-29T20:52:00Z\",\n",
      "      \"end_date\": \"2025-09-30T00:00:00Z\",\n",
      "      \"url\": \"https://example.com/veneto-events/281\"\n",
      "    },\n",
      "    {\n",
      "      \"id\": \"482\",\n",
      "      \"title\": \"Caorle Music Event #282\",\n",
      "      \"category\": \"Music\",\n",
      "      \"description\": \"Dive into the world of music at this exciting gathering in Caorle. Located at the renowned Santuario della Madonna dell'Angelo, it's an event you won't want to miss.\",\n",
      "      \"city\": \"Caorle\",\n",
      "      \"location\": {\n",
      "        \"venue\": \"Santuario della Madonna dell'Angelo\",\n",
      "        \"address\": \"Santuario della Madonna dell'Angelo, Caorle, Veneto\",\n",
      "        \"latitude\": 45.5979147,\n",
      "        \"longitude\": 12.8876282\n",
      "      },\n",
      "      \"start_date\": \"2025-09-26T07:20:00Z\",\n",
      "      \"end_date\": \"2025-09-26T09:20:00Z\",\n",
      "      \"url\": \"https://example.com/veneto-events/282\"\n",
      "    },\n",
      "    {\n",
      "      \"id\": \"483\",\n",
      "      \"title\": \"Castelfranco Veneto Sport Event #283\",\n",
      "      \"category\": \"Sport\",\n",
      "      \"description\": \"Immerse yourself in the rich culture of Castelfranco Veneto with this engaging sport event at the iconic Villa Revedin Bolasco. It's the perfect way to spend your time.\",\n",
      "      \"city\": \"Castelfranco Veneto\",\n",
      "      \"location\": {\n",
      "        \"venue\": \"Villa Revedin Bolasco\",\n",
      "        \"address\": \"Villa Revedin Bolasco, Castelfranco Veneto, Veneto\",\n",
      "        \"latitude\": 45.671139,\n",
      "        \"longitude\": 11.9265624\n",
      "      },\n",
      "      \"start_date\": \"2025-09-29T03:43:00Z\",\n",
      "      \"end_date\": \"2025-09-29T04:43:00Z\",\n",
      "      \"url\": \"https://example.com/veneto-events/283\"\n",
      "    },\n",
      "    {\n",
      "      \"id\": \"484\",\n",
      "      \"title\": \"Padua Sport Event #284\",\n",
      "      \"category\": \"Sport\",\n",
      "      \"description\": \"Dive into the world of sport at this exciting gathering in Padua. Located at the renowned Museo del Precinema, it's an event you won't want to miss.\",\n",
      "      \"city\": \"Padua\",\n",
      "      \"location\": {\n",
      "        \"venue\": \"Museo del Precinema\",\n",
      "        \"address\": \"Museo del Precinema, Padua, Veneto\",\n",
      "        \"latitude\": 45.4077172,\n",
      "        \"longitude\": 11.8734455\n",
      "      },\n",
      "      \"start_date\": \"2025-09-29T01:17:00Z\",\n",
      "      \"end_date\": \"2025-09-29T07:17:00Z\",\n",
      "      \"url\": \"https://example.com/veneto-events/284\"\n",
      "    },\n",
      "    {\n",
      "      \"id\": \"485\",\n",
      "      \"title\": \"Asolo Conference Event #285\",\n",
      "      \"category\": \"Conference\",\n",
      "      \"description\": \"Connect with fellow enthusiasts at this lively conference event in Asolo, taking place at the welcoming Church of Santa Caterina. Share your passion and make new friends.\",\n",
      "      \"city\": \"Asolo\",\n",
      "      \"location\": {\n",
      "        \"venue\": \"Church of Santa Caterina\",\n",
      "        \"address\": \"Church of Santa Caterina, Asolo, Veneto\",\n",
      "        \"latitude\": 45.8007265,\n",
      "        \"longitude\": 11.9142444\n",
      "      },\n",
      "      \"start_date\": \"2025-09-28T13:20:00Z\",\n",
      "      \"end_date\": \"2025-09-28T22:20:00Z\",\n",
      "      \"url\": \"https://example.com/veneto-events/285\"\n",
      "    },\n",
      "    {\n",
      "      \"id\": \"486\",\n",
      "      \"title\": \"Malcesine Food & Drink Event #286\",\n",
      "      \"category\": \"Food & Drink\",\n",
      "      \"description\": \"Dive into the world of food & drink at this exciting gathering in Malcesine. Located at the renowned Funivia Malcesine-Monte Baldo, it's an event you won't want to miss.\",\n",
      "      \"city\": \"Malcesine\",\n",
      "      \"location\": {\n",
      "        \"venue\": \"Funivia Malcesine-Monte Baldo\",\n",
      "        \"address\": \"Funivia Malcesine-Monte Baldo, Malcesine, Veneto\",\n",
      "        \"latitude\": 45.7661246,\n",
      "        \"longitude\": 10.8132676\n",
      "      },\n",
      "      \"start_date\": \"2025-09-27T10:48:00Z\",\n",
      "      \"end_date\": \"2025-09-27T13:48:00Z\",\n",
      "      \"url\": \"https://example.com/veneto-events/286\"\n",
      "    },\n",
      "    {\n",
      "      \"id\": \"487\",\n",
      "      \"title\": \"Valdagno Food & Drink Event #287\",\n",
      "      \"category\": \"Food & Drink\",\n",
      "      \"description\": \"Dive into the world of food & drink at this exciting gathering in Valdagno. Located at the renowned Villa Cerchiari, it's an event you won't want to miss.\",\n",
      "      \"city\": \"Valdagno\",\n",
      "      \"location\": {\n",
      "        \"venue\": \"Villa Cerchiari\",\n",
      "        \"address\": \"Villa Cerchiari, Valdagno, Veneto\",\n",
      "        \"latitude\": 45.6413213,\n",
      "        \"longitude\": 11.3040596\n",
      "      },\n",
      "      \"start_date\": \"2025-09-27T00:34:00Z\",\n",
      "      \"end_date\": \"2025-09-27T10:34:00Z\",\n",
      "      \"url\": \"https://example.com/veneto-events/287\"\n",
      "    },\n",
      "    {\n",
      "      \"id\": \"488\",\n",
      "      \"title\": \"Mirano Arts & Crafts Event #288\",\n",
      "      \"category\": \"Arts & Crafts\",\n",
      "      \"description\": \"Expand your horizons with this insightful arts & crafts event in Mirano, hosted at the distinguished Duomo di San Michele Arcangelo. Learn something new and be inspired.\",\n",
      "      \"city\": \"Mirano\",\n",
      "      \"location\": {\n",
      "        \"venue\": \"Duomo di San Michele Arcangelo\",\n",
      "        \"address\": \"Duomo di San Michele Arcangelo, Mirano, Veneto\",\n",
      "        \"latitude\": 45.4927695,\n",
      "        \"longitude\": 12.1098768\n",
      "      },\n",
      "      \"start_date\": \"2025-09-28T16:45:00Z\",\n",
      "      \"end_date\": \"2025-09-29T02:45:00Z\",\n",
      "      \"url\": \"https://example.com/veneto-events/288\"\n",
      "    },\n",
      "    {\n",
      "      \"id\": \"489\",\n",
      "      \"title\": \"Feltre Sport Event #289\",\n",
      "      \"category\": \"Sport\",\n",
      "      \"description\": \"Immerse yourself in the rich culture of Feltre with this engaging sport event at the iconic Chiesa di San Giacomo. It's the perfect way to spend your time.\",\n",
      "      \"city\": \"Feltre\",\n",
      "      \"location\": {\n",
      "        \"venue\": \"Chiesa di San Giacomo\",\n",
      "        \"address\": \"Chiesa di San Giacomo, Feltre, Veneto\",\n",
      "        \"latitude\": 46.0163755,\n",
      "        \"longitude\": 11.9062541\n",
      "      },\n",
      "      \"start_date\": \"2025-09-27T15:13:00Z\",\n",
      "      \"end_date\": \"2025-09-27T22:13:00Z\",\n",
      "      \"url\": \"https://example.com/veneto-events/289\"\n",
      "    },\n",
      "    {\n",
      "      \"id\": \"490\",\n",
      "      \"title\": \"Valeggio sul Mincio Exhibition Event #290\",\n",
      "      \"category\": \"Exhibition\",\n",
      "      \"description\": \"Seeking adventure in Valeggio sul Mincio? Look no further than this captivating exhibition event at Museo della Pesca. Fun and excitement are guaranteed!\",\n",
      "      \"city\": \"Valeggio sul Mincio\",\n",
      "      \"location\": {\n",
      "        \"venue\": \"Museo della Pesca\",\n",
      "        \"address\": \"Museo della Pesca, Valeggio sul Mincio, Veneto\",\n",
      "        \"latitude\": 45.3537509,\n",
      "        \"longitude\": 10.734546\n",
      "      },\n",
      "      \"start_date\": \"2025-09-29T01:50:00Z\",\n",
      "      \"end_date\": \"2025-09-29T02:50:00Z\",\n",
      "      \"url\": \"https://example.com/veneto-events/290\"\n",
      "    },\n",
      "    {\n",
      "      \"id\": \"491\",\n",
      "      \"title\": \"Verona Arts & Crafts Event #291\",\n",
      "      \"category\": \"Arts & Crafts\",\n",
      "      \"description\": \"Seeking adventure in Verona? Look no further than this captivating arts & crafts event at Palazzo Canossa. Fun and excitement are guaranteed!\",\n",
      "      \"city\": \"Verona\",\n",
      "      \"location\": {\n",
      "        \"venue\": \"Palazzo Canossa\",\n",
      "        \"address\": \"Palazzo Canossa, Verona, Veneto\",\n",
      "        \"latitude\": 45.4384958,\n",
      "        \"longitude\": 10.9924122\n",
      "      },\n",
      "      \"start_date\": \"2025-09-27T03:55:00Z\",\n",
      "      \"end_date\": \"2025-09-27T04:55:00Z\",\n",
      "      \"url\": \"https://example.com/veneto-events/291\"\n",
      "    },\n",
      "    {\n",
      "      \"id\": \"492\",\n",
      "      \"title\": \"Arqu\\u00e0 Petrarca Arts & Crafts Event #292\",\n",
      "      \"category\": \"Arts & Crafts\",\n",
      "      \"description\": \"Dive into the world of arts & crafts at this exciting gathering in Arqu\\u00e0 Petrarca. Located at the renowned Piazza Petrarca, it's an event you won't want to miss.\",\n",
      "      \"city\": \"Arqu\\u00e0 Petrarca\",\n",
      "      \"location\": {\n",
      "        \"venue\": \"Piazza Petrarca\",\n",
      "        \"address\": \"Piazza Petrarca, Arqu\\u00e0 Petrarca, Veneto\",\n",
      "        \"latitude\": 45.269349,\n",
      "        \"longitude\": 11.7195604\n",
      "      },\n",
      "      \"start_date\": \"2025-09-27T17:45:00Z\",\n",
      "      \"end_date\": \"2025-09-28T00:45:00Z\",\n",
      "      \"url\": \"https://example.com/veneto-events/292\"\n",
      "    },\n",
      "    {\n",
      "      \"id\": \"493\",\n",
      "      \"title\": \"Bardolino Workshop Event #293\",\n",
      "      \"category\": \"Workshop\",\n",
      "      \"description\": \"Step into a world of wonder at this extraordinary workshop event in Bardolino, held at the historic Church of San Zeno. Prepare to be amazed!\",\n",
      "      \"city\": \"Bardolino\",\n",
      "      \"location\": {\n",
      "        \"venue\": \"Church of San Zeno\",\n",
      "        \"address\": \"Church of San Zeno, Bardolino, Veneto\",\n",
      "        \"latitude\": 45.5475595,\n",
      "        \"longitude\": 10.7242145\n",
      "      },\n",
      "      \"start_date\": \"2025-09-28T20:30:00Z\",\n",
      "      \"end_date\": \"2025-09-29T06:30:00Z\",\n",
      "      \"url\": \"https://example.com/veneto-events/293\"\n",
      "    },\n",
      "    {\n",
      "      \"id\": \"494\",\n",
      "      \"title\": \"Feltre Music Event #294\",\n",
      "      \"category\": \"Music\",\n",
      "      \"description\": \"A unique music opportunity awaits you in Feltre. Join us at the charming Parco della Birreria for an event designed to inspire and entertain.\",\n",
      "      \"city\": \"Feltre\",\n",
      "      \"location\": {\n",
      "        \"venue\": \"Parco della Birreria\",\n",
      "        \"address\": \"Parco della Birreria, Feltre, Veneto\",\n",
      "        \"latitude\": 46.0163755,\n",
      "        \"longitude\": 11.9062541\n",
      "      },\n",
      "      \"start_date\": \"2025-09-29T16:36:00Z\",\n",
      "      \"end_date\": \"2025-09-29T23:36:00Z\",\n",
      "      \"url\": \"https://example.com/veneto-events/294\"\n",
      "    },\n",
      "    {\n",
      "      \"id\": \"495\",\n",
      "      \"title\": \"Conegliano Festival Event #295\",\n",
      "      \"category\": \"Festival\",\n",
      "      \"description\": \"Expand your horizons with this insightful festival event in Conegliano, hosted at the distinguished Via XX Settembre. Learn something new and be inspired.\",\n",
      "      \"city\": \"Conegliano\",\n",
      "      \"location\": {\n",
      "        \"venue\": \"Via XX Settembre\",\n",
      "        \"address\": \"Via XX Settembre, Conegliano, Veneto\",\n",
      "        \"latitude\": 45.8866045,\n",
      "        \"longitude\": 12.2968869\n",
      "      },\n",
      "      \"start_date\": \"2025-09-29T09:47:00Z\",\n",
      "      \"end_date\": \"2025-09-29T13:47:00Z\",\n",
      "      \"url\": \"https://example.com/veneto-events/295\"\n",
      "    },\n",
      "    {\n",
      "      \"id\": \"496\",\n",
      "      \"title\": \"Cortina d'Ampezzo Conference Event #296\",\n",
      "      \"category\": \"Conference\",\n",
      "      \"description\": \"Connect with fellow enthusiasts at this lively conference event in Cortina d'Ampezzo, taking place at the welcoming Lago di Pianozes. Share your passion and make new friends.\",\n",
      "      \"city\": \"Cortina d'Ampezzo\",\n",
      "      \"location\": {\n",
      "        \"venue\": \"Lago di Pianozes\",\n",
      "        \"address\": \"Lago di Pianozes, Cortina d'Ampezzo, Veneto\",\n",
      "        \"latitude\": 46.5383332,\n",
      "        \"longitude\": 12.1373506\n",
      "      },\n",
      "      \"start_date\": \"2025-09-26T12:48:00Z\",\n",
      "      \"end_date\": \"2025-09-26T15:48:00Z\",\n",
      "      \"url\": \"https://example.com/veneto-events/296\"\n",
      "    },\n",
      "    {\n",
      "      \"id\": \"497\",\n",
      "      \"title\": \"Valdagno Theatre Event #297\",\n",
      "      \"category\": \"Theatre\",\n",
      "      \"description\": \"Immerse yourself in the rich culture of Valdagno with this engaging theatre event at the iconic Church of San Clemente. It's the perfect way to spend your time.\",\n",
      "      \"city\": \"Valdagno\",\n",
      "      \"location\": {\n",
      "        \"venue\": \"Church of San Clemente\",\n",
      "        \"address\": \"Church of San Clemente, Valdagno, Veneto\",\n",
      "        \"latitude\": 45.6413213,\n",
      "        \"longitude\": 11.3040596\n",
      "      },\n",
      "      \"start_date\": \"2025-09-28T04:04:00Z\",\n",
      "      \"end_date\": \"2025-09-28T09:04:00Z\",\n",
      "      \"url\": \"https://example.com/veneto-events/297\"\n",
      "    },\n",
      "    {\n",
      "      \"id\": \"498\",\n",
      "      \"title\": \"Venice Tour Event #298\",\n",
      "      \"category\": \"Tour\",\n",
      "      \"description\": \"Immerse yourself in the rich culture of Venice with this engaging tour event at the iconic Campo Santa Margherita. It's the perfect way to spend your time.\",\n",
      "      \"city\": \"Venice\",\n",
      "      \"location\": {\n",
      "        \"venue\": \"Campo Santa Margherita\",\n",
      "        \"address\": \"Campo Santa Margherita, Venice, Veneto\",\n",
      "        \"latitude\": 45.4342932,\n",
      "        \"longitude\": 12.323715\n",
      "      },\n",
      "      \"start_date\": \"2025-09-28T23:15:00Z\",\n",
      "      \"end_date\": \"2025-09-29T07:15:00Z\",\n",
      "      \"url\": \"https://example.com/veneto-events/298\"\n",
      "    },\n",
      "    {\n",
      "      \"id\": \"499\",\n",
      "      \"title\": \"Schio Arts & Crafts Event #299\",\n",
      "      \"category\": \"Arts & Crafts\",\n",
      "      \"description\": \"Unwind and enjoy a delightful arts & crafts experience in Schio at the picturesque Piazza Alessandro Rossi. Relax and take in the atmosphere.\",\n",
      "      \"city\": \"Schio\",\n",
      "      \"location\": {\n",
      "        \"venue\": \"Piazza Alessandro Rossi\",\n",
      "        \"address\": \"Piazza Alessandro Rossi, Schio, Veneto\",\n",
      "        \"latitude\": 45.7143939,\n",
      "        \"longitude\": 11.3590481\n",
      "      },\n",
      "      \"start_date\": \"2025-09-28T17:43:00Z\",\n",
      "      \"end_date\": \"2025-09-29T00:43:00Z\",\n",
      "      \"url\": \"https://example.com/veneto-events/299\"\n",
      "    },\n",
      "    {\n",
      "      \"id\": \"500\",\n",
      "      \"title\": \"Peschiera del Garda Festival Event #300\",\n",
      "      \"category\": \"Festival\",\n",
      "      \"description\": \"Connect with fellow enthusiasts at this lively festival event in Peschiera del Garda, taking place at the welcoming Fortezza di Peschiera. Share your passion and make new friends.\",\n",
      "      \"city\": \"Peschiera del Garda\",\n",
      "      \"location\": {\n",
      "        \"venue\": \"Fortezza di Peschiera\",\n",
      "        \"address\": \"Fortezza di Peschiera, Peschiera del Garda, Veneto\",\n",
      "        \"latitude\": 45.4389454,\n",
      "        \"longitude\": 10.6920171\n",
      "      },\n",
      "      \"start_date\": \"2025-09-28T19:57:00Z\",\n",
      "      \"end_date\": \"2025-09-29T05:57:00Z\",\n",
      "      \"url\": \"https://example.com/veneto-events/300\"\n",
      "    },\n",
      "    {\n",
      "      \"id\": \"501\",\n",
      "      \"title\": \"Vittorio Veneto Music Event #301\",\n",
      "      \"category\": \"Music\",\n",
      "      \"description\": \"Connect with fellow enthusiasts at this lively music event in Vittorio Veneto, taking place at the welcoming Teatro Da Ponte. Share your passion and make new friends.\",\n",
      "      \"city\": \"Vittorio Veneto\",\n",
      "      \"location\": {\n",
      "        \"venue\": \"Teatro Da Ponte\",\n",
      "        \"address\": \"Teatro Da Ponte, Vittorio Veneto, Veneto\",\n",
      "        \"latitude\": 45.9897826,\n",
      "        \"longitude\": 12.2957596\n",
      "      },\n",
      "      \"start_date\": \"2025-09-29T03:44:00Z\",\n",
      "      \"end_date\": \"2025-09-29T07:44:00Z\",\n",
      "      \"url\": \"https://example.com/veneto-events/301\"\n",
      "    },\n",
      "    {\n",
      "      \"id\": \"502\",\n",
      "      \"title\": \"Mogliano Veneto Workshop Event #302\",\n",
      "      \"category\": \"Workshop\",\n",
      "      \"description\": \"Prepare for an unforgettable workshop experience in the stunning city of Mogliano Veneto, held at the magnificent Museo della Bonifica. This event promises to be a highlight of the season!\",\n",
      "      \"city\": \"Mogliano Veneto\",\n",
      "      \"location\": {\n",
      "        \"venue\": \"Museo della Bonifica\",\n",
      "        \"address\": \"Museo della Bonifica, Mogliano Veneto, Veneto\",\n",
      "        \"latitude\": 45.5612886,\n",
      "        \"longitude\": 12.2376973\n",
      "      },\n",
      "      \"start_date\": \"2025-09-28T21:23:00Z\",\n",
      "      \"end_date\": \"2025-09-29T06:23:00Z\",\n",
      "      \"url\": \"https://example.com/veneto-events/302\"\n",
      "    },\n",
      "    {\n",
      "      \"id\": \"503\",\n",
      "      \"title\": \"Borgo Valsugana Tour Event #303\",\n",
      "      \"category\": \"Tour\",\n",
      "      \"description\": \"Unwind and enjoy a delightful tour experience in Borgo Valsugana at the picturesque Palazzo Ceschi. Relax and take in the atmosphere.\",\n",
      "      \"city\": \"Borgo Valsugana\",\n",
      "      \"location\": {\n",
      "        \"venue\": \"Palazzo Ceschi\",\n",
      "        \"address\": \"Palazzo Ceschi, Borgo Valsugana, Veneto\",\n",
      "        \"latitude\": null,\n",
      "        \"longitude\": null\n",
      "      },\n",
      "      \"start_date\": \"2025-09-28T13:43:00Z\",\n",
      "      \"end_date\": \"2025-09-28T19:43:00Z\",\n",
      "      \"url\": \"https://example.com/veneto-events/303\"\n",
      "    },\n",
      "    {\n",
      "      \"id\": \"504\",\n",
      "      \"title\": \"Arqu\\u00e0 Petrarca Arts & Crafts Event #304\",\n",
      "      \"category\": \"Arts & Crafts\",\n",
      "      \"description\": \"Explore the vibrant arts & crafts scene in Arqu\\u00e0 Petrarca with this special event at Medieval village center. Get ready for a day filled with discovery and enjoyment.\",\n",
      "      \"city\": \"Arqu\\u00e0 Petrarca\",\n",
      "      \"location\": {\n",
      "        \"venue\": \"Medieval village center\",\n",
      "        \"address\": \"Medieval village center, Arqu\\u00e0 Petrarca, Veneto\",\n",
      "        \"latitude\": 45.2700441,\n",
      "        \"longitude\": 11.7165149\n",
      "      },\n",
      "      \"start_date\": \"2025-09-28T11:37:00Z\",\n",
      "      \"end_date\": \"2025-09-28T15:37:00Z\",\n",
      "      \"url\": \"https://example.com/veneto-events/304\"\n",
      "    },\n",
      "    {\n",
      "      \"id\": \"505\",\n",
      "      \"title\": \"Cavarzere Theatre Event #305\",\n",
      "      \"category\": \"Theatre\",\n",
      "      \"description\": \"Dive into the world of theatre at this exciting gathering in Cavarzere. Located at the renowned Piazza Vittorio Emanuele II, it's an event you won't want to miss.\",\n",
      "      \"city\": \"Cavarzere\",\n",
      "      \"location\": {\n",
      "        \"venue\": \"Piazza Vittorio Emanuele II\",\n",
      "        \"address\": \"Piazza Vittorio Emanuele II, Cavarzere, Veneto\",\n",
      "        \"latitude\": 45.1360987,\n",
      "        \"longitude\": 12.0812854\n",
      "      },\n",
      "      \"start_date\": \"2025-09-28T09:02:00Z\",\n",
      "      \"end_date\": \"2025-09-28T12:02:00Z\",\n",
      "      \"url\": \"https://example.com/veneto-events/305\"\n",
      "    },\n",
      "    {\n",
      "      \"id\": \"506\",\n",
      "      \"title\": \"Valdagno Exhibition Event #306\",\n",
      "      \"category\": \"Exhibition\",\n",
      "      \"description\": \"Prepare for an unforgettable exhibition experience in the stunning city of Valdagno, held at the magnificent Parco delle Traine. This event promises to be a highlight of the season!\",\n",
      "      \"city\": \"Valdagno\",\n",
      "      \"location\": {\n",
      "        \"venue\": \"Parco delle Traine\",\n",
      "        \"address\": \"Parco delle Traine, Valdagno, Veneto\",\n",
      "        \"latitude\": 45.6413213,\n",
      "        \"longitude\": 11.3040596\n",
      "      },\n",
      "      \"start_date\": \"2025-09-26T07:43:00Z\",\n",
      "      \"end_date\": \"2025-09-26T13:43:00Z\",\n",
      "      \"url\": \"https://example.com/veneto-events/306\"\n",
      "    },\n",
      "    {\n",
      "      \"id\": \"507\",\n",
      "      \"title\": \"Lazise Exhibition Event #307\",\n",
      "      \"category\": \"Exhibition\",\n",
      "      \"description\": \"Step into a world of wonder at this extraordinary exhibition event in Lazise, held at the historic Castello Scaligero. Prepare to be amazed!\",\n",
      "      \"city\": \"Lazise\",\n",
      "      \"location\": {\n",
      "        \"venue\": \"Castello Scaligero\",\n",
      "        \"address\": \"Castello Scaligero, Lazise, Veneto\",\n",
      "        \"latitude\": 45.5052005,\n",
      "        \"longitude\": 10.7330245\n",
      "      },\n",
      "      \"start_date\": \"2025-09-29T09:54:00Z\",\n",
      "      \"end_date\": \"2025-09-29T17:54:00Z\",\n",
      "      \"url\": \"https://example.com/veneto-events/307\"\n",
      "    },\n",
      "    {\n",
      "      \"id\": \"508\",\n",
      "      \"title\": \"San Vito di Cadore Music Event #308\",\n",
      "      \"category\": \"Music\",\n",
      "      \"description\": \"Seeking adventure in San Vito di Cadore? Look no further than this captivating music event at Museo Ladino Cadorino. Fun and excitement are guaranteed!\",\n",
      "      \"city\": \"San Vito di Cadore\",\n",
      "      \"location\": {\n",
      "        \"venue\": \"Museo Ladino Cadorino\",\n",
      "        \"address\": \"Museo Ladino Cadorino, San Vito di Cadore, Veneto\",\n",
      "        \"latitude\": 46.458966,\n",
      "        \"longitude\": 12.2057415\n",
      "      },\n",
      "      \"start_date\": \"2025-09-29T00:49:00Z\",\n",
      "      \"end_date\": \"2025-09-29T02:49:00Z\",\n",
      "      \"url\": \"https://example.com/veneto-events/308\"\n",
      "    },\n",
      "    {\n",
      "      \"id\": \"509\",\n",
      "      \"title\": \"Spinea Music Event #309\",\n",
      "      \"category\": \"Music\",\n",
      "      \"description\": \"A unique music opportunity awaits you in Spinea. Join us at the charming Villa Loredan for an event designed to inspire and entertain.\",\n",
      "      \"city\": \"Spinea\",\n",
      "      \"location\": {\n",
      "        \"venue\": \"Villa Loredan\",\n",
      "        \"address\": \"Villa Loredan, Spinea, Veneto\",\n",
      "        \"latitude\": 45.4911604,\n",
      "        \"longitude\": 12.165018\n",
      "      },\n",
      "      \"start_date\": \"2025-09-29T02:46:00Z\",\n",
      "      \"end_date\": \"2025-09-29T05:46:00Z\",\n",
      "      \"url\": \"https://example.com/veneto-events/309\"\n",
      "    },\n",
      "    {\n",
      "      \"id\": \"510\",\n",
      "      \"title\": \"Campolongo Maggiore Conference Event #310\",\n",
      "      \"category\": \"Conference\",\n",
      "      \"description\": \"Prepare for an unforgettable conference experience in the stunning city of Campolongo Maggiore, held at the magnificent Villa Manin. This event promises to be a highlight of the season!\",\n",
      "      \"city\": \"Campolongo Maggiore\",\n",
      "      \"location\": {\n",
      "        \"venue\": \"Villa Manin\",\n",
      "        \"address\": \"Villa Manin, Campolongo Maggiore, Veneto\",\n",
      "        \"latitude\": 45.3305355,\n",
      "        \"longitude\": 12.0483135\n",
      "      },\n",
      "      \"start_date\": \"2025-09-28T21:24:00Z\",\n",
      "      \"end_date\": \"2025-09-29T04:24:00Z\",\n",
      "      \"url\": \"https://example.com/veneto-events/310\"\n",
      "    },\n",
      "    {\n",
      "      \"id\": \"511\",\n",
      "      \"title\": \"Noale Arts & Crafts Event #311\",\n",
      "      \"category\": \"Arts & Crafts\",\n",
      "      \"description\": \"Prepare for an unforgettable arts & crafts experience in the stunning city of Noale, held at the magnificent Piazza Castello. This event promises to be a highlight of the season!\",\n",
      "      \"city\": \"Noale\",\n",
      "      \"location\": {\n",
      "        \"venue\": \"Piazza Castello\",\n",
      "        \"address\": \"Piazza Castello, Noale, Veneto\",\n",
      "        \"latitude\": 45.5505965,\n",
      "        \"longitude\": 12.0701089\n",
      "      },\n",
      "      \"start_date\": \"2025-09-28T08:41:00Z\",\n",
      "      \"end_date\": \"2025-09-28T09:41:00Z\",\n",
      "      \"url\": \"https://example.com/veneto-events/311\"\n",
      "    },\n",
      "    {\n",
      "      \"id\": \"512\",\n",
      "      \"title\": \"Mestre Food & Drink Event #312\",\n",
      "      \"category\": \"Food & Drink\",\n",
      "      \"description\": \"Step into a world of wonder at this extraordinary food & drink event in Mestre, held at the historic Piazza Ferretto. Prepare to be amazed!\",\n",
      "      \"city\": \"Mestre\",\n",
      "      \"location\": {\n",
      "        \"venue\": \"Piazza Ferretto\",\n",
      "        \"address\": \"Piazza Ferretto, Mestre, Veneto\",\n",
      "        \"latitude\": 45.4936517,\n",
      "        \"longitude\": 12.2410779\n",
      "      },\n",
      "      \"start_date\": \"2025-09-28T20:28:00Z\",\n",
      "      \"end_date\": \"2025-09-28T21:28:00Z\",\n",
      "      \"url\": \"https://example.com/veneto-events/312\"\n",
      "    },\n",
      "    {\n",
      "      \"id\": \"513\",\n",
      "      \"title\": \"Asolo Exhibition Event #313\",\n",
      "      \"category\": \"Exhibition\",\n",
      "      \"description\": \"Step into a world of wonder at this extraordinary exhibition event in Asolo, held at the historic Rocca di Asolo. Prepare to be amazed!\",\n",
      "      \"city\": \"Asolo\",\n",
      "      \"location\": {\n",
      "        \"venue\": \"Rocca di Asolo\",\n",
      "        \"address\": \"Rocca di Asolo, Asolo, Veneto\",\n",
      "        \"latitude\": 45.8046333,\n",
      "        \"longitude\": 11.9189322\n",
      "      },\n",
      "      \"start_date\": \"2025-09-29T06:00:00Z\",\n",
      "      \"end_date\": \"2025-09-29T16:00:00Z\",\n",
      "      \"url\": \"https://example.com/veneto-events/313\"\n",
      "    },\n",
      "    {\n",
      "      \"id\": \"514\",\n",
      "      \"title\": \"Castelfranco Veneto Food & Drink Event #314\",\n",
      "      \"category\": \"Food & Drink\",\n",
      "      \"description\": \"Expand your horizons with this insightful food & drink event in Castelfranco Veneto, hosted at the distinguished Villa Revedin Bolasco. Learn something new and be inspired.\",\n",
      "      \"city\": \"Castelfranco Veneto\",\n",
      "      \"location\": {\n",
      "        \"venue\": \"Villa Revedin Bolasco\",\n",
      "        \"address\": \"Villa Revedin Bolasco, Castelfranco Veneto, Veneto\",\n",
      "        \"latitude\": 45.671139,\n",
      "        \"longitude\": 11.9265624\n",
      "      },\n",
      "      \"start_date\": \"2025-09-29T10:23:00Z\",\n",
      "      \"end_date\": \"2025-09-29T17:23:00Z\",\n",
      "      \"url\": \"https://example.com/veneto-events/314\"\n",
      "    },\n",
      "    {\n",
      "      \"id\": \"515\",\n",
      "      \"title\": \"Campolongo Maggiore Sport Event #315\",\n",
      "      \"category\": \"Sport\",\n",
      "      \"description\": \"Unwind and enjoy a delightful sport experience in Campolongo Maggiore at the picturesque Chiesa di San Giovanni Battista. Relax and take in the atmosphere.\",\n",
      "      \"city\": \"Campolongo Maggiore\",\n",
      "      \"location\": {\n",
      "        \"venue\": \"Chiesa di San Giovanni Battista\",\n",
      "        \"address\": \"Chiesa di San Giovanni Battista, Campolongo Maggiore, Veneto\",\n",
      "        \"latitude\": 45.3305355,\n",
      "        \"longitude\": 12.0483135\n",
      "      },\n",
      "      \"start_date\": \"2025-09-29T17:16:00Z\",\n",
      "      \"end_date\": \"2025-09-29T22:16:00Z\",\n",
      "      \"url\": \"https://example.com/veneto-events/315\"\n",
      "    },\n",
      "    {\n",
      "      \"id\": \"516\",\n",
      "      \"title\": \"Campolongo Maggiore Theatre Event #316\",\n",
      "      \"category\": \"Theatre\",\n",
      "      \"description\": \"Immerse yourself in the rich culture of Campolongo Maggiore with this engaging theatre event at the iconic Villa Manin. It's the perfect way to spend your time.\",\n",
      "      \"city\": \"Campolongo Maggiore\",\n",
      "      \"location\": {\n",
      "        \"venue\": \"Villa Manin\",\n",
      "        \"address\": \"Villa Manin, Campolongo Maggiore, Veneto\",\n",
      "        \"latitude\": 45.3305355,\n",
      "        \"longitude\": 12.0483135\n",
      "      },\n",
      "      \"start_date\": \"2025-09-29T18:23:00Z\",\n",
      "      \"end_date\": \"2025-09-29T19:23:00Z\",\n",
      "      \"url\": \"https://example.com/veneto-events/316\"\n",
      "    },\n",
      "    {\n",
      "      \"id\": \"517\",\n",
      "      \"title\": \"Padua Arts & Crafts Event #317\",\n",
      "      \"category\": \"Arts & Crafts\",\n",
      "      \"description\": \"Immerse yourself in the rich culture of Padua with this engaging arts & crafts event at the iconic Botanical Garden of Padua (UNESCO site). It's the perfect way to spend your time.\",\n",
      "      \"city\": \"Padua\",\n",
      "      \"location\": {\n",
      "        \"venue\": \"Botanical Garden of Padua (UNESCO site)\",\n",
      "        \"address\": \"Botanical Garden of Padua (UNESCO site), Padua, Veneto\",\n",
      "        \"latitude\": 45.4077172,\n",
      "        \"longitude\": 11.8734455\n",
      "      },\n",
      "      \"start_date\": \"2025-09-29T03:36:00Z\",\n",
      "      \"end_date\": \"2025-09-29T04:36:00Z\",\n",
      "      \"url\": \"https://example.com/veneto-events/317\"\n",
      "    },\n",
      "    {\n",
      "      \"id\": \"518\",\n",
      "      \"title\": \"Caorle Food & Drink Event #318\",\n",
      "      \"category\": \"Food & Drink\",\n",
      "      \"description\": \"Expand your horizons with this insightful food & drink event in Caorle, hosted at the distinguished Luna Park. Learn something new and be inspired.\",\n",
      "      \"city\": \"Caorle\",\n",
      "      \"location\": {\n",
      "        \"venue\": \"Luna Park\",\n",
      "        \"address\": \"Luna Park, Caorle, Veneto\",\n",
      "        \"latitude\": 45.5979147,\n",
      "        \"longitude\": 12.8876282\n",
      "      },\n",
      "      \"start_date\": \"2025-09-28T22:25:00Z\",\n",
      "      \"end_date\": \"2025-09-29T02:25:00Z\",\n",
      "      \"url\": \"https://example.com/veneto-events/318\"\n",
      "    },\n",
      "    {\n",
      "      \"id\": \"519\",\n",
      "      \"title\": \"Bardolino Arts & Crafts Event #319\",\n",
      "      \"category\": \"Arts & Crafts\",\n",
      "      \"description\": \"Connect with fellow enthusiasts at this lively arts & crafts event in Bardolino, taking place at the welcoming Piazza Matteotti. Share your passion and make new friends.\",\n",
      "      \"city\": \"Bardolino\",\n",
      "      \"location\": {\n",
      "        \"venue\": \"Piazza Matteotti\",\n",
      "        \"address\": \"Piazza Matteotti, Bardolino, Veneto\",\n",
      "        \"latitude\": 45.5471201,\n",
      "        \"longitude\": 10.7203132\n",
      "      },\n",
      "      \"start_date\": \"2025-09-28T04:31:00Z\",\n",
      "      \"end_date\": \"2025-09-28T09:31:00Z\",\n",
      "      \"url\": \"https://example.com/veneto-events/319\"\n",
      "    },\n",
      "    {\n",
      "      \"id\": \"520\",\n",
      "      \"title\": \"Feltre Music Event #320\",\n",
      "      \"category\": \"Music\",\n",
      "      \"description\": \"Step into a world of wonder at this extraordinary music event in Feltre, held at the historic Parco della Birreria. Prepare to be amazed!\",\n",
      "      \"city\": \"Feltre\",\n",
      "      \"location\": {\n",
      "        \"venue\": \"Parco della Birreria\",\n",
      "        \"address\": \"Parco della Birreria, Feltre, Veneto\",\n",
      "        \"latitude\": 46.0163755,\n",
      "        \"longitude\": 11.9062541\n",
      "      },\n",
      "      \"start_date\": \"2025-09-28T01:11:00Z\",\n",
      "      \"end_date\": \"2025-09-28T09:11:00Z\",\n",
      "      \"url\": \"https://example.com/veneto-events/320\"\n",
      "    },\n",
      "    {\n",
      "      \"id\": \"521\",\n",
      "      \"title\": \"Jesolo Theatre Event #321\",\n",
      "      \"category\": \"Theatre\",\n",
      "      \"description\": \"Prepare for an unforgettable theatre experience in the stunning city of Jesolo, held at the magnificent Pineta Beach. This event promises to be a highlight of the season!\",\n",
      "      \"city\": \"Jesolo\",\n",
      "      \"location\": {\n",
      "        \"venue\": \"Pineta Beach\",\n",
      "        \"address\": \"Pineta Beach, Jesolo, Veneto\",\n",
      "        \"latitude\": 45.5367094,\n",
      "        \"longitude\": 12.6383337\n",
      "      },\n",
      "      \"start_date\": \"2025-09-29T06:22:00Z\",\n",
      "      \"end_date\": \"2025-09-29T07:22:00Z\",\n",
      "      \"url\": \"https://example.com/veneto-events/321\"\n",
      "    },\n",
      "    {\n",
      "      \"id\": \"522\",\n",
      "      \"title\": \"Mogliano Veneto Arts & Crafts Event #322\",\n",
      "      \"category\": \"Arts & Crafts\",\n",
      "      \"description\": \"Expand your horizons with this insightful arts & crafts event in Mogliano Veneto, hosted at the distinguished Chiesa di Santa Maria Assunta. Learn something new and be inspired.\",\n",
      "      \"city\": \"Mogliano Veneto\",\n",
      "      \"location\": {\n",
      "        \"venue\": \"Chiesa di Santa Maria Assunta\",\n",
      "        \"address\": \"Chiesa di Santa Maria Assunta, Mogliano Veneto, Veneto\",\n",
      "        \"latitude\": 45.5612886,\n",
      "        \"longitude\": 12.2376973\n",
      "      },\n",
      "      \"start_date\": \"2025-09-26T19:25:00Z\",\n",
      "      \"end_date\": \"2025-09-26T20:25:00Z\",\n",
      "      \"url\": \"https://example.com/veneto-events/322\"\n",
      "    },\n",
      "    {\n",
      "      \"id\": \"523\",\n",
      "      \"title\": \"Lazise Workshop Event #323\",\n",
      "      \"category\": \"Workshop\",\n",
      "      \"description\": \"Explore the vibrant workshop scene in Lazise with this special event at Chiesa di San Nicol\\u00f2. Get ready for a day filled with discovery and enjoyment.\",\n",
      "      \"city\": \"Lazise\",\n",
      "      \"location\": {\n",
      "        \"venue\": \"Chiesa di San Nicol\\u00f2\",\n",
      "        \"address\": \"Chiesa di San Nicol\\u00f2, Lazise, Veneto\",\n",
      "        \"latitude\": 45.5052005,\n",
      "        \"longitude\": 10.7330245\n",
      "      },\n",
      "      \"start_date\": \"2025-09-28T23:30:00Z\",\n",
      "      \"end_date\": \"2025-09-29T02:30:00Z\",\n",
      "      \"url\": \"https://example.com/veneto-events/323\"\n",
      "    },\n",
      "    {\n",
      "      \"id\": \"524\",\n",
      "      \"title\": \"Conegliano Tour Event #324\",\n",
      "      \"category\": \"Tour\",\n",
      "      \"description\": \"Unwind and enjoy a delightful tour experience in Conegliano at the picturesque Piazza Cima. Relax and take in the atmosphere.\",\n",
      "      \"city\": \"Conegliano\",\n",
      "      \"location\": {\n",
      "        \"venue\": \"Piazza Cima\",\n",
      "        \"address\": \"Piazza Cima, Conegliano, Veneto\",\n",
      "        \"latitude\": 45.8862172,\n",
      "        \"longitude\": 12.2977566\n",
      "      },\n",
      "      \"start_date\": \"2025-09-28T03:23:00Z\",\n",
      "      \"end_date\": \"2025-09-28T04:23:00Z\",\n",
      "      \"url\": \"https://example.com/veneto-events/324\"\n",
      "    },\n",
      "    {\n",
      "      \"id\": \"525\",\n",
      "      \"title\": \"Borgo Valsugana Workshop Event #325\",\n",
      "      \"category\": \"Workshop\",\n",
      "      \"description\": \"Expand your horizons with this insightful workshop event in Borgo Valsugana, hosted at the distinguished Museo degli Spaventapasseri. Learn something new and be inspired.\",\n",
      "      \"city\": \"Borgo Valsugana\",\n",
      "      \"location\": {\n",
      "        \"venue\": \"Museo degli Spaventapasseri\",\n",
      "        \"address\": \"Museo degli Spaventapasseri, Borgo Valsugana, Veneto\",\n",
      "        \"latitude\": null,\n",
      "        \"longitude\": null\n",
      "      },\n",
      "      \"start_date\": \"2025-09-26T22:19:00Z\",\n",
      "      \"end_date\": \"2025-09-27T06:19:00Z\",\n",
      "      \"url\": \"https://example.com/veneto-events/325\"\n",
      "    },\n",
      "    {\n",
      "      \"id\": \"526\",\n",
      "      \"title\": \"Jesolo Sport Event #326\",\n",
      "      \"category\": \"Sport\",\n",
      "      \"description\": \"Dive into the world of sport at this exciting gathering in Jesolo. Located at the renowned Jesolo Beach, it's an event you won't want to miss.\",\n",
      "      \"city\": \"Jesolo\",\n",
      "      \"location\": {\n",
      "        \"venue\": \"Jesolo Beach\",\n",
      "        \"address\": \"Jesolo Beach, Jesolo, Veneto\",\n",
      "        \"latitude\": 45.5367094,\n",
      "        \"longitude\": 12.6383337\n",
      "      },\n",
      "      \"start_date\": \"2025-09-26T11:50:00Z\",\n",
      "      \"end_date\": \"2025-09-26T19:50:00Z\",\n",
      "      \"url\": \"https://example.com/veneto-events/326\"\n",
      "    },\n",
      "    {\n",
      "      \"id\": \"527\",\n",
      "      \"title\": \"Marostica Festival Event #327\",\n",
      "      \"category\": \"Festival\",\n",
      "      \"description\": \"A unique festival opportunity awaits you in Marostica. Join us at the charming Porta Vicentina for an event designed to inspire and entertain.\",\n",
      "      \"city\": \"Marostica\",\n",
      "      \"location\": {\n",
      "        \"venue\": \"Porta Vicentina\",\n",
      "        \"address\": \"Porta Vicentina, Marostica, Veneto\",\n",
      "        \"latitude\": 45.7453924,\n",
      "        \"longitude\": 11.6568938\n",
      "      },\n",
      "      \"start_date\": \"2025-09-27T19:25:00Z\",\n",
      "      \"end_date\": \"2025-09-28T02:25:00Z\",\n",
      "      \"url\": \"https://example.com/veneto-events/327\"\n",
      "    },\n",
      "    {\n",
      "      \"id\": \"528\",\n",
      "      \"title\": \"Malcesine Music Event #328\",\n",
      "      \"category\": \"Music\",\n",
      "      \"description\": \"Connect with fellow enthusiasts at this lively music event in Malcesine, taking place at the welcoming Funivia Malcesine-Monte Baldo. Share your passion and make new friends.\",\n",
      "      \"city\": \"Malcesine\",\n",
      "      \"location\": {\n",
      "        \"venue\": \"Funivia Malcesine-Monte Baldo\",\n",
      "        \"address\": \"Funivia Malcesine-Monte Baldo, Malcesine, Veneto\",\n",
      "        \"latitude\": 45.7661246,\n",
      "        \"longitude\": 10.8132676\n",
      "      },\n",
      "      \"start_date\": \"2025-09-29T16:32:00Z\",\n",
      "      \"end_date\": \"2025-09-30T00:00:00Z\",\n",
      "      \"url\": \"https://example.com/veneto-events/328\"\n",
      "    },\n",
      "    {\n",
      "      \"id\": \"529\",\n",
      "      \"title\": \"Cortina d'Ampezzo Tour Event #329\",\n",
      "      \"category\": \"Tour\",\n",
      "      \"description\": \"Expand your horizons with this insightful tour event in Cortina d'Ampezzo, hosted at the distinguished Basilica Minore dei Santi Filippo e Giacomo. Learn something new and be inspired.\",\n",
      "      \"city\": \"Cortina d'Ampezzo\",\n",
      "      \"location\": {\n",
      "        \"venue\": \"Basilica Minore dei Santi Filippo e Giacomo\",\n",
      "        \"address\": \"Basilica Minore dei Santi Filippo e Giacomo, Cortina d'Ampezzo, Veneto\",\n",
      "        \"latitude\": 46.5383332,\n",
      "        \"longitude\": 12.1373506\n",
      "      },\n",
      "      \"start_date\": \"2025-09-29T06:35:00Z\",\n",
      "      \"end_date\": \"2025-09-29T10:35:00Z\",\n",
      "      \"url\": \"https://example.com/veneto-events/329\"\n",
      "    },\n",
      "    {\n",
      "      \"id\": \"530\",\n",
      "      \"title\": \"Abano Terme Exhibition Event #330\",\n",
      "      \"category\": \"Exhibition\",\n",
      "      \"description\": \"Expand your horizons with this insightful exhibition event in Abano Terme, hosted at the distinguished Montirone Park. Learn something new and be inspired.\",\n",
      "      \"city\": \"Abano Terme\",\n",
      "      \"location\": {\n",
      "        \"venue\": \"Montirone Park\",\n",
      "        \"address\": \"Montirone Park, Abano Terme, Veneto\",\n",
      "        \"latitude\": 45.3603142,\n",
      "        \"longitude\": 11.7897833\n",
      "      },\n",
      "      \"start_date\": \"2025-09-26T13:09:00Z\",\n",
      "      \"end_date\": \"2025-09-26T23:09:00Z\",\n",
      "      \"url\": \"https://example.com/veneto-events/330\"\n",
      "    },\n",
      "    {\n",
      "      \"id\": \"531\",\n",
      "      \"title\": \"Venice Conference Event #331\",\n",
      "      \"category\": \"Conference\",\n",
      "      \"description\": \"Dive into the world of conference at this exciting gathering in Venice. Located at the renowned Palazzo Querini Stampalia, it's an event you won't want to miss.\",\n",
      "      \"city\": \"Venice\",\n",
      "      \"location\": {\n",
      "        \"venue\": \"Palazzo Querini Stampalia\",\n",
      "        \"address\": \"Palazzo Querini Stampalia, Venice, Veneto\",\n",
      "        \"latitude\": 45.4371908,\n",
      "        \"longitude\": 12.3345898\n",
      "      },\n",
      "      \"start_date\": \"2025-09-28T22:27:00Z\",\n",
      "      \"end_date\": \"2025-09-29T08:27:00Z\",\n",
      "      \"url\": \"https://example.com/veneto-events/331\"\n",
      "    },\n",
      "    {\n",
      "      \"id\": \"532\",\n",
      "      \"title\": \"Abano Terme Tour Event #332\",\n",
      "      \"category\": \"Tour\",\n",
      "      \"description\": \"Seeking adventure in Abano Terme? Look no further than this captivating tour event at Piazza del Sole e della Pace. Fun and excitement are guaranteed!\",\n",
      "      \"city\": \"Abano Terme\",\n",
      "      \"location\": {\n",
      "        \"venue\": \"Piazza del Sole e della Pace\",\n",
      "        \"address\": \"Piazza del Sole e della Pace, Abano Terme, Veneto\",\n",
      "        \"latitude\": 45.3603142,\n",
      "        \"longitude\": 11.7897833\n",
      "      },\n",
      "      \"start_date\": \"2025-09-26T20:19:00Z\",\n",
      "      \"end_date\": \"2025-09-27T02:19:00Z\",\n",
      "      \"url\": \"https://example.com/veneto-events/332\"\n",
      "    },\n",
      "    {\n",
      "      \"id\": \"533\",\n",
      "      \"title\": \"Campolongo Maggiore Festival Event #333\",\n",
      "      \"category\": \"Festival\",\n",
      "      \"description\": \"Unwind and enjoy a delightful festival experience in Campolongo Maggiore at the picturesque Museo della Civilt\\u00e0 Contadina. Relax and take in the atmosphere.\",\n",
      "      \"city\": \"Campolongo Maggiore\",\n",
      "      \"location\": {\n",
      "        \"venue\": \"Museo della Civilt\\u00e0 Contadina\",\n",
      "        \"address\": \"Museo della Civilt\\u00e0 Contadina, Campolongo Maggiore, Veneto\",\n",
      "        \"latitude\": 45.3305355,\n",
      "        \"longitude\": 12.0483135\n",
      "      },\n",
      "      \"start_date\": \"2025-09-26T13:01:00Z\",\n",
      "      \"end_date\": \"2025-09-26T16:01:00Z\",\n",
      "      \"url\": \"https://example.com/veneto-events/333\"\n",
      "    },\n",
      "    {\n",
      "      \"id\": \"534\",\n",
      "      \"title\": \"Marostica Arts & Crafts Event #334\",\n",
      "      \"category\": \"Arts & Crafts\",\n",
      "      \"description\": \"Prepare for an unforgettable arts & crafts experience in the stunning city of Marostica, held at the magnificent Piazza degli Scacchi. This event promises to be a highlight of the season!\",\n",
      "      \"city\": \"Marostica\",\n",
      "      \"location\": {\n",
      "        \"venue\": \"Piazza degli Scacchi\",\n",
      "        \"address\": \"Piazza degli Scacchi, Marostica, Veneto\",\n",
      "        \"latitude\": 45.745514,\n",
      "        \"longitude\": 11.6552998\n",
      "      },\n",
      "      \"start_date\": \"2025-09-27T08:41:00Z\",\n",
      "      \"end_date\": \"2025-09-27T14:41:00Z\",\n",
      "      \"url\": \"https://example.com/veneto-events/334\"\n",
      "    },\n",
      "    {\n",
      "      \"id\": \"535\",\n",
      "      \"title\": \"Cavarzere Conference Event #335\",\n",
      "      \"category\": \"Conference\",\n",
      "      \"description\": \"Immerse yourself in the rich culture of Cavarzere with this engaging conference event at the iconic Museo Civico. It's the perfect way to spend your time.\",\n",
      "      \"city\": \"Cavarzere\",\n",
      "      \"location\": {\n",
      "        \"venue\": \"Museo Civico\",\n",
      "        \"address\": \"Museo Civico, Cavarzere, Veneto\",\n",
      "        \"latitude\": 45.1360987,\n",
      "        \"longitude\": 12.0812854\n",
      "      },\n",
      "      \"start_date\": \"2025-09-29T16:49:00Z\",\n",
      "      \"end_date\": \"2025-09-29T20:49:00Z\",\n",
      "      \"url\": \"https://example.com/veneto-events/335\"\n",
      "    },\n",
      "    {\n",
      "      \"id\": \"536\",\n",
      "      \"title\": \"Treviso Exhibition Event #336\",\n",
      "      \"category\": \"Exhibition\",\n",
      "      \"description\": \"Dive into the world of exhibition at this exciting gathering in Treviso. Located at the renowned Villa Pisani, it's an event you won't want to miss.\",\n",
      "      \"city\": \"Treviso\",\n",
      "      \"location\": {\n",
      "        \"venue\": \"Villa Pisani\",\n",
      "        \"address\": \"Villa Pisani, Treviso, Veneto\",\n",
      "        \"latitude\": 45.7444518,\n",
      "        \"longitude\": 11.9837692\n",
      "      },\n",
      "      \"start_date\": \"2025-09-29T03:57:00Z\",\n",
      "      \"end_date\": \"2025-09-29T08:57:00Z\",\n",
      "      \"url\": \"https://example.com/veneto-events/336\"\n",
      "    },\n",
      "    {\n",
      "      \"id\": \"537\",\n",
      "      \"title\": \"Valdagno Exhibition Event #337\",\n",
      "      \"category\": \"Exhibition\",\n",
      "      \"description\": \"Seeking adventure in Valdagno? Look no further than this captivating exhibition event at Villa Cerchiari. Fun and excitement are guaranteed!\",\n",
      "      \"city\": \"Valdagno\",\n",
      "      \"location\": {\n",
      "        \"venue\": \"Villa Cerchiari\",\n",
      "        \"address\": \"Villa Cerchiari, Valdagno, Veneto\",\n",
      "        \"latitude\": 45.6413213,\n",
      "        \"longitude\": 11.3040596\n",
      "      },\n",
      "      \"start_date\": \"2025-09-26T13:22:00Z\",\n",
      "      \"end_date\": \"2025-09-26T20:22:00Z\",\n",
      "      \"url\": \"https://example.com/veneto-events/337\"\n",
      "    },\n",
      "    {\n",
      "      \"id\": \"538\",\n",
      "      \"title\": \"Legnago Theatre Event #338\",\n",
      "      \"category\": \"Theatre\",\n",
      "      \"description\": \"Unwind and enjoy a delightful theatre experience in Legnago at the picturesque Duomo di San Martino. Relax and take in the atmosphere.\",\n",
      "      \"city\": \"Legnago\",\n",
      "      \"location\": {\n",
      "        \"venue\": \"Duomo di San Martino\",\n",
      "        \"address\": \"Duomo di San Martino, Legnago, Veneto\",\n",
      "        \"latitude\": 45.192498,\n",
      "        \"longitude\": 11.3111274\n",
      "      },\n",
      "      \"start_date\": \"2025-09-29T16:47:00Z\",\n",
      "      \"end_date\": \"2025-09-29T20:47:00Z\",\n",
      "      \"url\": \"https://example.com/veneto-events/338\"\n",
      "    },\n",
      "    {\n",
      "      \"id\": \"539\",\n",
      "      \"title\": \"Vicenza Sport Event #339\",\n",
      "      \"category\": \"Sport\",\n",
      "      \"description\": \"Seeking adventure in Vicenza? Look no further than this captivating sport event at Villa La Rotonda. Fun and excitement are guaranteed!\",\n",
      "      \"city\": \"Vicenza\",\n",
      "      \"location\": {\n",
      "        \"venue\": \"Villa La Rotonda\",\n",
      "        \"address\": \"Villa La Rotonda, Vicenza, Veneto\",\n",
      "        \"latitude\": 45.5488306,\n",
      "        \"longitude\": 11.5478825\n",
      "      },\n",
      "      \"start_date\": \"2025-09-28T23:00:00Z\",\n",
      "      \"end_date\": \"2025-09-29T00:00:00Z\",\n",
      "      \"url\": \"https://example.com/veneto-events/339\"\n",
      "    },\n",
      "    {\n",
      "      \"id\": \"540\",\n",
      "      \"title\": \"Bassano del Grappa Music Event #340\",\n",
      "      \"category\": \"Music\",\n",
      "      \"description\": \"Dive into the world of music at this exciting gathering in Bassano del Grappa. Located at the renowned Villa Recoaro, it's an event you won't want to miss.\",\n",
      "      \"city\": \"Bassano del Grappa\",\n",
      "      \"location\": {\n",
      "        \"venue\": \"Villa Recoaro\",\n",
      "        \"address\": \"Villa Recoaro, Bassano del Grappa, Veneto\",\n",
      "        \"latitude\": 45.7669109,\n",
      "        \"longitude\": 11.7343469\n",
      "      },\n",
      "      \"start_date\": \"2025-09-27T04:27:00Z\",\n",
      "      \"end_date\": \"2025-09-27T10:27:00Z\",\n",
      "      \"url\": \"https://example.com/veneto-events/340\"\n",
      "    },\n",
      "    {\n",
      "      \"id\": \"541\",\n",
      "      \"title\": \"Adria Arts & Crafts Event #341\",\n",
      "      \"category\": \"Arts & Crafts\",\n",
      "      \"description\": \"Immerse yourself in the rich culture of Adria with this engaging arts & crafts event at the iconic Museo della Cattedrale. It's the perfect way to spend your time.\",\n",
      "      \"city\": \"Adria\",\n",
      "      \"location\": {\n",
      "        \"venue\": \"Museo della Cattedrale\",\n",
      "        \"address\": \"Museo della Cattedrale, Adria, Veneto\",\n",
      "        \"latitude\": 45.0531228,\n",
      "        \"longitude\": 12.0572\n",
      "      },\n",
      "      \"start_date\": \"2025-09-26T03:30:00Z\",\n",
      "      \"end_date\": \"2025-09-26T05:30:00Z\",\n",
      "      \"url\": \"https://example.com/veneto-events/341\"\n",
      "    },\n",
      "    {\n",
      "      \"id\": \"542\",\n",
      "      \"title\": \"Mirano Exhibition Event #342\",\n",
      "      \"category\": \"Exhibition\",\n",
      "      \"description\": \"Expand your horizons with this insightful exhibition event in Mirano, hosted at the distinguished Duomo di San Michele Arcangelo. Learn something new and be inspired.\",\n",
      "      \"city\": \"Mirano\",\n",
      "      \"location\": {\n",
      "        \"venue\": \"Duomo di San Michele Arcangelo\",\n",
      "        \"address\": \"Duomo di San Michele Arcangelo, Mirano, Veneto\",\n",
      "        \"latitude\": 45.4927695,\n",
      "        \"longitude\": 12.1098768\n",
      "      },\n",
      "      \"start_date\": \"2025-09-28T22:16:00Z\",\n",
      "      \"end_date\": \"2025-09-29T02:16:00Z\",\n",
      "      \"url\": \"https://example.com/veneto-events/342\"\n",
      "    },\n",
      "    {\n",
      "      \"id\": \"543\",\n",
      "      \"title\": \"Verona Tour Event #343\",\n",
      "      \"category\": \"Tour\",\n",
      "      \"description\": \"Immerse yourself in the rich culture of Verona with this engaging tour event at the iconic Ponte Pietra. It's the perfect way to spend your time.\",\n",
      "      \"city\": \"Verona\",\n",
      "      \"location\": {\n",
      "        \"venue\": \"Ponte Pietra\",\n",
      "        \"address\": \"Ponte Pietra, Verona, Veneto\",\n",
      "        \"latitude\": 45.4477839,\n",
      "        \"longitude\": 11.0000025\n",
      "      },\n",
      "      \"start_date\": \"2025-09-28T06:56:00Z\",\n",
      "      \"end_date\": \"2025-09-28T08:56:00Z\",\n",
      "      \"url\": \"https://example.com/veneto-events/343\"\n",
      "    },\n",
      "    {\n",
      "      \"id\": \"544\",\n",
      "      \"title\": \"Spinea Exhibition Event #344\",\n",
      "      \"category\": \"Exhibition\",\n",
      "      \"description\": \"Explore the vibrant exhibition scene in Spinea with this special event at Villa Loredan. Get ready for a day filled with discovery and enjoyment.\",\n",
      "      \"city\": \"Spinea\",\n",
      "      \"location\": {\n",
      "        \"venue\": \"Villa Loredan\",\n",
      "        \"address\": \"Villa Loredan, Spinea, Veneto\",\n",
      "        \"latitude\": 45.4911604,\n",
      "        \"longitude\": 12.165018\n",
      "      },\n",
      "      \"start_date\": \"2025-09-29T07:19:00Z\",\n",
      "      \"end_date\": \"2025-09-29T10:19:00Z\",\n",
      "      \"url\": \"https://example.com/veneto-events/344\"\n",
      "    },\n",
      "    {\n",
      "      \"id\": \"545\",\n",
      "      \"title\": \"Spinea Food & Drink Event #345\",\n",
      "      \"category\": \"Food & Drink\",\n",
      "      \"description\": \"Seeking adventure in Spinea? Look no further than this captivating food & drink event at Parco Nuove Gemme. Fun and excitement are guaranteed!\",\n",
      "      \"city\": \"Spinea\",\n",
      "      \"location\": {\n",
      "        \"venue\": \"Parco Nuove Gemme\",\n",
      "        \"address\": \"Parco Nuove Gemme, Spinea, Veneto\",\n",
      "        \"latitude\": 45.4911604,\n",
      "        \"longitude\": 12.165018\n",
      "      },\n",
      "      \"start_date\": \"2025-09-28T00:55:00Z\",\n",
      "      \"end_date\": \"2025-09-28T06:55:00Z\",\n",
      "      \"url\": \"https://example.com/veneto-events/345\"\n",
      "    },\n",
      "    {\n",
      "      \"id\": \"546\",\n",
      "      \"title\": \"Schio Conference Event #346\",\n",
      "      \"category\": \"Conference\",\n",
      "      \"description\": \"Dive into the world of conference at this exciting gathering in Schio. Located at the renowned Museo Civico di Schio, it's an event you won't want to miss.\",\n",
      "      \"city\": \"Schio\",\n",
      "      \"location\": {\n",
      "        \"venue\": \"Museo Civico di Schio\",\n",
      "        \"address\": \"Museo Civico di Schio, Schio, Veneto\",\n",
      "        \"latitude\": 45.7113511,\n",
      "        \"longitude\": 11.3553593\n",
      "      },\n",
      "      \"start_date\": \"2025-09-27T12:32:00Z\",\n",
      "      \"end_date\": \"2025-09-27T13:32:00Z\",\n",
      "      \"url\": \"https://example.com/veneto-events/346\"\n",
      "    },\n",
      "    {\n",
      "      \"id\": \"547\",\n",
      "      \"title\": \"Cortina d'Ampezzo Arts & Crafts Event #347\",\n",
      "      \"category\": \"Arts & Crafts\",\n",
      "      \"description\": \"Unwind and enjoy a delightful arts & crafts experience in Cortina d'Ampezzo at the picturesque Stadio Olimpico del Ghiaccio. Relax and take in the atmosphere.\",\n",
      "      \"city\": \"Cortina d'Ampezzo\",\n",
      "      \"location\": {\n",
      "        \"venue\": \"Stadio Olimpico del Ghiaccio\",\n",
      "        \"address\": \"Stadio Olimpico del Ghiaccio, Cortina d'Ampezzo, Veneto\",\n",
      "        \"latitude\": 46.5383332,\n",
      "        \"longitude\": 12.1373506\n",
      "      },\n",
      "      \"start_date\": \"2025-09-26T00:44:00Z\",\n",
      "      \"end_date\": \"2025-09-26T02:44:00Z\",\n",
      "      \"url\": \"https://example.com/veneto-events/347\"\n",
      "    },\n",
      "    {\n",
      "      \"id\": \"548\",\n",
      "      \"title\": \"Vittorio Veneto Music Event #348\",\n",
      "      \"category\": \"Music\",\n",
      "      \"description\": \"Immerse yourself in the rich culture of Vittorio Veneto with this engaging music event at the iconic Piazza del Popolo. It's the perfect way to spend your time.\",\n",
      "      \"city\": \"Vittorio Veneto\",\n",
      "      \"location\": {\n",
      "        \"venue\": \"Piazza del Popolo\",\n",
      "        \"address\": \"Piazza del Popolo, Vittorio Veneto, Veneto\",\n",
      "        \"latitude\": 45.9897336,\n",
      "        \"longitude\": 12.295648\n",
      "      },\n",
      "      \"start_date\": \"2025-09-29T14:18:00Z\",\n",
      "      \"end_date\": \"2025-09-29T20:18:00Z\",\n",
      "      \"url\": \"https://example.com/veneto-events/348\"\n",
      "    },\n",
      "    {\n",
      "      \"id\": \"549\",\n",
      "      \"title\": \"Belluno Arts & Crafts Event #349\",\n",
      "      \"category\": \"Arts & Crafts\",\n",
      "      \"description\": \"A unique arts & crafts opportunity awaits you in Belluno. Join us at the charming Piazza dei Martiri for an event designed to inspire and entertain.\",\n",
      "      \"city\": \"Belluno\",\n",
      "      \"location\": {\n",
      "        \"venue\": \"Piazza dei Martiri\",\n",
      "        \"address\": \"Piazza dei Martiri, Belluno, Veneto\",\n",
      "        \"latitude\": 46.139038,\n",
      "        \"longitude\": 12.2162188\n",
      "      },\n",
      "      \"start_date\": \"2025-09-27T07:12:00Z\",\n",
      "      \"end_date\": \"2025-09-27T09:12:00Z\",\n",
      "      \"url\": \"https://example.com/veneto-events/349\"\n",
      "    },\n",
      "    {\n",
      "      \"id\": \"550\",\n",
      "      \"title\": \"Mestre Music Event #350\",\n",
      "      \"category\": \"Music\",\n",
      "      \"description\": \"Dive into the world of music at this exciting gathering in Mestre. Located at the renowned Torre dell'Orologio, it's an event you won't want to miss.\",\n",
      "      \"city\": \"Mestre\",\n",
      "      \"location\": {\n",
      "        \"venue\": \"Torre dell'Orologio\",\n",
      "        \"address\": \"Torre dell'Orologio, Mestre, Veneto\",\n",
      "        \"latitude\": 45.4943063,\n",
      "        \"longitude\": 12.2418053\n",
      "      },\n",
      "      \"start_date\": \"2025-09-28T15:55:00Z\",\n",
      "      \"end_date\": \"2025-09-28T16:55:00Z\",\n",
      "      \"url\": \"https://example.com/veneto-events/350\"\n",
      "    },\n",
      "    {\n",
      "      \"id\": \"551\",\n",
      "      \"title\": \"Borgo Valsugana Workshop Event #351\",\n",
      "      \"category\": \"Workshop\",\n",
      "      \"description\": \"Expand your horizons with this insightful workshop event in Borgo Valsugana, hosted at the distinguished Piazza Degasperi. Learn something new and be inspired.\",\n",
      "      \"city\": \"Borgo Valsugana\",\n",
      "      \"location\": {\n",
      "        \"venue\": \"Piazza Degasperi\",\n",
      "        \"address\": \"Piazza Degasperi, Borgo Valsugana, Veneto\",\n",
      "        \"latitude\": null,\n",
      "        \"longitude\": null\n",
      "      },\n",
      "      \"start_date\": \"2025-09-27T07:37:00Z\",\n",
      "      \"end_date\": \"2025-09-27T14:37:00Z\",\n",
      "      \"url\": \"https://example.com/veneto-events/351\"\n",
      "    },\n",
      "    {\n",
      "      \"id\": \"552\",\n",
      "      \"title\": \"Valdagno Arts & Crafts Event #352\",\n",
      "      \"category\": \"Arts & Crafts\",\n",
      "      \"description\": \"Seeking adventure in Valdagno? Look no further than this captivating arts & crafts event at Parco delle Traine. Fun and excitement are guaranteed!\",\n",
      "      \"city\": \"Valdagno\",\n",
      "      \"location\": {\n",
      "        \"venue\": \"Parco delle Traine\",\n",
      "        \"address\": \"Parco delle Traine, Valdagno, Veneto\",\n",
      "        \"latitude\": 45.6413213,\n",
      "        \"longitude\": 11.3040596\n",
      "      },\n",
      "      \"start_date\": \"2025-09-27T02:18:00Z\",\n",
      "      \"end_date\": \"2025-09-27T05:18:00Z\",\n",
      "      \"url\": \"https://example.com/veneto-events/352\"\n",
      "    },\n",
      "    {\n",
      "      \"id\": \"553\",\n",
      "      \"title\": \"Borgo Valsugana Conference Event #353\",\n",
      "      \"category\": \"Conference\",\n",
      "      \"description\": \"Dive into the world of conference at this exciting gathering in Borgo Valsugana. Located at the renowned Parco della Pace, it's an event you won't want to miss.\",\n",
      "      \"city\": \"Borgo Valsugana\",\n",
      "      \"location\": {\n",
      "        \"venue\": \"Parco della Pace\",\n",
      "        \"address\": \"Parco della Pace, Borgo Valsugana, Veneto\",\n",
      "        \"latitude\": 46.0545204,\n",
      "        \"longitude\": 11.4609416\n",
      "      },\n",
      "      \"start_date\": \"2025-09-29T03:39:00Z\",\n",
      "      \"end_date\": \"2025-09-29T12:39:00Z\",\n",
      "      \"url\": \"https://example.com/veneto-events/353\"\n",
      "    },\n",
      "    {\n",
      "      \"id\": \"554\",\n",
      "      \"title\": \"Cortina d'Ampezzo Exhibition Event #354\",\n",
      "      \"category\": \"Exhibition\",\n",
      "      \"description\": \"Dive into the world of exhibition at this exciting gathering in Cortina d'Ampezzo. Located at the renowned Lago di Pianozes, it's an event you won't want to miss.\",\n",
      "      \"city\": \"Cortina d'Ampezzo\",\n",
      "      \"location\": {\n",
      "        \"venue\": \"Lago di Pianozes\",\n",
      "        \"address\": \"Lago di Pianozes, Cortina d'Ampezzo, Veneto\",\n",
      "        \"latitude\": 46.5383332,\n",
      "        \"longitude\": 12.1373506\n",
      "      },\n",
      "      \"start_date\": \"2025-09-29T10:07:00Z\",\n",
      "      \"end_date\": \"2025-09-29T17:07:00Z\",\n",
      "      \"url\": \"https://example.com/veneto-events/354\"\n",
      "    },\n",
      "    {\n",
      "      \"id\": \"555\",\n",
      "      \"title\": \"Spinea Exhibition Event #355\",\n",
      "      \"category\": \"Exhibition\",\n",
      "      \"description\": \"Immerse yourself in the rich culture of Spinea with this engaging exhibition event at the iconic Villa Simion. It's the perfect way to spend your time.\",\n",
      "      \"city\": \"Spinea\",\n",
      "      \"location\": {\n",
      "        \"venue\": \"Villa Simion\",\n",
      "        \"address\": \"Villa Simion, Spinea, Veneto\",\n",
      "        \"latitude\": 45.4926514,\n",
      "        \"longitude\": 12.1613575\n",
      "      },\n",
      "      \"start_date\": \"2025-09-26T12:37:00Z\",\n",
      "      \"end_date\": \"2025-09-26T18:37:00Z\",\n",
      "      \"url\": \"https://example.com/veneto-events/355\"\n",
      "    },\n",
      "    {\n",
      "      \"id\": \"556\",\n",
      "      \"title\": \"Vicenza Music Event #356\",\n",
      "      \"category\": \"Music\",\n",
      "      \"description\": \"Seeking adventure in Vicenza? Look no further than this captivating music event at Palazzo Thiene. Fun and excitement are guaranteed!\",\n",
      "      \"city\": \"Vicenza\",\n",
      "      \"location\": {\n",
      "        \"venue\": \"Palazzo Thiene\",\n",
      "        \"address\": \"Palazzo Thiene, Vicenza, Veneto\",\n",
      "        \"latitude\": 45.5485908,\n",
      "        \"longitude\": 11.5457432\n",
      "      },\n",
      "      \"start_date\": \"2025-09-26T13:29:00Z\",\n",
      "      \"end_date\": \"2025-09-26T20:29:00Z\",\n",
      "      \"url\": \"https://example.com/veneto-events/356\"\n",
      "    },\n",
      "    {\n",
      "      \"id\": \"557\",\n",
      "      \"title\": \"Feltre Arts & Crafts Event #357\",\n",
      "      \"category\": \"Arts & Crafts\",\n",
      "      \"description\": \"Unwind and enjoy a delightful arts & crafts experience in Feltre at the picturesque Chiesa di San Giacomo. Relax and take in the atmosphere.\",\n",
      "      \"city\": \"Feltre\",\n",
      "      \"location\": {\n",
      "        \"venue\": \"Chiesa di San Giacomo\",\n",
      "        \"address\": \"Chiesa di San Giacomo, Feltre, Veneto\",\n",
      "        \"latitude\": 46.0163755,\n",
      "        \"longitude\": 11.9062541\n",
      "      },\n",
      "      \"start_date\": \"2025-09-28T14:11:00Z\",\n",
      "      \"end_date\": \"2025-09-28T23:11:00Z\",\n",
      "      \"url\": \"https://example.com/veneto-events/357\"\n",
      "    },\n",
      "    {\n",
      "      \"id\": \"558\",\n",
      "      \"title\": \"Malcesine Exhibition Event #358\",\n",
      "      \"category\": \"Exhibition\",\n",
      "      \"description\": \"A unique exhibition opportunity awaits you in Malcesine. Join us at the charming Funivia Malcesine-Monte Baldo for an event designed to inspire and entertain.\",\n",
      "      \"city\": \"Malcesine\",\n",
      "      \"location\": {\n",
      "        \"venue\": \"Funivia Malcesine-Monte Baldo\",\n",
      "        \"address\": \"Funivia Malcesine-Monte Baldo, Malcesine, Veneto\",\n",
      "        \"latitude\": 45.7661246,\n",
      "        \"longitude\": 10.8132676\n",
      "      },\n",
      "      \"start_date\": \"2025-09-29T04:07:00Z\",\n",
      "      \"end_date\": \"2025-09-29T11:07:00Z\",\n",
      "      \"url\": \"https://example.com/veneto-events/358\"\n",
      "    },\n",
      "    {\n",
      "      \"id\": \"559\",\n",
      "      \"title\": \"Cortina d'Ampezzo Music Event #359\",\n",
      "      \"category\": \"Music\",\n",
      "      \"description\": \"Dive into the world of music at this exciting gathering in Cortina d'Ampezzo. Located at the renowned Lago di Pianozes, it's an event you won't want to miss.\",\n",
      "      \"city\": \"Cortina d'Ampezzo\",\n",
      "      \"location\": {\n",
      "        \"venue\": \"Lago di Pianozes\",\n",
      "        \"address\": \"Lago di Pianozes, Cortina d'Ampezzo, Veneto\",\n",
      "        \"latitude\": 46.5383332,\n",
      "        \"longitude\": 12.1373506\n",
      "      },\n",
      "      \"start_date\": \"2025-09-26T10:15:00Z\",\n",
      "      \"end_date\": \"2025-09-26T14:15:00Z\",\n",
      "      \"url\": \"https://example.com/veneto-events/359\"\n",
      "    },\n",
      "    {\n",
      "      \"id\": \"560\",\n",
      "      \"title\": \"Adria Festival Event #360\",\n",
      "      \"category\": \"Festival\",\n",
      "      \"description\": \"Immerse yourself in the rich culture of Adria with this engaging festival event at the iconic Palazzo Bocchi. It's the perfect way to spend your time.\",\n",
      "      \"city\": \"Adria\",\n",
      "      \"location\": {\n",
      "        \"venue\": \"Palazzo Bocchi\",\n",
      "        \"address\": \"Palazzo Bocchi, Adria, Veneto\",\n",
      "        \"latitude\": 45.0531228,\n",
      "        \"longitude\": 12.0572\n",
      "      },\n",
      "      \"start_date\": \"2025-09-28T00:11:00Z\",\n",
      "      \"end_date\": \"2025-09-28T01:11:00Z\",\n",
      "      \"url\": \"https://example.com/veneto-events/360\"\n",
      "    },\n",
      "    {\n",
      "      \"id\": \"561\",\n",
      "      \"title\": \"Feltre Conference Event #361\",\n",
      "      \"category\": \"Conference\",\n",
      "      \"description\": \"Step into a world of wonder at this extraordinary conference event in Feltre, held at the historic Palazzo della Magnifica Comunit\\u00e0. Prepare to be amazed!\",\n",
      "      \"city\": \"Feltre\",\n",
      "      \"location\": {\n",
      "        \"venue\": \"Palazzo della Magnifica Comunit\\u00e0\",\n",
      "        \"address\": \"Palazzo della Magnifica Comunit\\u00e0, Feltre, Veneto\",\n",
      "        \"latitude\": 46.0163755,\n",
      "        \"longitude\": 11.9062541\n",
      "      },\n",
      "      \"start_date\": \"2025-09-29T14:32:00Z\",\n",
      "      \"end_date\": \"2025-09-29T19:32:00Z\",\n",
      "      \"url\": \"https://example.com/veneto-events/361\"\n",
      "    },\n",
      "    {\n",
      "      \"id\": \"562\",\n",
      "      \"title\": \"Schio Food & Drink Event #362\",\n",
      "      \"category\": \"Food & Drink\",\n",
      "      \"description\": \"Prepare for an unforgettable food & drink experience in the stunning city of Schio, held at the magnificent Piazza Alessandro Rossi. This event promises to be a highlight of the season!\",\n",
      "      \"city\": \"Schio\",\n",
      "      \"location\": {\n",
      "        \"venue\": \"Piazza Alessandro Rossi\",\n",
      "        \"address\": \"Piazza Alessandro Rossi, Schio, Veneto\",\n",
      "        \"latitude\": 45.7143939,\n",
      "        \"longitude\": 11.3590481\n",
      "      },\n",
      "      \"start_date\": \"2025-09-26T05:44:00Z\",\n",
      "      \"end_date\": \"2025-09-26T08:44:00Z\",\n",
      "      \"url\": \"https://example.com/veneto-events/362\"\n",
      "    },\n",
      "    {\n",
      "      \"id\": \"563\",\n",
      "      \"title\": \"Asolo Theatre Event #363\",\n",
      "      \"category\": \"Theatre\",\n",
      "      \"description\": \"Dive into the world of theatre at this exciting gathering in Asolo. Located at the renowned Palazzo della Ragione, it's an event you won't want to miss.\",\n",
      "      \"city\": \"Asolo\",\n",
      "      \"location\": {\n",
      "        \"venue\": \"Palazzo della Ragione\",\n",
      "        \"address\": \"Palazzo della Ragione, Asolo, Veneto\",\n",
      "        \"latitude\": 45.8007265,\n",
      "        \"longitude\": 11.9142444\n",
      "      },\n",
      "      \"start_date\": \"2025-09-27T01:38:00Z\",\n",
      "      \"end_date\": \"2025-09-27T10:38:00Z\",\n",
      "      \"url\": \"https://example.com/veneto-events/363\"\n",
      "    },\n",
      "    {\n",
      "      \"id\": \"564\",\n",
      "      \"title\": \"Campolongo Maggiore Theatre Event #364\",\n",
      "      \"category\": \"Theatre\",\n",
      "      \"description\": \"Immerse yourself in the rich culture of Campolongo Maggiore with this engaging theatre event at the iconic Villa Manin. It's the perfect way to spend your time.\",\n",
      "      \"city\": \"Campolongo Maggiore\",\n",
      "      \"location\": {\n",
      "        \"venue\": \"Villa Manin\",\n",
      "        \"address\": \"Villa Manin, Campolongo Maggiore, Veneto\",\n",
      "        \"latitude\": 45.3305355,\n",
      "        \"longitude\": 12.0483135\n",
      "      },\n",
      "      \"start_date\": \"2025-09-28T11:19:00Z\",\n",
      "      \"end_date\": \"2025-09-28T14:19:00Z\",\n",
      "      \"url\": \"https://example.com/veneto-events/364\"\n",
      "    },\n",
      "    {\n",
      "      \"id\": \"565\",\n",
      "      \"title\": \"Legnago Theatre Event #365\",\n",
      "      \"category\": \"Theatre\",\n",
      "      \"description\": \"Dive into the world of theatre at this exciting gathering in Legnago. Located at the renowned Duomo di San Martino, it's an event you won't want to miss.\",\n",
      "      \"city\": \"Legnago\",\n",
      "      \"location\": {\n",
      "        \"venue\": \"Duomo di San Martino\",\n",
      "        \"address\": \"Duomo di San Martino, Legnago, Veneto\",\n",
      "        \"latitude\": 45.192498,\n",
      "        \"longitude\": 11.3111274\n",
      "      },\n",
      "      \"start_date\": \"2025-09-26T15:51:00Z\",\n",
      "      \"end_date\": \"2025-09-27T00:51:00Z\",\n",
      "      \"url\": \"https://example.com/veneto-events/365\"\n",
      "    },\n",
      "    {\n",
      "      \"id\": \"566\",\n",
      "      \"title\": \"Cortina d'Ampezzo Music Event #366\",\n",
      "      \"category\": \"Music\",\n",
      "      \"description\": \"Step into a world of wonder at this extraordinary music event in Cortina d'Ampezzo, held at the historic Golf Club Cortina. Prepare to be amazed!\",\n",
      "      \"city\": \"Cortina d'Ampezzo\",\n",
      "      \"location\": {\n",
      "        \"venue\": \"Golf Club Cortina\",\n",
      "        \"address\": \"Golf Club Cortina, Cortina d'Ampezzo, Veneto\",\n",
      "        \"latitude\": 46.5383332,\n",
      "        \"longitude\": 12.1373506\n",
      "      },\n",
      "      \"start_date\": \"2025-09-29T00:56:00Z\",\n",
      "      \"end_date\": \"2025-09-29T10:56:00Z\",\n",
      "      \"url\": \"https://example.com/veneto-events/366\"\n",
      "    },\n",
      "    {\n",
      "      \"id\": \"567\",\n",
      "      \"title\": \"Rovigo Festival Event #367\",\n",
      "      \"category\": \"Festival\",\n",
      "      \"description\": \"Dive into the world of festival at this exciting gathering in Rovigo. Located at the renowned Museo dei Grandi Fiumi, it's an event you won't want to miss.\",\n",
      "      \"city\": \"Rovigo\",\n",
      "      \"location\": {\n",
      "        \"venue\": \"Museo dei Grandi Fiumi\",\n",
      "        \"address\": \"Museo dei Grandi Fiumi, Rovigo, Veneto\",\n",
      "        \"latitude\": 45.0698166,\n",
      "        \"longitude\": 11.78882\n",
      "      },\n",
      "      \"start_date\": \"2025-09-27T23:46:00Z\",\n",
      "      \"end_date\": \"2025-09-28T05:46:00Z\",\n",
      "      \"url\": \"https://example.com/veneto-events/367\"\n",
      "    },\n",
      "    {\n",
      "      \"id\": \"568\",\n",
      "      \"title\": \"Mestre Exhibition Event #368\",\n",
      "      \"category\": \"Exhibition\",\n",
      "      \"description\": \"Immerse yourself in the rich culture of Mestre with this engaging exhibition event at the iconic Teatro Toniolo. It's the perfect way to spend your time.\",\n",
      "      \"city\": \"Mestre\",\n",
      "      \"location\": {\n",
      "        \"venue\": \"Teatro Toniolo\",\n",
      "        \"address\": \"Teatro Toniolo, Mestre, Veneto\",\n",
      "        \"latitude\": 45.4943063,\n",
      "        \"longitude\": 12.2418053\n",
      "      },\n",
      "      \"start_date\": \"2025-09-27T19:28:00Z\",\n",
      "      \"end_date\": \"2025-09-28T01:28:00Z\",\n",
      "      \"url\": \"https://example.com/veneto-events/368\"\n",
      "    },\n",
      "    {\n",
      "      \"id\": \"569\",\n",
      "      \"title\": \"Cavarzere Sport Event #369\",\n",
      "      \"category\": \"Sport\",\n",
      "      \"description\": \"Connect with fellow enthusiasts at this lively sport event in Cavarzere, taking place at the welcoming Villa Zennaro. Share your passion and make new friends.\",\n",
      "      \"city\": \"Cavarzere\",\n",
      "      \"location\": {\n",
      "        \"venue\": \"Villa Zennaro\",\n",
      "        \"address\": \"Villa Zennaro, Cavarzere, Veneto\",\n",
      "        \"latitude\": 45.1360987,\n",
      "        \"longitude\": 12.0812854\n",
      "      },\n",
      "      \"start_date\": \"2025-09-27T20:52:00Z\",\n",
      "      \"end_date\": \"2025-09-27T23:52:00Z\",\n",
      "      \"url\": \"https://example.com/veneto-events/369\"\n",
      "    },\n",
      "    {\n",
      "      \"id\": \"570\",\n",
      "      \"title\": \"Marostica Food & Drink Event #370\",\n",
      "      \"category\": \"Food & Drink\",\n",
      "      \"description\": \"A unique food & drink opportunity awaits you in Marostica. Join us at the charming Castello Inferiore for an event designed to inspire and entertain.\",\n",
      "      \"city\": \"Marostica\",\n",
      "      \"location\": {\n",
      "        \"venue\": \"Castello Inferiore\",\n",
      "        \"address\": \"Castello Inferiore, Marostica, Veneto\",\n",
      "        \"latitude\": 45.7453924,\n",
      "        \"longitude\": 11.6568938\n",
      "      },\n",
      "      \"start_date\": \"2025-09-29T06:31:00Z\",\n",
      "      \"end_date\": \"2025-09-29T15:31:00Z\",\n",
      "      \"url\": \"https://example.com/veneto-events/370\"\n",
      "    },\n",
      "    {\n",
      "      \"id\": \"571\",\n",
      "      \"title\": \"Borgo Valsugana Food & Drink Event #371\",\n",
      "      \"category\": \"Food & Drink\",\n",
      "      \"description\": \"Expand your horizons with this insightful food & drink event in Borgo Valsugana, hosted at the distinguished Piazza Degasperi. Learn something new and be inspired.\",\n",
      "      \"city\": \"Borgo Valsugana\",\n",
      "      \"location\": {\n",
      "        \"venue\": \"Piazza Degasperi\",\n",
      "        \"address\": \"Piazza Degasperi, Borgo Valsugana, Veneto\",\n",
      "        \"latitude\": null,\n",
      "        \"longitude\": null\n",
      "      },\n",
      "      \"start_date\": \"2025-09-28T12:06:00Z\",\n",
      "      \"end_date\": \"2025-09-28T22:06:00Z\",\n",
      "      \"url\": \"https://example.com/veneto-events/371\"\n",
      "    },\n",
      "    {\n",
      "      \"id\": \"572\",\n",
      "      \"title\": \"Valdagno Festival Event #372\",\n",
      "      \"category\": \"Festival\",\n",
      "      \"description\": \"Connect with fellow enthusiasts at this lively festival event in Valdagno, taking place at the welcoming Parco delle Traine. Share your passion and make new friends.\",\n",
      "      \"city\": \"Valdagno\",\n",
      "      \"location\": {\n",
      "        \"venue\": \"Parco delle Traine\",\n",
      "        \"address\": \"Parco delle Traine, Valdagno, Veneto\",\n",
      "        \"latitude\": 45.6413213,\n",
      "        \"longitude\": 11.3040596\n",
      "      },\n",
      "      \"start_date\": \"2025-09-27T12:25:00Z\",\n",
      "      \"end_date\": \"2025-09-27T20:25:00Z\",\n",
      "      \"url\": \"https://example.com/veneto-events/372\"\n",
      "    },\n",
      "    {\n",
      "      \"id\": \"573\",\n",
      "      \"title\": \"Adria Workshop Event #373\",\n",
      "      \"category\": \"Workshop\",\n",
      "      \"description\": \"Immerse yourself in the rich culture of Adria with this engaging workshop event at the iconic Museo della Cattedrale. It's the perfect way to spend your time.\",\n",
      "      \"city\": \"Adria\",\n",
      "      \"location\": {\n",
      "        \"venue\": \"Museo della Cattedrale\",\n",
      "        \"address\": \"Museo della Cattedrale, Adria, Veneto\",\n",
      "        \"latitude\": 45.0531228,\n",
      "        \"longitude\": 12.0572\n",
      "      },\n",
      "      \"start_date\": \"2025-09-28T22:39:00Z\",\n",
      "      \"end_date\": \"2025-09-29T08:39:00Z\",\n",
      "      \"url\": \"https://example.com/veneto-events/373\"\n",
      "    },\n",
      "    {\n",
      "      \"id\": \"574\",\n",
      "      \"title\": \"Este Theatre Event #374\",\n",
      "      \"category\": \"Theatre\",\n",
      "      \"description\": \"Connect with fellow enthusiasts at this lively theatre event in Este, taking place at the welcoming Villa Contarini. Share your passion and make new friends.\",\n",
      "      \"city\": \"Este\",\n",
      "      \"location\": {\n",
      "        \"venue\": \"Villa Contarini\",\n",
      "        \"address\": \"Villa Contarini, Este, Veneto\",\n",
      "        \"latitude\": 45.2240069,\n",
      "        \"longitude\": 11.659796\n",
      "      },\n",
      "      \"start_date\": \"2025-09-26T18:37:00Z\",\n",
      "      \"end_date\": \"2025-09-27T00:37:00Z\",\n",
      "      \"url\": \"https://example.com/veneto-events/374\"\n",
      "    },\n",
      "    {\n",
      "      \"id\": \"575\",\n",
      "      \"title\": \"Peschiera del Garda Exhibition Event #375\",\n",
      "      \"category\": \"Exhibition\",\n",
      "      \"description\": \"Expand your horizons with this insightful exhibition event in Peschiera del Garda, hosted at the distinguished Santuario della Madonna del Frassino. Learn something new and be inspired.\",\n",
      "      \"city\": \"Peschiera del Garda\",\n",
      "      \"location\": {\n",
      "        \"venue\": \"Santuario della Madonna del Frassino\",\n",
      "        \"address\": \"Santuario della Madonna del Frassino, Peschiera del Garda, Veneto\",\n",
      "        \"latitude\": 45.4389454,\n",
      "        \"longitude\": 10.6920171\n",
      "      },\n",
      "      \"start_date\": \"2025-09-27T12:44:00Z\",\n",
      "      \"end_date\": \"2025-09-27T15:44:00Z\",\n",
      "      \"url\": \"https://example.com/veneto-events/375\"\n",
      "    },\n",
      "    {\n",
      "      \"id\": \"576\",\n",
      "      \"title\": \"Bassano del Grappa Food & Drink Event #376\",\n",
      "      \"category\": \"Food & Drink\",\n",
      "      \"description\": \"Expand your horizons with this insightful food & drink event in Bassano del Grappa, hosted at the distinguished Chiesa di San Giovanni Battista. Learn something new and be inspired.\",\n",
      "      \"city\": \"Bassano del Grappa\",\n",
      "      \"location\": {\n",
      "        \"venue\": \"Chiesa di San Giovanni Battista\",\n",
      "        \"address\": \"Chiesa di San Giovanni Battista, Bassano del Grappa, Veneto\",\n",
      "        \"latitude\": 45.7669109,\n",
      "        \"longitude\": 11.7343469\n",
      "      },\n",
      "      \"start_date\": \"2025-09-28T21:59:00Z\",\n",
      "      \"end_date\": \"2025-09-29T00:59:00Z\",\n",
      "      \"url\": \"https://example.com/veneto-events/376\"\n",
      "    },\n",
      "    {\n",
      "      \"id\": \"577\",\n",
      "      \"title\": \"Mestre Arts & Crafts Event #377\",\n",
      "      \"category\": \"Arts & Crafts\",\n",
      "      \"description\": \"Step into a world of wonder at this extraordinary arts & crafts event in Mestre, held at the historic Centro Culturale Candiani. Prepare to be amazed!\",\n",
      "      \"city\": \"Mestre\",\n",
      "      \"location\": {\n",
      "        \"venue\": \"Centro Culturale Candiani\",\n",
      "        \"address\": \"Centro Culturale Candiani, Mestre, Veneto\",\n",
      "        \"latitude\": 45.4943063,\n",
      "        \"longitude\": 12.2418053\n",
      "      },\n",
      "      \"start_date\": \"2025-09-27T14:07:00Z\",\n",
      "      \"end_date\": \"2025-09-27T23:07:00Z\",\n",
      "      \"url\": \"https://example.com/veneto-events/377\"\n",
      "    },\n",
      "    {\n",
      "      \"id\": \"578\",\n",
      "      \"title\": \"Feltre Theatre Event #378\",\n",
      "      \"category\": \"Theatre\",\n",
      "      \"description\": \"Immerse yourself in the rich culture of Feltre with this engaging theatre event at the iconic Piazza Maggiore. It's the perfect way to spend your time.\",\n",
      "      \"city\": \"Feltre\",\n",
      "      \"location\": {\n",
      "        \"venue\": \"Piazza Maggiore\",\n",
      "        \"address\": \"Piazza Maggiore, Feltre, Veneto\",\n",
      "        \"latitude\": 46.0180937,\n",
      "        \"longitude\": 11.9103196\n",
      "      },\n",
      "      \"start_date\": \"2025-09-29T12:54:00Z\",\n",
      "      \"end_date\": \"2025-09-29T13:54:00Z\",\n",
      "      \"url\": \"https://example.com/veneto-events/378\"\n",
      "    },\n",
      "    {\n",
      "      \"id\": \"579\",\n",
      "      \"title\": \"Legnago Tour Event #379\",\n",
      "      \"category\": \"Tour\",\n",
      "      \"description\": \"Unwind and enjoy a delightful tour experience in Legnago at the picturesque Museo Fioroni. Relax and take in the atmosphere.\",\n",
      "      \"city\": \"Legnago\",\n",
      "      \"location\": {\n",
      "        \"venue\": \"Museo Fioroni\",\n",
      "        \"address\": \"Museo Fioroni, Legnago, Veneto\",\n",
      "        \"latitude\": 45.192498,\n",
      "        \"longitude\": 11.3111274\n",
      "      },\n",
      "      \"start_date\": \"2025-09-27T03:07:00Z\",\n",
      "      \"end_date\": \"2025-09-27T09:07:00Z\",\n",
      "      \"url\": \"https://example.com/veneto-events/379\"\n",
      "    },\n",
      "    {\n",
      "      \"id\": \"580\",\n",
      "      \"title\": \"Verona Festival Event #380\",\n",
      "      \"category\": \"Festival\",\n",
      "      \"description\": \"Explore the vibrant festival scene in Verona with this special event at Basilica of San Zeno. Get ready for a day filled with discovery and enjoyment.\",\n",
      "      \"city\": \"Verona\",\n",
      "      \"location\": {\n",
      "        \"venue\": \"Basilica of San Zeno\",\n",
      "        \"address\": \"Basilica of San Zeno, Verona, Veneto\",\n",
      "        \"latitude\": 45.4384958,\n",
      "        \"longitude\": 10.9924122\n",
      "      },\n",
      "      \"start_date\": \"2025-09-28T02:39:00Z\",\n",
      "      \"end_date\": \"2025-09-28T08:39:00Z\",\n",
      "      \"url\": \"https://example.com/veneto-events/380\"\n",
      "    },\n",
      "    {\n",
      "      \"id\": \"581\",\n",
      "      \"title\": \"Feltre Theatre Event #381\",\n",
      "      \"category\": \"Theatre\",\n",
      "      \"description\": \"Explore the vibrant theatre scene in Feltre with this special event at Castello di Feltre. Get ready for a day filled with discovery and enjoyment.\",\n",
      "      \"city\": \"Feltre\",\n",
      "      \"location\": {\n",
      "        \"venue\": \"Castello di Feltre\",\n",
      "        \"address\": \"Castello di Feltre, Feltre, Veneto\",\n",
      "        \"latitude\": 46.0163755,\n",
      "        \"longitude\": 11.9062541\n",
      "      },\n",
      "      \"start_date\": \"2025-09-29T13:00:00Z\",\n",
      "      \"end_date\": \"2025-09-29T19:00:00Z\",\n",
      "      \"url\": \"https://example.com/veneto-events/381\"\n",
      "    },\n",
      "    {\n",
      "      \"id\": \"582\",\n",
      "      \"title\": \"San Don\\u00e0 di Piave Conference Event #382\",\n",
      "      \"category\": \"Conference\",\n",
      "      \"description\": \"A unique conference opportunity awaits you in San Don\\u00e0 di Piave. Join us at the charming Museo della Bonifica for an event designed to inspire and entertain.\",\n",
      "      \"city\": \"San Don\\u00e0 di Piave\",\n",
      "      \"location\": {\n",
      "        \"venue\": \"Museo della Bonifica\",\n",
      "        \"address\": \"Museo della Bonifica, San Don\\u00e0 di Piave, Veneto\",\n",
      "        \"latitude\": 45.6294811,\n",
      "        \"longitude\": 12.5641057\n",
      "      },\n",
      "      \"start_date\": \"2025-09-26T05:23:00Z\",\n",
      "      \"end_date\": \"2025-09-26T14:23:00Z\",\n",
      "      \"url\": \"https://example.com/veneto-events/382\"\n",
      "    },\n",
      "    {\n",
      "      \"id\": \"583\",\n",
      "      \"title\": \"Adria Food & Drink Event #383\",\n",
      "      \"category\": \"Food & Drink\",\n",
      "      \"description\": \"Step into a world of wonder at this extraordinary food & drink event in Adria, held at the historic Museo della Cattedrale. Prepare to be amazed!\",\n",
      "      \"city\": \"Adria\",\n",
      "      \"location\": {\n",
      "        \"venue\": \"Museo della Cattedrale\",\n",
      "        \"address\": \"Museo della Cattedrale, Adria, Veneto\",\n",
      "        \"latitude\": 45.0531228,\n",
      "        \"longitude\": 12.0572\n",
      "      },\n",
      "      \"start_date\": \"2025-09-29T12:52:00Z\",\n",
      "      \"end_date\": \"2025-09-29T17:52:00Z\",\n",
      "      \"url\": \"https://example.com/veneto-events/383\"\n",
      "    },\n",
      "    {\n",
      "      \"id\": \"584\",\n",
      "      \"title\": \"Malcesine Food & Drink Event #384\",\n",
      "      \"category\": \"Food & Drink\",\n",
      "      \"description\": \"Unwind and enjoy a delightful food & drink experience in Malcesine at the picturesque Castello Scaligero di Malcesine. Relax and take in the atmosphere.\",\n",
      "      \"city\": \"Malcesine\",\n",
      "      \"location\": {\n",
      "        \"venue\": \"Castello Scaligero di Malcesine\",\n",
      "        \"address\": \"Castello Scaligero di Malcesine, Malcesine, Veneto\",\n",
      "        \"latitude\": 45.7643442,\n",
      "        \"longitude\": 10.8100598\n",
      "      },\n",
      "      \"start_date\": \"2025-09-27T07:02:00Z\",\n",
      "      \"end_date\": \"2025-09-27T08:02:00Z\",\n",
      "      \"url\": \"https://example.com/veneto-events/384\"\n",
      "    },\n",
      "    {\n",
      "      \"id\": \"585\",\n",
      "      \"title\": \"Lazise Arts & Crafts Event #385\",\n",
      "      \"category\": \"Arts & Crafts\",\n",
      "      \"description\": \"Immerse yourself in the rich culture of Lazise with this engaging arts & crafts event at the iconic Museo del Castello. It's the perfect way to spend your time.\",\n",
      "      \"city\": \"Lazise\",\n",
      "      \"location\": {\n",
      "        \"venue\": \"Museo del Castello\",\n",
      "        \"address\": \"Museo del Castello, Lazise, Veneto\",\n",
      "        \"latitude\": 45.5052005,\n",
      "        \"longitude\": 10.7330245\n",
      "      },\n",
      "      \"start_date\": \"2025-09-29T02:16:00Z\",\n",
      "      \"end_date\": \"2025-09-29T03:16:00Z\",\n",
      "      \"url\": \"https://example.com/veneto-events/385\"\n",
      "    },\n",
      "    {\n",
      "      \"id\": \"586\",\n",
      "      \"title\": \"Mestre Workshop Event #386\",\n",
      "      \"category\": \"Workshop\",\n",
      "      \"description\": \"Connect with fellow enthusiasts at this lively workshop event in Mestre, taking place at the welcoming Galleria Matteotti. Share your passion and make new friends.\",\n",
      "      \"city\": \"Mestre\",\n",
      "      \"location\": {\n",
      "        \"venue\": \"Galleria Matteotti\",\n",
      "        \"address\": \"Galleria Matteotti, Mestre, Veneto\",\n",
      "        \"latitude\": 45.4930827,\n",
      "        \"longitude\": 12.239705\n",
      "      },\n",
      "      \"start_date\": \"2025-09-29T16:33:00Z\",\n",
      "      \"end_date\": \"2025-09-30T00:00:00Z\",\n",
      "      \"url\": \"https://example.com/veneto-events/386\"\n",
      "    },\n",
      "    {\n",
      "      \"id\": \"587\",\n",
      "      \"title\": \"Mestre Theatre Event #387\",\n",
      "      \"category\": \"Theatre\",\n",
      "      \"description\": \"Prepare for an unforgettable theatre experience in the stunning city of Mestre, held at the magnificent Parco Albanese. This event promises to be a highlight of the season!\",\n",
      "      \"city\": \"Mestre\",\n",
      "      \"location\": {\n",
      "        \"venue\": \"Parco Albanese\",\n",
      "        \"address\": \"Parco Albanese, Mestre, Veneto\",\n",
      "        \"latitude\": 45.4943063,\n",
      "        \"longitude\": 12.2418053\n",
      "      },\n",
      "      \"start_date\": \"2025-09-27T21:37:00Z\",\n",
      "      \"end_date\": \"2025-09-28T05:37:00Z\",\n",
      "      \"url\": \"https://example.com/veneto-events/387\"\n",
      "    },\n",
      "    {\n",
      "      \"id\": \"588\",\n",
      "      \"title\": \"Padua Food & Drink Event #388\",\n",
      "      \"category\": \"Food & Drink\",\n",
      "      \"description\": \"Seeking adventure in Padua? Look no further than this captivating food & drink event at Orto Botanico. Fun and excitement are guaranteed!\",\n",
      "      \"city\": \"Padua\",\n",
      "      \"location\": {\n",
      "        \"venue\": \"Orto Botanico\",\n",
      "        \"address\": \"Orto Botanico, Padua, Veneto\",\n",
      "        \"latitude\": 45.3995319,\n",
      "        \"longitude\": 11.879673\n",
      "      },\n",
      "      \"start_date\": \"2025-09-26T07:04:00Z\",\n",
      "      \"end_date\": \"2025-09-26T09:04:00Z\",\n",
      "      \"url\": \"https://example.com/veneto-events/388\"\n",
      "    },\n",
      "    {\n",
      "      \"id\": \"589\",\n",
      "      \"title\": \"Campolongo Maggiore Festival Event #389\",\n",
      "      \"category\": \"Festival\",\n",
      "      \"description\": \"Immerse yourself in the rich culture of Campolongo Maggiore with this engaging festival event at the iconic Piazza Municipio. It's the perfect way to spend your time.\",\n",
      "      \"city\": \"Campolongo Maggiore\",\n",
      "      \"location\": {\n",
      "        \"venue\": \"Piazza Municipio\",\n",
      "        \"address\": \"Piazza Municipio, Campolongo Maggiore, Veneto\",\n",
      "        \"latitude\": 45.3305355,\n",
      "        \"longitude\": 12.0483135\n",
      "      },\n",
      "      \"start_date\": \"2025-09-26T18:24:00Z\",\n",
      "      \"end_date\": \"2025-09-27T02:24:00Z\",\n",
      "      \"url\": \"https://example.com/veneto-events/389\"\n",
      "    },\n",
      "    {\n",
      "      \"id\": \"590\",\n",
      "      \"title\": \"Asolo Tour Event #390\",\n",
      "      \"category\": \"Tour\",\n",
      "      \"description\": \"Immerse yourself in the rich culture of Asolo with this engaging tour event at the iconic Villa Freya. It's the perfect way to spend your time.\",\n",
      "      \"city\": \"Asolo\",\n",
      "      \"location\": {\n",
      "        \"venue\": \"Villa Freya\",\n",
      "        \"address\": \"Villa Freya, Asolo, Veneto\",\n",
      "        \"latitude\": 45.8007265,\n",
      "        \"longitude\": 11.9142444\n",
      "      },\n",
      "      \"start_date\": \"2025-09-28T00:07:00Z\",\n",
      "      \"end_date\": \"2025-09-28T07:07:00Z\",\n",
      "      \"url\": \"https://example.com/veneto-events/390\"\n",
      "    },\n",
      "    {\n",
      "      \"id\": \"591\",\n",
      "      \"title\": \"Noale Food & Drink Event #391\",\n",
      "      \"category\": \"Food & Drink\",\n",
      "      \"description\": \"Immerse yourself in the rich culture of Noale with this engaging food & drink event at the iconic Duomo di Noale. It's the perfect way to spend your time.\",\n",
      "      \"city\": \"Noale\",\n",
      "      \"location\": {\n",
      "        \"venue\": \"Duomo di Noale\",\n",
      "        \"address\": \"Duomo di Noale, Noale, Veneto\",\n",
      "        \"latitude\": 45.550156,\n",
      "        \"longitude\": 12.0720437\n",
      "      },\n",
      "      \"start_date\": \"2025-09-29T11:41:00Z\",\n",
      "      \"end_date\": \"2025-09-29T20:41:00Z\",\n",
      "      \"url\": \"https://example.com/veneto-events/391\"\n",
      "    },\n",
      "    {\n",
      "      \"id\": \"592\",\n",
      "      \"title\": \"Malcesine Tour Event #392\",\n",
      "      \"category\": \"Tour\",\n",
      "      \"description\": \"Expand your horizons with this insightful tour event in Malcesine, hosted at the distinguished Museo del Lago. Learn something new and be inspired.\",\n",
      "      \"city\": \"Malcesine\",\n",
      "      \"location\": {\n",
      "        \"venue\": \"Museo del Lago\",\n",
      "        \"address\": \"Museo del Lago, Malcesine, Veneto\",\n",
      "        \"latitude\": 45.7643442,\n",
      "        \"longitude\": 10.8100598\n",
      "      },\n",
      "      \"start_date\": \"2025-09-26T16:21:00Z\",\n",
      "      \"end_date\": \"2025-09-26T23:21:00Z\",\n",
      "      \"url\": \"https://example.com/veneto-events/392\"\n",
      "    },\n",
      "    {\n",
      "      \"id\": \"593\",\n",
      "      \"title\": \"Este Festival Event #393\",\n",
      "      \"category\": \"Festival\",\n",
      "      \"description\": \"Explore the vibrant festival scene in Este with this special event at Basilica di Sant'Andrea. Get ready for a day filled with discovery and enjoyment.\",\n",
      "      \"city\": \"Este\",\n",
      "      \"location\": {\n",
      "        \"venue\": \"Basilica di Sant'Andrea\",\n",
      "        \"address\": \"Basilica di Sant'Andrea, Este, Veneto\",\n",
      "        \"latitude\": 45.2240069,\n",
      "        \"longitude\": 11.659796\n",
      "      },\n",
      "      \"start_date\": \"2025-09-27T13:34:00Z\",\n",
      "      \"end_date\": \"2025-09-27T20:34:00Z\",\n",
      "      \"url\": \"https://example.com/veneto-events/393\"\n",
      "    },\n",
      "    {\n",
      "      \"id\": \"594\",\n",
      "      \"title\": \"San Vito di Cadore Exhibition Event #394\",\n",
      "      \"category\": \"Exhibition\",\n",
      "      \"description\": \"Step into a world of wonder at this extraordinary exhibition event in San Vito di Cadore, held at the historic Lago di Antorno. Prepare to be amazed!\",\n",
      "      \"city\": \"San Vito di Cadore\",\n",
      "      \"location\": {\n",
      "        \"venue\": \"Lago di Antorno\",\n",
      "        \"address\": \"Lago di Antorno, San Vito di Cadore, Veneto\",\n",
      "        \"latitude\": 46.458966,\n",
      "        \"longitude\": 12.2057415\n",
      "      },\n",
      "      \"start_date\": \"2025-09-27T05:04:00Z\",\n",
      "      \"end_date\": \"2025-09-27T09:04:00Z\",\n",
      "      \"url\": \"https://example.com/veneto-events/394\"\n",
      "    },\n",
      "    {\n",
      "      \"id\": \"595\",\n",
      "      \"title\": \"Cavarzere Exhibition Event #395\",\n",
      "      \"category\": \"Exhibition\",\n",
      "      \"description\": \"Unwind and enjoy a delightful exhibition experience in Cavarzere at the picturesque Chiesa di San Bartolomeo. Relax and take in the atmosphere.\",\n",
      "      \"city\": \"Cavarzere\",\n",
      "      \"location\": {\n",
      "        \"venue\": \"Chiesa di San Bartolomeo\",\n",
      "        \"address\": \"Chiesa di San Bartolomeo, Cavarzere, Veneto\",\n",
      "        \"latitude\": 45.1360987,\n",
      "        \"longitude\": 12.0812854\n",
      "      },\n",
      "      \"start_date\": \"2025-09-29T11:20:00Z\",\n",
      "      \"end_date\": \"2025-09-29T12:20:00Z\",\n",
      "      \"url\": \"https://example.com/veneto-events/395\"\n",
      "    },\n",
      "    {\n",
      "      \"id\": \"596\",\n",
      "      \"title\": \"Bassano del Grappa Sport Event #396\",\n",
      "      \"category\": \"Sport\",\n",
      "      \"description\": \"Step into a world of wonder at this extraordinary sport event in Bassano del Grappa, held at the historic Palazzo Agostinelli. Prepare to be amazed!\",\n",
      "      \"city\": \"Bassano del Grappa\",\n",
      "      \"location\": {\n",
      "        \"venue\": \"Palazzo Agostinelli\",\n",
      "        \"address\": \"Palazzo Agostinelli, Bassano del Grappa, Veneto\",\n",
      "        \"latitude\": 45.7669109,\n",
      "        \"longitude\": 11.7343469\n",
      "      },\n",
      "      \"start_date\": \"2025-09-27T09:57:00Z\",\n",
      "      \"end_date\": \"2025-09-27T11:57:00Z\",\n",
      "      \"url\": \"https://example.com/veneto-events/396\"\n",
      "    },\n",
      "    {\n",
      "      \"id\": \"597\",\n",
      "      \"title\": \"Peschiera del Garda Music Event #397\",\n",
      "      \"category\": \"Music\",\n",
      "      \"description\": \"Prepare for an unforgettable music experience in the stunning city of Peschiera del Garda, held at the magnificent Fortezza di Peschiera. This event promises to be a highlight of the season!\",\n",
      "      \"city\": \"Peschiera del Garda\",\n",
      "      \"location\": {\n",
      "        \"venue\": \"Fortezza di Peschiera\",\n",
      "        \"address\": \"Fortezza di Peschiera, Peschiera del Garda, Veneto\",\n",
      "        \"latitude\": 45.4389454,\n",
      "        \"longitude\": 10.6920171\n",
      "      },\n",
      "      \"start_date\": \"2025-09-29T18:06:00Z\",\n",
      "      \"end_date\": \"2025-09-30T00:00:00Z\",\n",
      "      \"url\": \"https://example.com/veneto-events/397\"\n",
      "    },\n",
      "    {\n",
      "      \"id\": \"598\",\n",
      "      \"title\": \"Arqu\\u00e0 Petrarca Music Event #398\",\n",
      "      \"category\": \"Music\",\n",
      "      \"description\": \"Step into a world of wonder at this extraordinary music event in Arqu\\u00e0 Petrarca, held at the historic Chiesa di Santa Maria Assunta. Prepare to be amazed!\",\n",
      "      \"city\": \"Arqu\\u00e0 Petrarca\",\n",
      "      \"location\": {\n",
      "        \"venue\": \"Chiesa di Santa Maria Assunta\",\n",
      "        \"address\": \"Chiesa di Santa Maria Assunta, Arqu\\u00e0 Petrarca, Veneto\",\n",
      "        \"latitude\": 45.2700441,\n",
      "        \"longitude\": 11.7165149\n",
      "      },\n",
      "      \"start_date\": \"2025-09-27T08:50:00Z\",\n",
      "      \"end_date\": \"2025-09-27T09:50:00Z\",\n",
      "      \"url\": \"https://example.com/veneto-events/398\"\n",
      "    },\n",
      "    {\n",
      "      \"id\": \"599\",\n",
      "      \"title\": \"Este Conference Event #399\",\n",
      "      \"category\": \"Conference\",\n",
      "      \"description\": \"Connect with fellow enthusiasts at this lively conference event in Este, taking place at the welcoming Chiesa di San Martino. Share your passion and make new friends.\",\n",
      "      \"city\": \"Este\",\n",
      "      \"location\": {\n",
      "        \"venue\": \"Chiesa di San Martino\",\n",
      "        \"address\": \"Chiesa di San Martino, Este, Veneto\",\n",
      "        \"latitude\": 45.2240069,\n",
      "        \"longitude\": 11.659796\n",
      "      },\n",
      "      \"start_date\": \"2025-09-28T12:33:00Z\",\n",
      "      \"end_date\": \"2025-09-28T17:33:00Z\",\n",
      "      \"url\": \"https://example.com/veneto-events/399\"\n",
      "    },\n",
      "    {\n",
      "      \"id\": \"600\",\n",
      "      \"title\": \"Verona Tour Event #400\",\n",
      "      \"category\": \"Tour\",\n",
      "      \"description\": \"Step into a world of wonder at this extraordinary tour event in Verona, held at the historic Roman Theatre. Prepare to be amazed!\",\n",
      "      \"city\": \"Verona\",\n",
      "      \"location\": {\n",
      "        \"venue\": \"Roman Theatre\",\n",
      "        \"address\": \"Roman Theatre, Verona, Veneto\",\n",
      "        \"latitude\": 45.4384958,\n",
      "        \"longitude\": 10.9924122\n",
      "      },\n",
      "      \"start_date\": \"2025-09-29T05:44:00Z\",\n",
      "      \"end_date\": \"2025-09-29T10:44:00Z\",\n",
      "      \"url\": \"https://example.com/veneto-events/400\"\n",
      "    },\n",
      "    {\n",
      "      \"id\": \"601\",\n",
      "      \"title\": \"Portogruaro Tour Event #401\",\n",
      "      \"category\": \"Tour\",\n",
      "      \"description\": \"Unwind and enjoy a delightful tour experience in Portogruaro at the picturesque Duomo di Portogruaro. Relax and take in the atmosphere.\",\n",
      "      \"city\": \"Portogruaro\",\n",
      "      \"location\": {\n",
      "        \"venue\": \"Duomo di Portogruaro\",\n",
      "        \"address\": \"Duomo di Portogruaro, Portogruaro, Veneto\",\n",
      "        \"latitude\": 45.7759899,\n",
      "        \"longitude\": 12.8378445\n",
      "      },\n",
      "      \"start_date\": \"2025-09-29T20:33:00Z\",\n",
      "      \"end_date\": \"2025-09-30T00:00:00Z\",\n",
      "      \"url\": \"https://example.com/veneto-events/401\"\n",
      "    },\n",
      "    {\n",
      "      \"id\": \"602\",\n",
      "      \"title\": \"San Don\\u00e0 di Piave Arts & Crafts Event #402\",\n",
      "      \"category\": \"Arts & Crafts\",\n",
      "      \"description\": \"Explore the vibrant arts & crafts scene in San Don\\u00e0 di Piave with this special event at Parco Fluviale. Get ready for a day filled with discovery and enjoyment.\",\n",
      "      \"city\": \"San Don\\u00e0 di Piave\",\n",
      "      \"location\": {\n",
      "        \"venue\": \"Parco Fluviale\",\n",
      "        \"address\": \"Parco Fluviale, San Don\\u00e0 di Piave, Veneto\",\n",
      "        \"latitude\": 45.6294811,\n",
      "        \"longitude\": 12.5641057\n",
      "      },\n",
      "      \"start_date\": \"2025-09-27T22:53:00Z\",\n",
      "      \"end_date\": \"2025-09-28T03:53:00Z\",\n",
      "      \"url\": \"https://example.com/veneto-events/402\"\n",
      "    },\n",
      "    {\n",
      "      \"id\": \"603\",\n",
      "      \"title\": \"Dolo Music Event #403\",\n",
      "      \"category\": \"Music\",\n",
      "      \"description\": \"Prepare for an unforgettable music experience in the stunning city of Dolo, held at the magnificent Piazza Cantiere. This event promises to be a highlight of the season!\",\n",
      "      \"city\": \"Dolo\",\n",
      "      \"location\": {\n",
      "        \"venue\": \"Piazza Cantiere\",\n",
      "        \"address\": \"Piazza Cantiere, Dolo, Veneto\",\n",
      "        \"latitude\": 45.4227,\n",
      "        \"longitude\": 12.0746013\n",
      "      },\n",
      "      \"start_date\": \"2025-09-26T22:02:00Z\",\n",
      "      \"end_date\": \"2025-09-27T08:02:00Z\",\n",
      "      \"url\": \"https://example.com/veneto-events/403\"\n",
      "    },\n",
      "    {\n",
      "      \"id\": \"604\",\n",
      "      \"title\": \"San Don\\u00e0 di Piave Theatre Event #404\",\n",
      "      \"category\": \"Theatre\",\n",
      "      \"description\": \"Step into a world of wonder at this extraordinary theatre event in San Don\\u00e0 di Piave, held at the historic Church of San Giovanni. Prepare to be amazed!\",\n",
      "      \"city\": \"San Don\\u00e0 di Piave\",\n",
      "      \"location\": {\n",
      "        \"venue\": \"Church of San Giovanni\",\n",
      "        \"address\": \"Church of San Giovanni, San Don\\u00e0 di Piave, Veneto\",\n",
      "        \"latitude\": 45.6294811,\n",
      "        \"longitude\": 12.5641057\n",
      "      },\n",
      "      \"start_date\": \"2025-09-29T13:19:00Z\",\n",
      "      \"end_date\": \"2025-09-29T21:19:00Z\",\n",
      "      \"url\": \"https://example.com/veneto-events/404\"\n",
      "    },\n",
      "    {\n",
      "      \"id\": \"605\",\n",
      "      \"title\": \"Castelfranco Veneto Sport Event #405\",\n",
      "      \"category\": \"Sport\",\n",
      "      \"description\": \"Immerse yourself in the rich culture of Castelfranco Veneto with this engaging sport event at the iconic Piazza Giorgione. It's the perfect way to spend your time.\",\n",
      "      \"city\": \"Castelfranco Veneto\",\n",
      "      \"location\": {\n",
      "        \"venue\": \"Piazza Giorgione\",\n",
      "        \"address\": \"Piazza Giorgione, Castelfranco Veneto, Veneto\",\n",
      "        \"latitude\": 45.6729185,\n",
      "        \"longitude\": 11.925768\n",
      "      },\n",
      "      \"start_date\": \"2025-09-27T22:02:00Z\",\n",
      "      \"end_date\": \"2025-09-28T07:02:00Z\",\n",
      "      \"url\": \"https://example.com/veneto-events/405\"\n",
      "    },\n",
      "    {\n",
      "      \"id\": \"606\",\n",
      "      \"title\": \"Monselice Tour Event #406\",\n",
      "      \"category\": \"Tour\",\n",
      "      \"description\": \"Explore the vibrant tour scene in Monselice with this special event at Chiesa di San Paolo. Get ready for a day filled with discovery and enjoyment.\",\n",
      "      \"city\": \"Monselice\",\n",
      "      \"location\": {\n",
      "        \"venue\": \"Chiesa di San Paolo\",\n",
      "        \"address\": \"Chiesa di San Paolo, Monselice, Veneto\",\n",
      "        \"latitude\": 45.2417684,\n",
      "        \"longitude\": 11.7508534\n",
      "      },\n",
      "      \"start_date\": \"2025-09-29T14:20:00Z\",\n",
      "      \"end_date\": \"2025-09-29T20:20:00Z\",\n",
      "      \"url\": \"https://example.com/veneto-events/406\"\n",
      "    },\n",
      "    {\n",
      "      \"id\": \"607\",\n",
      "      \"title\": \"Conegliano Sport Event #407\",\n",
      "      \"category\": \"Sport\",\n",
      "      \"description\": \"Seeking adventure in Conegliano? Look no further than this captivating sport event at Via XX Settembre. Fun and excitement are guaranteed!\",\n",
      "      \"city\": \"Conegliano\",\n",
      "      \"location\": {\n",
      "        \"venue\": \"Via XX Settembre\",\n",
      "        \"address\": \"Via XX Settembre, Conegliano, Veneto\",\n",
      "        \"latitude\": 45.8866045,\n",
      "        \"longitude\": 12.2968869\n",
      "      },\n",
      "      \"start_date\": \"2025-09-27T09:45:00Z\",\n",
      "      \"end_date\": \"2025-09-27T15:45:00Z\",\n",
      "      \"url\": \"https://example.com/veneto-events/407\"\n",
      "    },\n",
      "    {\n",
      "      \"id\": \"608\",\n",
      "      \"title\": \"Pedavena Music Event #408\",\n",
      "      \"category\": \"Music\",\n",
      "      \"description\": \"Explore the vibrant music scene in Pedavena with this special event at Chiesa di San Antonio. Get ready for a day filled with discovery and enjoyment.\",\n",
      "      \"city\": \"Pedavena\",\n",
      "      \"location\": {\n",
      "        \"venue\": \"Chiesa di San Antonio\",\n",
      "        \"address\": \"Chiesa di San Antonio, Pedavena, Veneto\",\n",
      "        \"latitude\": 46.0396242,\n",
      "        \"longitude\": 11.8804327\n",
      "      },\n",
      "      \"start_date\": \"2025-09-26T14:18:00Z\",\n",
      "      \"end_date\": \"2025-09-26T15:18:00Z\",\n",
      "      \"url\": \"https://example.com/veneto-events/408\"\n",
      "    },\n",
      "    {\n",
      "      \"id\": \"609\",\n",
      "      \"title\": \"Verona Food & Drink Event #409\",\n",
      "      \"category\": \"Food & Drink\",\n",
      "      \"description\": \"Explore the vibrant food & drink scene in Verona with this special event at Santa Anastasia Church. Get ready for a day filled with discovery and enjoyment.\",\n",
      "      \"city\": \"Verona\",\n",
      "      \"location\": {\n",
      "        \"venue\": \"Santa Anastasia Church\",\n",
      "        \"address\": \"Santa Anastasia Church, Verona, Veneto\",\n",
      "        \"latitude\": 45.4384958,\n",
      "        \"longitude\": 10.9924122\n",
      "      },\n",
      "      \"start_date\": \"2025-09-26T21:27:00Z\",\n",
      "      \"end_date\": \"2025-09-27T02:27:00Z\",\n",
      "      \"url\": \"https://example.com/veneto-events/409\"\n",
      "    },\n",
      "    {\n",
      "      \"id\": \"610\",\n",
      "      \"title\": \"Bassano del Grappa Tour Event #410\",\n",
      "      \"category\": \"Tour\",\n",
      "      \"description\": \"Explore the vibrant tour scene in Bassano del Grappa with this special event at Museo Civico. Get ready for a day filled with discovery and enjoyment.\",\n",
      "      \"city\": \"Bassano del Grappa\",\n",
      "      \"location\": {\n",
      "        \"venue\": \"Museo Civico\",\n",
      "        \"address\": \"Museo Civico, Bassano del Grappa, Veneto\",\n",
      "        \"latitude\": 45.7669109,\n",
      "        \"longitude\": 11.7343469\n",
      "      },\n",
      "      \"start_date\": \"2025-09-28T07:40:00Z\",\n",
      "      \"end_date\": \"2025-09-28T13:40:00Z\",\n",
      "      \"url\": \"https://example.com/veneto-events/410\"\n",
      "    },\n",
      "    {\n",
      "      \"id\": \"611\",\n",
      "      \"title\": \"Malcesine Exhibition Event #411\",\n",
      "      \"category\": \"Exhibition\",\n",
      "      \"description\": \"Unwind and enjoy a delightful exhibition experience in Malcesine at the picturesque Palazzo dei Capitani. Relax and take in the atmosphere.\",\n",
      "      \"city\": \"Malcesine\",\n",
      "      \"location\": {\n",
      "        \"venue\": \"Palazzo dei Capitani\",\n",
      "        \"address\": \"Palazzo dei Capitani, Malcesine, Veneto\",\n",
      "        \"latitude\": 45.7642401,\n",
      "        \"longitude\": 10.8070956\n",
      "      },\n",
      "      \"start_date\": \"2025-09-26T20:50:00Z\",\n",
      "      \"end_date\": \"2025-09-27T06:50:00Z\",\n",
      "      \"url\": \"https://example.com/veneto-events/411\"\n",
      "    },\n",
      "    {\n",
      "      \"id\": \"612\",\n",
      "      \"title\": \"Schio Festival Event #412\",\n",
      "      \"category\": \"Festival\",\n",
      "      \"description\": \"Unwind and enjoy a delightful festival experience in Schio at the picturesque Fabbrica Alta. Relax and take in the atmosphere.\",\n",
      "      \"city\": \"Schio\",\n",
      "      \"location\": {\n",
      "        \"venue\": \"Fabbrica Alta\",\n",
      "        \"address\": \"Fabbrica Alta, Schio, Veneto\",\n",
      "        \"latitude\": 45.7113511,\n",
      "        \"longitude\": 11.3553593\n",
      "      },\n",
      "      \"start_date\": \"2025-09-26T15:56:00Z\",\n",
      "      \"end_date\": \"2025-09-27T00:56:00Z\",\n",
      "      \"url\": \"https://example.com/veneto-events/412\"\n",
      "    },\n",
      "    {\n",
      "      \"id\": \"613\",\n",
      "      \"title\": \"Dolo Music Event #413\",\n",
      "      \"category\": \"Music\",\n",
      "      \"description\": \"Immerse yourself in the rich culture of Dolo with this engaging music event at the iconic Villa Jacur. It's the perfect way to spend your time.\",\n",
      "      \"city\": \"Dolo\",\n",
      "      \"location\": {\n",
      "        \"venue\": \"Villa Jacur\",\n",
      "        \"address\": \"Villa Jacur, Dolo, Veneto\",\n",
      "        \"latitude\": 45.4234356,\n",
      "        \"longitude\": 12.0743252\n",
      "      },\n",
      "      \"start_date\": \"2025-09-29T21:10:00Z\",\n",
      "      \"end_date\": \"2025-09-30T00:00:00Z\",\n",
      "      \"url\": \"https://example.com/veneto-events/413\"\n",
      "    },\n",
      "    {\n",
      "      \"id\": \"614\",\n",
      "      \"title\": \"San Don\\u00e0 di Piave Exhibition Event #414\",\n",
      "      \"category\": \"Exhibition\",\n",
      "      \"description\": \"Immerse yourself in the rich culture of San Don\\u00e0 di Piave with this engaging exhibition event at the iconic Parco Fluviale. It's the perfect way to spend your time.\",\n",
      "      \"city\": \"San Don\\u00e0 di Piave\",\n",
      "      \"location\": {\n",
      "        \"venue\": \"Parco Fluviale\",\n",
      "        \"address\": \"Parco Fluviale, San Don\\u00e0 di Piave, Veneto\",\n",
      "        \"latitude\": 45.6294811,\n",
      "        \"longitude\": 12.5641057\n",
      "      },\n",
      "      \"start_date\": \"2025-09-26T16:26:00Z\",\n",
      "      \"end_date\": \"2025-09-27T02:26:00Z\",\n",
      "      \"url\": \"https://example.com/veneto-events/414\"\n",
      "    },\n",
      "    {\n",
      "      \"id\": \"615\",\n",
      "      \"title\": \"Legnago Sport Event #415\",\n",
      "      \"category\": \"Sport\",\n",
      "      \"description\": \"Prepare for an unforgettable sport experience in the stunning city of Legnago, held at the magnificent Duomo di San Martino. This event promises to be a highlight of the season!\",\n",
      "      \"city\": \"Legnago\",\n",
      "      \"location\": {\n",
      "        \"venue\": \"Duomo di San Martino\",\n",
      "        \"address\": \"Duomo di San Martino, Legnago, Veneto\",\n",
      "        \"latitude\": 45.192498,\n",
      "        \"longitude\": 11.3111274\n",
      "      },\n",
      "      \"start_date\": \"2025-09-28T02:30:00Z\",\n",
      "      \"end_date\": \"2025-09-28T05:30:00Z\",\n",
      "      \"url\": \"https://example.com/veneto-events/415\"\n",
      "    },\n",
      "    {\n",
      "      \"id\": \"616\",\n",
      "      \"title\": \"Campolongo Maggiore Music Event #416\",\n",
      "      \"category\": \"Music\",\n",
      "      \"description\": \"Dive into the world of music at this exciting gathering in Campolongo Maggiore. Located at the renowned Villa Venier Contarini, it's an event you won't want to miss.\",\n",
      "      \"city\": \"Campolongo Maggiore\",\n",
      "      \"location\": {\n",
      "        \"venue\": \"Villa Venier Contarini\",\n",
      "        \"address\": \"Villa Venier Contarini, Campolongo Maggiore, Veneto\",\n",
      "        \"latitude\": 45.3305355,\n",
      "        \"longitude\": 12.0483135\n",
      "      },\n",
      "      \"start_date\": \"2025-09-26T01:03:00Z\",\n",
      "      \"end_date\": \"2025-09-26T02:03:00Z\",\n",
      "      \"url\": \"https://example.com/veneto-events/416\"\n",
      "    },\n",
      "    {\n",
      "      \"id\": \"617\",\n",
      "      \"title\": \"Castelfranco Veneto Conference Event #417\",\n",
      "      \"category\": \"Conference\",\n",
      "      \"description\": \"Connect with fellow enthusiasts at this lively conference event in Castelfranco Veneto, taking place at the welcoming Teatro Accademico. Share your passion and make new friends.\",\n",
      "      \"city\": \"Castelfranco Veneto\",\n",
      "      \"location\": {\n",
      "        \"venue\": \"Teatro Accademico\",\n",
      "        \"address\": \"Teatro Accademico, Castelfranco Veneto, Veneto\",\n",
      "        \"latitude\": 45.671139,\n",
      "        \"longitude\": 11.9265624\n",
      "      },\n",
      "      \"start_date\": \"2025-09-26T08:56:00Z\",\n",
      "      \"end_date\": \"2025-09-26T10:56:00Z\",\n",
      "      \"url\": \"https://example.com/veneto-events/417\"\n",
      "    },\n",
      "    {\n",
      "      \"id\": \"618\",\n",
      "      \"title\": \"Cavarzere Theatre Event #418\",\n",
      "      \"category\": \"Theatre\",\n",
      "      \"description\": \"Explore the vibrant theatre scene in Cavarzere with this special event at Chiesa di San Bartolomeo. Get ready for a day filled with discovery and enjoyment.\",\n",
      "      \"city\": \"Cavarzere\",\n",
      "      \"location\": {\n",
      "        \"venue\": \"Chiesa di San Bartolomeo\",\n",
      "        \"address\": \"Chiesa di San Bartolomeo, Cavarzere, Veneto\",\n",
      "        \"latitude\": 45.1360987,\n",
      "        \"longitude\": 12.0812854\n",
      "      },\n",
      "      \"start_date\": \"2025-09-29T10:02:00Z\",\n",
      "      \"end_date\": \"2025-09-29T15:02:00Z\",\n",
      "      \"url\": \"https://example.com/veneto-events/418\"\n",
      "    },\n",
      "    {\n",
      "      \"id\": \"619\",\n",
      "      \"title\": \"Legnago Exhibition Event #419\",\n",
      "      \"category\": \"Exhibition\",\n",
      "      \"description\": \"Connect with fellow enthusiasts at this lively exhibition event in Legnago, taking place at the welcoming Parco Comunale. Share your passion and make new friends.\",\n",
      "      \"city\": \"Legnago\",\n",
      "      \"location\": {\n",
      "        \"venue\": \"Parco Comunale\",\n",
      "        \"address\": \"Parco Comunale, Legnago, Veneto\",\n",
      "        \"latitude\": 45.192498,\n",
      "        \"longitude\": 11.3111274\n",
      "      },\n",
      "      \"start_date\": \"2025-09-27T17:50:00Z\",\n",
      "      \"end_date\": \"2025-09-28T00:50:00Z\",\n",
      "      \"url\": \"https://example.com/veneto-events/419\"\n",
      "    },\n",
      "    {\n",
      "      \"id\": \"620\",\n",
      "      \"title\": \"Chioggia Food & Drink Event #420\",\n",
      "      \"category\": \"Food & Drink\",\n",
      "      \"description\": \"Dive into the world of food & drink at this exciting gathering in Chioggia. Located at the renowned Museo Civico della Laguna Sud, it's an event you won't want to miss.\",\n",
      "      \"city\": \"Chioggia\",\n",
      "      \"location\": {\n",
      "        \"venue\": \"Museo Civico della Laguna Sud\",\n",
      "        \"address\": \"Museo Civico della Laguna Sud, Chioggia, Veneto\",\n",
      "        \"latitude\": 45.2152733,\n",
      "        \"longitude\": 12.2776619\n",
      "      },\n",
      "      \"start_date\": \"2025-09-26T20:50:00Z\",\n",
      "      \"end_date\": \"2025-09-27T06:50:00Z\",\n",
      "      \"url\": \"https://example.com/veneto-events/420\"\n",
      "    },\n",
      "    {\n",
      "      \"id\": \"621\",\n",
      "      \"title\": \"Bassano del Grappa Arts & Crafts Event #421\",\n",
      "      \"category\": \"Arts & Crafts\",\n",
      "      \"description\": \"Unwind and enjoy a delightful arts & crafts experience in Bassano del Grappa at the picturesque Ponte degli Alpini. Relax and take in the atmosphere.\",\n",
      "      \"city\": \"Bassano del Grappa\",\n",
      "      \"location\": {\n",
      "        \"venue\": \"Ponte degli Alpini\",\n",
      "        \"address\": \"Ponte degli Alpini, Bassano del Grappa, Veneto\",\n",
      "        \"latitude\": 45.7674953,\n",
      "        \"longitude\": 11.7311664\n",
      "      },\n",
      "      \"start_date\": \"2025-09-27T05:50:00Z\",\n",
      "      \"end_date\": \"2025-09-27T12:50:00Z\",\n",
      "      \"url\": \"https://example.com/veneto-events/421\"\n",
      "    },\n",
      "    {\n",
      "      \"id\": \"622\",\n",
      "      \"title\": \"Mestre Theatre Event #422\",\n",
      "      \"category\": \"Theatre\",\n",
      "      \"description\": \"Immerse yourself in the rich culture of Mestre with this engaging theatre event at the iconic Forte Marghera. It's the perfect way to spend your time.\",\n",
      "      \"city\": \"Mestre\",\n",
      "      \"location\": {\n",
      "        \"venue\": \"Forte Marghera\",\n",
      "        \"address\": \"Forte Marghera, Mestre, Veneto\",\n",
      "        \"latitude\": 45.4943063,\n",
      "        \"longitude\": 12.2418053\n",
      "      },\n",
      "      \"start_date\": \"2025-09-29T11:41:00Z\",\n",
      "      \"end_date\": \"2025-09-29T20:41:00Z\",\n",
      "      \"url\": \"https://example.com/veneto-events/422\"\n",
      "    },\n",
      "    {\n",
      "      \"id\": \"623\",\n",
      "      \"title\": \"Bassano del Grappa Workshop Event #423\",\n",
      "      \"category\": \"Workshop\",\n",
      "      \"description\": \"Connect with fellow enthusiasts at this lively workshop event in Bassano del Grappa, taking place at the welcoming Castello degli Ezzelini. Share your passion and make new friends.\",\n",
      "      \"city\": \"Bassano del Grappa\",\n",
      "      \"location\": {\n",
      "        \"venue\": \"Castello degli Ezzelini\",\n",
      "        \"address\": \"Castello degli Ezzelini, Bassano del Grappa, Veneto\",\n",
      "        \"latitude\": 45.7669109,\n",
      "        \"longitude\": 11.7343469\n",
      "      },\n",
      "      \"start_date\": \"2025-09-28T06:13:00Z\",\n",
      "      \"end_date\": \"2025-09-28T13:13:00Z\",\n",
      "      \"url\": \"https://example.com/veneto-events/423\"\n",
      "    },\n",
      "    {\n",
      "      \"id\": \"624\",\n",
      "      \"title\": \"Rovigo Sport Event #424\",\n",
      "      \"category\": \"Sport\",\n",
      "      \"description\": \"Unwind and enjoy a delightful sport experience in Rovigo at the picturesque Palazzo Roverella. Relax and take in the atmosphere.\",\n",
      "      \"city\": \"Rovigo\",\n",
      "      \"location\": {\n",
      "        \"venue\": \"Palazzo Roverella\",\n",
      "        \"address\": \"Palazzo Roverella, Rovigo, Veneto\",\n",
      "        \"latitude\": 45.0698166,\n",
      "        \"longitude\": 11.78882\n",
      "      },\n",
      "      \"start_date\": \"2025-09-27T09:50:00Z\",\n",
      "      \"end_date\": \"2025-09-27T16:50:00Z\",\n",
      "      \"url\": \"https://example.com/veneto-events/424\"\n",
      "    },\n",
      "    {\n",
      "      \"id\": \"625\",\n",
      "      \"title\": \"Chioggia Festival Event #425\",\n",
      "      \"category\": \"Festival\",\n",
      "      \"description\": \"Unwind and enjoy a delightful festival experience in Chioggia at the picturesque Cattedrale di Santa Maria Assunta. Relax and take in the atmosphere.\",\n",
      "      \"city\": \"Chioggia\",\n",
      "      \"location\": {\n",
      "        \"venue\": \"Cattedrale di Santa Maria Assunta\",\n",
      "        \"address\": \"Cattedrale di Santa Maria Assunta, Chioggia, Veneto\",\n",
      "        \"latitude\": 45.218894,\n",
      "        \"longitude\": 12.2785805\n",
      "      },\n",
      "      \"start_date\": \"2025-09-27T17:25:00Z\",\n",
      "      \"end_date\": \"2025-09-28T03:25:00Z\",\n",
      "      \"url\": \"https://example.com/veneto-events/425\"\n",
      "    },\n",
      "    {\n",
      "      \"id\": \"626\",\n",
      "      \"title\": \"Noale Food & Drink Event #426\",\n",
      "      \"category\": \"Food & Drink\",\n",
      "      \"description\": \"A unique food & drink opportunity awaits you in Noale. Join us at the charming Piazza Castello for an event designed to inspire and entertain.\",\n",
      "      \"city\": \"Noale\",\n",
      "      \"location\": {\n",
      "        \"venue\": \"Piazza Castello\",\n",
      "        \"address\": \"Piazza Castello, Noale, Veneto\",\n",
      "        \"latitude\": 45.5505965,\n",
      "        \"longitude\": 12.0701089\n",
      "      },\n",
      "      \"start_date\": \"2025-09-26T07:06:00Z\",\n",
      "      \"end_date\": \"2025-09-26T17:06:00Z\",\n",
      "      \"url\": \"https://example.com/veneto-events/426\"\n",
      "    },\n",
      "    {\n",
      "      \"id\": \"627\",\n",
      "      \"title\": \"Este Festival Event #427\",\n",
      "      \"category\": \"Festival\",\n",
      "      \"description\": \"Unwind and enjoy a delightful festival experience in Este at the picturesque Villa Contarini. Relax and take in the atmosphere.\",\n",
      "      \"city\": \"Este\",\n",
      "      \"location\": {\n",
      "        \"venue\": \"Villa Contarini\",\n",
      "        \"address\": \"Villa Contarini, Este, Veneto\",\n",
      "        \"latitude\": 45.2240069,\n",
      "        \"longitude\": 11.659796\n",
      "      },\n",
      "      \"start_date\": \"2025-09-26T14:26:00Z\",\n",
      "      \"end_date\": \"2025-09-26T20:26:00Z\",\n",
      "      \"url\": \"https://example.com/veneto-events/427\"\n",
      "    },\n",
      "    {\n",
      "      \"id\": \"628\",\n",
      "      \"title\": \"Mestre Food & Drink Event #428\",\n",
      "      \"category\": \"Food & Drink\",\n",
      "      \"description\": \"Prepare for an unforgettable food & drink experience in the stunning city of Mestre, held at the magnificent Torre dell'Orologio. This event promises to be a highlight of the season!\",\n",
      "      \"city\": \"Mestre\",\n",
      "      \"location\": {\n",
      "        \"venue\": \"Torre dell'Orologio\",\n",
      "        \"address\": \"Torre dell'Orologio, Mestre, Veneto\",\n",
      "        \"latitude\": 45.4943063,\n",
      "        \"longitude\": 12.2418053\n",
      "      },\n",
      "      \"start_date\": \"2025-09-28T20:16:00Z\",\n",
      "      \"end_date\": \"2025-09-29T05:16:00Z\",\n",
      "      \"url\": \"https://example.com/veneto-events/428\"\n",
      "    },\n",
      "    {\n",
      "      \"id\": \"629\",\n",
      "      \"title\": \"Chioggia Music Event #429\",\n",
      "      \"category\": \"Music\",\n",
      "      \"description\": \"A unique music opportunity awaits you in Chioggia. Join us at the charming Torre dell'Orologio for an event designed to inspire and entertain.\",\n",
      "      \"city\": \"Chioggia\",\n",
      "      \"location\": {\n",
      "        \"venue\": \"Torre dell'Orologio\",\n",
      "        \"address\": \"Torre dell'Orologio, Chioggia, Veneto\",\n",
      "        \"latitude\": 45.218894,\n",
      "        \"longitude\": 12.2785805\n",
      "      },\n",
      "      \"start_date\": \"2025-09-26T14:53:00Z\",\n",
      "      \"end_date\": \"2025-09-26T17:53:00Z\",\n",
      "      \"url\": \"https://example.com/veneto-events/429\"\n",
      "    },\n",
      "    {\n",
      "      \"id\": \"630\",\n",
      "      \"title\": \"Monselice Food & Drink Event #430\",\n",
      "      \"category\": \"Food & Drink\",\n",
      "      \"description\": \"Step into a world of wonder at this extraordinary food & drink event in Monselice, held at the historic Villa Duodo. Prepare to be amazed!\",\n",
      "      \"city\": \"Monselice\",\n",
      "      \"location\": {\n",
      "        \"venue\": \"Villa Duodo\",\n",
      "        \"address\": \"Villa Duodo, Monselice, Veneto\",\n",
      "        \"latitude\": 45.2417684,\n",
      "        \"longitude\": 11.7508534\n",
      "      },\n",
      "      \"start_date\": \"2025-09-28T23:27:00Z\",\n",
      "      \"end_date\": \"2025-09-29T00:27:00Z\",\n",
      "      \"url\": \"https://example.com/veneto-events/430\"\n",
      "    },\n",
      "    {\n",
      "      \"id\": \"631\",\n",
      "      \"title\": \"Feltre Festival Event #431\",\n",
      "      \"category\": \"Festival\",\n",
      "      \"description\": \"Seeking adventure in Feltre? Look no further than this captivating festival event at Cattedrale di San Pietro Apostolo. Fun and excitement are guaranteed!\",\n",
      "      \"city\": \"Feltre\",\n",
      "      \"location\": {\n",
      "        \"venue\": \"Cattedrale di San Pietro Apostolo\",\n",
      "        \"address\": \"Cattedrale di San Pietro Apostolo, Feltre, Veneto\",\n",
      "        \"latitude\": 46.0163755,\n",
      "        \"longitude\": 11.9062541\n",
      "      },\n",
      "      \"start_date\": \"2025-09-28T09:35:00Z\",\n",
      "      \"end_date\": \"2025-09-28T16:35:00Z\",\n",
      "      \"url\": \"https://example.com/veneto-events/431\"\n",
      "    },\n",
      "    {\n",
      "      \"id\": \"632\",\n",
      "      \"title\": \"Portogruaro Conference Event #432\",\n",
      "      \"category\": \"Conference\",\n",
      "      \"description\": \"Unwind and enjoy a delightful conference experience in Portogruaro at the picturesque Piazza della Repubblica. Relax and take in the atmosphere.\",\n",
      "      \"city\": \"Portogruaro\",\n",
      "      \"location\": {\n",
      "        \"venue\": \"Piazza della Repubblica\",\n",
      "        \"address\": \"Piazza della Repubblica, Portogruaro, Veneto\",\n",
      "        \"latitude\": 45.7755764,\n",
      "        \"longitude\": 12.8376743\n",
      "      },\n",
      "      \"start_date\": \"2025-09-27T09:23:00Z\",\n",
      "      \"end_date\": \"2025-09-27T10:23:00Z\",\n",
      "      \"url\": \"https://example.com/veneto-events/432\"\n",
      "    },\n",
      "    {\n",
      "      \"id\": \"633\",\n",
      "      \"title\": \"Pedavena Tour Event #433\",\n",
      "      \"category\": \"Tour\",\n",
      "      \"description\": \"Explore the vibrant tour scene in Pedavena with this special event at Villa Pasolini dall\\u2019Onda. Get ready for a day filled with discovery and enjoyment.\",\n",
      "      \"city\": \"Pedavena\",\n",
      "      \"location\": {\n",
      "        \"venue\": \"Villa Pasolini dall\\u2019Onda\",\n",
      "        \"address\": \"Villa Pasolini dall\\u2019Onda, Pedavena, Veneto\",\n",
      "        \"latitude\": 46.0396242,\n",
      "        \"longitude\": 11.8804327\n",
      "      },\n",
      "      \"start_date\": \"2025-09-29T18:51:00Z\",\n",
      "      \"end_date\": \"2025-09-29T21:51:00Z\",\n",
      "      \"url\": \"https://example.com/veneto-events/433\"\n",
      "    },\n",
      "    {\n",
      "      \"id\": \"634\",\n",
      "      \"title\": \"Mirano Workshop Event #434\",\n",
      "      \"category\": \"Workshop\",\n",
      "      \"description\": \"Dive into the world of workshop at this exciting gathering in Mirano. Located at the renowned Parco Belvedere, it's an event you won't want to miss.\",\n",
      "      \"city\": \"Mirano\",\n",
      "      \"location\": {\n",
      "        \"venue\": \"Parco Belvedere\",\n",
      "        \"address\": \"Parco Belvedere, Mirano, Veneto\",\n",
      "        \"latitude\": 45.4927695,\n",
      "        \"longitude\": 12.1098768\n",
      "      },\n",
      "      \"start_date\": \"2025-09-26T09:18:00Z\",\n",
      "      \"end_date\": \"2025-09-26T13:18:00Z\",\n",
      "      \"url\": \"https://example.com/veneto-events/434\"\n",
      "    },\n",
      "    {\n",
      "      \"id\": \"635\",\n",
      "      \"title\": \"Valdagno Conference Event #435\",\n",
      "      \"category\": \"Conference\",\n",
      "      \"description\": \"A unique conference opportunity awaits you in Valdagno. Join us at the charming Villa Valle for an event designed to inspire and entertain.\",\n",
      "      \"city\": \"Valdagno\",\n",
      "      \"location\": {\n",
      "        \"venue\": \"Villa Valle\",\n",
      "        \"address\": \"Villa Valle, Valdagno, Veneto\",\n",
      "        \"latitude\": 45.6413213,\n",
      "        \"longitude\": 11.3040596\n",
      "      },\n",
      "      \"start_date\": \"2025-09-26T19:38:00Z\",\n",
      "      \"end_date\": \"2025-09-26T22:38:00Z\",\n",
      "      \"url\": \"https://example.com/veneto-events/435\"\n",
      "    },\n",
      "    {\n",
      "      \"id\": \"636\",\n",
      "      \"title\": \"Monselice Workshop Event #436\",\n",
      "      \"category\": \"Workshop\",\n",
      "      \"description\": \"Prepare for an unforgettable workshop experience in the stunning city of Monselice, held at the magnificent Castello di Monselice. This event promises to be a highlight of the season!\",\n",
      "      \"city\": \"Monselice\",\n",
      "      \"location\": {\n",
      "        \"venue\": \"Castello di Monselice\",\n",
      "        \"address\": \"Castello di Monselice, Monselice, Veneto\",\n",
      "        \"latitude\": 45.2447718,\n",
      "        \"longitude\": 11.7532391\n",
      "      },\n",
      "      \"start_date\": \"2025-09-26T13:57:00Z\",\n",
      "      \"end_date\": \"2025-09-26T23:57:00Z\",\n",
      "      \"url\": \"https://example.com/veneto-events/436\"\n",
      "    },\n",
      "    {\n",
      "      \"id\": \"637\",\n",
      "      \"title\": \"Mirano Festival Event #437\",\n",
      "      \"category\": \"Festival\",\n",
      "      \"description\": \"Explore the vibrant festival scene in Mirano with this special event at Villa Erizzo. Get ready for a day filled with discovery and enjoyment.\",\n",
      "      \"city\": \"Mirano\",\n",
      "      \"location\": {\n",
      "        \"venue\": \"Villa Erizzo\",\n",
      "        \"address\": \"Villa Erizzo, Mirano, Veneto\",\n",
      "        \"latitude\": 45.4927695,\n",
      "        \"longitude\": 12.1098768\n",
      "      },\n",
      "      \"start_date\": \"2025-09-26T20:12:00Z\",\n",
      "      \"end_date\": \"2025-09-27T04:12:00Z\",\n",
      "      \"url\": \"https://example.com/veneto-events/437\"\n",
      "    },\n",
      "    {\n",
      "      \"id\": \"638\",\n",
      "      \"title\": \"Vittorio Veneto Theatre Event #438\",\n",
      "      \"category\": \"Theatre\",\n",
      "      \"description\": \"Dive into the world of theatre at this exciting gathering in Vittorio Veneto. Located at the renowned Parco della Vittoria, it's an event you won't want to miss.\",\n",
      "      \"city\": \"Vittorio Veneto\",\n",
      "      \"location\": {\n",
      "        \"venue\": \"Parco della Vittoria\",\n",
      "        \"address\": \"Parco della Vittoria, Vittorio Veneto, Veneto\",\n",
      "        \"latitude\": 45.9897826,\n",
      "        \"longitude\": 12.2957596\n",
      "      },\n",
      "      \"start_date\": \"2025-09-28T14:17:00Z\",\n",
      "      \"end_date\": \"2025-09-28T18:17:00Z\",\n",
      "      \"url\": \"https://example.com/veneto-events/438\"\n",
      "    },\n",
      "    {\n",
      "      \"id\": \"639\",\n",
      "      \"title\": \"Feltre Workshop Event #439\",\n",
      "      \"category\": \"Workshop\",\n",
      "      \"description\": \"Expand your horizons with this insightful workshop event in Feltre, hosted at the distinguished Cattedrale di San Pietro Apostolo. Learn something new and be inspired.\",\n",
      "      \"city\": \"Feltre\",\n",
      "      \"location\": {\n",
      "        \"venue\": \"Cattedrale di San Pietro Apostolo\",\n",
      "        \"address\": \"Cattedrale di San Pietro Apostolo, Feltre, Veneto\",\n",
      "        \"latitude\": 46.0163755,\n",
      "        \"longitude\": 11.9062541\n",
      "      },\n",
      "      \"start_date\": \"2025-09-28T19:05:00Z\",\n",
      "      \"end_date\": \"2025-09-29T02:05:00Z\",\n",
      "      \"url\": \"https://example.com/veneto-events/439\"\n",
      "    },\n",
      "    {\n",
      "      \"id\": \"640\",\n",
      "      \"title\": \"Malcesine Arts & Crafts Event #440\",\n",
      "      \"category\": \"Arts & Crafts\",\n",
      "      \"description\": \"Unwind and enjoy a delightful arts & crafts experience in Malcesine at the picturesque Palazzo dei Capitani. Relax and take in the atmosphere.\",\n",
      "      \"city\": \"Malcesine\",\n",
      "      \"location\": {\n",
      "        \"venue\": \"Palazzo dei Capitani\",\n",
      "        \"address\": \"Palazzo dei Capitani, Malcesine, Veneto\",\n",
      "        \"latitude\": 45.7642401,\n",
      "        \"longitude\": 10.8070956\n",
      "      },\n",
      "      \"start_date\": \"2025-09-28T02:05:00Z\",\n",
      "      \"end_date\": \"2025-09-28T04:05:00Z\",\n",
      "      \"url\": \"https://example.com/veneto-events/440\"\n",
      "    },\n",
      "    {\n",
      "      \"id\": \"641\",\n",
      "      \"title\": \"Bardolino Theatre Event #441\",\n",
      "      \"category\": \"Theatre\",\n",
      "      \"description\": \"Connect with fellow enthusiasts at this lively theatre event in Bardolino, taking place at the welcoming Lake Garda promenade. Share your passion and make new friends.\",\n",
      "      \"city\": \"Bardolino\",\n",
      "      \"location\": {\n",
      "        \"venue\": \"Lake Garda promenade\",\n",
      "        \"address\": \"Lake Garda promenade, Bardolino, Veneto\",\n",
      "        \"latitude\": 45.5475595,\n",
      "        \"longitude\": 10.7242145\n",
      "      },\n",
      "      \"start_date\": \"2025-09-26T06:10:00Z\",\n",
      "      \"end_date\": \"2025-09-26T15:10:00Z\",\n",
      "      \"url\": \"https://example.com/veneto-events/441\"\n",
      "    },\n",
      "    {\n",
      "      \"id\": \"642\",\n",
      "      \"title\": \"Valdagno Music Event #442\",\n",
      "      \"category\": \"Music\",\n",
      "      \"description\": \"Unwind and enjoy a delightful music experience in Valdagno at the picturesque Roman Villa of Valdagno. Relax and take in the atmosphere.\",\n",
      "      \"city\": \"Valdagno\",\n",
      "      \"location\": {\n",
      "        \"venue\": \"Roman Villa of Valdagno\",\n",
      "        \"address\": \"Roman Villa of Valdagno, Valdagno, Veneto\",\n",
      "        \"latitude\": 45.6413213,\n",
      "        \"longitude\": 11.3040596\n",
      "      },\n",
      "      \"start_date\": \"2025-09-27T11:32:00Z\",\n",
      "      \"end_date\": \"2025-09-27T21:32:00Z\",\n",
      "      \"url\": \"https://example.com/veneto-events/442\"\n",
      "    },\n",
      "    {\n",
      "      \"id\": \"643\",\n",
      "      \"title\": \"Campolongo Maggiore Exhibition Event #443\",\n",
      "      \"category\": \"Exhibition\",\n",
      "      \"description\": \"Unwind and enjoy a delightful exhibition experience in Campolongo Maggiore at the picturesque Parco delle Risorgive. Relax and take in the atmosphere.\",\n",
      "      \"city\": \"Campolongo Maggiore\",\n",
      "      \"location\": {\n",
      "        \"venue\": \"Parco delle Risorgive\",\n",
      "        \"address\": \"Parco delle Risorgive, Campolongo Maggiore, Veneto\",\n",
      "        \"latitude\": 45.3305355,\n",
      "        \"longitude\": 12.0483135\n",
      "      },\n",
      "      \"start_date\": \"2025-09-26T00:51:00Z\",\n",
      "      \"end_date\": \"2025-09-26T03:51:00Z\",\n",
      "      \"url\": \"https://example.com/veneto-events/443\"\n",
      "    },\n",
      "    {\n",
      "      \"id\": \"644\",\n",
      "      \"title\": \"Asolo Festival Event #444\",\n",
      "      \"category\": \"Festival\",\n",
      "      \"description\": \"Immerse yourself in the rich culture of Asolo with this engaging festival event at the iconic Villa Barbaro. It's the perfect way to spend your time.\",\n",
      "      \"city\": \"Asolo\",\n",
      "      \"location\": {\n",
      "        \"venue\": \"Villa Barbaro\",\n",
      "        \"address\": \"Villa Barbaro, Asolo, Veneto\",\n",
      "        \"latitude\": 45.8007265,\n",
      "        \"longitude\": 11.9142444\n",
      "      },\n",
      "      \"start_date\": \"2025-09-29T05:20:00Z\",\n",
      "      \"end_date\": \"2025-09-29T14:20:00Z\",\n",
      "      \"url\": \"https://example.com/veneto-events/444\"\n",
      "    },\n",
      "    {\n",
      "      \"id\": \"645\",\n",
      "      \"title\": \"San Don\\u00e0 di Piave Music Event #445\",\n",
      "      \"category\": \"Music\",\n",
      "      \"description\": \"A unique music opportunity awaits you in San Don\\u00e0 di Piave. Join us at the charming Villa Ancillotto for an event designed to inspire and entertain.\",\n",
      "      \"city\": \"San Don\\u00e0 di Piave\",\n",
      "      \"location\": {\n",
      "        \"venue\": \"Villa Ancillotto\",\n",
      "        \"address\": \"Villa Ancillotto, San Don\\u00e0 di Piave, Veneto\",\n",
      "        \"latitude\": 45.6294811,\n",
      "        \"longitude\": 12.5641057\n",
      "      },\n",
      "      \"start_date\": \"2025-09-27T19:24:00Z\",\n",
      "      \"end_date\": \"2025-09-28T01:24:00Z\",\n",
      "      \"url\": \"https://example.com/veneto-events/445\"\n",
      "    },\n",
      "    {\n",
      "      \"id\": \"646\",\n",
      "      \"title\": \"Feltre Food & Drink Event #446\",\n",
      "      \"category\": \"Food & Drink\",\n",
      "      \"description\": \"Unwind and enjoy a delightful food & drink experience in Feltre at the picturesque Villa Pasole. Relax and take in the atmosphere.\",\n",
      "      \"city\": \"Feltre\",\n",
      "      \"location\": {\n",
      "        \"venue\": \"Villa Pasole\",\n",
      "        \"address\": \"Villa Pasole, Feltre, Veneto\",\n",
      "        \"latitude\": 46.0412156,\n",
      "        \"longitude\": 11.9350544\n",
      "      },\n",
      "      \"start_date\": \"2025-09-29T20:31:00Z\",\n",
      "      \"end_date\": \"2025-09-29T21:31:00Z\",\n",
      "      \"url\": \"https://example.com/veneto-events/446\"\n",
      "    },\n",
      "    {\n",
      "      \"id\": \"647\",\n",
      "      \"title\": \"Cortina d'Ampezzo Food & Drink Event #447\",\n",
      "      \"category\": \"Food & Drink\",\n",
      "      \"description\": \"Seeking adventure in Cortina d'Ampezzo? Look no further than this captivating food & drink event at Stadio Olimpico del Ghiaccio. Fun and excitement are guaranteed!\",\n",
      "      \"city\": \"Cortina d'Ampezzo\",\n",
      "      \"location\": {\n",
      "        \"venue\": \"Stadio Olimpico del Ghiaccio\",\n",
      "        \"address\": \"Stadio Olimpico del Ghiaccio, Cortina d'Ampezzo, Veneto\",\n",
      "        \"latitude\": 46.5383332,\n",
      "        \"longitude\": 12.1373506\n",
      "      },\n",
      "      \"start_date\": \"2025-09-28T20:56:00Z\",\n",
      "      \"end_date\": \"2025-09-29T01:56:00Z\",\n",
      "      \"url\": \"https://example.com/veneto-events/447\"\n",
      "    },\n",
      "    {\n",
      "      \"id\": \"648\",\n",
      "      \"title\": \"Mestre Tour Event #448\",\n",
      "      \"category\": \"Tour\",\n",
      "      \"description\": \"Explore the vibrant tour scene in Mestre with this special event at Parco Albanese. Get ready for a day filled with discovery and enjoyment.\",\n",
      "      \"city\": \"Mestre\",\n",
      "      \"location\": {\n",
      "        \"venue\": \"Parco Albanese\",\n",
      "        \"address\": \"Parco Albanese, Mestre, Veneto\",\n",
      "        \"latitude\": 45.4943063,\n",
      "        \"longitude\": 12.2418053\n",
      "      },\n",
      "      \"start_date\": \"2025-09-29T21:09:00Z\",\n",
      "      \"end_date\": \"2025-09-30T00:00:00Z\",\n",
      "      \"url\": \"https://example.com/veneto-events/448\"\n",
      "    },\n",
      "    {\n",
      "      \"id\": \"649\",\n",
      "      \"title\": \"Castelfranco Veneto Workshop Event #449\",\n",
      "      \"category\": \"Workshop\",\n",
      "      \"description\": \"Unwind and enjoy a delightful workshop experience in Castelfranco Veneto at the picturesque Piazza Giorgione. Relax and take in the atmosphere.\",\n",
      "      \"city\": \"Castelfranco Veneto\",\n",
      "      \"location\": {\n",
      "        \"venue\": \"Piazza Giorgione\",\n",
      "        \"address\": \"Piazza Giorgione, Castelfranco Veneto, Veneto\",\n",
      "        \"latitude\": 45.6729185,\n",
      "        \"longitude\": 11.925768\n",
      "      },\n",
      "      \"start_date\": \"2025-09-26T05:34:00Z\",\n",
      "      \"end_date\": \"2025-09-26T13:34:00Z\",\n",
      "      \"url\": \"https://example.com/veneto-events/449\"\n",
      "    },\n",
      "    {\n",
      "      \"id\": \"650\",\n",
      "      \"title\": \"Jesolo Exhibition Event #450\",\n",
      "      \"category\": \"Exhibition\",\n",
      "      \"description\": \"Prepare for an unforgettable exhibition experience in the stunning city of Jesolo, held at the magnificent Tropicarium Park. This event promises to be a highlight of the season!\",\n",
      "      \"city\": \"Jesolo\",\n",
      "      \"location\": {\n",
      "        \"venue\": \"Tropicarium Park\",\n",
      "        \"address\": \"Tropicarium Park, Jesolo, Veneto\",\n",
      "        \"latitude\": 45.5367094,\n",
      "        \"longitude\": 12.6383337\n",
      "      },\n",
      "      \"start_date\": \"2025-09-27T03:28:00Z\",\n",
      "      \"end_date\": \"2025-09-27T12:28:00Z\",\n",
      "      \"url\": \"https://example.com/veneto-events/450\"\n",
      "    },\n",
      "    {\n",
      "      \"id\": \"651\",\n",
      "      \"title\": \"Noale Workshop Event #451\",\n",
      "      \"category\": \"Workshop\",\n",
      "      \"description\": \"Connect with fellow enthusiasts at this lively workshop event in Noale, taking place at the welcoming Rocca dei Tempesta. Share your passion and make new friends.\",\n",
      "      \"city\": \"Noale\",\n",
      "      \"location\": {\n",
      "        \"venue\": \"Rocca dei Tempesta\",\n",
      "        \"address\": \"Rocca dei Tempesta, Noale, Veneto\",\n",
      "        \"latitude\": 45.550156,\n",
      "        \"longitude\": 12.0720437\n",
      "      },\n",
      "      \"start_date\": \"2025-09-27T18:12:00Z\",\n",
      "      \"end_date\": \"2025-09-27T20:12:00Z\",\n",
      "      \"url\": \"https://example.com/veneto-events/451\"\n",
      "    },\n",
      "    {\n",
      "      \"id\": \"652\",\n",
      "      \"title\": \"Cortina d'Ampezzo Tour Event #452\",\n",
      "      \"category\": \"Tour\",\n",
      "      \"description\": \"Dive into the world of tour at this exciting gathering in Cortina d'Ampezzo. Located at the renowned Basilica Minore dei Santi Filippo e Giacomo, it's an event you won't want to miss.\",\n",
      "      \"city\": \"Cortina d'Ampezzo\",\n",
      "      \"location\": {\n",
      "        \"venue\": \"Basilica Minore dei Santi Filippo e Giacomo\",\n",
      "        \"address\": \"Basilica Minore dei Santi Filippo e Giacomo, Cortina d'Ampezzo, Veneto\",\n",
      "        \"latitude\": 46.5383332,\n",
      "        \"longitude\": 12.1373506\n",
      "      },\n",
      "      \"start_date\": \"2025-09-29T02:41:00Z\",\n",
      "      \"end_date\": \"2025-09-29T10:41:00Z\",\n",
      "      \"url\": \"https://example.com/veneto-events/452\"\n",
      "    },\n",
      "    {\n",
      "      \"id\": \"653\",\n",
      "      \"title\": \"Bardolino Sport Event #453\",\n",
      "      \"category\": \"Sport\",\n",
      "      \"description\": \"Connect with fellow enthusiasts at this lively sport event in Bardolino, taking place at the welcoming Piazza Matteotti. Share your passion and make new friends.\",\n",
      "      \"city\": \"Bardolino\",\n",
      "      \"location\": {\n",
      "        \"venue\": \"Piazza Matteotti\",\n",
      "        \"address\": \"Piazza Matteotti, Bardolino, Veneto\",\n",
      "        \"latitude\": 45.5471201,\n",
      "        \"longitude\": 10.7203132\n",
      "      },\n",
      "      \"start_date\": \"2025-09-28T06:50:00Z\",\n",
      "      \"end_date\": \"2025-09-28T13:50:00Z\",\n",
      "      \"url\": \"https://example.com/veneto-events/453\"\n",
      "    },\n",
      "    {\n",
      "      \"id\": \"654\",\n",
      "      \"title\": \"San Vito di Cadore Sport Event #454\",\n",
      "      \"category\": \"Sport\",\n",
      "      \"description\": \"Expand your horizons with this insightful sport event in San Vito di Cadore, hosted at the distinguished Parco NeveSole. Learn something new and be inspired.\",\n",
      "      \"city\": \"San Vito di Cadore\",\n",
      "      \"location\": {\n",
      "        \"venue\": \"Parco NeveSole\",\n",
      "        \"address\": \"Parco NeveSole, San Vito di Cadore, Veneto\",\n",
      "        \"latitude\": 46.458966,\n",
      "        \"longitude\": 12.2057415\n",
      "      },\n",
      "      \"start_date\": \"2025-09-28T15:16:00Z\",\n",
      "      \"end_date\": \"2025-09-28T16:16:00Z\",\n",
      "      \"url\": \"https://example.com/veneto-events/454\"\n",
      "    },\n",
      "    {\n",
      "      \"id\": \"655\",\n",
      "      \"title\": \"Feltre Festival Event #455\",\n",
      "      \"category\": \"Festival\",\n",
      "      \"description\": \"A unique festival opportunity awaits you in Feltre. Join us at the charming Porta Imperiale for an event designed to inspire and entertain.\",\n",
      "      \"city\": \"Feltre\",\n",
      "      \"location\": {\n",
      "        \"venue\": \"Porta Imperiale\",\n",
      "        \"address\": \"Porta Imperiale, Feltre, Veneto\",\n",
      "        \"latitude\": 46.0163755,\n",
      "        \"longitude\": 11.9062541\n",
      "      },\n",
      "      \"start_date\": \"2025-09-28T21:42:00Z\",\n",
      "      \"end_date\": \"2025-09-29T01:42:00Z\",\n",
      "      \"url\": \"https://example.com/veneto-events/455\"\n",
      "    },\n",
      "    {\n",
      "      \"id\": \"656\",\n",
      "      \"title\": \"Conegliano Conference Event #456\",\n",
      "      \"category\": \"Conference\",\n",
      "      \"description\": \"Immerse yourself in the rich culture of Conegliano with this engaging conference event at the iconic Castello di Conegliano. It's the perfect way to spend your time.\",\n",
      "      \"city\": \"Conegliano\",\n",
      "      \"location\": {\n",
      "        \"venue\": \"Castello di Conegliano\",\n",
      "        \"address\": \"Castello di Conegliano, Conegliano, Veneto\",\n",
      "        \"latitude\": 45.8862172,\n",
      "        \"longitude\": 12.2977566\n",
      "      },\n",
      "      \"start_date\": \"2025-09-28T20:25:00Z\",\n",
      "      \"end_date\": \"2025-09-29T04:25:00Z\",\n",
      "      \"url\": \"https://example.com/veneto-events/456\"\n",
      "    },\n",
      "    {\n",
      "      \"id\": \"657\",\n",
      "      \"title\": \"San Don\\u00e0 di Piave Food & Drink Event #457\",\n",
      "      \"category\": \"Food & Drink\",\n",
      "      \"description\": \"Connect with fellow enthusiasts at this lively food & drink event in San Don\\u00e0 di Piave, taking place at the welcoming Piazza Indipendenza. Share your passion and make new friends.\",\n",
      "      \"city\": \"San Don\\u00e0 di Piave\",\n",
      "      \"location\": {\n",
      "        \"venue\": \"Piazza Indipendenza\",\n",
      "        \"address\": \"Piazza Indipendenza, San Don\\u00e0 di Piave, Veneto\",\n",
      "        \"latitude\": 45.6294057,\n",
      "        \"longitude\": 12.5642475\n",
      "      },\n",
      "      \"start_date\": \"2025-09-28T20:51:00Z\",\n",
      "      \"end_date\": \"2025-09-29T00:51:00Z\",\n",
      "      \"url\": \"https://example.com/veneto-events/457\"\n",
      "    },\n",
      "    {\n",
      "      \"id\": \"658\",\n",
      "      \"title\": \"Dolo Workshop Event #458\",\n",
      "      \"category\": \"Workshop\",\n",
      "      \"description\": \"Immerse yourself in the rich culture of Dolo with this engaging workshop event at the iconic Chiesa di San Pio X. It's the perfect way to spend your time.\",\n",
      "      \"city\": \"Dolo\",\n",
      "      \"location\": {\n",
      "        \"venue\": \"Chiesa di San Pio X\",\n",
      "        \"address\": \"Chiesa di San Pio X, Dolo, Veneto\",\n",
      "        \"latitude\": 45.4234356,\n",
      "        \"longitude\": 12.0743252\n",
      "      },\n",
      "      \"start_date\": \"2025-09-28T20:33:00Z\",\n",
      "      \"end_date\": \"2025-09-28T22:33:00Z\",\n",
      "      \"url\": \"https://example.com/veneto-events/458\"\n",
      "    },\n",
      "    {\n",
      "      \"id\": \"659\",\n",
      "      \"title\": \"San Vito di Cadore Food & Drink Event #459\",\n",
      "      \"category\": \"Food & Drink\",\n",
      "      \"description\": \"Expand your horizons with this insightful food & drink event in San Vito di Cadore, hosted at the distinguished Chiesa di San Vito. Learn something new and be inspired.\",\n",
      "      \"city\": \"San Vito di Cadore\",\n",
      "      \"location\": {\n",
      "        \"venue\": \"Chiesa di San Vito\",\n",
      "        \"address\": \"Chiesa di San Vito, San Vito di Cadore, Veneto\",\n",
      "        \"latitude\": 46.458966,\n",
      "        \"longitude\": 12.2057415\n",
      "      },\n",
      "      \"start_date\": \"2025-09-26T04:34:00Z\",\n",
      "      \"end_date\": \"2025-09-26T13:34:00Z\",\n",
      "      \"url\": \"https://example.com/veneto-events/459\"\n",
      "    },\n",
      "    {\n",
      "      \"id\": \"660\",\n",
      "      \"title\": \"Treviso Tour Event #460\",\n",
      "      \"category\": \"Tour\",\n",
      "      \"description\": \"Step into a world of wonder at this extraordinary tour event in Treviso, held at the historic Palazzo Bomben. Prepare to be amazed!\",\n",
      "      \"city\": \"Treviso\",\n",
      "      \"location\": {\n",
      "        \"venue\": \"Palazzo Bomben\",\n",
      "        \"address\": \"Palazzo Bomben, Treviso, Veneto\",\n",
      "        \"latitude\": 45.6658505,\n",
      "        \"longitude\": 12.2455414\n",
      "      },\n",
      "      \"start_date\": \"2025-09-27T08:03:00Z\",\n",
      "      \"end_date\": \"2025-09-27T17:03:00Z\",\n",
      "      \"url\": \"https://example.com/veneto-events/460\"\n",
      "    },\n",
      "    {\n",
      "      \"id\": \"661\",\n",
      "      \"title\": \"Peschiera del Garda Exhibition Event #461\",\n",
      "      \"category\": \"Exhibition\",\n",
      "      \"description\": \"Dive into the world of exhibition at this exciting gathering in Peschiera del Garda. Located at the renowned Fortezza di Peschiera, it's an event you won't want to miss.\",\n",
      "      \"city\": \"Peschiera del Garda\",\n",
      "      \"location\": {\n",
      "        \"venue\": \"Fortezza di Peschiera\",\n",
      "        \"address\": \"Fortezza di Peschiera, Peschiera del Garda, Veneto\",\n",
      "        \"latitude\": 45.4389454,\n",
      "        \"longitude\": 10.6920171\n",
      "      },\n",
      "      \"start_date\": \"2025-09-28T06:19:00Z\",\n",
      "      \"end_date\": \"2025-09-28T10:19:00Z\",\n",
      "      \"url\": \"https://example.com/veneto-events/461\"\n",
      "    },\n",
      "    {\n",
      "      \"id\": \"662\",\n",
      "      \"title\": \"Verona Music Event #462\",\n",
      "      \"category\": \"Music\",\n",
      "      \"description\": \"Step into a world of wonder at this extraordinary music event in Verona, held at the historic Roman Theatre. Prepare to be amazed!\",\n",
      "      \"city\": \"Verona\",\n",
      "      \"location\": {\n",
      "        \"venue\": \"Roman Theatre\",\n",
      "        \"address\": \"Roman Theatre, Verona, Veneto\",\n",
      "        \"latitude\": 45.4384958,\n",
      "        \"longitude\": 10.9924122\n",
      "      },\n",
      "      \"start_date\": \"2025-09-26T01:12:00Z\",\n",
      "      \"end_date\": \"2025-09-26T10:12:00Z\",\n",
      "      \"url\": \"https://example.com/veneto-events/462\"\n",
      "    },\n",
      "    {\n",
      "      \"id\": \"663\",\n",
      "      \"title\": \"Mirano Food & Drink Event #463\",\n",
      "      \"category\": \"Food & Drink\",\n",
      "      \"description\": \"Expand your horizons with this insightful food & drink event in Mirano, hosted at the distinguished Duomo di San Michele Arcangelo. Learn something new and be inspired.\",\n",
      "      \"city\": \"Mirano\",\n",
      "      \"location\": {\n",
      "        \"venue\": \"Duomo di San Michele Arcangelo\",\n",
      "        \"address\": \"Duomo di San Michele Arcangelo, Mirano, Veneto\",\n",
      "        \"latitude\": 45.4927695,\n",
      "        \"longitude\": 12.1098768\n",
      "      },\n",
      "      \"start_date\": \"2025-09-27T09:19:00Z\",\n",
      "      \"end_date\": \"2025-09-27T13:19:00Z\",\n",
      "      \"url\": \"https://example.com/veneto-events/463\"\n",
      "    },\n",
      "    {\n",
      "      \"id\": \"664\",\n",
      "      \"title\": \"Spinea Music Event #464\",\n",
      "      \"category\": \"Music\",\n",
      "      \"description\": \"Seeking adventure in Spinea? Look no further than this captivating music event at Parco Nuove Gemme. Fun and excitement are guaranteed!\",\n",
      "      \"city\": \"Spinea\",\n",
      "      \"location\": {\n",
      "        \"venue\": \"Parco Nuove Gemme\",\n",
      "        \"address\": \"Parco Nuove Gemme, Spinea, Veneto\",\n",
      "        \"latitude\": 45.4911604,\n",
      "        \"longitude\": 12.165018\n",
      "      },\n",
      "      \"start_date\": \"2025-09-27T05:00:00Z\",\n",
      "      \"end_date\": \"2025-09-27T09:00:00Z\",\n",
      "      \"url\": \"https://example.com/veneto-events/464\"\n",
      "    },\n",
      "    {\n",
      "      \"id\": \"665\",\n",
      "      \"title\": \"Lazise Festival Event #465\",\n",
      "      \"category\": \"Festival\",\n",
      "      \"description\": \"Expand your horizons with this insightful festival event in Lazise, hosted at the distinguished Villa Pergolana. Learn something new and be inspired.\",\n",
      "      \"city\": \"Lazise\",\n",
      "      \"location\": {\n",
      "        \"venue\": \"Villa Pergolana\",\n",
      "        \"address\": \"Villa Pergolana, Lazise, Veneto\",\n",
      "        \"latitude\": 45.5052005,\n",
      "        \"longitude\": 10.7330245\n",
      "      },\n",
      "      \"start_date\": \"2025-09-26T22:45:00Z\",\n",
      "      \"end_date\": \"2025-09-26T23:45:00Z\",\n",
      "      \"url\": \"https://example.com/veneto-events/465\"\n",
      "    },\n",
      "    {\n",
      "      \"id\": \"666\",\n",
      "      \"title\": \"Campolongo Maggiore Conference Event #466\",\n",
      "      \"category\": \"Conference\",\n",
      "      \"description\": \"Explore the vibrant conference scene in Campolongo Maggiore with this special event at Villa Manin. Get ready for a day filled with discovery and enjoyment.\",\n",
      "      \"city\": \"Campolongo Maggiore\",\n",
      "      \"location\": {\n",
      "        \"venue\": \"Villa Manin\",\n",
      "        \"address\": \"Villa Manin, Campolongo Maggiore, Veneto\",\n",
      "        \"latitude\": 45.3305355,\n",
      "        \"longitude\": 12.0483135\n",
      "      },\n",
      "      \"start_date\": \"2025-09-28T05:16:00Z\",\n",
      "      \"end_date\": \"2025-09-28T08:16:00Z\",\n",
      "      \"url\": \"https://example.com/veneto-events/466\"\n",
      "    },\n",
      "    {\n",
      "      \"id\": \"667\",\n",
      "      \"title\": \"Belluno Exhibition Event #467\",\n",
      "      \"category\": \"Exhibition\",\n",
      "      \"description\": \"Unwind and enjoy a delightful exhibition experience in Belluno at the picturesque Palazzo dei Rettori. Relax and take in the atmosphere.\",\n",
      "      \"city\": \"Belluno\",\n",
      "      \"location\": {\n",
      "        \"venue\": \"Palazzo dei Rettori\",\n",
      "        \"address\": \"Palazzo dei Rettori, Belluno, Veneto\",\n",
      "        \"latitude\": 46.1375185,\n",
      "        \"longitude\": 12.2181711\n",
      "      },\n",
      "      \"start_date\": \"2025-09-28T23:47:00Z\",\n",
      "      \"end_date\": \"2025-09-29T04:47:00Z\",\n",
      "      \"url\": \"https://example.com/veneto-events/467\"\n",
      "    },\n",
      "    {\n",
      "      \"id\": \"668\",\n",
      "      \"title\": \"Cortina d'Ampezzo Arts & Crafts Event #468\",\n",
      "      \"category\": \"Arts & Crafts\",\n",
      "      \"description\": \"Prepare for an unforgettable arts & crafts experience in the stunning city of Cortina d'Ampezzo, held at the magnificent Golf Club Cortina. This event promises to be a highlight of the season!\",\n",
      "      \"city\": \"Cortina d'Ampezzo\",\n",
      "      \"location\": {\n",
      "        \"venue\": \"Golf Club Cortina\",\n",
      "        \"address\": \"Golf Club Cortina, Cortina d'Ampezzo, Veneto\",\n",
      "        \"latitude\": 46.5383332,\n",
      "        \"longitude\": 12.1373506\n",
      "      },\n",
      "      \"start_date\": \"2025-09-29T12:53:00Z\",\n",
      "      \"end_date\": \"2025-09-29T18:53:00Z\",\n",
      "      \"url\": \"https://example.com/veneto-events/468\"\n",
      "    },\n",
      "    {\n",
      "      \"id\": \"669\",\n",
      "      \"title\": \"Castelfranco Veneto Food & Drink Event #469\",\n",
      "      \"category\": \"Food & Drink\",\n",
      "      \"description\": \"Expand your horizons with this insightful food & drink event in Castelfranco Veneto, hosted at the distinguished Villa Revedin Bolasco. Learn something new and be inspired.\",\n",
      "      \"city\": \"Castelfranco Veneto\",\n",
      "      \"location\": {\n",
      "        \"venue\": \"Villa Revedin Bolasco\",\n",
      "        \"address\": \"Villa Revedin Bolasco, Castelfranco Veneto, Veneto\",\n",
      "        \"latitude\": 45.671139,\n",
      "        \"longitude\": 11.9265624\n",
      "      },\n",
      "      \"start_date\": \"2025-09-28T16:40:00Z\",\n",
      "      \"end_date\": \"2025-09-28T23:40:00Z\",\n",
      "      \"url\": \"https://example.com/veneto-events/469\"\n",
      "    },\n",
      "    {\n",
      "      \"id\": \"670\",\n",
      "      \"title\": \"Conegliano Workshop Event #470\",\n",
      "      \"category\": \"Workshop\",\n",
      "      \"description\": \"Unwind and enjoy a delightful workshop experience in Conegliano at the picturesque Piazza Cima. Relax and take in the atmosphere.\",\n",
      "      \"city\": \"Conegliano\",\n",
      "      \"location\": {\n",
      "        \"venue\": \"Piazza Cima\",\n",
      "        \"address\": \"Piazza Cima, Conegliano, Veneto\",\n",
      "        \"latitude\": 45.8862172,\n",
      "        \"longitude\": 12.2977566\n",
      "      },\n",
      "      \"start_date\": \"2025-09-26T13:08:00Z\",\n",
      "      \"end_date\": \"2025-09-26T19:08:00Z\",\n",
      "      \"url\": \"https://example.com/veneto-events/470\"\n",
      "    },\n",
      "    {\n",
      "      \"id\": \"671\",\n",
      "      \"title\": \"Adria Workshop Event #471\",\n",
      "      \"category\": \"Workshop\",\n",
      "      \"description\": \"Unwind and enjoy a delightful workshop experience in Adria at the picturesque Museo della Cattedrale. Relax and take in the atmosphere.\",\n",
      "      \"city\": \"Adria\",\n",
      "      \"location\": {\n",
      "        \"venue\": \"Museo della Cattedrale\",\n",
      "        \"address\": \"Museo della Cattedrale, Adria, Veneto\",\n",
      "        \"latitude\": 45.0531228,\n",
      "        \"longitude\": 12.0572\n",
      "      },\n",
      "      \"start_date\": \"2025-09-27T09:37:00Z\",\n",
      "      \"end_date\": \"2025-09-27T11:37:00Z\",\n",
      "      \"url\": \"https://example.com/veneto-events/471\"\n",
      "    },\n",
      "    {\n",
      "      \"id\": \"672\",\n",
      "      \"title\": \"San Bonifacio Exhibition Event #472\",\n",
      "      \"category\": \"Exhibition\",\n",
      "      \"description\": \"A unique exhibition opportunity awaits you in San Bonifacio. Join us at the charming Parco della Rimembranza for an event designed to inspire and entertain.\",\n",
      "      \"city\": \"San Bonifacio\",\n",
      "      \"location\": {\n",
      "        \"venue\": \"Parco della Rimembranza\",\n",
      "        \"address\": \"Parco della Rimembranza, San Bonifacio, Veneto\",\n",
      "        \"latitude\": 45.3956425,\n",
      "        \"longitude\": 11.2700817\n",
      "      },\n",
      "      \"start_date\": \"2025-09-28T16:32:00Z\",\n",
      "      \"end_date\": \"2025-09-29T01:32:00Z\",\n",
      "      \"url\": \"https://example.com/veneto-events/472\"\n",
      "    },\n",
      "    {\n",
      "      \"id\": \"673\",\n",
      "      \"title\": \"Pedavena Workshop Event #473\",\n",
      "      \"category\": \"Workshop\",\n",
      "      \"description\": \"Connect with fellow enthusiasts at this lively workshop event in Pedavena, taking place at the welcoming Chiesa di San Antonio. Share your passion and make new friends.\",\n",
      "      \"city\": \"Pedavena\",\n",
      "      \"location\": {\n",
      "        \"venue\": \"Chiesa di San Antonio\",\n",
      "        \"address\": \"Chiesa di San Antonio, Pedavena, Veneto\",\n",
      "        \"latitude\": 46.0396242,\n",
      "        \"longitude\": 11.8804327\n",
      "      },\n",
      "      \"start_date\": \"2025-09-26T19:36:00Z\",\n",
      "      \"end_date\": \"2025-09-27T04:36:00Z\",\n",
      "      \"url\": \"https://example.com/veneto-events/473\"\n",
      "    },\n",
      "    {\n",
      "      \"id\": \"674\",\n",
      "      \"title\": \"Legnago Exhibition Event #474\",\n",
      "      \"category\": \"Exhibition\",\n",
      "      \"description\": \"Dive into the world of exhibition at this exciting gathering in Legnago. Located at the renowned Museo Fioroni, it's an event you won't want to miss.\",\n",
      "      \"city\": \"Legnago\",\n",
      "      \"location\": {\n",
      "        \"venue\": \"Museo Fioroni\",\n",
      "        \"address\": \"Museo Fioroni, Legnago, Veneto\",\n",
      "        \"latitude\": 45.192498,\n",
      "        \"longitude\": 11.3111274\n",
      "      },\n",
      "      \"start_date\": \"2025-09-27T07:49:00Z\",\n",
      "      \"end_date\": \"2025-09-27T16:49:00Z\",\n",
      "      \"url\": \"https://example.com/veneto-events/474\"\n",
      "    },\n",
      "    {\n",
      "      \"id\": \"675\",\n",
      "      \"title\": \"San Bonifacio Food & Drink Event #475\",\n",
      "      \"category\": \"Food & Drink\",\n",
      "      \"description\": \"Immerse yourself in the rich culture of San Bonifacio with this engaging food & drink event at the iconic Museo Civico. It's the perfect way to spend your time.\",\n",
      "      \"city\": \"San Bonifacio\",\n",
      "      \"location\": {\n",
      "        \"venue\": \"Museo Civico\",\n",
      "        \"address\": \"Museo Civico, San Bonifacio, Veneto\",\n",
      "        \"latitude\": 45.3956425,\n",
      "        \"longitude\": 11.2700817\n",
      "      },\n",
      "      \"start_date\": \"2025-09-28T04:34:00Z\",\n",
      "      \"end_date\": \"2025-09-28T10:34:00Z\",\n",
      "      \"url\": \"https://example.com/veneto-events/475\"\n",
      "    },\n",
      "    {\n",
      "      \"id\": \"676\",\n",
      "      \"title\": \"Treviso Festival Event #476\",\n",
      "      \"category\": \"Festival\",\n",
      "      \"description\": \"Expand your horizons with this insightful festival event in Treviso, hosted at the distinguished Porta San Tommaso. Learn something new and be inspired.\",\n",
      "      \"city\": \"Treviso\",\n",
      "      \"location\": {\n",
      "        \"venue\": \"Porta San Tommaso\",\n",
      "        \"address\": \"Porta San Tommaso, Treviso, Veneto\",\n",
      "        \"latitude\": 45.6658505,\n",
      "        \"longitude\": 12.2455414\n",
      "      },\n",
      "      \"start_date\": \"2025-09-29T04:57:00Z\",\n",
      "      \"end_date\": \"2025-09-29T08:57:00Z\",\n",
      "      \"url\": \"https://example.com/veneto-events/476\"\n",
      "    },\n",
      "    {\n",
      "      \"id\": \"677\",\n",
      "      \"title\": \"Abano Terme Conference Event #477\",\n",
      "      \"category\": \"Conference\",\n",
      "      \"description\": \"Expand your horizons with this insightful conference event in Abano Terme, hosted at the distinguished Museo Villa Bassi Rathgeb. Learn something new and be inspired.\",\n",
      "      \"city\": \"Abano Terme\",\n",
      "      \"location\": {\n",
      "        \"venue\": \"Museo Villa Bassi Rathgeb\",\n",
      "        \"address\": \"Museo Villa Bassi Rathgeb, Abano Terme, Veneto\",\n",
      "        \"latitude\": 45.3603142,\n",
      "        \"longitude\": 11.7897833\n",
      "      },\n",
      "      \"start_date\": \"2025-09-29T13:24:00Z\",\n",
      "      \"end_date\": \"2025-09-29T14:24:00Z\",\n",
      "      \"url\": \"https://example.com/veneto-events/477\"\n",
      "    },\n",
      "    {\n",
      "      \"id\": \"678\",\n",
      "      \"title\": \"Padua Tour Event #478\",\n",
      "      \"category\": \"Tour\",\n",
      "      \"description\": \"Explore the vibrant tour scene in Padua with this special event at Scrovegni Chapel. Get ready for a day filled with discovery and enjoyment.\",\n",
      "      \"city\": \"Padua\",\n",
      "      \"location\": {\n",
      "        \"venue\": \"Scrovegni Chapel\",\n",
      "        \"address\": \"Scrovegni Chapel, Padua, Veneto\",\n",
      "        \"latitude\": 45.4077172,\n",
      "        \"longitude\": 11.8734455\n",
      "      },\n",
      "      \"start_date\": \"2025-09-28T22:50:00Z\",\n",
      "      \"end_date\": \"2025-09-29T00:50:00Z\",\n",
      "      \"url\": \"https://example.com/veneto-events/478\"\n",
      "    },\n",
      "    {\n",
      "      \"id\": \"679\",\n",
      "      \"title\": \"Vittorio Veneto Theatre Event #479\",\n",
      "      \"category\": \"Theatre\",\n",
      "      \"description\": \"Immerse yourself in the rich culture of Vittorio Veneto with this engaging theatre event at the iconic Teatro Da Ponte. It's the perfect way to spend your time.\",\n",
      "      \"city\": \"Vittorio Veneto\",\n",
      "      \"location\": {\n",
      "        \"venue\": \"Teatro Da Ponte\",\n",
      "        \"address\": \"Teatro Da Ponte, Vittorio Veneto, Veneto\",\n",
      "        \"latitude\": 45.9897826,\n",
      "        \"longitude\": 12.2957596\n",
      "      },\n",
      "      \"start_date\": \"2025-09-27T15:37:00Z\",\n",
      "      \"end_date\": \"2025-09-28T01:37:00Z\",\n",
      "      \"url\": \"https://example.com/veneto-events/479\"\n",
      "    },\n",
      "    {\n",
      "      \"id\": \"680\",\n",
      "      \"title\": \"San Vito di Cadore Tour Event #480\",\n",
      "      \"category\": \"Tour\",\n",
      "      \"description\": \"Dive into the world of tour at this exciting gathering in San Vito di Cadore. Located at the renowned Museo Ladino Cadorino, it's an event you won't want to miss.\",\n",
      "      \"city\": \"San Vito di Cadore\",\n",
      "      \"location\": {\n",
      "        \"venue\": \"Museo Ladino Cadorino\",\n",
      "        \"address\": \"Museo Ladino Cadorino, San Vito di Cadore, Veneto\",\n",
      "        \"latitude\": 46.458966,\n",
      "        \"longitude\": 12.2057415\n",
      "      },\n",
      "      \"start_date\": \"2025-09-28T03:08:00Z\",\n",
      "      \"end_date\": \"2025-09-28T09:08:00Z\",\n",
      "      \"url\": \"https://example.com/veneto-events/480\"\n",
      "    },\n",
      "    {\n",
      "      \"id\": \"681\",\n",
      "      \"title\": \"Castelfranco Veneto Sport Event #481\",\n",
      "      \"category\": \"Sport\",\n",
      "      \"description\": \"Immerse yourself in the rich culture of Castelfranco Veneto with this engaging sport event at the iconic Castello di Castelfranco. It's the perfect way to spend your time.\",\n",
      "      \"city\": \"Castelfranco Veneto\",\n",
      "      \"location\": {\n",
      "        \"venue\": \"Castello di Castelfranco\",\n",
      "        \"address\": \"Castello di Castelfranco, Castelfranco Veneto, Veneto\",\n",
      "        \"latitude\": 45.671139,\n",
      "        \"longitude\": 11.9265624\n",
      "      },\n",
      "      \"start_date\": \"2025-09-27T20:22:00Z\",\n",
      "      \"end_date\": \"2025-09-28T02:22:00Z\",\n",
      "      \"url\": \"https://example.com/veneto-events/481\"\n",
      "    },\n",
      "    {\n",
      "      \"id\": \"682\",\n",
      "      \"title\": \"Asolo Festival Event #482\",\n",
      "      \"category\": \"Festival\",\n",
      "      \"description\": \"Unwind and enjoy a delightful festival experience in Asolo at the picturesque Villa Freya. Relax and take in the atmosphere.\",\n",
      "      \"city\": \"Asolo\",\n",
      "      \"location\": {\n",
      "        \"venue\": \"Villa Freya\",\n",
      "        \"address\": \"Villa Freya, Asolo, Veneto\",\n",
      "        \"latitude\": 45.8007265,\n",
      "        \"longitude\": 11.9142444\n",
      "      },\n",
      "      \"start_date\": \"2025-09-26T13:05:00Z\",\n",
      "      \"end_date\": \"2025-09-26T22:05:00Z\",\n",
      "      \"url\": \"https://example.com/veneto-events/482\"\n",
      "    },\n",
      "    {\n",
      "      \"id\": \"683\",\n",
      "      \"title\": \"Bardolino Sport Event #483\",\n",
      "      \"category\": \"Sport\",\n",
      "      \"description\": \"Dive into the world of sport at this exciting gathering in Bardolino. Located at the renowned Parco Baia delle Sirene, it's an event you won't want to miss.\",\n",
      "      \"city\": \"Bardolino\",\n",
      "      \"location\": {\n",
      "        \"venue\": \"Parco Baia delle Sirene\",\n",
      "        \"address\": \"Parco Baia delle Sirene, Bardolino, Veneto\",\n",
      "        \"latitude\": 45.5475595,\n",
      "        \"longitude\": 10.7242145\n",
      "      },\n",
      "      \"start_date\": \"2025-09-26T15:51:00Z\",\n",
      "      \"end_date\": \"2025-09-26T19:51:00Z\",\n",
      "      \"url\": \"https://example.com/veneto-events/483\"\n",
      "    },\n",
      "    {\n",
      "      \"id\": \"684\",\n",
      "      \"title\": \"San Don\\u00e0 di Piave Exhibition Event #484\",\n",
      "      \"category\": \"Exhibition\",\n",
      "      \"description\": \"Unwind and enjoy a delightful exhibition experience in San Don\\u00e0 di Piave at the picturesque Cittadella Medicea. Relax and take in the atmosphere.\",\n",
      "      \"city\": \"San Don\\u00e0 di Piave\",\n",
      "      \"location\": {\n",
      "        \"venue\": \"Cittadella Medicea\",\n",
      "        \"address\": \"Cittadella Medicea, San Don\\u00e0 di Piave, Veneto\",\n",
      "        \"latitude\": 45.6294811,\n",
      "        \"longitude\": 12.5641057\n",
      "      },\n",
      "      \"start_date\": \"2025-09-27T01:41:00Z\",\n",
      "      \"end_date\": \"2025-09-27T09:41:00Z\",\n",
      "      \"url\": \"https://example.com/veneto-events/484\"\n",
      "    },\n",
      "    {\n",
      "      \"id\": \"685\",\n",
      "      \"title\": \"San Bonifacio Food & Drink Event #485\",\n",
      "      \"category\": \"Food & Drink\",\n",
      "      \"description\": \"Connect with fellow enthusiasts at this lively food & drink event in San Bonifacio, taking place at the welcoming Duomo di San Bonifacio. Share your passion and make new friends.\",\n",
      "      \"city\": \"San Bonifacio\",\n",
      "      \"location\": {\n",
      "        \"venue\": \"Duomo di San Bonifacio\",\n",
      "        \"address\": \"Duomo di San Bonifacio, San Bonifacio, Veneto\",\n",
      "        \"latitude\": 45.3956425,\n",
      "        \"longitude\": 11.2700817\n",
      "      },\n",
      "      \"start_date\": \"2025-09-28T00:42:00Z\",\n",
      "      \"end_date\": \"2025-09-28T04:42:00Z\",\n",
      "      \"url\": \"https://example.com/veneto-events/485\"\n",
      "    },\n",
      "    {\n",
      "      \"id\": \"686\",\n",
      "      \"title\": \"Bassano del Grappa Conference Event #486\",\n",
      "      \"category\": \"Conference\",\n",
      "      \"description\": \"A unique conference opportunity awaits you in Bassano del Grappa. Join us at the charming Ponte degli Alpini for an event designed to inspire and entertain.\",\n",
      "      \"city\": \"Bassano del Grappa\",\n",
      "      \"location\": {\n",
      "        \"venue\": \"Ponte degli Alpini\",\n",
      "        \"address\": \"Ponte degli Alpini, Bassano del Grappa, Veneto\",\n",
      "        \"latitude\": 45.7674953,\n",
      "        \"longitude\": 11.7311664\n",
      "      },\n",
      "      \"start_date\": \"2025-09-28T17:55:00Z\",\n",
      "      \"end_date\": \"2025-09-29T01:55:00Z\",\n",
      "      \"url\": \"https://example.com/veneto-events/486\"\n",
      "    },\n",
      "    {\n",
      "      \"id\": \"687\",\n",
      "      \"title\": \"Caorle Conference Event #487\",\n",
      "      \"category\": \"Conference\",\n",
      "      \"description\": \"Prepare for an unforgettable conference experience in the stunning city of Caorle, held at the magnificent Museo Liturgico. This event promises to be a highlight of the season!\",\n",
      "      \"city\": \"Caorle\",\n",
      "      \"location\": {\n",
      "        \"venue\": \"Museo Liturgico\",\n",
      "        \"address\": \"Museo Liturgico, Caorle, Veneto\",\n",
      "        \"latitude\": 45.5979147,\n",
      "        \"longitude\": 12.8876282\n",
      "      },\n",
      "      \"start_date\": \"2025-09-28T17:03:00Z\",\n",
      "      \"end_date\": \"2025-09-28T20:03:00Z\",\n",
      "      \"url\": \"https://example.com/veneto-events/487\"\n",
      "    },\n",
      "    {\n",
      "      \"id\": \"688\",\n",
      "      \"title\": \"Jesolo Tour Event #488\",\n",
      "      \"category\": \"Tour\",\n",
      "      \"description\": \"Unwind and enjoy a delightful tour experience in Jesolo at the picturesque Jesolo Beach. Relax and take in the atmosphere.\",\n",
      "      \"city\": \"Jesolo\",\n",
      "      \"location\": {\n",
      "        \"venue\": \"Jesolo Beach\",\n",
      "        \"address\": \"Jesolo Beach, Jesolo, Veneto\",\n",
      "        \"latitude\": 45.5367094,\n",
      "        \"longitude\": 12.6383337\n",
      "      },\n",
      "      \"start_date\": \"2025-09-27T05:25:00Z\",\n",
      "      \"end_date\": \"2025-09-27T06:25:00Z\",\n",
      "      \"url\": \"https://example.com/veneto-events/488\"\n",
      "    },\n",
      "    {\n",
      "      \"id\": \"689\",\n",
      "      \"title\": \"Mestre Tour Event #489\",\n",
      "      \"category\": \"Tour\",\n",
      "      \"description\": \"A unique tour opportunity awaits you in Mestre. Join us at the charming Parco San Giuliano for an event designed to inspire and entertain.\",\n",
      "      \"city\": \"Mestre\",\n",
      "      \"location\": {\n",
      "        \"venue\": \"Parco San Giuliano\",\n",
      "        \"address\": \"Parco San Giuliano, Mestre, Veneto\",\n",
      "        \"latitude\": 45.4943063,\n",
      "        \"longitude\": 12.2418053\n",
      "      },\n",
      "      \"start_date\": \"2025-09-29T20:22:00Z\",\n",
      "      \"end_date\": \"2025-09-30T00:00:00Z\",\n",
      "      \"url\": \"https://example.com/veneto-events/489\"\n",
      "    },\n",
      "    {\n",
      "      \"id\": \"690\",\n",
      "      \"title\": \"Adria Sport Event #490\",\n",
      "      \"category\": \"Sport\",\n",
      "      \"description\": \"Seeking adventure in Adria? Look no further than this captivating sport event at Villa Mecenati. Fun and excitement are guaranteed!\",\n",
      "      \"city\": \"Adria\",\n",
      "      \"location\": {\n",
      "        \"venue\": \"Villa Mecenati\",\n",
      "        \"address\": \"Villa Mecenati, Adria, Veneto\",\n",
      "        \"latitude\": 45.0531228,\n",
      "        \"longitude\": 12.0572\n",
      "      },\n",
      "      \"start_date\": \"2025-09-28T18:33:00Z\",\n",
      "      \"end_date\": \"2025-09-29T04:33:00Z\",\n",
      "      \"url\": \"https://example.com/veneto-events/490\"\n",
      "    },\n",
      "    {\n",
      "      \"id\": \"691\",\n",
      "      \"title\": \"Cavarzere Conference Event #491\",\n",
      "      \"category\": \"Conference\",\n",
      "      \"description\": \"Prepare for an unforgettable conference experience in the stunning city of Cavarzere, held at the magnificent Villa Zennaro. This event promises to be a highlight of the season!\",\n",
      "      \"city\": \"Cavarzere\",\n",
      "      \"location\": {\n",
      "        \"venue\": \"Villa Zennaro\",\n",
      "        \"address\": \"Villa Zennaro, Cavarzere, Veneto\",\n",
      "        \"latitude\": 45.1360987,\n",
      "        \"longitude\": 12.0812854\n",
      "      },\n",
      "      \"start_date\": \"2025-09-29T01:22:00Z\",\n",
      "      \"end_date\": \"2025-09-29T08:22:00Z\",\n",
      "      \"url\": \"https://example.com/veneto-events/491\"\n",
      "    },\n",
      "    {\n",
      "      \"id\": \"692\",\n",
      "      \"title\": \"Cortina d'Ampezzo Conference Event #492\",\n",
      "      \"category\": \"Conference\",\n",
      "      \"description\": \"Seeking adventure in Cortina d'Ampezzo? Look no further than this captivating conference event at Lago di Pianozes. Fun and excitement are guaranteed!\",\n",
      "      \"city\": \"Cortina d'Ampezzo\",\n",
      "      \"location\": {\n",
      "        \"venue\": \"Lago di Pianozes\",\n",
      "        \"address\": \"Lago di Pianozes, Cortina d'Ampezzo, Veneto\",\n",
      "        \"latitude\": 46.5383332,\n",
      "        \"longitude\": 12.1373506\n",
      "      },\n",
      "      \"start_date\": \"2025-09-29T09:38:00Z\",\n",
      "      \"end_date\": \"2025-09-29T10:38:00Z\",\n",
      "      \"url\": \"https://example.com/veneto-events/492\"\n",
      "    },\n",
      "    {\n",
      "      \"id\": \"693\",\n",
      "      \"title\": \"Abano Terme Exhibition Event #493\",\n",
      "      \"category\": \"Exhibition\",\n",
      "      \"description\": \"Dive into the world of exhibition at this exciting gathering in Abano Terme. Located at the renowned Museo Villa Bassi Rathgeb, it's an event you won't want to miss.\",\n",
      "      \"city\": \"Abano Terme\",\n",
      "      \"location\": {\n",
      "        \"venue\": \"Museo Villa Bassi Rathgeb\",\n",
      "        \"address\": \"Museo Villa Bassi Rathgeb, Abano Terme, Veneto\",\n",
      "        \"latitude\": 45.3603142,\n",
      "        \"longitude\": 11.7897833\n",
      "      },\n",
      "      \"start_date\": \"2025-09-27T10:16:00Z\",\n",
      "      \"end_date\": \"2025-09-27T17:16:00Z\",\n",
      "      \"url\": \"https://example.com/veneto-events/493\"\n",
      "    },\n",
      "    {\n",
      "      \"id\": \"694\",\n",
      "      \"title\": \"San Vito di Cadore Festival Event #494\",\n",
      "      \"category\": \"Festival\",\n",
      "      \"description\": \"Explore the vibrant festival scene in San Vito di Cadore with this special event at Piani di Pezz\\u00e8. Get ready for a day filled with discovery and enjoyment.\",\n",
      "      \"city\": \"San Vito di Cadore\",\n",
      "      \"location\": {\n",
      "        \"venue\": \"Piani di Pezz\\u00e8\",\n",
      "        \"address\": \"Piani di Pezz\\u00e8, San Vito di Cadore, Veneto\",\n",
      "        \"latitude\": 46.458966,\n",
      "        \"longitude\": 12.2057415\n",
      "      },\n",
      "      \"start_date\": \"2025-09-27T00:36:00Z\",\n",
      "      \"end_date\": \"2025-09-27T09:36:00Z\",\n",
      "      \"url\": \"https://example.com/veneto-events/494\"\n",
      "    },\n",
      "    {\n",
      "      \"id\": \"695\",\n",
      "      \"title\": \"Lazise Arts & Crafts Event #495\",\n",
      "      \"category\": \"Arts & Crafts\",\n",
      "      \"description\": \"Prepare for an unforgettable arts & crafts experience in the stunning city of Lazise, held at the magnificent Museo del Castello. This event promises to be a highlight of the season!\",\n",
      "      \"city\": \"Lazise\",\n",
      "      \"location\": {\n",
      "        \"venue\": \"Museo del Castello\",\n",
      "        \"address\": \"Museo del Castello, Lazise, Veneto\",\n",
      "        \"latitude\": 45.5052005,\n",
      "        \"longitude\": 10.7330245\n",
      "      },\n",
      "      \"start_date\": \"2025-09-27T05:19:00Z\",\n",
      "      \"end_date\": \"2025-09-27T08:19:00Z\",\n",
      "      \"url\": \"https://example.com/veneto-events/495\"\n",
      "    },\n",
      "    {\n",
      "      \"id\": \"696\",\n",
      "      \"title\": \"Noale Sport Event #496\",\n",
      "      \"category\": \"Sport\",\n",
      "      \"description\": \"Explore the vibrant sport scene in Noale with this special event at Rocca dei Tempesta. Get ready for a day filled with discovery and enjoyment.\",\n",
      "      \"city\": \"Noale\",\n",
      "      \"location\": {\n",
      "        \"venue\": \"Rocca dei Tempesta\",\n",
      "        \"address\": \"Rocca dei Tempesta, Noale, Veneto\",\n",
      "        \"latitude\": 45.550156,\n",
      "        \"longitude\": 12.0720437\n",
      "      },\n",
      "      \"start_date\": \"2025-09-28T13:00:00Z\",\n",
      "      \"end_date\": \"2025-09-28T16:00:00Z\",\n",
      "      \"url\": \"https://example.com/veneto-events/496\"\n",
      "    },\n",
      "    {\n",
      "      \"id\": \"697\",\n",
      "      \"title\": \"Lazise Food & Drink Event #497\",\n",
      "      \"category\": \"Food & Drink\",\n",
      "      \"description\": \"A unique food & drink opportunity awaits you in Lazise. Join us at the charming Piazza Vittorio Emanuele II for an event designed to inspire and entertain.\",\n",
      "      \"city\": \"Lazise\",\n",
      "      \"location\": {\n",
      "        \"venue\": \"Piazza Vittorio Emanuele II\",\n",
      "        \"address\": \"Piazza Vittorio Emanuele II, Lazise, Veneto\",\n",
      "        \"latitude\": 45.505229,\n",
      "        \"longitude\": 10.7331108\n",
      "      },\n",
      "      \"start_date\": \"2025-09-28T01:04:00Z\",\n",
      "      \"end_date\": \"2025-09-28T02:04:00Z\",\n",
      "      \"url\": \"https://example.com/veneto-events/497\"\n",
      "    },\n",
      "    {\n",
      "      \"id\": \"698\",\n",
      "      \"title\": \"Vittorio Veneto Conference Event #498\",\n",
      "      \"category\": \"Conference\",\n",
      "      \"description\": \"Step into a world of wonder at this extraordinary conference event in Vittorio Veneto, held at the historic Piazza del Popolo. Prepare to be amazed!\",\n",
      "      \"city\": \"Vittorio Veneto\",\n",
      "      \"location\": {\n",
      "        \"venue\": \"Piazza del Popolo\",\n",
      "        \"address\": \"Piazza del Popolo, Vittorio Veneto, Veneto\",\n",
      "        \"latitude\": 45.9897336,\n",
      "        \"longitude\": 12.295648\n",
      "      },\n",
      "      \"start_date\": \"2025-09-27T12:24:00Z\",\n",
      "      \"end_date\": \"2025-09-27T16:24:00Z\",\n",
      "      \"url\": \"https://example.com/veneto-events/498\"\n",
      "    },\n",
      "    {\n",
      "      \"id\": \"699\",\n",
      "      \"title\": \"Bardolino Food & Drink Event #499\",\n",
      "      \"category\": \"Food & Drink\",\n",
      "      \"description\": \"Unwind and enjoy a delightful food & drink experience in Bardolino at the picturesque Parco Baia delle Sirene. Relax and take in the atmosphere.\",\n",
      "      \"city\": \"Bardolino\",\n",
      "      \"location\": {\n",
      "        \"venue\": \"Parco Baia delle Sirene\",\n",
      "        \"address\": \"Parco Baia delle Sirene, Bardolino, Veneto\",\n",
      "        \"latitude\": 45.5475595,\n",
      "        \"longitude\": 10.7242145\n",
      "      },\n",
      "      \"start_date\": \"2025-09-29T06:02:00Z\",\n",
      "      \"end_date\": \"2025-09-29T08:02:00Z\",\n",
      "      \"url\": \"https://example.com/veneto-events/499\"\n",
      "    }\n",
      "  ]\n",
      "}\n"
     ]
    }
   ],
   "source": [
    "import json\n",
    "from datetime import datetime\n",
    "\n",
    "# Load the JSON file\n",
    "with open('../dataset/veneto_events_geocoded_structured.json', 'r') as f:\n",
    "    data = json.load(f)\n",
    "\n",
    "# Function to change month from August (08) to September (09)\n",
    "def change_month(date_str):\n",
    "    dt = datetime.strptime(date_str, \"%Y-%m-%dT%H:%M:%SZ\")\n",
    "    # Change month from 8 to 9\n",
    "    if dt.month == 8:\n",
    "        dt = dt.replace(month=9)\n",
    "    return dt.strftime(\"%Y-%m-%dT%H:%M:%SZ\")\n",
    "\n",
    "# Update each event\n",
    "start_id = 201\n",
    "for i, event in enumerate(data['events']):\n",
    "    event['start_date'] = change_month(event['start_date'])\n",
    "    event['end_date'] = change_month(event['end_date'])\n",
    "    event['id'] = str(start_id + i)\n",
    "\n",
    "# Write updated JSON back to file or just print\n",
    "with open('../dataset/veneto_events_upd_geocoded_structured.json', 'w') as f:\n",
    "    json.dump(data, f, indent=2)\n",
    "\n",
    "# If you want to print the updated json as well\n",
    "print(json.dumps(data, indent=2))\n"
   ]
  }
 ],
 "metadata": {
  "kernelspec": {
   "display_name": ".venv",
   "language": "python",
   "name": "python3"
  },
  "language_info": {
   "codemirror_mode": {
    "name": "ipython",
    "version": 3
   },
   "file_extension": ".py",
   "mimetype": "text/x-python",
   "name": "python",
   "nbconvert_exporter": "python",
   "pygments_lexer": "ipython3",
   "version": "3.12.3"
  }
 },
 "nbformat": 4,
 "nbformat_minor": 5
}
