{
 "cells": [
  {
   "cell_type": "markdown",
   "id": "f63fb230",
   "metadata": {},
   "source": [
    "##### Event Data Generator 🏟️\n",
    "\n",
    "Generate synthetic event data for the Veneto region.\n",
    "\n",
    "- Random cities, venues, and event types\n",
    "- Realistic dates and descriptions\n",
    "- Output: `veneto_events.json`"
   ]
  },
  {
   "cell_type": "code",
   "execution_count": 1,
   "id": "c2676cad",
   "metadata": {},
   "outputs": [
    {
     "name": "stdout",
     "output_type": "stream",
     "text": [
      "Generated veneto_events.json with 4999 events\n"
     ]
    }
   ],
   "source": [
    "import json\n",
    "import random\n",
    "from datetime import datetime, timedelta\n",
    "\n",
    "# Load locations from external JSON file\n",
    "with open(\"../dataset/villages_places.json\", \"r\", encoding=\"utf-8\") as f:\n",
    "    locations = json.load(f)\n",
    "\n",
    "event_types = [\n",
    "    \"Music\", \"Sport\", \"Food & Drink\", \"Arts & Crafts\", \"Theatre\", \"Tour\", \"Workshop\",\n",
    "    \"Festival\", \"Conference\", \"Exhibition\"\n",
    "]\n",
    "\n",
    "base_url = \"https://example.com/veneto-events/\"\n",
    "\n",
    "def random_date():\n",
    "    today = datetime.now()\n",
    "    firstday = datetime(2025, 9, 1)\n",
    "    end_date_limit = datetime(2025, 10, 31)\n",
    "    days_difference = (end_date_limit - firstday).days\n",
    "    if days_difference < 0:\n",
    "        return None, None\n",
    "    random_days = random.randint(0, days_difference)\n",
    "    start_date = firstday + timedelta(days=random_days)\n",
    "    random_hours = random.randint(0, 23)\n",
    "    random_minutes = random.randint(0, 59)\n",
    "    start_date = start_date.replace(hour=random_hours, minute=random_minutes, second=0, microsecond=0)\n",
    "    duration_hours = random.randint(1, 10)\n",
    "    end_date = start_date + timedelta(hours=duration_hours)\n",
    "    if end_date > end_date_limit:\n",
    "        end_date = end_date_limit\n",
    "    return start_date.isoformat(timespec='seconds') + 'Z', end_date.isoformat(timespec='seconds') + 'Z'\n",
    "\n",
    "def generate_random_description(event_type, city, venue):\n",
    "    description_templates = [\n",
    "        f\"Prepare for an unforgettable {event_type.lower()} experience in the stunning city of {city}, held at the magnificent {venue}. This event promises to be a highlight of the season!\",\n",
    "        f\"Dive into the world of {event_type.lower()} at this exciting gathering in {city}. Located at the renowned {venue}, it's an event you won't want to miss.\",\n",
    "        f\"Explore the vibrant {event_type.lower()} scene in {city} with this special event at {venue}. Get ready for a day filled with discovery and enjoyment.\",\n",
    "        f\"A unique {event_type.lower()} opportunity awaits you in {city}. Join us at the charming {venue} for an event designed to inspire and entertain.\",\n",
    "        f\"Immerse yourself in the rich culture of {city} with this engaging {event_type.lower()} event at the iconic {venue}. It's the perfect way to spend your time.\",\n",
    "        f\"Seeking adventure in {city}? Look no further than this captivating {event_type.lower()} event at {venue}. Fun and excitement are guaranteed!\",\n",
    "        f\"Connect with fellow enthusiasts at this lively {event_type.lower()} event in {city}, taking place at the welcoming {venue}. Share your passion and make new friends.\",\n",
    "        f\"Unwind and enjoy a delightful {event_type.lower()} experience in {city} at the picturesque {venue}. Relax and take in the atmosphere.\",\n",
    "        f\"Expand your horizons with this insightful {event_type.lower()} event in {city}, hosted at the distinguished {venue}. Learn something new and be inspired.\",\n",
    "        f\"Step into a world of wonder at this extraordinary {event_type.lower()} event in {city}, held at the historic {venue}. Prepare to be amazed!\"\n",
    "    ]\n",
    "    return random.choice(description_templates)\n",
    "\n",
    "events = []\n",
    "\n",
    "for i in range(1, 5000):\n",
    "    city = random.choice(list(locations.keys()))\n",
    "    venue = random.choice(locations[city])\n",
    "    event_type = random.choice(event_types)\n",
    "    start, end = random_date()\n",
    "    if start and end:\n",
    "        event = {\n",
    "            \"id\": str(i),\n",
    "            \"title\": f\"{city} {event_type} Event {i}\",\n",
    "            \"category\": event_type,\n",
    "            \"description\": generate_random_description(event_type, city, venue),\n",
    "            \"city\": city,\n",
    "            \"location\": {\n",
    "                \"venue\": venue,\n",
    "                \"address\": f\"{venue}, {city}, Veneto\"\n",
    "            },\n",
    "            \"start_date\": start,\n",
    "            \"end_date\": end,\n",
    "            \"url\": f\"{base_url}{i}\"\n",
    "        }\n",
    "        events.append(event)\n",
    "\n",
    "output = {\n",
    "    \"events\": events\n",
    "}\n",
    "\n",
    "with open(\"../dataset/veneto_events.json\", \"w\", encoding=\"utf-8\") as f:\n",
    "    json.dump(output, f, indent=2, ensure_ascii=False)\n",
    "\n",
    "print(f\"Generated veneto_events.json with {len(events)} events\")\n"
   ]
  },
  {
   "cell_type": "markdown",
   "id": "657b2c4c",
   "metadata": {},
   "source": [
    "#### Geocoding Veneto Events 🌍\n",
    "\n",
    "Geocode synthetic event data for Veneto using the OpenStreetMap Nominatim API.\n",
    "\n",
    "**Workflow:**\n",
    "- Load events from `veneto_events.json`\n",
    "- Clean addresses (venue, city, region, country)\n",
    "- Geocode each event (with fallback strategies)\n",
    "- Rate limit to respect API usage\n",
    "- Add coordinates to each event\n",
    "- Save results to `veneto_events_geocoded_structured.json`"
   ]
  },
  {
   "cell_type": "code",
   "execution_count": 2,
   "id": "97d8989e",
   "metadata": {},
   "outputs": [
    {
     "name": "stderr",
     "output_type": "stream",
     "text": [
      "  2%|▏         | 111/4999 [04:01<3:04:29,  2.26s/it]"
     ]
    },
    {
     "name": "stdout",
     "output_type": "stream",
     "text": [
      "Geocoding success 100 / 4999\n"
     ]
    },
    {
     "name": "stderr",
     "output_type": "stream",
     "text": [
      "  4%|▍         | 221/4999 [07:59<3:18:46,  2.50s/it]"
     ]
    },
    {
     "name": "stdout",
     "output_type": "stream",
     "text": [
      "Geocoding success 200 / 4999\n"
     ]
    },
    {
     "name": "stderr",
     "output_type": "stream",
     "text": [
      "  7%|▋         | 328/4999 [11:42<2:45:03,  2.12s/it]"
     ]
    },
    {
     "name": "stdout",
     "output_type": "stream",
     "text": [
      "Geocoding success 300 / 4999\n"
     ]
    },
    {
     "name": "stderr",
     "output_type": "stream",
     "text": [
      "  9%|▉         | 440/4999 [15:46<2:31:41,  2.00s/it]"
     ]
    },
    {
     "name": "stdout",
     "output_type": "stream",
     "text": [
      "Geocoding success 400 / 4999\n"
     ]
    },
    {
     "name": "stderr",
     "output_type": "stream",
     "text": [
      " 11%|█         | 554/4999 [19:56<2:45:31,  2.23s/it]"
     ]
    },
    {
     "name": "stdout",
     "output_type": "stream",
     "text": [
      "Geocoding success 500 / 4999\n"
     ]
    },
    {
     "name": "stderr",
     "output_type": "stream",
     "text": [
      " 13%|█▎        | 666/4999 [23:55<2:20:00,  1.94s/it]"
     ]
    },
    {
     "name": "stdout",
     "output_type": "stream",
     "text": [
      "Geocoding success 600 / 4999\n"
     ]
    },
    {
     "name": "stderr",
     "output_type": "stream",
     "text": [
      " 16%|█▌        | 778/4999 [28:00<2:11:50,  1.87s/it]"
     ]
    },
    {
     "name": "stdout",
     "output_type": "stream",
     "text": [
      "Geocoding success 700 / 4999\n"
     ]
    },
    {
     "name": "stderr",
     "output_type": "stream",
     "text": [
      " 18%|█▊        | 893/4999 [32:18<2:43:52,  2.39s/it]"
     ]
    },
    {
     "name": "stdout",
     "output_type": "stream",
     "text": [
      "Geocoding success 800 / 4999\n"
     ]
    },
    {
     "name": "stderr",
     "output_type": "stream",
     "text": [
      " 20%|██        | 1008/4999 [36:31<2:32:24,  2.29s/it]"
     ]
    },
    {
     "name": "stdout",
     "output_type": "stream",
     "text": [
      "Geocoding success 900 / 4999\n"
     ]
    },
    {
     "name": "stderr",
     "output_type": "stream",
     "text": [
      " 22%|██▏       | 1119/4999 [40:32<2:33:21,  2.37s/it]"
     ]
    },
    {
     "name": "stdout",
     "output_type": "stream",
     "text": [
      "Geocoding success 1000 / 4999\n"
     ]
    },
    {
     "name": "stderr",
     "output_type": "stream",
     "text": [
      " 25%|██▍       | 1227/4999 [44:16<2:01:32,  1.93s/it]"
     ]
    },
    {
     "name": "stdout",
     "output_type": "stream",
     "text": [
      "Geocoding success 1100 / 4999\n"
     ]
    },
    {
     "name": "stderr",
     "output_type": "stream",
     "text": [
      " 27%|██▋       | 1344/4999 [48:40<1:36:37,  1.59s/it]"
     ]
    },
    {
     "name": "stdout",
     "output_type": "stream",
     "text": [
      "Geocoding success 1200 / 4999\n"
     ]
    },
    {
     "name": "stderr",
     "output_type": "stream",
     "text": [
      " 29%|██▉       | 1457/4999 [52:48<2:10:48,  2.22s/it]"
     ]
    },
    {
     "name": "stdout",
     "output_type": "stream",
     "text": [
      "Geocoding success 1300 / 4999\n"
     ]
    },
    {
     "name": "stderr",
     "output_type": "stream",
     "text": [
      " 31%|███▏      | 1569/4999 [56:55<2:34:53,  2.71s/it]"
     ]
    },
    {
     "name": "stdout",
     "output_type": "stream",
     "text": [
      "Geocoding success 1400 / 4999\n"
     ]
    },
    {
     "name": "stderr",
     "output_type": "stream",
     "text": [
      " 34%|███▎      | 1681/4999 [1:00:54<2:06:00,  2.28s/it]"
     ]
    },
    {
     "name": "stdout",
     "output_type": "stream",
     "text": [
      "Geocoding success 1500 / 4999\n"
     ]
    },
    {
     "name": "stderr",
     "output_type": "stream",
     "text": [
      " 36%|███▌      | 1789/4999 [1:04:33<1:25:11,  1.59s/it]"
     ]
    },
    {
     "name": "stdout",
     "output_type": "stream",
     "text": [
      "Geocoding success 1600 / 4999\n"
     ]
    },
    {
     "name": "stderr",
     "output_type": "stream",
     "text": [
      " 38%|███▊      | 1902/4999 [1:08:43<1:39:31,  1.93s/it]"
     ]
    },
    {
     "name": "stdout",
     "output_type": "stream",
     "text": [
      "Geocoding success 1700 / 4999\n"
     ]
    },
    {
     "name": "stderr",
     "output_type": "stream",
     "text": [
      " 40%|████      | 2014/4999 [1:12:43<1:10:29,  1.42s/it]"
     ]
    },
    {
     "name": "stdout",
     "output_type": "stream",
     "text": [
      "Geocoding success 1800 / 4999\n"
     ]
    },
    {
     "name": "stderr",
     "output_type": "stream",
     "text": [
      " 43%|████▎     | 2127/4999 [1:16:59<2:04:59,  2.61s/it]"
     ]
    },
    {
     "name": "stdout",
     "output_type": "stream",
     "text": [
      "Geocoding success 1900 / 4999\n"
     ]
    },
    {
     "name": "stderr",
     "output_type": "stream",
     "text": [
      " 45%|████▍     | 2245/4999 [1:21:28<1:23:06,  1.81s/it]"
     ]
    },
    {
     "name": "stdout",
     "output_type": "stream",
     "text": [
      "Geocoding success 2000 / 4999\n"
     ]
    },
    {
     "name": "stderr",
     "output_type": "stream",
     "text": [
      " 47%|████▋     | 2365/4999 [1:26:03<1:36:52,  2.21s/it]"
     ]
    },
    {
     "name": "stdout",
     "output_type": "stream",
     "text": [
      "Geocoding success 2100 / 4999\n"
     ]
    },
    {
     "name": "stderr",
     "output_type": "stream",
     "text": [
      " 50%|████▉     | 2477/4999 [1:30:15<2:17:35,  3.27s/it]"
     ]
    },
    {
     "name": "stdout",
     "output_type": "stream",
     "text": [
      "Geocoding success 2200 / 4999\n"
     ]
    },
    {
     "name": "stderr",
     "output_type": "stream",
     "text": [
      " 52%|█████▏    | 2588/4999 [1:34:15<1:40:51,  2.51s/it]"
     ]
    },
    {
     "name": "stdout",
     "output_type": "stream",
     "text": [
      "Geocoding success 2300 / 4999\n"
     ]
    },
    {
     "name": "stderr",
     "output_type": "stream",
     "text": [
      " 54%|█████▍    | 2699/4999 [1:38:01<1:25:33,  2.23s/it]"
     ]
    },
    {
     "name": "stdout",
     "output_type": "stream",
     "text": [
      "Geocoding success 2400 / 4999\n"
     ]
    },
    {
     "name": "stderr",
     "output_type": "stream",
     "text": [
      " 56%|█████▌    | 2809/4999 [1:41:55<1:17:56,  2.14s/it]"
     ]
    },
    {
     "name": "stdout",
     "output_type": "stream",
     "text": [
      "Geocoding success 2500 / 4999\n"
     ]
    },
    {
     "name": "stderr",
     "output_type": "stream",
     "text": [
      " 58%|█████▊    | 2922/4999 [1:46:02<56:19,  1.63s/it]  "
     ]
    },
    {
     "name": "stdout",
     "output_type": "stream",
     "text": [
      "Geocoding success 2600 / 4999\n"
     ]
    },
    {
     "name": "stderr",
     "output_type": "stream",
     "text": [
      " 61%|██████    | 3035/4999 [1:50:10<1:03:44,  1.95s/it]"
     ]
    },
    {
     "name": "stdout",
     "output_type": "stream",
     "text": [
      "Geocoding success 2700 / 4999\n"
     ]
    },
    {
     "name": "stderr",
     "output_type": "stream",
     "text": [
      " 63%|██████▎   | 3144/4999 [1:54:03<1:11:28,  2.31s/it]"
     ]
    },
    {
     "name": "stdout",
     "output_type": "stream",
     "text": [
      "Geocoding success 2800 / 4999\n"
     ]
    },
    {
     "name": "stderr",
     "output_type": "stream",
     "text": [
      " 65%|██████▌   | 3258/4999 [1:58:15<51:06,  1.76s/it]  "
     ]
    },
    {
     "name": "stdout",
     "output_type": "stream",
     "text": [
      "Geocoding success 2900 / 4999\n"
     ]
    },
    {
     "name": "stderr",
     "output_type": "stream",
     "text": [
      " 67%|██████▋   | 3369/4999 [2:02:18<48:52,  1.80s/it]  "
     ]
    },
    {
     "name": "stdout",
     "output_type": "stream",
     "text": [
      "Geocoding success 3000 / 4999\n"
     ]
    },
    {
     "name": "stderr",
     "output_type": "stream",
     "text": [
      " 70%|██████▉   | 3476/4999 [2:06:11<57:41,  2.27s/it]  "
     ]
    },
    {
     "name": "stdout",
     "output_type": "stream",
     "text": [
      "Geocoding success 3100 / 4999\n"
     ]
    },
    {
     "name": "stderr",
     "output_type": "stream",
     "text": [
      " 72%|███████▏  | 3593/4999 [2:10:37<54:56,  2.34s/it]  "
     ]
    },
    {
     "name": "stdout",
     "output_type": "stream",
     "text": [
      "Geocoding success 3200 / 4999\n"
     ]
    },
    {
     "name": "stderr",
     "output_type": "stream",
     "text": [
      " 74%|███████▍  | 3703/4999 [2:14:29<27:59,  1.30s/it]  "
     ]
    },
    {
     "name": "stdout",
     "output_type": "stream",
     "text": [
      "Geocoding success 3300 / 4999\n"
     ]
    },
    {
     "name": "stderr",
     "output_type": "stream",
     "text": [
      " 76%|███████▋  | 3812/4999 [2:18:24<34:22,  1.74s/it]  "
     ]
    },
    {
     "name": "stdout",
     "output_type": "stream",
     "text": [
      "Geocoding success 3400 / 4999\n"
     ]
    },
    {
     "name": "stderr",
     "output_type": "stream",
     "text": [
      " 79%|███████▊  | 3925/4999 [2:22:31<43:50,  2.45s/it]  "
     ]
    },
    {
     "name": "stdout",
     "output_type": "stream",
     "text": [
      "Geocoding success 3500 / 4999\n"
     ]
    },
    {
     "name": "stderr",
     "output_type": "stream",
     "text": [
      " 81%|████████  | 4033/4999 [2:26:20<35:02,  2.18s/it]"
     ]
    },
    {
     "name": "stdout",
     "output_type": "stream",
     "text": [
      "Geocoding success 3600 / 4999\n"
     ]
    },
    {
     "name": "stderr",
     "output_type": "stream",
     "text": [
      " 83%|████████▎ | 4148/4999 [2:30:34<24:25,  1.72s/it]"
     ]
    },
    {
     "name": "stdout",
     "output_type": "stream",
     "text": [
      "Geocoding success 3700 / 4999\n"
     ]
    },
    {
     "name": "stderr",
     "output_type": "stream",
     "text": [
      " 85%|████████▌ | 4261/4999 [2:34:49<37:00,  3.01s/it]"
     ]
    },
    {
     "name": "stdout",
     "output_type": "stream",
     "text": [
      "Geocoding success 3800 / 4999\n"
     ]
    },
    {
     "name": "stderr",
     "output_type": "stream",
     "text": [
      " 87%|████████▋ | 4370/4999 [2:38:31<24:28,  2.33s/it]"
     ]
    },
    {
     "name": "stdout",
     "output_type": "stream",
     "text": [
      "Geocoding success 3900 / 4999\n"
     ]
    },
    {
     "name": "stderr",
     "output_type": "stream",
     "text": [
      " 90%|████████▉ | 4483/4999 [2:42:39<14:37,  1.70s/it]"
     ]
    },
    {
     "name": "stdout",
     "output_type": "stream",
     "text": [
      "Geocoding success 4000 / 4999\n"
     ]
    },
    {
     "name": "stderr",
     "output_type": "stream",
     "text": [
      " 92%|█████████▏| 4598/4999 [2:46:56<16:55,  2.53s/it]"
     ]
    },
    {
     "name": "stdout",
     "output_type": "stream",
     "text": [
      "Geocoding success 4100 / 4999\n"
     ]
    },
    {
     "name": "stderr",
     "output_type": "stream",
     "text": [
      " 94%|█████████▍| 4713/4999 [2:51:10<15:33,  3.26s/it]"
     ]
    },
    {
     "name": "stdout",
     "output_type": "stream",
     "text": [
      "Geocoding success 4200 / 4999\n"
     ]
    },
    {
     "name": "stderr",
     "output_type": "stream",
     "text": [
      " 97%|█████████▋| 4832/4999 [2:55:53<08:06,  2.91s/it]"
     ]
    },
    {
     "name": "stdout",
     "output_type": "stream",
     "text": [
      "Geocoding success 4300 / 4999\n"
     ]
    },
    {
     "name": "stderr",
     "output_type": "stream",
     "text": [
      " 99%|█████████▉| 4949/4999 [3:00:09<01:22,  1.66s/it]"
     ]
    },
    {
     "name": "stdout",
     "output_type": "stream",
     "text": [
      "Geocoding success 4400 / 4999\n"
     ]
    },
    {
     "name": "stderr",
     "output_type": "stream",
     "text": [
      "100%|██████████| 4999/4999 [3:02:04<00:00,  2.19s/it]"
     ]
    },
    {
     "name": "stdout",
     "output_type": "stream",
     "text": [
      "Geocoding complete and saved to veneto_events_geocoded_structured.json\n"
     ]
    },
    {
     "name": "stderr",
     "output_type": "stream",
     "text": [
      "\n"
     ]
    }
   ],
   "source": [
    "import json\n",
    "import asyncio\n",
    "import httpx\n",
    "from tqdm.asyncio import tqdm_asyncio\n",
    "import threading\n",
    "\n",
    "counter_lock = threading.Lock()\n",
    "success_counter = 0  # Global counter variable\n",
    "\n",
    "\n",
    "async def async_geocode_structured(venue, city, region=\"Veneto\", country=\"Italy\"):\n",
    "    base_url = \"https://nominatim.openstreetmap.org/search\"\n",
    "    headers = {'User-Agent': 'convert_to_geo/1.0'}\n",
    "\n",
    "    params_list = [\n",
    "        {'street': venue, 'city': city, 'state': region, 'country': country, 'format': 'json', 'limit': 1},\n",
    "        {'city': city, 'state': region, 'country': country, 'format': 'json', 'limit': 1},\n",
    "        {'street': venue, 'city': city, 'country': country, 'format': 'json', 'limit': 1},\n",
    "        {'street': venue, 'state': region, 'country': country, 'format': 'json', 'limit': 1}\n",
    "    ]\n",
    "\n",
    "    async with httpx.AsyncClient() as client_http:\n",
    "        for params in params_list:\n",
    "            try:\n",
    "                response = await client_http.get(base_url, params=params, headers=headers, timeout=10)\n",
    "                response.raise_for_status()\n",
    "                data = response.json()\n",
    "                if data:\n",
    "                    return float(data[0]['lat']), float(data[0]['lon'])\n",
    "            except (httpx.HTTPError, ValueError):\n",
    "                pass\n",
    "            await asyncio.sleep(1)\n",
    "\n",
    "    return None, None\n",
    "\n",
    "\n",
    "async def process_events_geocoding(events):\n",
    "    semaphore = asyncio.Semaphore(5)\n",
    "\n",
    "    global success_counter  # use global here for global variable\n",
    "\n",
    "    async def geocode_event(event):\n",
    "        global success_counter\n",
    "        venue = event.get('location', {}).get('venue', '').strip()\n",
    "        city = event.get('city', '').strip()\n",
    "        if venue and city:\n",
    "            async with semaphore:\n",
    "                lat, lon = await async_geocode_structured(venue, city)\n",
    "                if lat is not None and lon is not None:\n",
    "                    with counter_lock:\n",
    "                        success_counter += 1\n",
    "                        # Print progress only every 100 successes\n",
    "                        if success_counter % 100 == 0 or success_counter == len(events):\n",
    "                            print(f\"Geocoding success {success_counter} / {len(events)}\")\n",
    "                event['location']['latitude'] = lat\n",
    "                event['location']['longitude'] = lon\n",
    "        else:\n",
    "            event['location']['latitude'] = None\n",
    "            event['location']['longitude'] = None\n",
    "\n",
    "    await tqdm_asyncio.gather(*(geocode_event(event) for event in events))\n",
    "\n",
    "\n",
    "async def main():\n",
    "    input_path = '../dataset/veneto_events.json'\n",
    "    output_path = '../dataset/veneto_events_geocoded_structured.json'\n",
    "\n",
    "    with open(input_path, 'r', encoding='utf-8') as f:\n",
    "        events_data = json.load(f)\n",
    "\n",
    "    await process_events_geocoding(events_data['events'])\n",
    "\n",
    "    with open(output_path, 'w', encoding='utf-8') as f:\n",
    "        json.dump(events_data, f, ensure_ascii=False, indent=2)\n",
    "\n",
    "    print(\"Geocoding complete and saved to veneto_events_geocoded_structured.json\")\n",
    "\n",
    "\n",
    "# Run in your Jupyter notebook cell with:\n",
    "await main()\n"
   ]
  },
  {
   "cell_type": "markdown",
   "id": "081d6a0b",
   "metadata": {},
   "source": [
    "### To check the fastembed models"
   ]
  },
  {
   "cell_type": "code",
   "execution_count": null,
   "id": "c9c550f7",
   "metadata": {},
   "outputs": [],
   "source": [
    "from fastembed import TextEmbedding\n",
    "\n",
    "# Get the list of supported models (each is a dict)\n",
    "models_info = TextEmbedding.list_supported_models()\n",
    "\n",
    "# Extract only the model names into a list\n",
    "model_names = [model['model'] for model in models_info]\n",
    "\n",
    "model_names\n"
   ]
  },
  {
   "cell_type": "code",
   "execution_count": null,
   "id": "69211579",
   "metadata": {},
   "outputs": [],
   "source": [
    "%pip install qdrant_client --upgrade\n",
    "%pip install qdrant-client[fastembed] --upgrade\n",
    "%pip install ipywidgets --upgrade\n",
    "%pip install fastembed huggingface_hub --upgrade\n",
    "\n"
   ]
  },
  {
   "cell_type": "markdown",
   "id": "b6d8fdd3",
   "metadata": {},
   "source": [
    "### Qdrant Vector ingestion\n",
    "\n",
    "This section uploads events into a Qdrant vector database.\n",
    "\n",
    "Steps:\n",
    "- Load environment variables from `.env`\n",
    "- Load geocoded events from `veneto_events_geocoded_structured.json`\n",
    "- Check or create the `veneto_events` collection in Qdrant \n",
    "- Upsert all event points to the Qdrant collection\n",
    "\n",
    "#### Embedding on description"
   ]
  },
  {
   "cell_type": "code",
   "execution_count": 3,
   "id": "f45d29e9",
   "metadata": {},
   "outputs": [
    {
     "name": "stderr",
     "output_type": "stream",
     "text": [
      "/tmp/ipykernel_30122/3322828159.py:26: UserWarning: The model sentence-transformers/paraphrase-multilingual-mpnet-base-v2 now uses mean pooling instead of CLS embedding. In order to preserve the previous behaviour, consider either pinning fastembed version to 0.5.1 or using `add_custom_model` functionality.\n",
      "  dense_embedding_model = TextEmbedding(DENSE_MODEL_NAME)\n",
      "100%|██████████| 157/157 [16:48<00:00,  6.42s/it]"
     ]
    },
    {
     "name": "stdout",
     "output_type": "stream",
     "text": [
      "\n",
      "✅ Operation completed:\n",
      "- Inserted: 4999\n",
      "- Updated: 0\n",
      "- Skipped (unchanged): 0\n",
      "Collection info: status=<CollectionStatus.GREEN: 'green'> optimizer_status=<OptimizersStatusOneOf.OK: 'ok'> vectors_count=None indexed_vectors_count=4999 points_count=4999 segments_count=2 config=CollectionConfig(params=CollectionParams(vectors={'dense_vector': VectorParams(size=768, distance=<Distance.COSINE: 'Cosine'>, hnsw_config=None, quantization_config=None, on_disk=None, datatype=None, multivector_config=None)}, shard_number=1, sharding_method=None, replication_factor=1, write_consistency_factor=1, read_fan_out_factor=None, on_disk_payload=True, sparse_vectors={'sparse_vector': SparseVectorParams(index=None, modifier=None)}), hnsw_config=HnswConfig(m=16, ef_construct=100, full_scan_threshold=10000, max_indexing_threads=0, on_disk=False, payload_m=None), optimizer_config=OptimizersConfig(deleted_threshold=0.2, vacuum_min_vector_number=1000, default_segment_number=0, max_segment_size=None, memmap_threshold=None, indexing_threshold=10000, flush_interval_sec=5, max_optimization_threads=None), wal_config=WalConfig(wal_capacity_mb=32, wal_segments_ahead=0), quantization_config=None, strict_mode_config=StrictModeConfigOutput(enabled=True, max_query_limit=None, max_timeout=None, unindexed_filtering_retrieve=False, unindexed_filtering_update=False, search_max_hnsw_ef=None, search_allow_exact=None, search_max_oversampling=None, upsert_max_batchsize=None, max_collection_vector_size_bytes=None, read_rate_limit=None, write_rate_limit=None, max_collection_payload_size_bytes=None, max_points_count=None, filter_max_conditions=None, condition_max_size=None, multivector_config=None, sparse_config=None)) payload_schema={'start_date': PayloadIndexInfo(data_type=<PayloadSchemaType.DATETIME: 'datetime'>, params=None, points=4999), 'end_date': PayloadIndexInfo(data_type=<PayloadSchemaType.DATETIME: 'datetime'>, params=None, points=4999), 'location': PayloadIndexInfo(data_type=<PayloadSchemaType.GEO: 'geo'>, params=None, points=4443), 'id': PayloadIndexInfo(data_type=<PayloadSchemaType.KEYWORD: 'keyword'>, params=None, points=4999)}\n"
     ]
    },
    {
     "name": "stderr",
     "output_type": "stream",
     "text": [
      "\n"
     ]
    }
   ],
   "source": [
    "from qdrant_client import QdrantClient, models\n",
    "import os\n",
    "from dotenv import load_dotenv\n",
    "import json\n",
    "from tqdm import tqdm\n",
    "from uuid import uuid4\n",
    "import hashlib\n",
    "from fastembed import TextEmbedding, SparseTextEmbedding\n",
    "\n",
    "# -------------------------\n",
    "# Load environment variables\n",
    "# -------------------------\n",
    "load_dotenv(dotenv_path=\"../.env\")\n",
    "QDRANT_SERVER = os.getenv(\"QDRANT_SERVER\")\n",
    "QDRANT_API_KEY = os.getenv(\"QDRANT_API_KEY\")\n",
    "\n",
    "DENSE_MODEL_NAME = os.getenv(\"DENSE_MODEL_NAME\")\n",
    "SPARSE_MODEL_NAME = os.getenv(\"SPARSE_MODEL_NAME\")\n",
    "\n",
    "if not QDRANT_SERVER or not QDRANT_API_KEY:\n",
    "    raise ValueError(\"QDRANT_SERVER or QDRANT_API_KEY not defined in .env file\")\n",
    "\n",
    "# -------------------------\n",
    "# Initialize clients\n",
    "# -------------------------\n",
    "dense_embedding_model = TextEmbedding(DENSE_MODEL_NAME)\n",
    "sparse_embedding_model = SparseTextEmbedding(SPARSE_MODEL_NAME)\n",
    "\n",
    "dense_vector_name = \"dense_vector\"\n",
    "sparse_vector_name = \"sparse_vector\"\n",
    "COLLECTION_NAME = \"veneto_events\"\n",
    "\n",
    "client = QdrantClient(url=QDRANT_SERVER, api_key=QDRANT_API_KEY, timeout=200000)\n",
    "\n",
    "def verify_qdrant_connection(client):\n",
    "    try:\n",
    "        client.get_collections()\n",
    "        return True\n",
    "    except Exception as e:\n",
    "        print(f\"Qdrant connection error: {e}\")\n",
    "        return False\n",
    "\n",
    "if not verify_qdrant_connection(client):\n",
    "    raise ConnectionError(\"Failed to connect to Qdrant server\")\n",
    "\n",
    "# -------------------------\n",
    "# Utility Functions\n",
    "# -------------------------\n",
    "def calculate_hash(text: str) -> str:\n",
    "    \"\"\"Calculate SHA256 hash of text.\"\"\"\n",
    "    return hashlib.sha256(text.encode(\"utf-8\")).hexdigest()\n",
    "\n",
    "# -------------------------\n",
    "# Load dataset\n",
    "# -------------------------\n",
    "with open(\"../dataset/veneto_events_geocoded_structured.json\", \"r\", encoding=\"utf-8\") as file:\n",
    "    events_data = json.load(file)\n",
    "events = events_data.get(\"events\", [])\n",
    "\n",
    "# -------------------------\n",
    "# Create collection if not exists\n",
    "# -------------------------\n",
    "example_text = \"Test for embedding dimension calculation.\"\n",
    "example_emb = list(dense_embedding_model.passage_embed([example_text]))[0]\n",
    "dense_dim = len(example_emb)\n",
    "\n",
    "if not client.collection_exists(COLLECTION_NAME):\n",
    "    client.create_collection(\n",
    "        collection_name=COLLECTION_NAME,\n",
    "        vectors_config={\n",
    "            dense_vector_name: models.VectorParams(size=dense_dim, distance=models.Distance.COSINE)\n",
    "        },\n",
    "        sparse_vectors_config={\n",
    "            sparse_vector_name: models.SparseVectorParams()\n",
    "        }\n",
    "    )\n",
    "\n",
    "# Create payload indexes (safe if repeats)\n",
    "client.create_payload_index(COLLECTION_NAME, \"id\", \"keyword\")\n",
    "client.create_payload_index(COLLECTION_NAME, \"location\", \"geo\")\n",
    "client.create_payload_index(COLLECTION_NAME, \"start_date\", \"datetime\")\n",
    "client.create_payload_index(COLLECTION_NAME, \"end_date\", \"datetime\")\n",
    "\n",
    "# -------------------------\n",
    "# Insert / Update events in batches\n",
    "# -------------------------\n",
    "BATCH_SIZE = 32\n",
    "inserted, updated, skipped_unchanged = 0, 0, 0\n",
    "\n",
    "for start in tqdm(range(0, len(events), BATCH_SIZE)):\n",
    "    batch = events[start : start + BATCH_SIZE]\n",
    "    texts = [event.get(\"description\", \"\") for event in batch]\n",
    "\n",
    "    dense_embeddings = list(dense_embedding_model.passage_embed(texts))\n",
    "    sparse_embeddings = list(sparse_embedding_model.passage_embed(texts))\n",
    "\n",
    "    points = []\n",
    "    for i, event in enumerate(batch):\n",
    "        event_id = event.get(\"id\")\n",
    "        if not event_id:\n",
    "            continue\n",
    "        text = texts[i]\n",
    "        chunk_hash = calculate_hash(text)\n",
    "\n",
    "        existing_points, _ = client.scroll(\n",
    "            collection_name=COLLECTION_NAME,\n",
    "            scroll_filter=models.Filter(\n",
    "                must=[models.FieldCondition(key=\"id\", match=models.MatchValue(value=event_id))]\n",
    "            ),\n",
    "            limit=1,\n",
    "        )\n",
    "\n",
    "        if existing_points:\n",
    "            existing_point = existing_points[0]\n",
    "            existing_hash = existing_point.payload.get(\"hash\", \"\")\n",
    "            if existing_hash == chunk_hash:\n",
    "                skipped_unchanged += 1\n",
    "                continue\n",
    "            else:\n",
    "                client.delete(collection_name=COLLECTION_NAME, points_selector=models.PointIdsList(points=[existing_point.id]))\n",
    "                updated += 1\n",
    "        else:\n",
    "            inserted += 1\n",
    "\n",
    "        loc = event.get(\"location\", {})\n",
    "        loc_geo = {}\n",
    "        if \"latitude\" in loc and \"longitude\" in loc:\n",
    "            loc_geo = {\"lat\": loc[\"latitude\"], \"lon\": loc[\"longitude\"]}\n",
    "\n",
    "        location_payload = {**loc, **loc_geo}  # Merges original location dict with lat/lon keys\n",
    "\n",
    "        payload = {**event, \"location\": location_payload, \"hash\": chunk_hash}\n",
    "\n",
    "\n",
    "        points.append(\n",
    "            models.PointStruct(\n",
    "                id=str(uuid4()),\n",
    "                vector={\n",
    "                    dense_vector_name: dense_embeddings[i].tolist(),\n",
    "                    sparse_vector_name: models.SparseVector(\n",
    "                        indices=list(sparse_embeddings[i].indices),\n",
    "                        values=list(sparse_embeddings[i].values),\n",
    "                    ),\n",
    "                },\n",
    "                payload=payload,\n",
    "            )\n",
    "        )\n",
    "\n",
    "    if points:\n",
    "        client.upsert(collection_name=COLLECTION_NAME, points=points, wait=True)\n",
    "\n",
    "# -------------------------\n",
    "# Final report\n",
    "# -------------------------\n",
    "print(\"\\n✅ Operation completed:\")\n",
    "print(f\"- Inserted: {inserted}\")\n",
    "print(f\"- Updated: {updated}\")\n",
    "print(f\"- Skipped (unchanged): {skipped_unchanged}\")\n",
    "print(f\"Collection info: {client.get_collection(COLLECTION_NAME)}\")\n"
   ]
  }
 ],
 "metadata": {
  "kernelspec": {
   "display_name": ".venv",
   "language": "python",
   "name": "python3"
  },
  "language_info": {
   "codemirror_mode": {
    "name": "ipython",
    "version": 3
   },
   "file_extension": ".py",
   "mimetype": "text/x-python",
   "name": "python",
   "nbconvert_exporter": "python",
   "pygments_lexer": "ipython3",
   "version": "3.12.3"
  }
 },
 "nbformat": 4,
 "nbformat_minor": 5
}
